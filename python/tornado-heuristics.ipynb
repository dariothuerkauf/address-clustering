{
 "cells": [
  {
   "cell_type": "code",
   "execution_count": 7,
   "metadata": {
    "collapsed": true
   },
   "outputs": [
    {
     "data": {
      "text/plain": "['0xc8cce8cac93a010b02e3b7e4e083b0465b1d36f2',\n '0x21985c3acb37fd288007b290b5a5bb5e6bbbd690',\n '0x7a218b62ae9e23aac788979ead8be51258a3cbc5',\n '0x3f0500b79c099dfe2638d0faf1c03f56b90d12d1',\n '0x453dccc996adf27fa9fbbfe61318c116ad761177',\n '0x0c40bff248ed5d99d294ceca8826c7924f745134',\n '0x44bc008896076226ba6d5292721239b281ddf970',\n '0xc66fc68835457119922407d84a9f2f6fda889978']"
     },
     "execution_count": 7,
     "metadata": {},
     "output_type": "execute_result"
    }
   ],
   "source": [
    "import pandas as pd\n",
    "\n",
    "tornado_transactions = pd.read_csv('../data/tornado.csv', index_col=[0])\n",
    "\n",
    "\n",
    "withdrawal_addresses_list1 = tornado_transactions[tornado_transactions['isSet']=='to']['to'].tolist()\n",
    "\n",
    "\n",
    "withdrawal_addresses_list2 = tornado_transactions[tornado_transactions['functionName']== 'withdraw(bytes _proof, bytes32 _root, bytes32 _nullifierHash, address _recipient, address _relayer, uint256 _fee, uint256 _refund)']['from'].tolist()\n",
    "\n",
    "withdrawal_addresses = list(set(withdrawal_addresses_list1 + withdrawal_addresses_list2))\n",
    "withdrawal_addresses"
   ]
  },
  {
   "cell_type": "markdown",
   "source": [
    "## Heuristic 1 - Address Match\n",
    "Check if same address made deposit and withdrawal"
   ],
   "metadata": {
    "collapsed": false
   }
  },
  {
   "cell_type": "code",
   "execution_count": 11,
   "outputs": [
    {
     "data": {
      "text/plain": "                                                 hash  \\\n27  0xbc7aeb5e1bf47b52c17343235f0889cb5994bb18f4f7...   \n28  0xa9e85b43a88a0c956d9b60cba13909a94b4bf3a6ffe9...   \n66  0xc73d3908d1e018c48497a71e60ea91e02a6b434fa4b8...   \n\n                                          from  \\\n27  0xc66fc68835457119922407d84a9f2f6fda889978   \n28  0xc8cce8cac93a010b02e3b7e4e083b0465b1d36f2   \n66  0x453dccc996adf27fa9fbbfe61318c116ad761177   \n\n                                            to   timeStamp  nonce  value  \\\n27  0x12d66f87a04a9e220743712ce6d9bb1b5616b8fc  1584526395    4.0    0.0   \n28  0x12d66f87a04a9e220743712ce6d9bb1b5616b8fc  1580405873  905.0    0.0   \n66  0x910cbd523d972eb0a6f4cae4618ad62622b39dbf  1602176316    0.0    0.0   \n\n       gasPrice                                              input  gasUsed  \\\n27   5060966543  0x21a0adb6000000000000000000000000000000000000...   348195   \n28   1000000000  0x21a0adb6000000000000000000000000000000000000...   323183   \n66  68000000000  0x21a0adb6000000000000000000000000000000000000...   346796   \n\n                                         functionName chainName tokenName  \\\n27  withdraw(bytes _proof, bytes32 _root, bytes32 ...  Ethereum     Ether   \n28  withdraw(bytes _proof, bytes32 _root, bytes32 ...  Ethereum     Ether   \n66  withdraw(bytes _proof, bytes32 _root, bytes32 ...  Ethereum     Ether   \n\n   tokenType isSet                                 userAddress  \\\n27    native  from  0xc66fc68835457119922407d84a9f2f6fda889978   \n28    native  from  0xc8cce8cac93a010b02e3b7e4e083b0465b1d36f2   \n66    native  from  0x453dccc996adf27fa9fbbfe61318c116ad761177   \n\n                               contractAddress     pool  \n27  0x12d66f87a04a9e220743712ce6d9bb1b5616b8fc  0.1 Eth  \n28  0x12d66f87a04a9e220743712ce6d9bb1b5616b8fc  0.1 Eth  \n66  0x910cbd523d972eb0a6f4cae4618ad62622b39dbf   10 Eth  ",
      "text/html": "<div>\n<style scoped>\n    .dataframe tbody tr th:only-of-type {\n        vertical-align: middle;\n    }\n\n    .dataframe tbody tr th {\n        vertical-align: top;\n    }\n\n    .dataframe thead th {\n        text-align: right;\n    }\n</style>\n<table border=\"1\" class=\"dataframe\">\n  <thead>\n    <tr style=\"text-align: right;\">\n      <th></th>\n      <th>hash</th>\n      <th>from</th>\n      <th>to</th>\n      <th>timeStamp</th>\n      <th>nonce</th>\n      <th>value</th>\n      <th>gasPrice</th>\n      <th>input</th>\n      <th>gasUsed</th>\n      <th>functionName</th>\n      <th>chainName</th>\n      <th>tokenName</th>\n      <th>tokenType</th>\n      <th>isSet</th>\n      <th>userAddress</th>\n      <th>contractAddress</th>\n      <th>pool</th>\n    </tr>\n  </thead>\n  <tbody>\n    <tr>\n      <th>27</th>\n      <td>0xbc7aeb5e1bf47b52c17343235f0889cb5994bb18f4f7...</td>\n      <td>0xc66fc68835457119922407d84a9f2f6fda889978</td>\n      <td>0x12d66f87a04a9e220743712ce6d9bb1b5616b8fc</td>\n      <td>1584526395</td>\n      <td>4.0</td>\n      <td>0.0</td>\n      <td>5060966543</td>\n      <td>0x21a0adb6000000000000000000000000000000000000...</td>\n      <td>348195</td>\n      <td>withdraw(bytes _proof, bytes32 _root, bytes32 ...</td>\n      <td>Ethereum</td>\n      <td>Ether</td>\n      <td>native</td>\n      <td>from</td>\n      <td>0xc66fc68835457119922407d84a9f2f6fda889978</td>\n      <td>0x12d66f87a04a9e220743712ce6d9bb1b5616b8fc</td>\n      <td>0.1 Eth</td>\n    </tr>\n    <tr>\n      <th>28</th>\n      <td>0xa9e85b43a88a0c956d9b60cba13909a94b4bf3a6ffe9...</td>\n      <td>0xc8cce8cac93a010b02e3b7e4e083b0465b1d36f2</td>\n      <td>0x12d66f87a04a9e220743712ce6d9bb1b5616b8fc</td>\n      <td>1580405873</td>\n      <td>905.0</td>\n      <td>0.0</td>\n      <td>1000000000</td>\n      <td>0x21a0adb6000000000000000000000000000000000000...</td>\n      <td>323183</td>\n      <td>withdraw(bytes _proof, bytes32 _root, bytes32 ...</td>\n      <td>Ethereum</td>\n      <td>Ether</td>\n      <td>native</td>\n      <td>from</td>\n      <td>0xc8cce8cac93a010b02e3b7e4e083b0465b1d36f2</td>\n      <td>0x12d66f87a04a9e220743712ce6d9bb1b5616b8fc</td>\n      <td>0.1 Eth</td>\n    </tr>\n    <tr>\n      <th>66</th>\n      <td>0xc73d3908d1e018c48497a71e60ea91e02a6b434fa4b8...</td>\n      <td>0x453dccc996adf27fa9fbbfe61318c116ad761177</td>\n      <td>0x910cbd523d972eb0a6f4cae4618ad62622b39dbf</td>\n      <td>1602176316</td>\n      <td>0.0</td>\n      <td>0.0</td>\n      <td>68000000000</td>\n      <td>0x21a0adb6000000000000000000000000000000000000...</td>\n      <td>346796</td>\n      <td>withdraw(bytes _proof, bytes32 _root, bytes32 ...</td>\n      <td>Ethereum</td>\n      <td>Ether</td>\n      <td>native</td>\n      <td>from</td>\n      <td>0x453dccc996adf27fa9fbbfe61318c116ad761177</td>\n      <td>0x910cbd523d972eb0a6f4cae4618ad62622b39dbf</td>\n      <td>10 Eth</td>\n    </tr>\n  </tbody>\n</table>\n</div>"
     },
     "execution_count": 11,
     "metadata": {},
     "output_type": "execute_result"
    }
   ],
   "source": [
    "x = tornado_transactions[tornado_transactions['from'].isin(withdrawal_addresses)]\n",
    "x"
   ],
   "metadata": {
    "collapsed": false,
    "pycharm": {
     "name": "#%%\n"
    }
   }
  },
  {
   "cell_type": "code",
   "execution_count": null,
   "outputs": [],
   "source": [],
   "metadata": {
    "collapsed": false,
    "pycharm": {
     "name": "#%%\n"
    }
   }
  },
  {
   "cell_type": "markdown",
   "source": [
    "## Heuristic 2 - Unique Gas Price"
   ],
   "metadata": {
    "collapsed": false
   }
  },
  {
   "cell_type": "code",
   "execution_count": null,
   "outputs": [],
   "source": [],
   "metadata": {
    "collapsed": false,
    "pycharm": {
     "name": "#%%\n"
    }
   }
  },
  {
   "cell_type": "markdown",
   "source": [
    "## Heuristic 3 - Linked Addresses"
   ],
   "metadata": {
    "collapsed": false
   }
  },
  {
   "cell_type": "code",
   "execution_count": null,
   "outputs": [],
   "source": [],
   "metadata": {
    "collapsed": false,
    "pycharm": {
     "name": "#%%\n"
    }
   }
  },
  {
   "cell_type": "markdown",
   "source": [
    "## Heuristic 4 - Multiple Denomination"
   ],
   "metadata": {
    "collapsed": false
   }
  },
  {
   "cell_type": "code",
   "execution_count": null,
   "outputs": [],
   "source": [],
   "metadata": {
    "collapsed": false,
    "pycharm": {
     "name": "#%%\n"
    }
   }
  },
  {
   "cell_type": "markdown",
   "source": [
    "## Heuristic 5 - Torn Minting"
   ],
   "metadata": {
    "collapsed": false
   }
  },
  {
   "cell_type": "code",
   "execution_count": null,
   "outputs": [],
   "source": [],
   "metadata": {
    "collapsed": false,
    "pycharm": {
     "name": "#%%\n"
    }
   }
  }
 ],
 "metadata": {
  "kernelspec": {
   "display_name": "Python 3",
   "language": "python",
   "name": "python3"
  },
  "language_info": {
   "codemirror_mode": {
    "name": "ipython",
    "version": 2
   },
   "file_extension": ".py",
   "mimetype": "text/x-python",
   "name": "python",
   "nbconvert_exporter": "python",
   "pygments_lexer": "ipython2",
   "version": "2.7.6"
  }
 },
 "nbformat": 4,
 "nbformat_minor": 0
}