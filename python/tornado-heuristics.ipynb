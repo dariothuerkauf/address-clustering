{
 "cells": [
  {
   "cell_type": "markdown",
   "source": [
    "# Tornado Heuristics"
   ],
   "metadata": {
    "collapsed": false
   }
  },
  {
   "cell_type": "code",
   "execution_count": 34,
   "metadata": {
    "collapsed": true
   },
   "outputs": [],
   "source": [
    "import pandas as pd\n",
    "\n",
    "tornado_transactions = pd.read_csv('../data/tornado_trx_transfers.csv', index_col=[0])\n",
    "intra_set_asset_transfers = pd.read_csv('../data/all_intra_transfers.csv', index_col=[0], low_memory=False)"
   ]
  },
  {
   "cell_type": "code",
   "execution_count": 35,
   "outputs": [],
   "source": [
    "tornado_eth = tornado_transactions[tornado_transactions['tokenName']=='Ether'].copy()\n",
    "\n",
    "# Find deposit addresses for ETH pools\n",
    "deposit_eth = tornado_eth[tornado_eth['functionName']=='deposit(bytes32 _id)']['from'].tolist()\n",
    "\n",
    "# Find withdrawal addresses for ETH pools\n",
    "withdraw_eth = tornado_eth[tornado_eth['functionName']=='withdraw(bytes _proof, bytes32 _root, bytes32 _nullifierHash, address _recipient, address _relayer, uint256 _fee, uint256 _refund)']['from'].tolist()\n",
    "\n",
    "tornado_eth['transaction_type'] = tornado_eth['functionName'].apply(lambda x: 'deposit' if x == 'deposit(bytes32 _id)' else 'withdraw' if x == 'withdraw(bytes _proof, bytes32 _root, bytes32 _nullifierHash, address _recipient, address _relayer, uint256 _fee, uint256 _refund)' else None)"
   ],
   "metadata": {
    "collapsed": false,
    "pycharm": {
     "name": "#%%\n"
    }
   }
  },
  {
   "cell_type": "code",
   "execution_count": 36,
   "outputs": [],
   "source": [
    "tornado_token = tornado_transactions[tornado_transactions['tokenName']!='Ether'].copy()\n",
    "\n",
    "# Find deposit addresses for other token pools\n",
    "tornado_token['transaction_type'] = tornado_token['isSet'].apply(lambda x: 'withdraw' if x == 'to' else 'deposit' if x == 'from' else None)\n",
    "\n",
    "# Find withdrawal addresses for other token pools\n",
    "withdraw_token = tornado_token[tornado_token['isSet']=='to']['to'].tolist()\n",
    "deposit_token = tornado_token[tornado_token['isSet']=='from']['from'].tolist()"
   ],
   "metadata": {
    "collapsed": false,
    "pycharm": {
     "name": "#%%\n"
    }
   }
  },
  {
   "cell_type": "markdown",
   "source": [
    "## Heuristic 1 - Address Match\n",
    "No user deposited to and withdrew from a Tornado pool with the same address. The code below is simplified, as it does not check by pool."
   ],
   "metadata": {
    "collapsed": false
   }
  },
  {
   "cell_type": "code",
   "execution_count": 37,
   "outputs": [
    {
     "name": "stdout",
     "output_type": "stream",
     "text": [
      "[]\n",
      "[]\n"
     ]
    }
   ],
   "source": [
    "address_match_eth = list(set(withdraw_eth) & set(deposit_eth))\n",
    "print(address_match_eth)\n",
    "\n",
    "address_match_token = list(set(withdraw_token) & set(deposit_token))\n",
    "print(address_match_token)"
   ],
   "metadata": {
    "collapsed": false,
    "pycharm": {
     "name": "#%%\n"
    }
   }
  },
  {
   "cell_type": "markdown",
   "source": [
    "## Heuristic 2 - Unique Gas Price\n",
    "\n",
    "There are no very specific gas prices with a count above 1."
   ],
   "metadata": {
    "collapsed": false
   }
  },
  {
   "cell_type": "code",
   "execution_count": 38,
   "outputs": [
    {
     "data": {
      "text/plain": "        gasPrice  count\n0     1000000000      3\n1     1010000000      2\n11   11000000000      7\n12   11200000000      2\n14   13000000000      7\n15   15100000000      2\n18   21000000000      3\n25   25000000000      2\n26   26000000000      3\n28   33000000000      2\n29   39000000000      2\n32   44000000000      3\n33   45000000000      2\n35   46000000000      2\n37   51000000000      2\n44   80000000000      3\n46   93000000000      2\n49  128000000000      2",
      "text/html": "<div>\n<style scoped>\n    .dataframe tbody tr th:only-of-type {\n        vertical-align: middle;\n    }\n\n    .dataframe tbody tr th {\n        vertical-align: top;\n    }\n\n    .dataframe thead th {\n        text-align: right;\n    }\n</style>\n<table border=\"1\" class=\"dataframe\">\n  <thead>\n    <tr style=\"text-align: right;\">\n      <th></th>\n      <th>gasPrice</th>\n      <th>count</th>\n    </tr>\n  </thead>\n  <tbody>\n    <tr>\n      <th>0</th>\n      <td>1000000000</td>\n      <td>3</td>\n    </tr>\n    <tr>\n      <th>1</th>\n      <td>1010000000</td>\n      <td>2</td>\n    </tr>\n    <tr>\n      <th>11</th>\n      <td>11000000000</td>\n      <td>7</td>\n    </tr>\n    <tr>\n      <th>12</th>\n      <td>11200000000</td>\n      <td>2</td>\n    </tr>\n    <tr>\n      <th>14</th>\n      <td>13000000000</td>\n      <td>7</td>\n    </tr>\n    <tr>\n      <th>15</th>\n      <td>15100000000</td>\n      <td>2</td>\n    </tr>\n    <tr>\n      <th>18</th>\n      <td>21000000000</td>\n      <td>3</td>\n    </tr>\n    <tr>\n      <th>25</th>\n      <td>25000000000</td>\n      <td>2</td>\n    </tr>\n    <tr>\n      <th>26</th>\n      <td>26000000000</td>\n      <td>3</td>\n    </tr>\n    <tr>\n      <th>28</th>\n      <td>33000000000</td>\n      <td>2</td>\n    </tr>\n    <tr>\n      <th>29</th>\n      <td>39000000000</td>\n      <td>2</td>\n    </tr>\n    <tr>\n      <th>32</th>\n      <td>44000000000</td>\n      <td>3</td>\n    </tr>\n    <tr>\n      <th>33</th>\n      <td>45000000000</td>\n      <td>2</td>\n    </tr>\n    <tr>\n      <th>35</th>\n      <td>46000000000</td>\n      <td>2</td>\n    </tr>\n    <tr>\n      <th>37</th>\n      <td>51000000000</td>\n      <td>2</td>\n    </tr>\n    <tr>\n      <th>44</th>\n      <td>80000000000</td>\n      <td>3</td>\n    </tr>\n    <tr>\n      <th>46</th>\n      <td>93000000000</td>\n      <td>2</td>\n    </tr>\n    <tr>\n      <th>49</th>\n      <td>128000000000</td>\n      <td>2</td>\n    </tr>\n  </tbody>\n</table>\n</div>"
     },
     "execution_count": 38,
     "metadata": {},
     "output_type": "execute_result"
    }
   ],
   "source": [
    "tornado_concat = pd.concat([tornado_eth, tornado_token], ignore_index=True)\n",
    "\n",
    "gas_prices = tornado_concat.groupby(['gasPrice']).size().reset_index(name='count')[['gasPrice', 'count']]\n",
    "\n",
    "filtered_gas_prices = gas_prices.query('count >= 2')\n",
    "filtered_gas_prices"
   ],
   "metadata": {
    "collapsed": false,
    "pycharm": {
     "name": "#%%\n"
    }
   }
  },
  {
   "cell_type": "markdown",
   "source": [
    "## Heuristic 3 - Linked Addresses\n",
    "No interaction between deposit and withdrawal addresses for both the withdrawal and the deposit addresses."
   ],
   "metadata": {
    "collapsed": false
   }
  },
  {
   "cell_type": "code",
   "execution_count": 40,
   "outputs": [
    {
     "data": {
      "text/plain": "Empty DataFrame\nColumns: [from, to, timeStamp, nonce, value, gasPrice, input, gasUsed, functionName, chainName, contractAddress, tokenName, tokenType, tokenID]\nIndex: []",
      "text/html": "<div>\n<style scoped>\n    .dataframe tbody tr th:only-of-type {\n        vertical-align: middle;\n    }\n\n    .dataframe tbody tr th {\n        vertical-align: top;\n    }\n\n    .dataframe thead th {\n        text-align: right;\n    }\n</style>\n<table border=\"1\" class=\"dataframe\">\n  <thead>\n    <tr style=\"text-align: right;\">\n      <th></th>\n      <th>from</th>\n      <th>to</th>\n      <th>timeStamp</th>\n      <th>nonce</th>\n      <th>value</th>\n      <th>gasPrice</th>\n      <th>input</th>\n      <th>gasUsed</th>\n      <th>functionName</th>\n      <th>chainName</th>\n      <th>contractAddress</th>\n      <th>tokenName</th>\n      <th>tokenType</th>\n      <th>tokenID</th>\n    </tr>\n    <tr>\n      <th>hash</th>\n      <th></th>\n      <th></th>\n      <th></th>\n      <th></th>\n      <th></th>\n      <th></th>\n      <th></th>\n      <th></th>\n      <th></th>\n      <th></th>\n      <th></th>\n      <th></th>\n      <th></th>\n      <th></th>\n    </tr>\n  </thead>\n  <tbody>\n  </tbody>\n</table>\n</div>"
     },
     "execution_count": 40,
     "metadata": {},
     "output_type": "execute_result"
    }
   ],
   "source": [
    "# take intra-set asset transfer dataframe\n",
    "# check if there are transfers where both the from and to are in the subsets\n",
    "filtered_df = intra_set_asset_transfers[\n",
    "    ((intra_set_asset_transfers['from'].isin(withdraw_eth)) & (intra_set_asset_transfers['to'].isin(deposit_eth))) |\n",
    "    ((intra_set_asset_transfers['from'].isin(deposit_eth)) & (intra_set_asset_transfers['to'].isin(withdraw_eth)))\n",
    "]\n",
    "filtered_df"
   ],
   "metadata": {
    "collapsed": false,
    "pycharm": {
     "name": "#%%\n"
    }
   }
  },
  {
   "cell_type": "code",
   "execution_count": 41,
   "outputs": [
    {
     "data": {
      "text/plain": "Empty DataFrame\nColumns: [from, to, timeStamp, nonce, value, gasPrice, input, gasUsed, functionName, chainName, contractAddress, tokenName, tokenType, tokenID]\nIndex: []",
      "text/html": "<div>\n<style scoped>\n    .dataframe tbody tr th:only-of-type {\n        vertical-align: middle;\n    }\n\n    .dataframe tbody tr th {\n        vertical-align: top;\n    }\n\n    .dataframe thead th {\n        text-align: right;\n    }\n</style>\n<table border=\"1\" class=\"dataframe\">\n  <thead>\n    <tr style=\"text-align: right;\">\n      <th></th>\n      <th>from</th>\n      <th>to</th>\n      <th>timeStamp</th>\n      <th>nonce</th>\n      <th>value</th>\n      <th>gasPrice</th>\n      <th>input</th>\n      <th>gasUsed</th>\n      <th>functionName</th>\n      <th>chainName</th>\n      <th>contractAddress</th>\n      <th>tokenName</th>\n      <th>tokenType</th>\n      <th>tokenID</th>\n    </tr>\n    <tr>\n      <th>hash</th>\n      <th></th>\n      <th></th>\n      <th></th>\n      <th></th>\n      <th></th>\n      <th></th>\n      <th></th>\n      <th></th>\n      <th></th>\n      <th></th>\n      <th></th>\n      <th></th>\n      <th></th>\n      <th></th>\n    </tr>\n  </thead>\n  <tbody>\n  </tbody>\n</table>\n</div>"
     },
     "execution_count": 41,
     "metadata": {},
     "output_type": "execute_result"
    }
   ],
   "source": [
    "filtered_df = intra_set_asset_transfers[\n",
    "    ((intra_set_asset_transfers['from'].isin(withdraw_token)) & (intra_set_asset_transfers['to'].isin(deposit_token))) |\n",
    "    ((intra_set_asset_transfers['from'].isin(deposit_token)) & (intra_set_asset_transfers['to'].isin(withdraw_token)))\n",
    "]\n",
    "filtered_df"
   ],
   "metadata": {
    "collapsed": false,
    "pycharm": {
     "name": "#%%\n"
    }
   }
  },
  {
   "cell_type": "markdown",
   "source": [
    "## Heuristic 4 - Multiple Denomination\n",
    "No address withdrew from a specific pool more than once, therefore, this heuristic is not applicable."
   ],
   "metadata": {
    "collapsed": false
   }
  },
  {
   "cell_type": "markdown",
   "source": [
    "## Heuristic 5 - Torn Minting"
   ],
   "metadata": {
    "collapsed": false,
    "pycharm": {
     "name": "#%% md\n"
    }
   }
  }
 ],
 "metadata": {
  "kernelspec": {
   "display_name": "Python 3",
   "language": "python",
   "name": "python3"
  },
  "language_info": {
   "codemirror_mode": {
    "name": "ipython",
    "version": 2
   },
   "file_extension": ".py",
   "mimetype": "text/x-python",
   "name": "python",
   "nbconvert_exporter": "python",
   "pygments_lexer": "ipython2",
   "version": "2.7.6"
  }
 },
 "nbformat": 4,
 "nbformat_minor": 0
}