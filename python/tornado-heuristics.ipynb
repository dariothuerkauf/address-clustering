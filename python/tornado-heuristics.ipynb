{
 "cells": [
  {
   "cell_type": "markdown",
   "source": [
    "# Tornado Heuristics"
   ],
   "metadata": {
    "collapsed": false
   }
  },
  {
   "cell_type": "code",
   "execution_count": 1,
   "metadata": {
    "collapsed": true
   },
   "outputs": [],
   "source": [
    "import pandas as pd\n",
    "\n",
    "tornado_transactions = pd.read_csv('../data/tornado_trx_transfers.csv', index_col=[0])\n",
    "intra_set_asset_transfers = pd.read_csv('../data/all_intra_transfers.csv', index_col=[0], low_memory=False)"
   ]
  },
  {
   "cell_type": "code",
   "execution_count": 2,
   "outputs": [],
   "source": [
    "tornado_eth = tornado_transactions[tornado_transactions['tokenName']=='Ether'].copy()\n",
    "\n",
    "# Find deposit addresses for ETH pools\n",
    "deposit_eth = tornado_eth[tornado_eth['functionName']=='deposit(bytes32 _id)']['from'].tolist()\n",
    "\n",
    "# Find withdrawal addresses for ETH pools\n",
    "withdraw_eth = tornado_eth[tornado_eth['functionName']=='withdraw(bytes _proof, bytes32 _root, bytes32 _nullifierHash, address _recipient, address _relayer, uint256 _fee, uint256 _refund)']['from'].tolist()\n",
    "\n",
    "tornado_eth['transaction_type'] = tornado_eth['functionName'].apply(lambda x: 'deposit' if x == 'deposit(bytes32 _id)' else 'withdraw' if x == 'withdraw(bytes _proof, bytes32 _root, bytes32 _nullifierHash, address _recipient, address _relayer, uint256 _fee, uint256 _refund)' else None)"
   ],
   "metadata": {
    "collapsed": false,
    "pycharm": {
     "name": "#%%\n"
    }
   }
  },
  {
   "cell_type": "code",
   "execution_count": 3,
   "outputs": [],
   "source": [
    "tornado_token = tornado_transactions[tornado_transactions['tokenName']!='Ether'].copy()\n",
    "\n",
    "# Find deposit addresses for other token pools\n",
    "tornado_token['transaction_type'] = tornado_token['isSet'].apply(lambda x: 'withdraw' if x == 'to' else 'deposit' if x == 'from' else None)\n",
    "\n",
    "# Find withdrawal addresses for other token pools\n",
    "withdraw_token = tornado_token[tornado_token['isSet']=='to']['to'].tolist()\n",
    "deposit_token = tornado_token[tornado_token['isSet']=='from']['from'].tolist()"
   ],
   "metadata": {
    "collapsed": false,
    "pycharm": {
     "name": "#%%\n"
    }
   }
  },
  {
   "cell_type": "code",
   "execution_count": 4,
   "outputs": [
    {
     "data": {
      "text/plain": "                                                 hash  \\\n0   0xab9112a0bfd7ee489f32ad2eace95cd9111da9091008...   \n1   0xb96895d541a818232300808230ff202f8e1217609f10...   \n2   0x282777a6664cf1d9d3f1695bed549f7a62ec57411350...   \n3   0xc880becfb7f3a939765f1cb650cd7b624cdb0a046a22...   \n4   0xd9eeeec262897f88c4323013ca927cb3cb94e7f22347...   \n..                                                ...   \n79  0x5607c93ba2fc0814327af6f53b53923bcc747edc7b2b...   \n80  0xdb5ea6e7a175dda3b9359910aaa5ebf3f70b5e2ab253...   \n81  0x7bce45c79f340555a9c7e66116875cb56ad065a24488...   \n82  0x9b7a76858cc9ca49de2cb273e4a2e635e4b652019acf...   \n83  0x53e455eb4028499613080fb7bd98048069d898594ff8...   \n\n                                          from  \\\n0   0x007f44362400de9f364efa919ff84c6ea9e210d5   \n1   0x1dd5df3b2d78271039f3dc39eb9350ecc31ca9dc   \n2   0x1ec594a869dc67d78fabc33963d3c6a0ab017dd6   \n3   0x2fef65e4d69a38bf0dd074079f367cdf176ec0de   \n4   0x30602250c5f1fcba5407e99b1dfaab992ea4ffd2   \n..                                         ...   \n79  0x169ad27a470d064dede56a2d3ff727986b15d52b   \n80  0x178169b423a011fff22b9e3f3abea13414ddd0f1   \n81  0xfd8610d20aa15b7b2e3be39b396a1bc3516c7144   \n82  0x62051bfd3a4f7039a849142e6e5ea172cbda5949   \n83  0x1e27c17432abff8e314b421be50c63a42d3e95e0   \n\n                                            to   timeStamp   nonce  \\\n0   0x12d66f87a04a9e220743712ce6d9bb1b5616b8fc  1597667681   171.0   \n1   0x12d66f87a04a9e220743712ce6d9bb1b5616b8fc  1605348173    39.0   \n2   0x12d66f87a04a9e220743712ce6d9bb1b5616b8fc  1602676051   827.0   \n3   0x12d66f87a04a9e220743712ce6d9bb1b5616b8fc  1603804997  7601.0   \n4   0x12d66f87a04a9e220743712ce6d9bb1b5616b8fc  1583900510  4830.0   \n..                                         ...         ...     ...   \n79  0x3f0500b79c099dfe2638d0faf1c03f56b90d12d1  1602750994  2787.0   \n80  0x0c40bff248ed5d99d294ceca8826c7924f745134  1619556022  3439.0   \n81  0x7a218b62ae9e23aac788979ead8be51258a3cbc5  1621903058   154.0   \n82  0xd4b88df4d29f5cedd6857912842cff3b20c8cfa3  1598285598   212.0   \n83  0xfd8610d20aa15b7b2e3be39b396a1bc3516c7144  1611456084  2122.0   \n\n           value      gasPrice  \\\n0   1.000000e+17  112000000000   \n1   1.000000e+17   23000000000   \n2   1.000000e+17   33000000000   \n3   1.000000e+17   45000000000   \n4   1.000000e+17   13000000000   \n..           ...           ...   \n79  7.718709e+01   80000000000   \n80  9.831973e-02   58650000000   \n81  1.000000e+03   46000000000   \n82  1.000000e+02  128000000000   \n83  1.000000e+03   51000000000   \n\n                                                input  gasUsed  \\\n0   0xb214faa52606de7c18da92872e783b4cf27c757334ca...   966887   \n1   0xb214faa50bf6fe5e24e3223b7e2cec17a028597694c1...   978703   \n2   0xb214faa512dd5f64b38ff2414a7e7cf5219e5ff98ec6...   978703   \n3   0xb214faa50205af153fb0c6e1818a2e396450ed9baf14...   972795   \n4   0xb214faa5068a8346b266fcdfd7a9830a2409eac71681...   984611   \n..                                                ...      ...   \n79                                                NaN   361300   \n80                                                NaN   399260   \n81                                                NaN   395784   \n82                                                NaN  1003512   \n83                                                NaN  1000316   \n\n            functionName chainName       tokenName tokenType isSet  \\\n0   deposit(bytes32 _id)  Ethereum           Ether    native  from   \n1   deposit(bytes32 _id)  Ethereum           Ether    native  from   \n2   deposit(bytes32 _id)  Ethereum           Ether    native  from   \n3   deposit(bytes32 _id)  Ethereum           Ether    native  from   \n4   deposit(bytes32 _id)  Ethereum           Ether    native  from   \n..                   ...       ...             ...       ...   ...   \n79                   NaN  Ethereum      Tether USD        20    to   \n80                   NaN  Ethereum     Wrapped BTC        20    to   \n81                   NaN  Ethereum  Dai Stablecoin        20    to   \n82                   NaN  Ethereum  Dai Stablecoin        20  from   \n83                   NaN  Ethereum  Dai Stablecoin        20  from   \n\n                                   userAddress  \\\n0   0x007f44362400de9f364efa919ff84c6ea9e210d5   \n1   0x1dd5df3b2d78271039f3dc39eb9350ecc31ca9dc   \n2   0x1ec594a869dc67d78fabc33963d3c6a0ab017dd6   \n3   0x2fef65e4d69a38bf0dd074079f367cdf176ec0de   \n4   0x30602250c5f1fcba5407e99b1dfaab992ea4ffd2   \n..                                         ...   \n79  0x3f0500b79c099dfe2638d0faf1c03f56b90d12d1   \n80  0x0c40bff248ed5d99d294ceca8826c7924f745134   \n81  0x7a218b62ae9e23aac788979ead8be51258a3cbc5   \n82  0x62051bfd3a4f7039a849142e6e5ea172cbda5949   \n83  0x1e27c17432abff8e314b421be50c63a42d3e95e0   \n\n                               contractAddress      pool  \n0   0x12d66f87a04a9e220743712ce6d9bb1b5616b8fc   0.1 Eth  \n1   0x12d66f87a04a9e220743712ce6d9bb1b5616b8fc   0.1 Eth  \n2   0x12d66f87a04a9e220743712ce6d9bb1b5616b8fc   0.1 Eth  \n3   0x12d66f87a04a9e220743712ce6d9bb1b5616b8fc   0.1 Eth  \n4   0x12d66f87a04a9e220743712ce6d9bb1b5616b8fc   0.1 Eth  \n..                                         ...       ...  \n79  0x169ad27a470d064dede56a2d3ff727986b15d52b  100 USDT  \n80  0x178169b423a011fff22b9e3f3abea13414ddd0f1  0.1 wBTC  \n81  0xfd8610d20aa15b7b2e3be39b396a1bc3516c7144    1k Dai  \n82  0xd4b88df4d29f5cedd6857912842cff3b20c8cfa3   100 Dai  \n83  0xfd8610d20aa15b7b2e3be39b396a1bc3516c7144    1k Dai  \n\n[84 rows x 17 columns]",
      "text/html": "<div>\n<style scoped>\n    .dataframe tbody tr th:only-of-type {\n        vertical-align: middle;\n    }\n\n    .dataframe tbody tr th {\n        vertical-align: top;\n    }\n\n    .dataframe thead th {\n        text-align: right;\n    }\n</style>\n<table border=\"1\" class=\"dataframe\">\n  <thead>\n    <tr style=\"text-align: right;\">\n      <th></th>\n      <th>hash</th>\n      <th>from</th>\n      <th>to</th>\n      <th>timeStamp</th>\n      <th>nonce</th>\n      <th>value</th>\n      <th>gasPrice</th>\n      <th>input</th>\n      <th>gasUsed</th>\n      <th>functionName</th>\n      <th>chainName</th>\n      <th>tokenName</th>\n      <th>tokenType</th>\n      <th>isSet</th>\n      <th>userAddress</th>\n      <th>contractAddress</th>\n      <th>pool</th>\n    </tr>\n  </thead>\n  <tbody>\n    <tr>\n      <th>0</th>\n      <td>0xab9112a0bfd7ee489f32ad2eace95cd9111da9091008...</td>\n      <td>0x007f44362400de9f364efa919ff84c6ea9e210d5</td>\n      <td>0x12d66f87a04a9e220743712ce6d9bb1b5616b8fc</td>\n      <td>1597667681</td>\n      <td>171.0</td>\n      <td>1.000000e+17</td>\n      <td>112000000000</td>\n      <td>0xb214faa52606de7c18da92872e783b4cf27c757334ca...</td>\n      <td>966887</td>\n      <td>deposit(bytes32 _id)</td>\n      <td>Ethereum</td>\n      <td>Ether</td>\n      <td>native</td>\n      <td>from</td>\n      <td>0x007f44362400de9f364efa919ff84c6ea9e210d5</td>\n      <td>0x12d66f87a04a9e220743712ce6d9bb1b5616b8fc</td>\n      <td>0.1 Eth</td>\n    </tr>\n    <tr>\n      <th>1</th>\n      <td>0xb96895d541a818232300808230ff202f8e1217609f10...</td>\n      <td>0x1dd5df3b2d78271039f3dc39eb9350ecc31ca9dc</td>\n      <td>0x12d66f87a04a9e220743712ce6d9bb1b5616b8fc</td>\n      <td>1605348173</td>\n      <td>39.0</td>\n      <td>1.000000e+17</td>\n      <td>23000000000</td>\n      <td>0xb214faa50bf6fe5e24e3223b7e2cec17a028597694c1...</td>\n      <td>978703</td>\n      <td>deposit(bytes32 _id)</td>\n      <td>Ethereum</td>\n      <td>Ether</td>\n      <td>native</td>\n      <td>from</td>\n      <td>0x1dd5df3b2d78271039f3dc39eb9350ecc31ca9dc</td>\n      <td>0x12d66f87a04a9e220743712ce6d9bb1b5616b8fc</td>\n      <td>0.1 Eth</td>\n    </tr>\n    <tr>\n      <th>2</th>\n      <td>0x282777a6664cf1d9d3f1695bed549f7a62ec57411350...</td>\n      <td>0x1ec594a869dc67d78fabc33963d3c6a0ab017dd6</td>\n      <td>0x12d66f87a04a9e220743712ce6d9bb1b5616b8fc</td>\n      <td>1602676051</td>\n      <td>827.0</td>\n      <td>1.000000e+17</td>\n      <td>33000000000</td>\n      <td>0xb214faa512dd5f64b38ff2414a7e7cf5219e5ff98ec6...</td>\n      <td>978703</td>\n      <td>deposit(bytes32 _id)</td>\n      <td>Ethereum</td>\n      <td>Ether</td>\n      <td>native</td>\n      <td>from</td>\n      <td>0x1ec594a869dc67d78fabc33963d3c6a0ab017dd6</td>\n      <td>0x12d66f87a04a9e220743712ce6d9bb1b5616b8fc</td>\n      <td>0.1 Eth</td>\n    </tr>\n    <tr>\n      <th>3</th>\n      <td>0xc880becfb7f3a939765f1cb650cd7b624cdb0a046a22...</td>\n      <td>0x2fef65e4d69a38bf0dd074079f367cdf176ec0de</td>\n      <td>0x12d66f87a04a9e220743712ce6d9bb1b5616b8fc</td>\n      <td>1603804997</td>\n      <td>7601.0</td>\n      <td>1.000000e+17</td>\n      <td>45000000000</td>\n      <td>0xb214faa50205af153fb0c6e1818a2e396450ed9baf14...</td>\n      <td>972795</td>\n      <td>deposit(bytes32 _id)</td>\n      <td>Ethereum</td>\n      <td>Ether</td>\n      <td>native</td>\n      <td>from</td>\n      <td>0x2fef65e4d69a38bf0dd074079f367cdf176ec0de</td>\n      <td>0x12d66f87a04a9e220743712ce6d9bb1b5616b8fc</td>\n      <td>0.1 Eth</td>\n    </tr>\n    <tr>\n      <th>4</th>\n      <td>0xd9eeeec262897f88c4323013ca927cb3cb94e7f22347...</td>\n      <td>0x30602250c5f1fcba5407e99b1dfaab992ea4ffd2</td>\n      <td>0x12d66f87a04a9e220743712ce6d9bb1b5616b8fc</td>\n      <td>1583900510</td>\n      <td>4830.0</td>\n      <td>1.000000e+17</td>\n      <td>13000000000</td>\n      <td>0xb214faa5068a8346b266fcdfd7a9830a2409eac71681...</td>\n      <td>984611</td>\n      <td>deposit(bytes32 _id)</td>\n      <td>Ethereum</td>\n      <td>Ether</td>\n      <td>native</td>\n      <td>from</td>\n      <td>0x30602250c5f1fcba5407e99b1dfaab992ea4ffd2</td>\n      <td>0x12d66f87a04a9e220743712ce6d9bb1b5616b8fc</td>\n      <td>0.1 Eth</td>\n    </tr>\n    <tr>\n      <th>...</th>\n      <td>...</td>\n      <td>...</td>\n      <td>...</td>\n      <td>...</td>\n      <td>...</td>\n      <td>...</td>\n      <td>...</td>\n      <td>...</td>\n      <td>...</td>\n      <td>...</td>\n      <td>...</td>\n      <td>...</td>\n      <td>...</td>\n      <td>...</td>\n      <td>...</td>\n      <td>...</td>\n      <td>...</td>\n    </tr>\n    <tr>\n      <th>79</th>\n      <td>0x5607c93ba2fc0814327af6f53b53923bcc747edc7b2b...</td>\n      <td>0x169ad27a470d064dede56a2d3ff727986b15d52b</td>\n      <td>0x3f0500b79c099dfe2638d0faf1c03f56b90d12d1</td>\n      <td>1602750994</td>\n      <td>2787.0</td>\n      <td>7.718709e+01</td>\n      <td>80000000000</td>\n      <td>NaN</td>\n      <td>361300</td>\n      <td>NaN</td>\n      <td>Ethereum</td>\n      <td>Tether USD</td>\n      <td>20</td>\n      <td>to</td>\n      <td>0x3f0500b79c099dfe2638d0faf1c03f56b90d12d1</td>\n      <td>0x169ad27a470d064dede56a2d3ff727986b15d52b</td>\n      <td>100 USDT</td>\n    </tr>\n    <tr>\n      <th>80</th>\n      <td>0xdb5ea6e7a175dda3b9359910aaa5ebf3f70b5e2ab253...</td>\n      <td>0x178169b423a011fff22b9e3f3abea13414ddd0f1</td>\n      <td>0x0c40bff248ed5d99d294ceca8826c7924f745134</td>\n      <td>1619556022</td>\n      <td>3439.0</td>\n      <td>9.831973e-02</td>\n      <td>58650000000</td>\n      <td>NaN</td>\n      <td>399260</td>\n      <td>NaN</td>\n      <td>Ethereum</td>\n      <td>Wrapped BTC</td>\n      <td>20</td>\n      <td>to</td>\n      <td>0x0c40bff248ed5d99d294ceca8826c7924f745134</td>\n      <td>0x178169b423a011fff22b9e3f3abea13414ddd0f1</td>\n      <td>0.1 wBTC</td>\n    </tr>\n    <tr>\n      <th>81</th>\n      <td>0x7bce45c79f340555a9c7e66116875cb56ad065a24488...</td>\n      <td>0xfd8610d20aa15b7b2e3be39b396a1bc3516c7144</td>\n      <td>0x7a218b62ae9e23aac788979ead8be51258a3cbc5</td>\n      <td>1621903058</td>\n      <td>154.0</td>\n      <td>1.000000e+03</td>\n      <td>46000000000</td>\n      <td>NaN</td>\n      <td>395784</td>\n      <td>NaN</td>\n      <td>Ethereum</td>\n      <td>Dai Stablecoin</td>\n      <td>20</td>\n      <td>to</td>\n      <td>0x7a218b62ae9e23aac788979ead8be51258a3cbc5</td>\n      <td>0xfd8610d20aa15b7b2e3be39b396a1bc3516c7144</td>\n      <td>1k Dai</td>\n    </tr>\n    <tr>\n      <th>82</th>\n      <td>0x9b7a76858cc9ca49de2cb273e4a2e635e4b652019acf...</td>\n      <td>0x62051bfd3a4f7039a849142e6e5ea172cbda5949</td>\n      <td>0xd4b88df4d29f5cedd6857912842cff3b20c8cfa3</td>\n      <td>1598285598</td>\n      <td>212.0</td>\n      <td>1.000000e+02</td>\n      <td>128000000000</td>\n      <td>NaN</td>\n      <td>1003512</td>\n      <td>NaN</td>\n      <td>Ethereum</td>\n      <td>Dai Stablecoin</td>\n      <td>20</td>\n      <td>from</td>\n      <td>0x62051bfd3a4f7039a849142e6e5ea172cbda5949</td>\n      <td>0xd4b88df4d29f5cedd6857912842cff3b20c8cfa3</td>\n      <td>100 Dai</td>\n    </tr>\n    <tr>\n      <th>83</th>\n      <td>0x53e455eb4028499613080fb7bd98048069d898594ff8...</td>\n      <td>0x1e27c17432abff8e314b421be50c63a42d3e95e0</td>\n      <td>0xfd8610d20aa15b7b2e3be39b396a1bc3516c7144</td>\n      <td>1611456084</td>\n      <td>2122.0</td>\n      <td>1.000000e+03</td>\n      <td>51000000000</td>\n      <td>NaN</td>\n      <td>1000316</td>\n      <td>NaN</td>\n      <td>Ethereum</td>\n      <td>Dai Stablecoin</td>\n      <td>20</td>\n      <td>from</td>\n      <td>0x1e27c17432abff8e314b421be50c63a42d3e95e0</td>\n      <td>0xfd8610d20aa15b7b2e3be39b396a1bc3516c7144</td>\n      <td>1k Dai</td>\n    </tr>\n  </tbody>\n</table>\n<p>84 rows × 17 columns</p>\n</div>"
     },
     "execution_count": 4,
     "metadata": {},
     "output_type": "execute_result"
    }
   ],
   "source": [
    "tornado_transactions"
   ],
   "metadata": {
    "collapsed": false,
    "pycharm": {
     "name": "#%%\n"
    }
   }
  },
  {
   "cell_type": "markdown",
   "source": [
    "### Heuristic 1 - Address Match\n",
    "No user deposited to and withdrew from a Tornado pool with the same address. The code below is simplified, as it does not check by pool."
   ],
   "metadata": {
    "collapsed": false
   }
  },
  {
   "cell_type": "code",
   "execution_count": 5,
   "outputs": [
    {
     "name": "stdout",
     "output_type": "stream",
     "text": [
      "[]\n",
      "[]\n"
     ]
    }
   ],
   "source": [
    "address_match_eth = list(set(withdraw_eth) & set(deposit_eth))\n",
    "print(address_match_eth)\n",
    "\n",
    "address_match_token = list(set(withdraw_token) & set(deposit_token))\n",
    "print(address_match_token)"
   ],
   "metadata": {
    "collapsed": false,
    "pycharm": {
     "name": "#%%\n"
    }
   }
  },
  {
   "cell_type": "markdown",
   "source": [
    "### Heuristic 2 - Unique Gas Price\n",
    "\n",
    "There are no very specific gas prices with a count above 1."
   ],
   "metadata": {
    "collapsed": false
   }
  },
  {
   "cell_type": "code",
   "execution_count": 6,
   "outputs": [
    {
     "data": {
      "text/plain": "        gasPrice  count\n0     1000000000      3\n1     1010000000      2\n11   11000000000      7\n12   11200000000      2\n14   13000000000      7\n15   15100000000      2\n18   21000000000      3\n25   25000000000      2\n26   26000000000      3\n28   33000000000      2\n29   39000000000      2\n32   44000000000      3\n33   45000000000      2\n35   46000000000      2\n37   51000000000      2\n44   80000000000      3\n46   93000000000      2\n49  128000000000      2",
      "text/html": "<div>\n<style scoped>\n    .dataframe tbody tr th:only-of-type {\n        vertical-align: middle;\n    }\n\n    .dataframe tbody tr th {\n        vertical-align: top;\n    }\n\n    .dataframe thead th {\n        text-align: right;\n    }\n</style>\n<table border=\"1\" class=\"dataframe\">\n  <thead>\n    <tr style=\"text-align: right;\">\n      <th></th>\n      <th>gasPrice</th>\n      <th>count</th>\n    </tr>\n  </thead>\n  <tbody>\n    <tr>\n      <th>0</th>\n      <td>1000000000</td>\n      <td>3</td>\n    </tr>\n    <tr>\n      <th>1</th>\n      <td>1010000000</td>\n      <td>2</td>\n    </tr>\n    <tr>\n      <th>11</th>\n      <td>11000000000</td>\n      <td>7</td>\n    </tr>\n    <tr>\n      <th>12</th>\n      <td>11200000000</td>\n      <td>2</td>\n    </tr>\n    <tr>\n      <th>14</th>\n      <td>13000000000</td>\n      <td>7</td>\n    </tr>\n    <tr>\n      <th>15</th>\n      <td>15100000000</td>\n      <td>2</td>\n    </tr>\n    <tr>\n      <th>18</th>\n      <td>21000000000</td>\n      <td>3</td>\n    </tr>\n    <tr>\n      <th>25</th>\n      <td>25000000000</td>\n      <td>2</td>\n    </tr>\n    <tr>\n      <th>26</th>\n      <td>26000000000</td>\n      <td>3</td>\n    </tr>\n    <tr>\n      <th>28</th>\n      <td>33000000000</td>\n      <td>2</td>\n    </tr>\n    <tr>\n      <th>29</th>\n      <td>39000000000</td>\n      <td>2</td>\n    </tr>\n    <tr>\n      <th>32</th>\n      <td>44000000000</td>\n      <td>3</td>\n    </tr>\n    <tr>\n      <th>33</th>\n      <td>45000000000</td>\n      <td>2</td>\n    </tr>\n    <tr>\n      <th>35</th>\n      <td>46000000000</td>\n      <td>2</td>\n    </tr>\n    <tr>\n      <th>37</th>\n      <td>51000000000</td>\n      <td>2</td>\n    </tr>\n    <tr>\n      <th>44</th>\n      <td>80000000000</td>\n      <td>3</td>\n    </tr>\n    <tr>\n      <th>46</th>\n      <td>93000000000</td>\n      <td>2</td>\n    </tr>\n    <tr>\n      <th>49</th>\n      <td>128000000000</td>\n      <td>2</td>\n    </tr>\n  </tbody>\n</table>\n</div>"
     },
     "execution_count": 6,
     "metadata": {},
     "output_type": "execute_result"
    }
   ],
   "source": [
    "tornado_concat = pd.concat([tornado_eth, tornado_token], ignore_index=True)\n",
    "\n",
    "gas_prices = tornado_concat.groupby(['gasPrice']).size().reset_index(name='count')[['gasPrice', 'count']]\n",
    "\n",
    "filtered_gas_prices = gas_prices.query('count >= 2')\n",
    "filtered_gas_prices"
   ],
   "metadata": {
    "collapsed": false,
    "pycharm": {
     "name": "#%%\n"
    }
   }
  },
  {
   "cell_type": "markdown",
   "source": [
    "### Heuristic 3 - Linked Addresses\n",
    "No interaction between deposit and withdrawal addresses for both the withdrawal and the deposit addresses."
   ],
   "metadata": {
    "collapsed": false
   }
  },
  {
   "cell_type": "code",
   "execution_count": 7,
   "outputs": [
    {
     "data": {
      "text/plain": "Empty DataFrame\nColumns: [from, to, timeStamp, nonce, value, gasPrice, input, gasUsed, functionName, chainName, contractAddress, tokenName, tokenType, tokenID]\nIndex: []",
      "text/html": "<div>\n<style scoped>\n    .dataframe tbody tr th:only-of-type {\n        vertical-align: middle;\n    }\n\n    .dataframe tbody tr th {\n        vertical-align: top;\n    }\n\n    .dataframe thead th {\n        text-align: right;\n    }\n</style>\n<table border=\"1\" class=\"dataframe\">\n  <thead>\n    <tr style=\"text-align: right;\">\n      <th></th>\n      <th>from</th>\n      <th>to</th>\n      <th>timeStamp</th>\n      <th>nonce</th>\n      <th>value</th>\n      <th>gasPrice</th>\n      <th>input</th>\n      <th>gasUsed</th>\n      <th>functionName</th>\n      <th>chainName</th>\n      <th>contractAddress</th>\n      <th>tokenName</th>\n      <th>tokenType</th>\n      <th>tokenID</th>\n    </tr>\n    <tr>\n      <th>hash</th>\n      <th></th>\n      <th></th>\n      <th></th>\n      <th></th>\n      <th></th>\n      <th></th>\n      <th></th>\n      <th></th>\n      <th></th>\n      <th></th>\n      <th></th>\n      <th></th>\n      <th></th>\n      <th></th>\n    </tr>\n  </thead>\n  <tbody>\n  </tbody>\n</table>\n</div>"
     },
     "execution_count": 7,
     "metadata": {},
     "output_type": "execute_result"
    }
   ],
   "source": [
    "# take intra-set asset transfer dataframe\n",
    "# check if there are transfers where both the from and to are in the subsets\n",
    "filtered_df = intra_set_asset_transfers[\n",
    "    ((intra_set_asset_transfers['from'].isin(withdraw_eth)) & (intra_set_asset_transfers['to'].isin(deposit_eth))) |\n",
    "    ((intra_set_asset_transfers['from'].isin(deposit_eth)) & (intra_set_asset_transfers['to'].isin(withdraw_eth)))\n",
    "]\n",
    "filtered_df"
   ],
   "metadata": {
    "collapsed": false,
    "pycharm": {
     "name": "#%%\n"
    }
   }
  },
  {
   "cell_type": "code",
   "execution_count": 8,
   "outputs": [
    {
     "data": {
      "text/plain": "Empty DataFrame\nColumns: [from, to, timeStamp, nonce, value, gasPrice, input, gasUsed, functionName, chainName, contractAddress, tokenName, tokenType, tokenID]\nIndex: []",
      "text/html": "<div>\n<style scoped>\n    .dataframe tbody tr th:only-of-type {\n        vertical-align: middle;\n    }\n\n    .dataframe tbody tr th {\n        vertical-align: top;\n    }\n\n    .dataframe thead th {\n        text-align: right;\n    }\n</style>\n<table border=\"1\" class=\"dataframe\">\n  <thead>\n    <tr style=\"text-align: right;\">\n      <th></th>\n      <th>from</th>\n      <th>to</th>\n      <th>timeStamp</th>\n      <th>nonce</th>\n      <th>value</th>\n      <th>gasPrice</th>\n      <th>input</th>\n      <th>gasUsed</th>\n      <th>functionName</th>\n      <th>chainName</th>\n      <th>contractAddress</th>\n      <th>tokenName</th>\n      <th>tokenType</th>\n      <th>tokenID</th>\n    </tr>\n    <tr>\n      <th>hash</th>\n      <th></th>\n      <th></th>\n      <th></th>\n      <th></th>\n      <th></th>\n      <th></th>\n      <th></th>\n      <th></th>\n      <th></th>\n      <th></th>\n      <th></th>\n      <th></th>\n      <th></th>\n      <th></th>\n    </tr>\n  </thead>\n  <tbody>\n  </tbody>\n</table>\n</div>"
     },
     "execution_count": 8,
     "metadata": {},
     "output_type": "execute_result"
    }
   ],
   "source": [
    "filtered_df = intra_set_asset_transfers[\n",
    "    ((intra_set_asset_transfers['from'].isin(withdraw_token)) & (intra_set_asset_transfers['to'].isin(deposit_token))) |\n",
    "    ((intra_set_asset_transfers['from'].isin(deposit_token)) & (intra_set_asset_transfers['to'].isin(withdraw_token)))\n",
    "]\n",
    "filtered_df"
   ],
   "metadata": {
    "collapsed": false,
    "pycharm": {
     "name": "#%%\n"
    }
   }
  },
  {
   "cell_type": "markdown",
   "source": [
    "### Heuristic 4 - Multiple Denomination\n",
    "No address withdrew from a specific pool more than once, therefore, this heuristic is not applicable."
   ],
   "metadata": {
    "collapsed": false,
    "pycharm": {
     "name": "#%% md\n"
    }
   }
  }
 ],
 "metadata": {
  "kernelspec": {
   "display_name": "Python 3",
   "language": "python",
   "name": "python3"
  },
  "language_info": {
   "codemirror_mode": {
    "name": "ipython",
    "version": 2
   },
   "file_extension": ".py",
   "mimetype": "text/x-python",
   "name": "python",
   "nbconvert_exporter": "python",
   "pygments_lexer": "ipython2",
   "version": "2.7.6"
  }
 },
 "nbformat": 4,
 "nbformat_minor": 0
}