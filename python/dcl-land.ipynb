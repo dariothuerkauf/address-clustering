{
 "cells": [
  {
   "cell_type": "code",
   "execution_count": 13,
   "metadata": {
    "collapsed": true
   },
   "outputs": [
    {
     "data": {
      "text/plain": "         timeStamp                                               hash  \\\n0       1662353592  0xb40ea5aa7be6a9bd40a401776a5cbcc79baec55abcd3...   \n1       1661006285  0x259b903f6c1ec513b9792768859cea2e429aed92375a...   \n2       1661687584  0xf028f85d40cb7ad41a95c40f36772e4fcd1c6b5e6bf3...   \n3       1649007251  0x131db9db1de6204423552c97aedf437776e4c27101b9...   \n4       1652940559  0x4fa9dea1bfef721568d7aa55140b1f7969344a44c0a7...   \n...            ...                                                ...   \n974473  1671413907  0xff4b2d8133986f6b6a9d6bbd88a2bfb1c5abee3648ea...   \n974474  1671413931  0x0635f1dcc46059bfb00d29130914370cbe4bb2c8061a...   \n974475  1671413955  0xe4dde48b270b76854b461748dfc1c0f5fd0cc986a4ef...   \n974476  1652154158  0x085c04dacb55543e2333f84395b3ae93b8631c69d57f...   \n974477  1659443472  0xd37d3918b9dae7d2649ae23e3d833239a86c3e2aa9f9...   \n\n                                              from  \\\n0       0x000000085d9a759bb5c3d459d638739c0f48deb0   \n1       0x000000085d9a759bb5c3d459d638739c0f48deb0   \n2       0x00009dc8aac69accf38e87ab42a82a28be68f2a0   \n3       0x00009dc8aac69accf38e87ab42a82a28be68f2a0   \n4       0x00009dc8aac69accf38e87ab42a82a28be68f2a0   \n...                                            ...   \n974473  0xfffea9b28702bdc5fa77efc33ec87b8f65a73eb7   \n974474  0xfffea9b28702bdc5fa77efc33ec87b8f65a73eb7   \n974475  0xfffea9b28702bdc5fa77efc33ec87b8f65a73eb7   \n974476  0xffffca7879d31e91047d37193a5b806f5f791848   \n974477  0xffffca7879d31e91047d37193a5b806f5f791848   \n\n                                                to  \\\n0       0x000000085d9a759bb5c3d459d638739c0f48deb0   \n1       0x60ab31673485542e3ca55ba3a42c693863caff10   \n2       0x00009dc8aac69accf38e87ab42a82a28be68f2a0   \n3       0x03ba161f99e0561adc546644640ba6d5602d86c8   \n4       0x0749d1abb5ca9128432b612644c0ea1e9c6cc9af   \n...                                            ...   \n974473  0x799efb3e3568d40468467722eae51e5f6765b5fa   \n974474  0x799efb3e3568d40468467722eae51e5f6765b5fa   \n974475  0x799efb3e3568d40468467722eae51e5f6765b5fa   \n974476  0x16efdf4ef182a5b82221fed14f4c3996922d00e2   \n974477  0x16efdf4ef182a5b82221fed14f4c3996922d00e2   \n\n                                   contractAddress   value  nonce  \\\n0       0x57f1887a8bf19b14fc0df6fd9b2acc9af147ea85     NaN    262   \n1       0x57f1887a8bf19b14fc0df6fd9b2acc9af147ea85     NaN     76   \n2       0x8f3cf7ad23cd3cadbd9735aff958023239c6a063    0.11     61   \n3       0x493a5bad290b6f5a750e180d48074f1de31aec47     NaN   7433   \n4       0xfdac3c4ffccb6e05d3e9a9d69ec95edeb6e8c844     NaN  31220   \n...                                            ...     ...    ...   \n974473  0xb854bf4d15be8e1f9b38e8b6af7d3283b81edfd8     NaN  40309   \n974474  0xbcbdf467b5530d85b792d9e8afb109d7d1ac32c4     NaN  59757   \n974475  0x873c11f798fc6f6c370c40f460aae4e20069b105     NaN  96970   \n974476  0xdac17f958d2ee523a2206206994597c13d831ec7  100.00     27   \n974477  0xc02aaa39b223fe8d0a0e5c4f27ead9083c756cc2    1.00     37   \n\n                               tokenName     gasPrice  gasUsed chainName  \\\n0                  Ethereum Name Service  11669714414    35891  Ethereum   \n1                  Ethereum Name Service  10898502261   525347  Ethereum   \n2                   (PoS) Dai Stablecoin  30000068397    32562   Polygon   \n3       DAZZLE Fashion 2022 MVFW Catwalk  35150000000   271656   Polygon   \n4                 AO  2022 - Accessories  37064012768   272721   Polygon   \n...                                  ...          ...      ...       ...   \n974473           ICE Poker SNG Wearables  61922750388   145726   Polygon   \n974474                    FOMO Bro NFTee  64081415590   137287   Polygon   \n974475     Roland Lifestyle DCLMVMF 2022  64737010321   162802   Polygon   \n974476                        Tether USD  49354171902    46085  Ethereum   \n974477                     Wrapped Ether  11131035260    29682  Ethereum   \n\n        tokenType       tokenID  \n0             721  9.195376e+75  \n1             721  2.595492e+76  \n2              20           NaN  \n3             721  1.300000e+01  \n4             721  5.265615e+65  \n...           ...           ...  \n974473        721  2.106246e+65  \n974474        721  1.620000e+02  \n974475        721  7.320000e+02  \n974476         20           NaN  \n974477         20           NaN  \n\n[974478 rows x 13 columns]",
      "text/html": "<div>\n<style scoped>\n    .dataframe tbody tr th:only-of-type {\n        vertical-align: middle;\n    }\n\n    .dataframe tbody tr th {\n        vertical-align: top;\n    }\n\n    .dataframe thead th {\n        text-align: right;\n    }\n</style>\n<table border=\"1\" class=\"dataframe\">\n  <thead>\n    <tr style=\"text-align: right;\">\n      <th></th>\n      <th>timeStamp</th>\n      <th>hash</th>\n      <th>from</th>\n      <th>to</th>\n      <th>contractAddress</th>\n      <th>value</th>\n      <th>nonce</th>\n      <th>tokenName</th>\n      <th>gasPrice</th>\n      <th>gasUsed</th>\n      <th>chainName</th>\n      <th>tokenType</th>\n      <th>tokenID</th>\n    </tr>\n  </thead>\n  <tbody>\n    <tr>\n      <th>0</th>\n      <td>1662353592</td>\n      <td>0xb40ea5aa7be6a9bd40a401776a5cbcc79baec55abcd3...</td>\n      <td>0x000000085d9a759bb5c3d459d638739c0f48deb0</td>\n      <td>0x000000085d9a759bb5c3d459d638739c0f48deb0</td>\n      <td>0x57f1887a8bf19b14fc0df6fd9b2acc9af147ea85</td>\n      <td>NaN</td>\n      <td>262</td>\n      <td>Ethereum Name Service</td>\n      <td>11669714414</td>\n      <td>35891</td>\n      <td>Ethereum</td>\n      <td>721</td>\n      <td>9.195376e+75</td>\n    </tr>\n    <tr>\n      <th>1</th>\n      <td>1661006285</td>\n      <td>0x259b903f6c1ec513b9792768859cea2e429aed92375a...</td>\n      <td>0x000000085d9a759bb5c3d459d638739c0f48deb0</td>\n      <td>0x60ab31673485542e3ca55ba3a42c693863caff10</td>\n      <td>0x57f1887a8bf19b14fc0df6fd9b2acc9af147ea85</td>\n      <td>NaN</td>\n      <td>76</td>\n      <td>Ethereum Name Service</td>\n      <td>10898502261</td>\n      <td>525347</td>\n      <td>Ethereum</td>\n      <td>721</td>\n      <td>2.595492e+76</td>\n    </tr>\n    <tr>\n      <th>2</th>\n      <td>1661687584</td>\n      <td>0xf028f85d40cb7ad41a95c40f36772e4fcd1c6b5e6bf3...</td>\n      <td>0x00009dc8aac69accf38e87ab42a82a28be68f2a0</td>\n      <td>0x00009dc8aac69accf38e87ab42a82a28be68f2a0</td>\n      <td>0x8f3cf7ad23cd3cadbd9735aff958023239c6a063</td>\n      <td>0.11</td>\n      <td>61</td>\n      <td>(PoS) Dai Stablecoin</td>\n      <td>30000068397</td>\n      <td>32562</td>\n      <td>Polygon</td>\n      <td>20</td>\n      <td>NaN</td>\n    </tr>\n    <tr>\n      <th>3</th>\n      <td>1649007251</td>\n      <td>0x131db9db1de6204423552c97aedf437776e4c27101b9...</td>\n      <td>0x00009dc8aac69accf38e87ab42a82a28be68f2a0</td>\n      <td>0x03ba161f99e0561adc546644640ba6d5602d86c8</td>\n      <td>0x493a5bad290b6f5a750e180d48074f1de31aec47</td>\n      <td>NaN</td>\n      <td>7433</td>\n      <td>DAZZLE Fashion 2022 MVFW Catwalk</td>\n      <td>35150000000</td>\n      <td>271656</td>\n      <td>Polygon</td>\n      <td>721</td>\n      <td>1.300000e+01</td>\n    </tr>\n    <tr>\n      <th>4</th>\n      <td>1652940559</td>\n      <td>0x4fa9dea1bfef721568d7aa55140b1f7969344a44c0a7...</td>\n      <td>0x00009dc8aac69accf38e87ab42a82a28be68f2a0</td>\n      <td>0x0749d1abb5ca9128432b612644c0ea1e9c6cc9af</td>\n      <td>0xfdac3c4ffccb6e05d3e9a9d69ec95edeb6e8c844</td>\n      <td>NaN</td>\n      <td>31220</td>\n      <td>AO  2022 - Accessories</td>\n      <td>37064012768</td>\n      <td>272721</td>\n      <td>Polygon</td>\n      <td>721</td>\n      <td>5.265615e+65</td>\n    </tr>\n    <tr>\n      <th>...</th>\n      <td>...</td>\n      <td>...</td>\n      <td>...</td>\n      <td>...</td>\n      <td>...</td>\n      <td>...</td>\n      <td>...</td>\n      <td>...</td>\n      <td>...</td>\n      <td>...</td>\n      <td>...</td>\n      <td>...</td>\n      <td>...</td>\n    </tr>\n    <tr>\n      <th>974473</th>\n      <td>1671413907</td>\n      <td>0xff4b2d8133986f6b6a9d6bbd88a2bfb1c5abee3648ea...</td>\n      <td>0xfffea9b28702bdc5fa77efc33ec87b8f65a73eb7</td>\n      <td>0x799efb3e3568d40468467722eae51e5f6765b5fa</td>\n      <td>0xb854bf4d15be8e1f9b38e8b6af7d3283b81edfd8</td>\n      <td>NaN</td>\n      <td>40309</td>\n      <td>ICE Poker SNG Wearables</td>\n      <td>61922750388</td>\n      <td>145726</td>\n      <td>Polygon</td>\n      <td>721</td>\n      <td>2.106246e+65</td>\n    </tr>\n    <tr>\n      <th>974474</th>\n      <td>1671413931</td>\n      <td>0x0635f1dcc46059bfb00d29130914370cbe4bb2c8061a...</td>\n      <td>0xfffea9b28702bdc5fa77efc33ec87b8f65a73eb7</td>\n      <td>0x799efb3e3568d40468467722eae51e5f6765b5fa</td>\n      <td>0xbcbdf467b5530d85b792d9e8afb109d7d1ac32c4</td>\n      <td>NaN</td>\n      <td>59757</td>\n      <td>FOMO Bro NFTee</td>\n      <td>64081415590</td>\n      <td>137287</td>\n      <td>Polygon</td>\n      <td>721</td>\n      <td>1.620000e+02</td>\n    </tr>\n    <tr>\n      <th>974475</th>\n      <td>1671413955</td>\n      <td>0xe4dde48b270b76854b461748dfc1c0f5fd0cc986a4ef...</td>\n      <td>0xfffea9b28702bdc5fa77efc33ec87b8f65a73eb7</td>\n      <td>0x799efb3e3568d40468467722eae51e5f6765b5fa</td>\n      <td>0x873c11f798fc6f6c370c40f460aae4e20069b105</td>\n      <td>NaN</td>\n      <td>96970</td>\n      <td>Roland Lifestyle DCLMVMF 2022</td>\n      <td>64737010321</td>\n      <td>162802</td>\n      <td>Polygon</td>\n      <td>721</td>\n      <td>7.320000e+02</td>\n    </tr>\n    <tr>\n      <th>974476</th>\n      <td>1652154158</td>\n      <td>0x085c04dacb55543e2333f84395b3ae93b8631c69d57f...</td>\n      <td>0xffffca7879d31e91047d37193a5b806f5f791848</td>\n      <td>0x16efdf4ef182a5b82221fed14f4c3996922d00e2</td>\n      <td>0xdac17f958d2ee523a2206206994597c13d831ec7</td>\n      <td>100.00</td>\n      <td>27</td>\n      <td>Tether USD</td>\n      <td>49354171902</td>\n      <td>46085</td>\n      <td>Ethereum</td>\n      <td>20</td>\n      <td>NaN</td>\n    </tr>\n    <tr>\n      <th>974477</th>\n      <td>1659443472</td>\n      <td>0xd37d3918b9dae7d2649ae23e3d833239a86c3e2aa9f9...</td>\n      <td>0xffffca7879d31e91047d37193a5b806f5f791848</td>\n      <td>0x16efdf4ef182a5b82221fed14f4c3996922d00e2</td>\n      <td>0xc02aaa39b223fe8d0a0e5c4f27ead9083c756cc2</td>\n      <td>1.00</td>\n      <td>37</td>\n      <td>Wrapped Ether</td>\n      <td>11131035260</td>\n      <td>29682</td>\n      <td>Ethereum</td>\n      <td>20</td>\n      <td>NaN</td>\n    </tr>\n  </tbody>\n</table>\n<p>974478 rows × 13 columns</p>\n</div>"
     },
     "execution_count": 13,
     "metadata": {},
     "output_type": "execute_result"
    }
   ],
   "source": [
    "import pandas as pd\n",
    "from pymongo import MongoClient\n",
    "import matplotlib.pyplot as plt\n",
    "import networkx as nx\n",
    "from pyvis.network import Network\n",
    "\n",
    "# Connect to db collections\n",
    "client = MongoClient('mongodb://localhost:27017/')\n",
    "db = client['address-clustering']\n",
    "transfers = db['transfers']\n",
    "transactions = db['transactions']\n",
    "\n",
    "# Read intra-set token transfers CSV\n",
    "token_transfers = pd.read_csv('../data/intra_token_transfers.csv', index_col=[0])\n",
    "token_transfers"
   ]
  },
  {
   "cell_type": "markdown",
   "source": [
    "### Detect LAND transfer transactions"
   ],
   "metadata": {
    "collapsed": false
   }
  },
  {
   "cell_type": "code",
   "execution_count": 14,
   "outputs": [
    {
     "name": "stdout",
     "output_type": "stream",
     "text": [
      "13491\n",
      "4951\n"
     ]
    },
    {
     "data": {
      "text/plain": "                                                   hash  \\\n2     0x17571eea843c9fe6e63951b2bdc58dab72c0c8934ec9...   \n21    0xed1265482b15b819f7773d3e51a959d73a2a62f34ab2...   \n44    0xb926f4a23e1796aade482be8bb77a189daad6f586e2c...   \n72    0x812ddf1d78713bf30d0da65e0456410cf99d4cb95f53...   \n80    0xaca00e847589aa50dded593f96ec4d22d9db7d720442...   \n...                                                 ...   \n8546  0xc14361a4f4827a1c7ddcca81c4e65f4eda7b79be624c...   \n8548  0x1d74a927f28816dd858277667d5cc9410d50c896925c...   \n8550  0x3416328b9767cb0af3037da2587a81142691117742d4...   \n8552  0xa8ad003575cfdb1e73cc1e8091219953286c58cc24ec...   \n8554  0xe83c4b8b55e445ad642b7fbb9bcaf376e65b86c91905...   \n\n                                            from  \\\n2     0x00b14e0d39b50cded16321b7302c4ad72cac3bc0   \n21    0x03e2c10b74a260f46ab5cf881938c5888a6142df   \n44    0x059d0025e4e1bb1a37f2c922e54b139bc1231ee0   \n72    0x092f390c7742e0aabb3e214028d956437b64a245   \n80    0x0b8e66e57da730838cc994f54984346803d0d299   \n...                                          ...   \n8546  0xf15d7066b78a4e969deefa1e4ca945212ddd3171   \n8548  0xf179344bbec75ad4522bd6b2c780b2e13b3469a2   \n8550  0xf8dbddf1a5da0b1ad72f7cf843829549e574b8be   \n8552  0xf7114e709c7b979f37bb9a83acdb4567bf38902b   \n8554  0xf519172dc3cc531786db0db7292a51a1bcfa7d82   \n\n                                              to   timeStamp   nonce  \\\n2     0x00000000000000adc04c56bf30ac9d3c0aaf14dc  1685941091   223.0   \n21    0x7be8076f4ea4a4ad08075c2508e481d6c946d12b  1639493637   724.0   \n44    0x7be8076f4ea4a4ad08075c2508e481d6c946d12b  1632509313    50.0   \n72    0x00000000000001ad428e4906ae43d8f9852d0dd6  1682426495     0.0   \n80    0x00000000006c3852cbef3e08e8df289169ede581  1665069911     8.0   \n...                                          ...         ...     ...   \n8546  0xfabe9cb4fa6f0dfbf9088c9ec93304383383475d  1675114655    57.0   \n8548  0xf5fdaa91b9bcbbde2e3626e4c4c817b34bd796f9  1633061756   165.0   \n8550  0xf179344bbec75ad4522bd6b2c780b2e13b3469a2  1638446049   578.0   \n8552  0xf179344bbec75ad4522bd6b2c780b2e13b3469a2  1662398740  1308.0   \n8554  0xfe69aaf98706a15290b5c1352049984dbdb77ae0  1672343231     2.0   \n\n                      value     gasPrice  \\\n2      600000000000000000.0  21362754466   \n21    4400000000000000000.0  53163721012   \n44    1299000000000000000.0  69133373448   \n72     666000000000000000.0  34862022275   \n80    1700000000000000000.0  31785690143   \n...                     ...          ...   \n8546                         17764320290   \n8548                         76350609347   \n8550                         98463938308   \n8552                          9483665440   \n8554                         38559273974   \n\n                                                  input  gasUsed  \\\n2     0x00000000000000000000000000000000000000000000...   228538   \n21    0xab834bab0000000000000000000000007be8076f4ea4...   224151   \n44    0xab834bab0000000000000000000000007be8076f4ea4...   246199   \n72    0x00000000000000000000000000000000000000000000...   228550   \n80    0xfb0f3ee1000000000000000000000000000000000000...   218949   \n...                                                 ...      ...   \n8546                                                NaN   219157   \n8548                                                NaN   243534   \n8550                                                NaN   171581   \n8552                                                NaN   175872   \n8554                                                NaN   168805   \n\n                                           functionName chainName tokenType  \\\n2                 buyAndFree22457070633(uint256 amount)  Ethereum    native   \n21    atomicMatch_(address[14] addrs, uint256[18] ui...  Ethereum    native   \n44    atomicMatch_(address[14] addrs, uint256[18] ui...  Ethereum    native   \n72                buyAndFree22457070633(uint256 amount)  Ethereum    native   \n80                                         0xfb0f3ee1()  Ethereum    native   \n...                                                 ...       ...       ...   \n8546                                                NaN  Ethereum       721   \n8548                                                NaN  Ethereum       721   \n8550                                                NaN  Ethereum       721   \n8552                                                NaN  Ethereum       721   \n8554                                                NaN  Ethereum       721   \n\n                                 contractAddress          tokenName  \\\n2                                            NaN                NaN   \n21                                           NaN                NaN   \n44                                           NaN                NaN   \n72                                           NaN                NaN   \n80                                           NaN                NaN   \n...                                          ...                ...   \n8546  0xf87e31492faf9a91b02ee0deaad50d51d56d5d4d  Decentraland LAND   \n8548  0xf87e31492faf9a91b02ee0deaad50d51d56d5d4d  Decentraland LAND   \n8550  0xf87e31492faf9a91b02ee0deaad50d51d56d5d4d  Decentraland LAND   \n8552  0xf87e31492faf9a91b02ee0deaad50d51d56d5d4d  Decentraland LAND   \n8554  0xf87e31492faf9a91b02ee0deaad50d51d56d5d4d  Decentraland LAND   \n\n                                                tokenID  \n2                                                   NaN  \n21                                                  NaN  \n44                                                  NaN  \n72                                                  NaN  \n80                                                  NaN  \n...                                                 ...  \n8546  1157920892373161954235709850086879078532699846...  \n8548        12930729942995661611608235082407192035328.0  \n8550  1157920892373161954235709850086879078532699846...  \n8552  1157920892373161954235709850086879078532699846...  \n8554  1157920892373161954235709850086879078532699846...  \n\n[4951 rows x 15 columns]",
      "text/html": "<div>\n<style scoped>\n    .dataframe tbody tr th:only-of-type {\n        vertical-align: middle;\n    }\n\n    .dataframe tbody tr th {\n        vertical-align: top;\n    }\n\n    .dataframe thead th {\n        text-align: right;\n    }\n</style>\n<table border=\"1\" class=\"dataframe\">\n  <thead>\n    <tr style=\"text-align: right;\">\n      <th></th>\n      <th>hash</th>\n      <th>from</th>\n      <th>to</th>\n      <th>timeStamp</th>\n      <th>nonce</th>\n      <th>value</th>\n      <th>gasPrice</th>\n      <th>input</th>\n      <th>gasUsed</th>\n      <th>functionName</th>\n      <th>chainName</th>\n      <th>tokenType</th>\n      <th>contractAddress</th>\n      <th>tokenName</th>\n      <th>tokenID</th>\n    </tr>\n  </thead>\n  <tbody>\n    <tr>\n      <th>2</th>\n      <td>0x17571eea843c9fe6e63951b2bdc58dab72c0c8934ec9...</td>\n      <td>0x00b14e0d39b50cded16321b7302c4ad72cac3bc0</td>\n      <td>0x00000000000000adc04c56bf30ac9d3c0aaf14dc</td>\n      <td>1685941091</td>\n      <td>223.0</td>\n      <td>600000000000000000.0</td>\n      <td>21362754466</td>\n      <td>0x00000000000000000000000000000000000000000000...</td>\n      <td>228538</td>\n      <td>buyAndFree22457070633(uint256 amount)</td>\n      <td>Ethereum</td>\n      <td>native</td>\n      <td>NaN</td>\n      <td>NaN</td>\n      <td>NaN</td>\n    </tr>\n    <tr>\n      <th>21</th>\n      <td>0xed1265482b15b819f7773d3e51a959d73a2a62f34ab2...</td>\n      <td>0x03e2c10b74a260f46ab5cf881938c5888a6142df</td>\n      <td>0x7be8076f4ea4a4ad08075c2508e481d6c946d12b</td>\n      <td>1639493637</td>\n      <td>724.0</td>\n      <td>4400000000000000000.0</td>\n      <td>53163721012</td>\n      <td>0xab834bab0000000000000000000000007be8076f4ea4...</td>\n      <td>224151</td>\n      <td>atomicMatch_(address[14] addrs, uint256[18] ui...</td>\n      <td>Ethereum</td>\n      <td>native</td>\n      <td>NaN</td>\n      <td>NaN</td>\n      <td>NaN</td>\n    </tr>\n    <tr>\n      <th>44</th>\n      <td>0xb926f4a23e1796aade482be8bb77a189daad6f586e2c...</td>\n      <td>0x059d0025e4e1bb1a37f2c922e54b139bc1231ee0</td>\n      <td>0x7be8076f4ea4a4ad08075c2508e481d6c946d12b</td>\n      <td>1632509313</td>\n      <td>50.0</td>\n      <td>1299000000000000000.0</td>\n      <td>69133373448</td>\n      <td>0xab834bab0000000000000000000000007be8076f4ea4...</td>\n      <td>246199</td>\n      <td>atomicMatch_(address[14] addrs, uint256[18] ui...</td>\n      <td>Ethereum</td>\n      <td>native</td>\n      <td>NaN</td>\n      <td>NaN</td>\n      <td>NaN</td>\n    </tr>\n    <tr>\n      <th>72</th>\n      <td>0x812ddf1d78713bf30d0da65e0456410cf99d4cb95f53...</td>\n      <td>0x092f390c7742e0aabb3e214028d956437b64a245</td>\n      <td>0x00000000000001ad428e4906ae43d8f9852d0dd6</td>\n      <td>1682426495</td>\n      <td>0.0</td>\n      <td>666000000000000000.0</td>\n      <td>34862022275</td>\n      <td>0x00000000000000000000000000000000000000000000...</td>\n      <td>228550</td>\n      <td>buyAndFree22457070633(uint256 amount)</td>\n      <td>Ethereum</td>\n      <td>native</td>\n      <td>NaN</td>\n      <td>NaN</td>\n      <td>NaN</td>\n    </tr>\n    <tr>\n      <th>80</th>\n      <td>0xaca00e847589aa50dded593f96ec4d22d9db7d720442...</td>\n      <td>0x0b8e66e57da730838cc994f54984346803d0d299</td>\n      <td>0x00000000006c3852cbef3e08e8df289169ede581</td>\n      <td>1665069911</td>\n      <td>8.0</td>\n      <td>1700000000000000000.0</td>\n      <td>31785690143</td>\n      <td>0xfb0f3ee1000000000000000000000000000000000000...</td>\n      <td>218949</td>\n      <td>0xfb0f3ee1()</td>\n      <td>Ethereum</td>\n      <td>native</td>\n      <td>NaN</td>\n      <td>NaN</td>\n      <td>NaN</td>\n    </tr>\n    <tr>\n      <th>...</th>\n      <td>...</td>\n      <td>...</td>\n      <td>...</td>\n      <td>...</td>\n      <td>...</td>\n      <td>...</td>\n      <td>...</td>\n      <td>...</td>\n      <td>...</td>\n      <td>...</td>\n      <td>...</td>\n      <td>...</td>\n      <td>...</td>\n      <td>...</td>\n      <td>...</td>\n    </tr>\n    <tr>\n      <th>8546</th>\n      <td>0xc14361a4f4827a1c7ddcca81c4e65f4eda7b79be624c...</td>\n      <td>0xf15d7066b78a4e969deefa1e4ca945212ddd3171</td>\n      <td>0xfabe9cb4fa6f0dfbf9088c9ec93304383383475d</td>\n      <td>1675114655</td>\n      <td>57.0</td>\n      <td></td>\n      <td>17764320290</td>\n      <td>NaN</td>\n      <td>219157</td>\n      <td>NaN</td>\n      <td>Ethereum</td>\n      <td>721</td>\n      <td>0xf87e31492faf9a91b02ee0deaad50d51d56d5d4d</td>\n      <td>Decentraland LAND</td>\n      <td>1157920892373161954235709850086879078532699846...</td>\n    </tr>\n    <tr>\n      <th>8548</th>\n      <td>0x1d74a927f28816dd858277667d5cc9410d50c896925c...</td>\n      <td>0xf179344bbec75ad4522bd6b2c780b2e13b3469a2</td>\n      <td>0xf5fdaa91b9bcbbde2e3626e4c4c817b34bd796f9</td>\n      <td>1633061756</td>\n      <td>165.0</td>\n      <td></td>\n      <td>76350609347</td>\n      <td>NaN</td>\n      <td>243534</td>\n      <td>NaN</td>\n      <td>Ethereum</td>\n      <td>721</td>\n      <td>0xf87e31492faf9a91b02ee0deaad50d51d56d5d4d</td>\n      <td>Decentraland LAND</td>\n      <td>12930729942995661611608235082407192035328.0</td>\n    </tr>\n    <tr>\n      <th>8550</th>\n      <td>0x3416328b9767cb0af3037da2587a81142691117742d4...</td>\n      <td>0xf8dbddf1a5da0b1ad72f7cf843829549e574b8be</td>\n      <td>0xf179344bbec75ad4522bd6b2c780b2e13b3469a2</td>\n      <td>1638446049</td>\n      <td>578.0</td>\n      <td></td>\n      <td>98463938308</td>\n      <td>NaN</td>\n      <td>171581</td>\n      <td>NaN</td>\n      <td>Ethereum</td>\n      <td>721</td>\n      <td>0xf87e31492faf9a91b02ee0deaad50d51d56d5d4d</td>\n      <td>Decentraland LAND</td>\n      <td>1157920892373161954235709850086879078532699846...</td>\n    </tr>\n    <tr>\n      <th>8552</th>\n      <td>0xa8ad003575cfdb1e73cc1e8091219953286c58cc24ec...</td>\n      <td>0xf7114e709c7b979f37bb9a83acdb4567bf38902b</td>\n      <td>0xf179344bbec75ad4522bd6b2c780b2e13b3469a2</td>\n      <td>1662398740</td>\n      <td>1308.0</td>\n      <td></td>\n      <td>9483665440</td>\n      <td>NaN</td>\n      <td>175872</td>\n      <td>NaN</td>\n      <td>Ethereum</td>\n      <td>721</td>\n      <td>0xf87e31492faf9a91b02ee0deaad50d51d56d5d4d</td>\n      <td>Decentraland LAND</td>\n      <td>1157920892373161954235709850086879078532699846...</td>\n    </tr>\n    <tr>\n      <th>8554</th>\n      <td>0xe83c4b8b55e445ad642b7fbb9bcaf376e65b86c91905...</td>\n      <td>0xf519172dc3cc531786db0db7292a51a1bcfa7d82</td>\n      <td>0xfe69aaf98706a15290b5c1352049984dbdb77ae0</td>\n      <td>1672343231</td>\n      <td>2.0</td>\n      <td></td>\n      <td>38559273974</td>\n      <td>NaN</td>\n      <td>168805</td>\n      <td>NaN</td>\n      <td>Ethereum</td>\n      <td>721</td>\n      <td>0xf87e31492faf9a91b02ee0deaad50d51d56d5d4d</td>\n      <td>Decentraland LAND</td>\n      <td>1157920892373161954235709850086879078532699846...</td>\n    </tr>\n  </tbody>\n</table>\n<p>4951 rows × 15 columns</p>\n</div>"
     },
     "execution_count": 14,
     "metadata": {},
     "output_type": "execute_result"
    }
   ],
   "source": [
    "# Get all LAND transfer hashes\n",
    "LAND_transfers = token_transfers[token_transfers['tokenName']=='Decentraland LAND']\n",
    "LAND_hashes = LAND_transfers['hash'].to_list()\n",
    "\n",
    "# Get all token transfers that occured within a LAND transfer\n",
    "transfers_docs = pd.DataFrame(list(transfers.find({\"hash\": {\"$in\": LAND_hashes}})))\n",
    "\n",
    "# Get all ether transfers where LAND was transferred at the same time\n",
    "transactions_docs = pd.DataFrame(list(transactions.find({\"hash\": {\"$in\": LAND_hashes}})))\n",
    "transactions_docs = transactions_docs[transactions_docs['value']!=0]\n",
    "transactions_docs['tokenType'] = 'native'\n",
    "\n",
    "# Drop columns, concatenate df and remove duplicates\n",
    "transfers_docs = transfers_docs.drop(['_id', 'isSet', 'userAddress'], axis=1)\n",
    "transactions_docs = transactions_docs.drop(['_id'], axis=1)\n",
    "df = pd.concat([transactions_docs, transfers_docs])\n",
    "print(len(df))\n",
    "df = df.drop_duplicates()\n",
    "print(len(df))\n",
    "df"
   ],
   "metadata": {
    "collapsed": false,
    "pycharm": {
     "name": "#%%\n"
    }
   }
  },
  {
   "cell_type": "markdown",
   "source": [
    "### Detect purchases"
   ],
   "metadata": {
    "collapsed": false
   }
  },
  {
   "cell_type": "code",
   "execution_count": 15,
   "outputs": [
    {
     "name": "stdout",
     "output_type": "stream",
     "text": [
      "Index(['hash', 'from', 'to', 'timeStamp', 'nonce', 'value', 'gasPrice',\n",
      "       'input', 'gasUsed', 'functionName', 'chainName', 'tokenType',\n",
      "       'contractAddress', 'tokenName', 'tokenID', 'purchase'],\n",
      "      dtype='object')\n"
     ]
    }
   ],
   "source": [
    "# Create DataFrame with unique 'hash', 'from' and 'to' combinations\n",
    "unique_df = df[['hash', 'from', 'to']].drop_duplicates()\n",
    "\n",
    "# Group by 'hash' and check if any address appears in both 'from' and 'to' for each 'hash'\n",
    "hash_groups = unique_df.groupby('hash')\n",
    "purchase_dict = {}\n",
    "for name, group in hash_groups:\n",
    "    purchase_dict[name] = any(addr in group['from'].values for addr in group['to'].values)\n",
    "\n",
    "# Create new 'purchase' column in original DataFrame based on the computed dictionary\n",
    "df['purchase'] = df['hash'].map(purchase_dict)\n",
    "\n",
    "land = df[df['tokenType']==721]\n",
    "print(land.columns)"
   ],
   "metadata": {
    "collapsed": false,
    "pycharm": {
     "name": "#%%\n"
    }
   }
  },
  {
   "cell_type": "markdown",
   "source": [
    "### Remove purchases"
   ],
   "metadata": {
    "collapsed": false
   }
  },
  {
   "cell_type": "code",
   "execution_count": 16,
   "outputs": [
    {
     "data": {
      "text/plain": "                                                   hash  \\\n480   0x30ed73a214c2aa234a540483c61b1f023530ca48b643...   \n482   0x30ed73a214c2aa234a540483c61b1f023530ca48b643...   \n558   0x19a1de24f10774cf1e4e726fc916af76825db8e01d86...   \n560   0x19a1de24f10774cf1e4e726fc916af76825db8e01d86...   \n2818  0x5e80859b780cf7dd1a5f45489aaea350311ba67b8e36...   \n...                                                 ...   \n8500  0xae9e32ed4c47b4115950e5b61b5937f7a974b534a1c9...   \n8502  0x02f79dc540fab903673cdc4613c578e0123b549e9570...   \n8522  0x4f92a58ac04f125d97e51c7dd2315b4f9a2027663a9c...   \n8524  0x07ad3adbf17ab13fc0b37d4971d4b35f862c8c4ec437...   \n8526  0xfa7c58cb731cf9899c751a9503b77f208b3db85a6002...   \n\n                                            from  \\\n480   0x98c1d8a5cd2e6fa559ba6ae0680b388b799ac231   \n482   0x98c1d8a5cd2e6fa559ba6ae0680b388b799ac231   \n558   0x2245aa1cd81344413a970d7efd8d49ac738c3a7b   \n560   0x2245aa1cd81344413a970d7efd8d49ac738c3a7b   \n2818  0xd5a5a16f3dcae1b9fb55f94c8780bbbe8ef72f4a   \n...                                          ...   \n8500  0xffac7fd045303112fdb28e9dace8e1334ad324c0   \n8502  0xffac7fd045303112fdb28e9dace8e1334ad324c0   \n8522  0xf6852df0c0a18ac3a4cb4b5d470895f86d3861ce   \n8524  0xf6852df0c0a18ac3a4cb4b5d470895f86d3861ce   \n8526  0xf75c775417884956cb2c227ff2b268b14451d244   \n\n                                              to   timeStamp  nonce     value  \\\n480   0x1d4b9b250b1bd41daa35d94bf9204ec1b0494ee3  1616896550  565.0    3039.0   \n482   0x1d4b9b250b1bd41daa35d94bf9204ec1b0494ee3  1616896550  565.0  233369.0   \n558   0x3ee7a2741442cf024ad185d6757aa830c8b31e9d  1673301047   54.0    5113.0   \n560   0x3ee7a2741442cf024ad185d6757aa830c8b31e9d  1673301047   54.0    5109.0   \n2818  0x986740c15007053c43702f69dc95b0e114ad7f30  1666513763   36.0    6922.0   \n...                                          ...         ...    ...       ...   \n8500  0xe7f78d2c9a9375153476834d2db32632384b01e1  1674101279  148.0             \n8502  0xe7f78d2c9a9375153476834d2db32632384b01e1  1674101291  149.0             \n8522  0xed498e75d471c3b874461a87bb7146453cc8175a  1536176413  102.0             \n8524  0xed498e75d471c3b874461a87bb7146453cc8175a  1536176441  103.0             \n8526  0xee21886b9832912902c49a388c863deb9e72475a  1671404579   17.0             \n\n         gasPrice input  gasUsed functionName chainName tokenType  \\\n480   88000000000   NaN   809362          NaN  Ethereum        20   \n482   88000000000   NaN   809362          NaN  Ethereum        20   \n558   25951965485   NaN   419801          NaN  Ethereum        20   \n560   25951965485   NaN   419801          NaN  Ethereum        20   \n2818  11889825899   NaN   313697          NaN  Ethereum        20   \n...           ...   ...      ...          ...       ...       ...   \n8500  17355256351   NaN   112602          NaN  Ethereum       721   \n8502  18215383660   NaN   106123          NaN  Ethereum       721   \n8522   5000000000   NaN   111027          NaN  Ethereum       721   \n8524   5000000000   NaN   111027          NaN  Ethereum       721   \n8526  12759168363   NaN   103323          NaN  Ethereum       721   \n\n                                 contractAddress            tokenName  \\\n480   0xf5b0a3efb8e8e4c201e2a935f110eaaf3ffecb8d                 Axie   \n482   0xf5b0a3efb8e8e4c201e2a935f110eaaf3ffecb8d                 Axie   \n558   0x79986af15539de2db9a5086382daeda917a9cf0c  Cryptovoxels Parcel   \n560   0x79986af15539de2db9a5086382daeda917a9cf0c  Cryptovoxels Parcel   \n2818  0x79986af15539de2db9a5086382daeda917a9cf0c  Cryptovoxels Parcel   \n...                                          ...                  ...   \n8500  0xf87e31492faf9a91b02ee0deaad50d51d56d5d4d    Decentraland LAND   \n8502  0xf87e31492faf9a91b02ee0deaad50d51d56d5d4d    Decentraland LAND   \n8522  0xf87e31492faf9a91b02ee0deaad50d51d56d5d4d    Decentraland LAND   \n8524  0xf87e31492faf9a91b02ee0deaad50d51d56d5d4d    Decentraland LAND   \n8526  0xf87e31492faf9a91b02ee0deaad50d51d56d5d4d    Decentraland LAND   \n\n                                                tokenID  purchase  \n480                                                         False  \n482                                                         False  \n558                                                         False  \n560                                                         False  \n2818                                                        False  \n...                                                 ...       ...  \n8500        43215860598959184859848575143834562854912.0     False  \n8502        25861459885991323223216470164814384070656.0     False  \n8522  1157920892373161954235709850086879078532699846...     False  \n8524  1157920892373161954235709850086879078532699846...     False  \n8526        40833884030512615615604952891812185374720.0     False  \n\n[740 rows x 16 columns]",
      "text/html": "<div>\n<style scoped>\n    .dataframe tbody tr th:only-of-type {\n        vertical-align: middle;\n    }\n\n    .dataframe tbody tr th {\n        vertical-align: top;\n    }\n\n    .dataframe thead th {\n        text-align: right;\n    }\n</style>\n<table border=\"1\" class=\"dataframe\">\n  <thead>\n    <tr style=\"text-align: right;\">\n      <th></th>\n      <th>hash</th>\n      <th>from</th>\n      <th>to</th>\n      <th>timeStamp</th>\n      <th>nonce</th>\n      <th>value</th>\n      <th>gasPrice</th>\n      <th>input</th>\n      <th>gasUsed</th>\n      <th>functionName</th>\n      <th>chainName</th>\n      <th>tokenType</th>\n      <th>contractAddress</th>\n      <th>tokenName</th>\n      <th>tokenID</th>\n      <th>purchase</th>\n    </tr>\n  </thead>\n  <tbody>\n    <tr>\n      <th>480</th>\n      <td>0x30ed73a214c2aa234a540483c61b1f023530ca48b643...</td>\n      <td>0x98c1d8a5cd2e6fa559ba6ae0680b388b799ac231</td>\n      <td>0x1d4b9b250b1bd41daa35d94bf9204ec1b0494ee3</td>\n      <td>1616896550</td>\n      <td>565.0</td>\n      <td>3039.0</td>\n      <td>88000000000</td>\n      <td>NaN</td>\n      <td>809362</td>\n      <td>NaN</td>\n      <td>Ethereum</td>\n      <td>20</td>\n      <td>0xf5b0a3efb8e8e4c201e2a935f110eaaf3ffecb8d</td>\n      <td>Axie</td>\n      <td></td>\n      <td>False</td>\n    </tr>\n    <tr>\n      <th>482</th>\n      <td>0x30ed73a214c2aa234a540483c61b1f023530ca48b643...</td>\n      <td>0x98c1d8a5cd2e6fa559ba6ae0680b388b799ac231</td>\n      <td>0x1d4b9b250b1bd41daa35d94bf9204ec1b0494ee3</td>\n      <td>1616896550</td>\n      <td>565.0</td>\n      <td>233369.0</td>\n      <td>88000000000</td>\n      <td>NaN</td>\n      <td>809362</td>\n      <td>NaN</td>\n      <td>Ethereum</td>\n      <td>20</td>\n      <td>0xf5b0a3efb8e8e4c201e2a935f110eaaf3ffecb8d</td>\n      <td>Axie</td>\n      <td></td>\n      <td>False</td>\n    </tr>\n    <tr>\n      <th>558</th>\n      <td>0x19a1de24f10774cf1e4e726fc916af76825db8e01d86...</td>\n      <td>0x2245aa1cd81344413a970d7efd8d49ac738c3a7b</td>\n      <td>0x3ee7a2741442cf024ad185d6757aa830c8b31e9d</td>\n      <td>1673301047</td>\n      <td>54.0</td>\n      <td>5113.0</td>\n      <td>25951965485</td>\n      <td>NaN</td>\n      <td>419801</td>\n      <td>NaN</td>\n      <td>Ethereum</td>\n      <td>20</td>\n      <td>0x79986af15539de2db9a5086382daeda917a9cf0c</td>\n      <td>Cryptovoxels Parcel</td>\n      <td></td>\n      <td>False</td>\n    </tr>\n    <tr>\n      <th>560</th>\n      <td>0x19a1de24f10774cf1e4e726fc916af76825db8e01d86...</td>\n      <td>0x2245aa1cd81344413a970d7efd8d49ac738c3a7b</td>\n      <td>0x3ee7a2741442cf024ad185d6757aa830c8b31e9d</td>\n      <td>1673301047</td>\n      <td>54.0</td>\n      <td>5109.0</td>\n      <td>25951965485</td>\n      <td>NaN</td>\n      <td>419801</td>\n      <td>NaN</td>\n      <td>Ethereum</td>\n      <td>20</td>\n      <td>0x79986af15539de2db9a5086382daeda917a9cf0c</td>\n      <td>Cryptovoxels Parcel</td>\n      <td></td>\n      <td>False</td>\n    </tr>\n    <tr>\n      <th>2818</th>\n      <td>0x5e80859b780cf7dd1a5f45489aaea350311ba67b8e36...</td>\n      <td>0xd5a5a16f3dcae1b9fb55f94c8780bbbe8ef72f4a</td>\n      <td>0x986740c15007053c43702f69dc95b0e114ad7f30</td>\n      <td>1666513763</td>\n      <td>36.0</td>\n      <td>6922.0</td>\n      <td>11889825899</td>\n      <td>NaN</td>\n      <td>313697</td>\n      <td>NaN</td>\n      <td>Ethereum</td>\n      <td>20</td>\n      <td>0x79986af15539de2db9a5086382daeda917a9cf0c</td>\n      <td>Cryptovoxels Parcel</td>\n      <td></td>\n      <td>False</td>\n    </tr>\n    <tr>\n      <th>...</th>\n      <td>...</td>\n      <td>...</td>\n      <td>...</td>\n      <td>...</td>\n      <td>...</td>\n      <td>...</td>\n      <td>...</td>\n      <td>...</td>\n      <td>...</td>\n      <td>...</td>\n      <td>...</td>\n      <td>...</td>\n      <td>...</td>\n      <td>...</td>\n      <td>...</td>\n      <td>...</td>\n    </tr>\n    <tr>\n      <th>8500</th>\n      <td>0xae9e32ed4c47b4115950e5b61b5937f7a974b534a1c9...</td>\n      <td>0xffac7fd045303112fdb28e9dace8e1334ad324c0</td>\n      <td>0xe7f78d2c9a9375153476834d2db32632384b01e1</td>\n      <td>1674101279</td>\n      <td>148.0</td>\n      <td></td>\n      <td>17355256351</td>\n      <td>NaN</td>\n      <td>112602</td>\n      <td>NaN</td>\n      <td>Ethereum</td>\n      <td>721</td>\n      <td>0xf87e31492faf9a91b02ee0deaad50d51d56d5d4d</td>\n      <td>Decentraland LAND</td>\n      <td>43215860598959184859848575143834562854912.0</td>\n      <td>False</td>\n    </tr>\n    <tr>\n      <th>8502</th>\n      <td>0x02f79dc540fab903673cdc4613c578e0123b549e9570...</td>\n      <td>0xffac7fd045303112fdb28e9dace8e1334ad324c0</td>\n      <td>0xe7f78d2c9a9375153476834d2db32632384b01e1</td>\n      <td>1674101291</td>\n      <td>149.0</td>\n      <td></td>\n      <td>18215383660</td>\n      <td>NaN</td>\n      <td>106123</td>\n      <td>NaN</td>\n      <td>Ethereum</td>\n      <td>721</td>\n      <td>0xf87e31492faf9a91b02ee0deaad50d51d56d5d4d</td>\n      <td>Decentraland LAND</td>\n      <td>25861459885991323223216470164814384070656.0</td>\n      <td>False</td>\n    </tr>\n    <tr>\n      <th>8522</th>\n      <td>0x4f92a58ac04f125d97e51c7dd2315b4f9a2027663a9c...</td>\n      <td>0xf6852df0c0a18ac3a4cb4b5d470895f86d3861ce</td>\n      <td>0xed498e75d471c3b874461a87bb7146453cc8175a</td>\n      <td>1536176413</td>\n      <td>102.0</td>\n      <td></td>\n      <td>5000000000</td>\n      <td>NaN</td>\n      <td>111027</td>\n      <td>NaN</td>\n      <td>Ethereum</td>\n      <td>721</td>\n      <td>0xf87e31492faf9a91b02ee0deaad50d51d56d5d4d</td>\n      <td>Decentraland LAND</td>\n      <td>1157920892373161954235709850086879078532699846...</td>\n      <td>False</td>\n    </tr>\n    <tr>\n      <th>8524</th>\n      <td>0x07ad3adbf17ab13fc0b37d4971d4b35f862c8c4ec437...</td>\n      <td>0xf6852df0c0a18ac3a4cb4b5d470895f86d3861ce</td>\n      <td>0xed498e75d471c3b874461a87bb7146453cc8175a</td>\n      <td>1536176441</td>\n      <td>103.0</td>\n      <td></td>\n      <td>5000000000</td>\n      <td>NaN</td>\n      <td>111027</td>\n      <td>NaN</td>\n      <td>Ethereum</td>\n      <td>721</td>\n      <td>0xf87e31492faf9a91b02ee0deaad50d51d56d5d4d</td>\n      <td>Decentraland LAND</td>\n      <td>1157920892373161954235709850086879078532699846...</td>\n      <td>False</td>\n    </tr>\n    <tr>\n      <th>8526</th>\n      <td>0xfa7c58cb731cf9899c751a9503b77f208b3db85a6002...</td>\n      <td>0xf75c775417884956cb2c227ff2b268b14451d244</td>\n      <td>0xee21886b9832912902c49a388c863deb9e72475a</td>\n      <td>1671404579</td>\n      <td>17.0</td>\n      <td></td>\n      <td>12759168363</td>\n      <td>NaN</td>\n      <td>103323</td>\n      <td>NaN</td>\n      <td>Ethereum</td>\n      <td>721</td>\n      <td>0xf87e31492faf9a91b02ee0deaad50d51d56d5d4d</td>\n      <td>Decentraland LAND</td>\n      <td>40833884030512615615604952891812185374720.0</td>\n      <td>False</td>\n    </tr>\n  </tbody>\n</table>\n<p>740 rows × 16 columns</p>\n</div>"
     },
     "execution_count": 16,
     "metadata": {},
     "output_type": "execute_result"
    }
   ],
   "source": [
    "transfers = df[df['purchase']==False]\n",
    "transfers = transfers[transfers['tokenName']!='Decentraland Land Balance']\n",
    "transfers"
   ],
   "metadata": {
    "collapsed": false,
    "pycharm": {
     "name": "#%%\n"
    }
   }
  },
  {
   "cell_type": "markdown",
   "source": [
    "### Build clusters"
   ],
   "metadata": {
    "collapsed": false
   }
  },
  {
   "cell_type": "code",
   "execution_count": 17,
   "outputs": [],
   "source": [
    "# Create graph\n",
    "G = nx.from_pandas_edgelist(transfers, 'from', 'to', create_using=nx.Graph())\n",
    "\n",
    "# Find connected components (clusters)\n",
    "clusters = list(nx.connected_components(G))\n",
    "\n",
    "# Create a DataFrame to store the cluster ID, addresses, and cluster size\n",
    "cluster_df = pd.DataFrame(columns=['ClusterID', 'Address', 'ClusterSize'])\n",
    "\n",
    "# Fill the DataFrame with the cluster ID, corresponding addresses, and cluster size\n",
    "cluster_id = 0\n",
    "for cluster in clusters:\n",
    "    cluster_size = len(cluster)\n",
    "    for address in cluster:\n",
    "        cluster_df = cluster_df.append({\n",
    "            'ClusterID': cluster_id,\n",
    "            'Address': address,\n",
    "            'ClusterSize': cluster_size\n",
    "        }, ignore_index=True)\n",
    "    cluster_id += 1\n",
    "\n",
    "cluster_df\n",
    "cluster_df.to_csv('../data/clusters_LAND.csv', index=False)"
   ],
   "metadata": {
    "collapsed": false,
    "pycharm": {
     "name": "#%%\n"
    }
   }
  },
  {
   "cell_type": "markdown",
   "source": [
    "### Visualize transfers"
   ],
   "metadata": {
    "collapsed": false
   }
  },
  {
   "cell_type": "code",
   "execution_count": 34,
   "outputs": [
    {
     "name": "stdout",
     "output_type": "stream",
     "text": [
      "Warning: When  cdn_resources is 'local' jupyter notebook has issues displaying graphics on chrome/safari. Use cdn_resources='in_line' or cdn_resources='remote' if you have issues viewing graphics in a notebook.\n"
     ]
    }
   ],
   "source": [
    "import networkx as nx\n",
    "from pyvis.network import Network\n",
    "\n",
    "# Create graph G (example graph)\n",
    "G = nx.from_pandas_edgelist(transfers, 'from', 'to', create_using=nx.Graph())\n",
    "\n",
    "# Find the largest connected component\n",
    "largest_cc = max(nx.connected_components(G), key=len)\n",
    "\n",
    "# Create a Network object\n",
    "nt = Network(notebook=True)\n",
    "\n",
    "# Load the graph into the Network object\n",
    "nt.from_nx(G)\n",
    "\n",
    "# Set the color of each node based on whether it is in the largest connected component\n",
    "for node in nt.nodes:\n",
    "    if node['id'] in largest_cc:\n",
    "        node['color'] = 'green'\n",
    "    # else:\n",
    "    #     node['color'] = 'blue'\n",
    "\n",
    "nt.save_graph(\"../figures/land_clusters.html\")"
   ],
   "metadata": {
    "collapsed": false,
    "pycharm": {
     "name": "#%%\n"
    }
   }
  },
  {
   "cell_type": "markdown",
   "source": [
    "### Visualize token network"
   ],
   "metadata": {
    "collapsed": false
   }
  },
  {
   "cell_type": "code",
   "execution_count": 12,
   "outputs": [
    {
     "name": "stdout",
     "output_type": "stream",
     "text": [
      "Warning: When  cdn_resources is 'local' jupyter notebook has issues displaying graphics on chrome/safari. Use cdn_resources='in_line' or cdn_resources='remote' if you have issues viewing graphics in a notebook.\n"
     ]
    }
   ],
   "source": [
    "# Create graph\n",
    "G = nx.from_pandas_edgelist(land, source='from', target='to', edge_attr='purchase', create_using=nx.DiGraph())\n",
    "\n",
    "# Create a Pyvis Network\n",
    "nt = Network(notebook=True)\n",
    "\n",
    "# Iterate over edges to set colors\n",
    "for u, v, data in G.edges(data=True):\n",
    "    if data['purchase'] == True:\n",
    "        G[u][v]['color'] = 'lightblue'\n",
    "        G[u][v]['width'] = 2.0\n",
    "    else:\n",
    "        G[u][v]['color'] = 'red'\n",
    "        G[u][v]['width'] = 2.0\n",
    "\n",
    "# Import the NetworkX graph into Pyvis\n",
    "nt.from_nx(G)\n",
    "\n",
    "# Customize and show\n",
    "nt.toggle_hide_edges_on_drag(True)\n",
    "nt.set_edge_smooth('dynamic')\n",
    "#nt.set_template('inline')\n",
    "nt.save_graph(\"../figures/land_network.html\")"
   ],
   "metadata": {
    "collapsed": false,
    "pycharm": {
     "name": "#%%\n"
    }
   }
  },
  {
   "cell_type": "markdown",
   "source": [
    "### Take screenshots"
   ],
   "metadata": {
    "collapsed": false
   }
  },
  {
   "cell_type": "code",
   "execution_count": 4,
   "outputs": [
    {
     "name": "stderr",
     "output_type": "stream",
     "text": [
      "/var/folders/6y/q2mh3ct92xx9v05c53h84l6c0000gn/T/ipykernel_99873/1017567778.py:11: DeprecationWarning: headless property is deprecated, instead use add_argument('--headless') or add_argument('--headless=new')\n",
      "  options.headless = True\n"
     ]
    }
   ],
   "source": [
    "from selenium import webdriver\n",
    "import os\n",
    "import time\n",
    "\n",
    "# Get the path to the current directory\n",
    "current_dir = os.getcwd()\n",
    "chromedriver_path = os.path.join(current_dir, 'chromedriver')\n",
    "\n",
    "# Set up the webdriver\n",
    "options = webdriver.ChromeOptions()\n",
    "options.headless = True\n",
    "browser = webdriver.Chrome(options=options)\n",
    "\n",
    "# Load the HTML file and set the window size to capture the whole page\n",
    "html_path = os.path.join(current_dir, '../figures/land_clusters.html')\n",
    "browser.get(f'file://{html_path}')\n",
    "browser.set_window_size(1080, 600)\n",
    "time.sleep(60)\n",
    "# Take a screenshot and save it as a PNG\n",
    "png_path = os.path.join(current_dir, '../figures/land_clusters.png')\n",
    "browser.save_screenshot(png_path)\n",
    "\n",
    "# Close the browser\n",
    "browser.quit()"
   ],
   "metadata": {
    "collapsed": false,
    "pycharm": {
     "name": "#%%\n"
    }
   }
  }
 ],
 "metadata": {
  "kernelspec": {
   "display_name": "Python 3",
   "language": "python",
   "name": "python3"
  },
  "language_info": {
   "codemirror_mode": {
    "name": "ipython",
    "version": 2
   },
   "file_extension": ".py",
   "mimetype": "text/x-python",
   "name": "python",
   "nbconvert_exporter": "python",
   "pygments_lexer": "ipython2",
   "version": "2.7.6"
  }
 },
 "nbformat": 4,
 "nbformat_minor": 0
}