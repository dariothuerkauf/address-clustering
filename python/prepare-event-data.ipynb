{
 "cells": [
  {
   "cell_type": "markdown",
   "source": [
    "### Prepare event data"
   ],
   "metadata": {
    "collapsed": false
   }
  },
  {
   "cell_type": "code",
   "execution_count": 1,
   "outputs": [],
   "source": [
    "import pandas as pd"
   ],
   "metadata": {
    "collapsed": false,
    "pycharm": {
     "name": "#%%\n"
    }
   }
  },
  {
   "cell_type": "code",
   "execution_count": 2,
   "metadata": {
    "collapsed": true
   },
   "outputs": [],
   "source": [
    "# Get Ethereum and Polygon subsets\n",
    "users = pd.read_csv('../data/subsets.csv')\n",
    "polygon_addresses = users.loc[users['Polygon'] == 1, 'Address'].tolist()\n",
    "ethereum_addresses = users.loc[users['Ethereum'] == 1, 'Address'].tolist()"
   ]
  },
  {
   "cell_type": "markdown",
   "source": [
    "### ERC-721"
   ],
   "metadata": {
    "collapsed": false
   }
  },
  {
   "cell_type": "code",
   "execution_count": 3,
   "outputs": [
    {
     "name": "stdout",
     "output_type": "stream",
     "text": [
      "4618018 7550153 12168171\n"
     ]
    }
   ],
   "source": [
    "# Ethereum\n",
    "# Create isSetFrom and isSetTo column\n",
    "ethereum_721 = pd.read_csv('../data/ethereum_erc721.csv')\n",
    "ethereum_721['isSetFrom'] = ethereum_721['from'].isin(ethereum_addresses)\n",
    "ethereum_721['isSetTo'] = ethereum_721['to'].isin(ethereum_addresses)\n",
    "# Drop duplicates\n",
    "ethereum_721 = ethereum_721.drop_duplicates()\n",
    "#ethereum_721.to_csv('ethereum_erc721_final.csv', index=False)\n",
    "#ethereum_721\n",
    "\n",
    "\n",
    "# Polygon\n",
    "# Create isSetFrom and isSetTo column\n",
    "polygon_721 = pd.read_csv('../data/polygon_erc721.csv')\n",
    "polygon_721['isSetFrom'] = polygon_721['from'].isin(polygon_addresses)\n",
    "polygon_721['isSetTo'] = polygon_721['to'].isin(polygon_addresses)\n",
    "# Drop duplicates\n",
    "polygon_721 = polygon_721.drop_duplicates()\n",
    "#polygon_721.to_csv('polygon_erc721_final.csv', index=False)\n",
    "#polygon_721\n",
    "\n",
    "erc721 = pd.concat([ethereum_721,polygon_721], ignore_index=True)\n",
    "#erc721.to_csv('../data/erc721.csv', index=False)\n",
    "print(len(ethereum_721), len(polygon_721), len(erc721))"
   ],
   "metadata": {
    "collapsed": false,
    "pycharm": {
     "name": "#%%\n"
    }
   }
  },
  {
   "cell_type": "markdown",
   "source": [
    "### ERC-20"
   ],
   "metadata": {
    "collapsed": false,
    "pycharm": {
     "name": "#%% md\n"
    }
   }
  },
  {
   "cell_type": "code",
   "execution_count": 4,
   "outputs": [
    {
     "name": "stdout",
     "output_type": "stream",
     "text": [
      "3214814 10946021 14160835\n"
     ]
    }
   ],
   "source": [
    "# Ethereum\n",
    "# Create isSetFrom and isSetTo column\n",
    "ethereum_20 = pd.read_csv('../data/ethereum_erc20.csv')\n",
    "ethereum_20['isSetFrom'] = ethereum_20['from'].isin(ethereum_addresses)\n",
    "ethereum_20['isSetTo'] = ethereum_20['to'].isin(ethereum_addresses)\n",
    "# Drop duplicates\n",
    "ethereum_20 = ethereum_20.drop_duplicates()\n",
    "#ethereum_20.to_csv('ethereum_erc20_final.csv', index=False)\n",
    "#ethereum_20\n",
    "\n",
    "# Polygon\n",
    "# Create isSetFrom and isSetTo column\n",
    "polygon_20 = pd.read_csv('../data/polygon_erc20.csv')\n",
    "polygon_20['isSetFrom'] = polygon_20['from'].isin(polygon_addresses)\n",
    "polygon_20['isSetTo'] = polygon_20['to'].isin(polygon_addresses)\n",
    "# Drop duplicates\n",
    "polygon_20 = polygon_20.drop_duplicates()\n",
    "#polygon_721.to_csv('polygon_erc721_final.csv', index=False)\n",
    "#polygon_721\n",
    "\n",
    "\n",
    "# eth20 = pd.read_csv('ethereum_erc20_final.csv')\n",
    "# pol20 = pd.read_csv('polygon_erc20_final.csv')\n",
    "erc20 = pd.concat([ethereum_20,polygon_20], ignore_index=True)\n",
    "erc20['value'] = erc20['value'].apply(int)\n",
    "erc20['value'] = erc20['value'] / (10 ** erc20['tokenDecimal'])\n",
    "erc20 = erc20.drop('tokenDecimal', axis=1)\n",
    "\n",
    "#erc20.to_csv('../data/erc20.csv', index=False)\n",
    "print(len(ethereum_20), len(polygon_20), len(erc20))"
   ],
   "metadata": {
    "collapsed": false,
    "pycharm": {
     "name": "#%%\n"
    }
   }
  },
  {
   "cell_type": "markdown",
   "source": [
    "### ERC-1155"
   ],
   "metadata": {
    "collapsed": false,
    "pycharm": {
     "name": "#%% md\n"
    }
   }
  },
  {
   "cell_type": "code",
   "execution_count": 5,
   "outputs": [
    {
     "name": "stderr",
     "output_type": "stream",
     "text": [
      "/Users/dthuerkauf/Desktop/Crypto/masterseminar/python/venv/lib/python3.9/site-packages/IPython/core/interactiveshell.py:3460: DtypeWarning: Columns (6) have mixed types.Specify dtype option on import or set low_memory=False.\n",
      "  exec(code_obj, self.user_global_ns, self.user_ns)\n"
     ]
    },
    {
     "name": "stdout",
     "output_type": "stream",
     "text": [
      "4618018 4361067 8979085\n"
     ]
    }
   ],
   "source": [
    "## Ethereum\n",
    "# Create isSetFrom and isSetTo column\n",
    "ethereum_1155 = pd.read_csv('../data/ethereum_erc721.csv')\n",
    "ethereum_1155['isSetFrom'] = ethereum_1155['from'].isin(ethereum_addresses)\n",
    "ethereum_1155['isSetTo'] = ethereum_1155['to'].isin(ethereum_addresses)\n",
    "#erc721.to_csv('ethereum_erc721_isSet.csv', index=False)\n",
    "# Drop duplicates\n",
    "ethereum_1155 = ethereum_1155.drop_duplicates()\n",
    "#ethereum_1155.to_csv('ethereum_erc1155_final.csv', index=False)\n",
    "#ethereum_1155\n",
    "\n",
    "\n",
    "# Polygon\n",
    "# Create isSetFrom and isSetTo column\n",
    "polygon_1155 = pd.read_csv('../data/polygon_erc1155.csv')\n",
    "polygon_1155['isSetFrom'] = polygon_1155['from'].isin(polygon_addresses)\n",
    "polygon_1155['isSetTo'] = polygon_1155['to'].isin(polygon_addresses)\n",
    "# Drop duplicates\n",
    "polygon_1155 = polygon_1155.drop_duplicates()\n",
    "#polygon_721.to_csv('polygon_erc721_final.csv', index=False)\n",
    "#polygon_721\n",
    "\n",
    "\n",
    "# eth1155 = pd.read_csv('ethereum_erc1155_final.csv')\n",
    "# pol1155 = pd.read_csv('polygon_erc1155_final.csv')\n",
    "erc1155 = pd.concat([ethereum_1155, polygon_1155], ignore_index=True)\n",
    "erc1155 = erc1155.rename(columns={'tokenValue': 'value'})\n",
    "\n",
    "#erc1155.to_csv('../data/erc1155.csv', index=False)\n",
    "print(len(ethereum_1155), len(polygon_1155), len(erc1155))"
   ],
   "metadata": {
    "collapsed": false,
    "pycharm": {
     "name": "#%%\n"
    }
   }
  },
  {
   "cell_type": "markdown",
   "source": [
    "### Combine the tokenType dataframes"
   ],
   "metadata": {
    "collapsed": false,
    "pycharm": {
     "name": "#%% md\n"
    }
   }
  },
  {
   "cell_type": "code",
   "execution_count": 6,
   "outputs": [
    {
     "name": "stdout",
     "output_type": "stream",
     "text": [
      "35308091\n",
      "Length check passed\n"
     ]
    }
   ],
   "source": [
    "#erc20 = pd.read_csv('../../data/erc20.csv')\n",
    "#erc721 = pd.read_csv('../../data/erc721.csv')\n",
    "#erc1155 = pd.read_csv('../../data/erc1155.csv')\n",
    "\n",
    "# Concatenate the three DataFrames\n",
    "events = pd.concat([erc20, erc721, erc1155], ignore_index=True)\n",
    "print(len(events))\n",
    "\n",
    "if len(events) == len(erc20) + len(erc721) + len(erc1155):\n",
    "    print('Length check passed')\n",
    "# Save the combined DataFrame to a new CSV file\n",
    "#events.to_csv('../../data/events.csv', index=False)\n",
    "#events"
   ],
   "metadata": {
    "collapsed": false,
    "pycharm": {
     "name": "#%%\n"
    }
   }
  },
  {
   "cell_type": "markdown",
   "source": [
    "### Add isSet"
   ],
   "metadata": {
    "collapsed": false,
    "pycharm": {
     "name": "#%% md\n"
    }
   }
  },
  {
   "cell_type": "code",
   "execution_count": 7,
   "outputs": [],
   "source": [
    "#events = pd.read_csv('events.csv')\n",
    "\n",
    "# Filter rows where both 'isSetFrom' and 'isSetTo' are True\n",
    "both_true_df = events[(events['isSetFrom'] == True) & (events['isSetTo'] == True)]\n",
    "\n",
    "# Create two copies of both_true_df\n",
    "df1 = both_true_df.copy()\n",
    "df2 = both_true_df.copy()\n",
    "\n",
    "# In df1, set 'isSet' to 'from', and in df2, set 'isSet' to 'to'\n",
    "df1['isSet'] = 'from'\n",
    "df2['isSet'] = 'to'\n",
    "\n",
    "# Rows where only one of 'isSetFrom' and 'isSetTo' is True\n",
    "only_from_true_df = events[(events['isSetFrom'] == True) & (events['isSetTo'] == False)].copy()\n",
    "only_from_true_df['isSet'] = 'from'\n",
    "\n",
    "only_to_true_df = events[(events['isSetFrom'] == False) & (events['isSetTo'] == True)].copy()\n",
    "only_to_true_df['isSet'] = 'to'\n",
    "\n",
    "# Concatenate all the DataFrames together\n",
    "events_inSet = pd.concat([df1, df2, only_from_true_df, only_to_true_df])\n",
    "events_inSet = events_inSet.drop(['isSetFrom','isSetTo'], axis=1)\n",
    "\n",
    "# Sort by the original index for continuity of data\n",
    "events_inSet = events_inSet.sort_index()\n",
    "\n",
    "# Create userAddress column\n",
    "events_inSet['userAddress'] = events_inSet.apply(lambda row: row['from'] if row['isSet'] == 'from' else row['to'], axis=1)\n",
    "\n",
    "# Save as csv\n",
    "events_inSet.to_csv('../data/transfer_events.csv')"
   ],
   "metadata": {
    "collapsed": false,
    "pycharm": {
     "name": "#%%\n"
    }
   }
  },
  {
   "cell_type": "markdown",
   "source": [
    "### Filter event data (not needed for this work!)"
   ],
   "metadata": {
    "collapsed": false
   }
  },
  {
   "cell_type": "code",
   "execution_count": 33,
   "outputs": [
    {
     "name": "stderr",
     "output_type": "stream",
     "text": [
      "/var/folders/6y/q2mh3ct92xx9v05c53h84l6c0000gn/T/ipykernel_16915/943975255.py:1: DtypeWarning: Columns (6,13) have mixed types. Specify dtype option on import or set low_memory=False.\n",
      "  events_inSet = pd.read_csv('../../data/events_inSet.csv')\n"
     ]
    },
    {
     "name": "stdout",
     "output_type": "stream",
     "text": [
      "Observations: 6287852\n",
      "Unique addresses: 108273\n"
     ]
    }
   ],
   "source": [
    "events_inSet = pd.read_csv('../data/events_inSet.csv')\n",
    "events_inSet.drop(['Unnamed: 0'], inplace=True, axis=1)\n",
    "\n",
    "# Create userAddress column\n",
    "events_inSet['userAddress'] = events_inSet.apply(lambda row: row['from'] if row['isSet'] == 'from' else row['to'], axis=1)\n",
    "\n",
    "# Apply filter criteria\n",
    "df = events_inSet[(events_inSet['isSet']=='to') & (events_inSet['tokenType']!=20) & (events_inSet['contractAddress']!= '0x2953399124f0cbb46d2cbacd8a89cf0599974963')]\n",
    "# Sort by userAddress\n",
    "df = df.sort_values(by='userAddress').reset_index(drop=True)\n",
    "# Save as csv\n",
    "df.to_csv('../../data/nftsReceived.csv')\n",
    "\n",
    "# Print number of observations and unique users\n",
    "unique_addresses = len(df.groupby('userAddress'))\n",
    "observations = len(df)\n",
    "print(f'Observations: {observations}\\nUnique addresses: {unique_addresses}')"
   ],
   "metadata": {
    "collapsed": false,
    "pycharm": {
     "name": "#%%\n"
    }
   }
  },
  {
   "cell_type": "markdown",
   "source": [
    "### (Merge CSV files)"
   ],
   "metadata": {
    "collapsed": false,
    "pycharm": {
     "name": "#%% md\n"
    }
   }
  },
  {
   "cell_type": "code",
   "execution_count": null,
   "outputs": [],
   "source": [
    "files = ['../data/transactions_polygon_0-20000.csv', '../data/transactions_polygon_20001-40000.csv', '../data/transactions_polygon_40001-60000.csv', '../data/transactions_polygon_60001-80000.csv', '../data/transactions_polygon_80001-100000.csv', '../data/transactions_polygon_100001-120000.csv', '../data/transactions_polygon_120001-129987.csv']\n",
    "\n",
    "dfs = [pd.read_csv(file) for file in files]\n",
    "df = pd.concat(dfs, axis=0, ignore_index=True)\n",
    "df.to_csv('../data/polygon_transactions.csv', index=False)"
   ],
   "metadata": {
    "collapsed": false,
    "pycharm": {
     "name": "#%%\n"
    }
   }
  }
 ],
 "metadata": {
  "kernelspec": {
   "display_name": "Python 3",
   "language": "python",
   "name": "python3"
  },
  "language_info": {
   "codemirror_mode": {
    "name": "ipython",
    "version": 2
   },
   "file_extension": ".py",
   "mimetype": "text/x-python",
   "name": "python",
   "nbconvert_exporter": "python",
   "pygments_lexer": "ipython2",
   "version": "2.7.6"
  }
 },
 "nbformat": 4,
 "nbformat_minor": 0
}