{
 "cells": [
  {
   "cell_type": "markdown",
   "source": [
    "### Prepare event data"
   ],
   "metadata": {
    "collapsed": false
   }
  },
  {
   "cell_type": "code",
   "execution_count": 14,
   "outputs": [],
   "source": [
    "import pandas as pd"
   ],
   "metadata": {
    "collapsed": false,
    "pycharm": {
     "name": "#%%\n"
    }
   }
  },
  {
   "cell_type": "code",
   "execution_count": 15,
   "metadata": {
    "collapsed": true
   },
   "outputs": [],
   "source": [
    "# Get Ethereum and Polygon subsets\n",
    "users = pd.read_csv('../data/subsets.csv')\n",
    "polygon_addresses = users.loc[users['Polygon'] == 1, 'Address'].tolist()\n",
    "ethereum_addresses = users.loc[users['Ethereum'] == 1, 'Address'].tolist()"
   ]
  },
  {
   "cell_type": "markdown",
   "source": [
    "### ERC-721"
   ],
   "metadata": {
    "collapsed": false
   }
  },
  {
   "cell_type": "code",
   "execution_count": 16,
   "outputs": [
    {
     "name": "stdout",
     "output_type": "stream",
     "text": [
      "4618018 7550153 12168171\n"
     ]
    }
   ],
   "source": [
    "# Ethereum\n",
    "# Create isSetFrom and isSetTo column\n",
    "ethereum_721 = pd.read_csv('../data/ethereum_erc721.csv')\n",
    "ethereum_721['isSetFrom'] = ethereum_721['from'].isin(ethereum_addresses)\n",
    "ethereum_721['isSetTo'] = ethereum_721['to'].isin(ethereum_addresses)\n",
    "# Drop duplicates\n",
    "ethereum_721 = ethereum_721.drop_duplicates()\n",
    "#ethereum_721.to_csv('ethereum_erc721_final.csv', index=False)\n",
    "#ethereum_721\n",
    "\n",
    "\n",
    "# Polygon\n",
    "# Create isSetFrom and isSetTo column\n",
    "polygon_721 = pd.read_csv('../data/polygon_erc721.csv')\n",
    "polygon_721['isSetFrom'] = polygon_721['from'].isin(polygon_addresses)\n",
    "polygon_721['isSetTo'] = polygon_721['to'].isin(polygon_addresses)\n",
    "# Drop duplicates\n",
    "polygon_721 = polygon_721.drop_duplicates()\n",
    "#polygon_721.to_csv('polygon_erc721_final.csv', index=False)\n",
    "#polygon_721\n",
    "\n",
    "erc721 = pd.concat([ethereum_721,polygon_721], ignore_index=True)\n",
    "#erc721.to_csv('../data/erc721.csv', index=False)\n",
    "print(len(ethereum_721), len(polygon_721), len(erc721))"
   ],
   "metadata": {
    "collapsed": false,
    "pycharm": {
     "name": "#%%\n"
    }
   }
  },
  {
   "cell_type": "markdown",
   "source": [
    "### ERC-20"
   ],
   "metadata": {
    "collapsed": false,
    "pycharm": {
     "name": "#%% md\n"
    }
   }
  },
  {
   "cell_type": "code",
   "execution_count": 17,
   "outputs": [
    {
     "name": "stdout",
     "output_type": "stream",
     "text": [
      "3214814 10946021 14160835\n"
     ]
    }
   ],
   "source": [
    "# Ethereum\n",
    "# Create isSetFrom and isSetTo column\n",
    "ethereum_20 = pd.read_csv('../data/ethereum_erc20.csv')\n",
    "ethereum_20['isSetFrom'] = ethereum_20['from'].isin(ethereum_addresses)\n",
    "ethereum_20['isSetTo'] = ethereum_20['to'].isin(ethereum_addresses)\n",
    "# Drop duplicates\n",
    "ethereum_20 = ethereum_20.drop_duplicates()\n",
    "#ethereum_20.to_csv('ethereum_erc20_final.csv', index=False)\n",
    "#ethereum_20\n",
    "\n",
    "# Polygon\n",
    "# Create isSetFrom and isSetTo column\n",
    "polygon_20 = pd.read_csv('../data/polygon_erc20.csv')\n",
    "polygon_20['isSetFrom'] = polygon_20['from'].isin(polygon_addresses)\n",
    "polygon_20['isSetTo'] = polygon_20['to'].isin(polygon_addresses)\n",
    "# Drop duplicates\n",
    "polygon_20 = polygon_20.drop_duplicates()\n",
    "#polygon_721.to_csv('polygon_erc721_final.csv', index=False)\n",
    "#polygon_721\n",
    "\n",
    "\n",
    "# eth20 = pd.read_csv('ethereum_erc20_final.csv')\n",
    "# pol20 = pd.read_csv('polygon_erc20_final.csv')\n",
    "erc20 = pd.concat([ethereum_20,polygon_20], ignore_index=True)\n",
    "erc20['value'] = erc20['value'].apply(int)\n",
    "erc20['value'] = erc20['value'] / (10 ** erc20['tokenDecimal'])\n",
    "erc20 = erc20.drop('tokenDecimal', axis=1)\n",
    "\n",
    "#erc20.to_csv('../data/erc20.csv', index=False)\n",
    "print(len(ethereum_20), len(polygon_20), len(erc20))"
   ],
   "metadata": {
    "collapsed": false,
    "pycharm": {
     "name": "#%%\n"
    }
   }
  },
  {
   "cell_type": "markdown",
   "source": [
    "### ERC-1155"
   ],
   "metadata": {
    "collapsed": false,
    "pycharm": {
     "name": "#%% md\n"
    }
   }
  },
  {
   "cell_type": "code",
   "execution_count": 18,
   "outputs": [
    {
     "name": "stderr",
     "output_type": "stream",
     "text": [
      "/var/folders/6y/q2mh3ct92xx9v05c53h84l6c0000gn/T/ipykernel_91919/2488241573.py:15: DtypeWarning: Columns (6) have mixed types. Specify dtype option on import or set low_memory=False.\n",
      "  polygon_1155 = pd.read_csv('../data/polygon_erc1155.csv')\n"
     ]
    },
    {
     "name": "stdout",
     "output_type": "stream",
     "text": [
      "4618018 4361067 8979085\n"
     ]
    }
   ],
   "source": [
    "## Ethereum\n",
    "# Create isSetFrom and isSetTo column\n",
    "ethereum_1155 = pd.read_csv('../data/ethereum_erc721.csv')\n",
    "ethereum_1155['isSetFrom'] = ethereum_1155['from'].isin(ethereum_addresses)\n",
    "ethereum_1155['isSetTo'] = ethereum_1155['to'].isin(ethereum_addresses)\n",
    "#erc721.to_csv('ethereum_erc721_isSet.csv', index=False)\n",
    "# Drop duplicates\n",
    "ethereum_1155 = ethereum_1155.drop_duplicates()\n",
    "#ethereum_1155.to_csv('ethereum_erc1155_final.csv', index=False)\n",
    "#ethereum_1155\n",
    "\n",
    "\n",
    "# Polygon\n",
    "# Create isSetFrom and isSetTo column\n",
    "polygon_1155 = pd.read_csv('../data/polygon_erc1155.csv')\n",
    "polygon_1155['isSetFrom'] = polygon_1155['from'].isin(polygon_addresses)\n",
    "polygon_1155['isSetTo'] = polygon_1155['to'].isin(polygon_addresses)\n",
    "# Drop duplicates\n",
    "polygon_1155 = polygon_1155.drop_duplicates()\n",
    "#polygon_721.to_csv('polygon_erc721_final.csv', index=False)\n",
    "#polygon_721\n",
    "\n",
    "\n",
    "# eth1155 = pd.read_csv('ethereum_erc1155_final.csv')\n",
    "# pol1155 = pd.read_csv('polygon_erc1155_final.csv')\n",
    "erc1155 = pd.concat([ethereum_1155, polygon_1155], ignore_index=True)\n",
    "erc1155 = erc1155.rename(columns={'tokenValue': 'value'})\n",
    "\n",
    "#erc1155.to_csv('../data/erc1155.csv', index=False)\n",
    "print(len(ethereum_1155), len(polygon_1155), len(erc1155))"
   ],
   "metadata": {
    "collapsed": false,
    "pycharm": {
     "name": "#%%\n"
    }
   }
  },
  {
   "cell_type": "markdown",
   "source": [
    "### Combine the tokenType dataframes"
   ],
   "metadata": {
    "collapsed": false,
    "pycharm": {
     "name": "#%% md\n"
    }
   }
  },
  {
   "cell_type": "code",
   "execution_count": 19,
   "outputs": [
    {
     "name": "stdout",
     "output_type": "stream",
     "text": [
      "35308091\n",
      "Length check passed\n"
     ]
    }
   ],
   "source": [
    "#erc20 = pd.read_csv('../../data/erc20.csv')\n",
    "#erc721 = pd.read_csv('../../data/erc721.csv')\n",
    "#erc1155 = pd.read_csv('../../data/erc1155.csv')\n",
    "\n",
    "# Concatenate the three DataFrames\n",
    "events = pd.concat([erc20, erc721, erc1155], ignore_index=True)\n",
    "print(len(events))\n",
    "\n",
    "if len(events) == len(erc20) + len(erc721) + len(erc1155):\n",
    "    print('Length check passed')\n",
    "# Save the combined DataFrame to a new CSV file\n",
    "#events.to_csv('../../data/events.csv', index=False)\n",
    "#events"
   ],
   "metadata": {
    "collapsed": false,
    "pycharm": {
     "name": "#%%\n"
    }
   }
  },
  {
   "cell_type": "markdown",
   "source": [
    "### Add isSet"
   ],
   "metadata": {
    "collapsed": false,
    "pycharm": {
     "name": "#%% md\n"
    }
   }
  },
  {
   "cell_type": "code",
   "execution_count": 20,
   "outputs": [
    {
     "ename": "OSError",
     "evalue": "[Errno 28] No space left on device",
     "output_type": "error",
     "traceback": [
      "\u001B[0;31m---------------------------------------------------------------------------\u001B[0m",
      "\u001B[0;31mOSError\u001B[0m                                   Traceback (most recent call last)",
      "Cell \u001B[0;32mIn[20], line 27\u001B[0m\n\u001B[1;32m     25\u001B[0m \u001B[38;5;66;03m# Sort by the original index for continuity of data\u001B[39;00m\n\u001B[1;32m     26\u001B[0m events_inSet \u001B[38;5;241m=\u001B[39m events_inSet\u001B[38;5;241m.\u001B[39msort_index()\n\u001B[0;32m---> 27\u001B[0m \u001B[43mevents_inSet\u001B[49m\u001B[38;5;241;43m.\u001B[39;49m\u001B[43mto_csv\u001B[49m\u001B[43m(\u001B[49m\u001B[38;5;124;43m'\u001B[39;49m\u001B[38;5;124;43m../data/events_inSet.csv\u001B[39;49m\u001B[38;5;124;43m'\u001B[39;49m\u001B[43m)\u001B[49m\n",
      "File \u001B[0;32m~/Desktop/Crypto/masterseminar/python/venv/lib/python3.9/site-packages/pandas/util/_decorators.py:211\u001B[0m, in \u001B[0;36mdeprecate_kwarg.<locals>._deprecate_kwarg.<locals>.wrapper\u001B[0;34m(*args, **kwargs)\u001B[0m\n\u001B[1;32m    209\u001B[0m     \u001B[38;5;28;01melse\u001B[39;00m:\n\u001B[1;32m    210\u001B[0m         kwargs[new_arg_name] \u001B[38;5;241m=\u001B[39m new_arg_value\n\u001B[0;32m--> 211\u001B[0m \u001B[38;5;28;01mreturn\u001B[39;00m \u001B[43mfunc\u001B[49m\u001B[43m(\u001B[49m\u001B[38;5;241;43m*\u001B[39;49m\u001B[43margs\u001B[49m\u001B[43m,\u001B[49m\u001B[43m \u001B[49m\u001B[38;5;241;43m*\u001B[39;49m\u001B[38;5;241;43m*\u001B[39;49m\u001B[43mkwargs\u001B[49m\u001B[43m)\u001B[49m\n",
      "File \u001B[0;32m~/Desktop/Crypto/masterseminar/python/venv/lib/python3.9/site-packages/pandas/core/generic.py:3720\u001B[0m, in \u001B[0;36mNDFrame.to_csv\u001B[0;34m(self, path_or_buf, sep, na_rep, float_format, columns, header, index, index_label, mode, encoding, compression, quoting, quotechar, lineterminator, chunksize, date_format, doublequote, escapechar, decimal, errors, storage_options)\u001B[0m\n\u001B[1;32m   3709\u001B[0m df \u001B[38;5;241m=\u001B[39m \u001B[38;5;28mself\u001B[39m \u001B[38;5;28;01mif\u001B[39;00m \u001B[38;5;28misinstance\u001B[39m(\u001B[38;5;28mself\u001B[39m, ABCDataFrame) \u001B[38;5;28;01melse\u001B[39;00m \u001B[38;5;28mself\u001B[39m\u001B[38;5;241m.\u001B[39mto_frame()\n\u001B[1;32m   3711\u001B[0m formatter \u001B[38;5;241m=\u001B[39m DataFrameFormatter(\n\u001B[1;32m   3712\u001B[0m     frame\u001B[38;5;241m=\u001B[39mdf,\n\u001B[1;32m   3713\u001B[0m     header\u001B[38;5;241m=\u001B[39mheader,\n\u001B[0;32m   (...)\u001B[0m\n\u001B[1;32m   3717\u001B[0m     decimal\u001B[38;5;241m=\u001B[39mdecimal,\n\u001B[1;32m   3718\u001B[0m )\n\u001B[0;32m-> 3720\u001B[0m \u001B[38;5;28;01mreturn\u001B[39;00m \u001B[43mDataFrameRenderer\u001B[49m\u001B[43m(\u001B[49m\u001B[43mformatter\u001B[49m\u001B[43m)\u001B[49m\u001B[38;5;241;43m.\u001B[39;49m\u001B[43mto_csv\u001B[49m\u001B[43m(\u001B[49m\n\u001B[1;32m   3721\u001B[0m \u001B[43m    \u001B[49m\u001B[43mpath_or_buf\u001B[49m\u001B[43m,\u001B[49m\n\u001B[1;32m   3722\u001B[0m \u001B[43m    \u001B[49m\u001B[43mlineterminator\u001B[49m\u001B[38;5;241;43m=\u001B[39;49m\u001B[43mlineterminator\u001B[49m\u001B[43m,\u001B[49m\n\u001B[1;32m   3723\u001B[0m \u001B[43m    \u001B[49m\u001B[43msep\u001B[49m\u001B[38;5;241;43m=\u001B[39;49m\u001B[43msep\u001B[49m\u001B[43m,\u001B[49m\n\u001B[1;32m   3724\u001B[0m \u001B[43m    \u001B[49m\u001B[43mencoding\u001B[49m\u001B[38;5;241;43m=\u001B[39;49m\u001B[43mencoding\u001B[49m\u001B[43m,\u001B[49m\n\u001B[1;32m   3725\u001B[0m \u001B[43m    \u001B[49m\u001B[43merrors\u001B[49m\u001B[38;5;241;43m=\u001B[39;49m\u001B[43merrors\u001B[49m\u001B[43m,\u001B[49m\n\u001B[1;32m   3726\u001B[0m \u001B[43m    \u001B[49m\u001B[43mcompression\u001B[49m\u001B[38;5;241;43m=\u001B[39;49m\u001B[43mcompression\u001B[49m\u001B[43m,\u001B[49m\n\u001B[1;32m   3727\u001B[0m \u001B[43m    \u001B[49m\u001B[43mquoting\u001B[49m\u001B[38;5;241;43m=\u001B[39;49m\u001B[43mquoting\u001B[49m\u001B[43m,\u001B[49m\n\u001B[1;32m   3728\u001B[0m \u001B[43m    \u001B[49m\u001B[43mcolumns\u001B[49m\u001B[38;5;241;43m=\u001B[39;49m\u001B[43mcolumns\u001B[49m\u001B[43m,\u001B[49m\n\u001B[1;32m   3729\u001B[0m \u001B[43m    \u001B[49m\u001B[43mindex_label\u001B[49m\u001B[38;5;241;43m=\u001B[39;49m\u001B[43mindex_label\u001B[49m\u001B[43m,\u001B[49m\n\u001B[1;32m   3730\u001B[0m \u001B[43m    \u001B[49m\u001B[43mmode\u001B[49m\u001B[38;5;241;43m=\u001B[39;49m\u001B[43mmode\u001B[49m\u001B[43m,\u001B[49m\n\u001B[1;32m   3731\u001B[0m \u001B[43m    \u001B[49m\u001B[43mchunksize\u001B[49m\u001B[38;5;241;43m=\u001B[39;49m\u001B[43mchunksize\u001B[49m\u001B[43m,\u001B[49m\n\u001B[1;32m   3732\u001B[0m \u001B[43m    \u001B[49m\u001B[43mquotechar\u001B[49m\u001B[38;5;241;43m=\u001B[39;49m\u001B[43mquotechar\u001B[49m\u001B[43m,\u001B[49m\n\u001B[1;32m   3733\u001B[0m \u001B[43m    \u001B[49m\u001B[43mdate_format\u001B[49m\u001B[38;5;241;43m=\u001B[39;49m\u001B[43mdate_format\u001B[49m\u001B[43m,\u001B[49m\n\u001B[1;32m   3734\u001B[0m \u001B[43m    \u001B[49m\u001B[43mdoublequote\u001B[49m\u001B[38;5;241;43m=\u001B[39;49m\u001B[43mdoublequote\u001B[49m\u001B[43m,\u001B[49m\n\u001B[1;32m   3735\u001B[0m \u001B[43m    \u001B[49m\u001B[43mescapechar\u001B[49m\u001B[38;5;241;43m=\u001B[39;49m\u001B[43mescapechar\u001B[49m\u001B[43m,\u001B[49m\n\u001B[1;32m   3736\u001B[0m \u001B[43m    \u001B[49m\u001B[43mstorage_options\u001B[49m\u001B[38;5;241;43m=\u001B[39;49m\u001B[43mstorage_options\u001B[49m\u001B[43m,\u001B[49m\n\u001B[1;32m   3737\u001B[0m \u001B[43m\u001B[49m\u001B[43m)\u001B[49m\n",
      "File \u001B[0;32m~/Desktop/Crypto/masterseminar/python/venv/lib/python3.9/site-packages/pandas/util/_decorators.py:211\u001B[0m, in \u001B[0;36mdeprecate_kwarg.<locals>._deprecate_kwarg.<locals>.wrapper\u001B[0;34m(*args, **kwargs)\u001B[0m\n\u001B[1;32m    209\u001B[0m     \u001B[38;5;28;01melse\u001B[39;00m:\n\u001B[1;32m    210\u001B[0m         kwargs[new_arg_name] \u001B[38;5;241m=\u001B[39m new_arg_value\n\u001B[0;32m--> 211\u001B[0m \u001B[38;5;28;01mreturn\u001B[39;00m \u001B[43mfunc\u001B[49m\u001B[43m(\u001B[49m\u001B[38;5;241;43m*\u001B[39;49m\u001B[43margs\u001B[49m\u001B[43m,\u001B[49m\u001B[43m \u001B[49m\u001B[38;5;241;43m*\u001B[39;49m\u001B[38;5;241;43m*\u001B[39;49m\u001B[43mkwargs\u001B[49m\u001B[43m)\u001B[49m\n",
      "File \u001B[0;32m~/Desktop/Crypto/masterseminar/python/venv/lib/python3.9/site-packages/pandas/io/formats/format.py:1189\u001B[0m, in \u001B[0;36mDataFrameRenderer.to_csv\u001B[0;34m(self, path_or_buf, encoding, sep, columns, index_label, mode, compression, quoting, quotechar, lineterminator, chunksize, date_format, doublequote, escapechar, errors, storage_options)\u001B[0m\n\u001B[1;32m   1168\u001B[0m     created_buffer \u001B[38;5;241m=\u001B[39m \u001B[38;5;28;01mFalse\u001B[39;00m\n\u001B[1;32m   1170\u001B[0m csv_formatter \u001B[38;5;241m=\u001B[39m CSVFormatter(\n\u001B[1;32m   1171\u001B[0m     path_or_buf\u001B[38;5;241m=\u001B[39mpath_or_buf,\n\u001B[1;32m   1172\u001B[0m     lineterminator\u001B[38;5;241m=\u001B[39mlineterminator,\n\u001B[0;32m   (...)\u001B[0m\n\u001B[1;32m   1187\u001B[0m     formatter\u001B[38;5;241m=\u001B[39m\u001B[38;5;28mself\u001B[39m\u001B[38;5;241m.\u001B[39mfmt,\n\u001B[1;32m   1188\u001B[0m )\n\u001B[0;32m-> 1189\u001B[0m \u001B[43mcsv_formatter\u001B[49m\u001B[38;5;241;43m.\u001B[39;49m\u001B[43msave\u001B[49m\u001B[43m(\u001B[49m\u001B[43m)\u001B[49m\n\u001B[1;32m   1191\u001B[0m \u001B[38;5;28;01mif\u001B[39;00m created_buffer:\n\u001B[1;32m   1192\u001B[0m     \u001B[38;5;28;01massert\u001B[39;00m \u001B[38;5;28misinstance\u001B[39m(path_or_buf, StringIO)\n",
      "File \u001B[0;32m~/Desktop/Crypto/masterseminar/python/venv/lib/python3.9/site-packages/pandas/io/formats/csvs.py:261\u001B[0m, in \u001B[0;36mCSVFormatter.save\u001B[0;34m(self)\u001B[0m\n\u001B[1;32m    241\u001B[0m \u001B[38;5;28;01mwith\u001B[39;00m get_handle(\n\u001B[1;32m    242\u001B[0m     \u001B[38;5;28mself\u001B[39m\u001B[38;5;241m.\u001B[39mfilepath_or_buffer,\n\u001B[1;32m    243\u001B[0m     \u001B[38;5;28mself\u001B[39m\u001B[38;5;241m.\u001B[39mmode,\n\u001B[0;32m   (...)\u001B[0m\n\u001B[1;32m    249\u001B[0m \n\u001B[1;32m    250\u001B[0m     \u001B[38;5;66;03m# Note: self.encoding is irrelevant here\u001B[39;00m\n\u001B[1;32m    251\u001B[0m     \u001B[38;5;28mself\u001B[39m\u001B[38;5;241m.\u001B[39mwriter \u001B[38;5;241m=\u001B[39m csvlib\u001B[38;5;241m.\u001B[39mwriter(\n\u001B[1;32m    252\u001B[0m         handles\u001B[38;5;241m.\u001B[39mhandle,\n\u001B[1;32m    253\u001B[0m         lineterminator\u001B[38;5;241m=\u001B[39m\u001B[38;5;28mself\u001B[39m\u001B[38;5;241m.\u001B[39mlineterminator,\n\u001B[0;32m   (...)\u001B[0m\n\u001B[1;32m    258\u001B[0m         quotechar\u001B[38;5;241m=\u001B[39m\u001B[38;5;28mself\u001B[39m\u001B[38;5;241m.\u001B[39mquotechar,\n\u001B[1;32m    259\u001B[0m     )\n\u001B[0;32m--> 261\u001B[0m     \u001B[38;5;28;43mself\u001B[39;49m\u001B[38;5;241;43m.\u001B[39;49m\u001B[43m_save\u001B[49m\u001B[43m(\u001B[49m\u001B[43m)\u001B[49m\n",
      "File \u001B[0;32m~/Desktop/Crypto/masterseminar/python/venv/lib/python3.9/site-packages/pandas/io/formats/csvs.py:266\u001B[0m, in \u001B[0;36mCSVFormatter._save\u001B[0;34m(self)\u001B[0m\n\u001B[1;32m    264\u001B[0m \u001B[38;5;28;01mif\u001B[39;00m \u001B[38;5;28mself\u001B[39m\u001B[38;5;241m.\u001B[39m_need_to_save_header:\n\u001B[1;32m    265\u001B[0m     \u001B[38;5;28mself\u001B[39m\u001B[38;5;241m.\u001B[39m_save_header()\n\u001B[0;32m--> 266\u001B[0m \u001B[38;5;28;43mself\u001B[39;49m\u001B[38;5;241;43m.\u001B[39;49m\u001B[43m_save_body\u001B[49m\u001B[43m(\u001B[49m\u001B[43m)\u001B[49m\n",
      "File \u001B[0;32m~/Desktop/Crypto/masterseminar/python/venv/lib/python3.9/site-packages/pandas/io/formats/csvs.py:304\u001B[0m, in \u001B[0;36mCSVFormatter._save_body\u001B[0;34m(self)\u001B[0m\n\u001B[1;32m    302\u001B[0m \u001B[38;5;28;01mif\u001B[39;00m start_i \u001B[38;5;241m>\u001B[39m\u001B[38;5;241m=\u001B[39m end_i:\n\u001B[1;32m    303\u001B[0m     \u001B[38;5;28;01mbreak\u001B[39;00m\n\u001B[0;32m--> 304\u001B[0m \u001B[38;5;28;43mself\u001B[39;49m\u001B[38;5;241;43m.\u001B[39;49m\u001B[43m_save_chunk\u001B[49m\u001B[43m(\u001B[49m\u001B[43mstart_i\u001B[49m\u001B[43m,\u001B[49m\u001B[43m \u001B[49m\u001B[43mend_i\u001B[49m\u001B[43m)\u001B[49m\n",
      "File \u001B[0;32m~/Desktop/Crypto/masterseminar/python/venv/lib/python3.9/site-packages/pandas/io/formats/csvs.py:315\u001B[0m, in \u001B[0;36mCSVFormatter._save_chunk\u001B[0;34m(self, start_i, end_i)\u001B[0m\n\u001B[1;32m    312\u001B[0m data \u001B[38;5;241m=\u001B[39m [res\u001B[38;5;241m.\u001B[39miget_values(i) \u001B[38;5;28;01mfor\u001B[39;00m i \u001B[38;5;129;01min\u001B[39;00m \u001B[38;5;28mrange\u001B[39m(\u001B[38;5;28mlen\u001B[39m(res\u001B[38;5;241m.\u001B[39mitems))]\n\u001B[1;32m    314\u001B[0m ix \u001B[38;5;241m=\u001B[39m \u001B[38;5;28mself\u001B[39m\u001B[38;5;241m.\u001B[39mdata_index[slicer]\u001B[38;5;241m.\u001B[39m_format_native_types(\u001B[38;5;241m*\u001B[39m\u001B[38;5;241m*\u001B[39m\u001B[38;5;28mself\u001B[39m\u001B[38;5;241m.\u001B[39m_number_format)\n\u001B[0;32m--> 315\u001B[0m \u001B[43mlibwriters\u001B[49m\u001B[38;5;241;43m.\u001B[39;49m\u001B[43mwrite_csv_rows\u001B[49m\u001B[43m(\u001B[49m\n\u001B[1;32m    316\u001B[0m \u001B[43m    \u001B[49m\u001B[43mdata\u001B[49m\u001B[43m,\u001B[49m\n\u001B[1;32m    317\u001B[0m \u001B[43m    \u001B[49m\u001B[43mix\u001B[49m\u001B[43m,\u001B[49m\n\u001B[1;32m    318\u001B[0m \u001B[43m    \u001B[49m\u001B[38;5;28;43mself\u001B[39;49m\u001B[38;5;241;43m.\u001B[39;49m\u001B[43mnlevels\u001B[49m\u001B[43m,\u001B[49m\n\u001B[1;32m    319\u001B[0m \u001B[43m    \u001B[49m\u001B[38;5;28;43mself\u001B[39;49m\u001B[38;5;241;43m.\u001B[39;49m\u001B[43mcols\u001B[49m\u001B[43m,\u001B[49m\n\u001B[1;32m    320\u001B[0m \u001B[43m    \u001B[49m\u001B[38;5;28;43mself\u001B[39;49m\u001B[38;5;241;43m.\u001B[39;49m\u001B[43mwriter\u001B[49m\u001B[43m,\u001B[49m\n\u001B[1;32m    321\u001B[0m \u001B[43m\u001B[49m\u001B[43m)\u001B[49m\n",
      "File \u001B[0;32m~/Desktop/Crypto/masterseminar/python/venv/lib/python3.9/site-packages/pandas/_libs/writers.pyx:55\u001B[0m, in \u001B[0;36mpandas._libs.writers.write_csv_rows\u001B[0;34m()\u001B[0m\n",
      "\u001B[0;31mOSError\u001B[0m: [Errno 28] No space left on device"
     ]
    }
   ],
   "source": [
    "#events = pd.read_csv('events.csv')\n",
    "\n",
    "# Filter rows where both 'isSetFrom' and 'isSetTo' are True\n",
    "both_true_df = events[(events['isSetFrom'] == True) & (events['isSetTo'] == True)]\n",
    "\n",
    "# Create two copies of both_true_df\n",
    "df1 = both_true_df.copy()\n",
    "df2 = both_true_df.copy()\n",
    "\n",
    "# In df1, set 'isSet' to 'from', and in df2, set 'isSet' to 'to'\n",
    "df1['isSet'] = 'from'\n",
    "df2['isSet'] = 'to'\n",
    "\n",
    "# Rows where only one of 'isSetFrom' and 'isSetTo' is True\n",
    "only_from_true_df = events[(events['isSetFrom'] == True) & (events['isSetTo'] == False)].copy()\n",
    "only_from_true_df['isSet'] = 'from'\n",
    "\n",
    "only_to_true_df = events[(events['isSetFrom'] == False) & (events['isSetTo'] == True)].copy()\n",
    "only_to_true_df['isSet'] = 'to'\n",
    "\n",
    "# Concatenate all the DataFrames together\n",
    "events_inSet = pd.concat([df1, df2, only_from_true_df, only_to_true_df])\n",
    "events_inSet = events_inSet.drop(['isSetFrom','isSetTo'], axis=1)\n",
    "\n",
    "# Sort by the original index for continuity of data\n",
    "events_inSet = events_inSet.sort_index()\n",
    "events_inSet.to_csv('../data/events_inSet.csv')"
   ],
   "metadata": {
    "collapsed": false,
    "pycharm": {
     "name": "#%%\n"
    }
   }
  },
  {
   "cell_type": "markdown",
   "source": [
    "### Filter event data (not needed for this work!)"
   ],
   "metadata": {
    "collapsed": false
   }
  },
  {
   "cell_type": "code",
   "execution_count": 33,
   "outputs": [
    {
     "name": "stderr",
     "output_type": "stream",
     "text": [
      "/var/folders/6y/q2mh3ct92xx9v05c53h84l6c0000gn/T/ipykernel_16915/943975255.py:1: DtypeWarning: Columns (6,13) have mixed types. Specify dtype option on import or set low_memory=False.\n",
      "  events_inSet = pd.read_csv('../../data/events_inSet.csv')\n"
     ]
    },
    {
     "name": "stdout",
     "output_type": "stream",
     "text": [
      "Observations: 6287852\n",
      "Unique addresses: 108273\n"
     ]
    }
   ],
   "source": [
    "events_inSet = pd.read_csv('../data/events_inSet.csv')\n",
    "events_inSet.drop(['Unnamed: 0'], inplace=True, axis=1)\n",
    "\n",
    "# Create userAddress column\n",
    "events_inSet['userAddress'] = events_inSet.apply(lambda row: row['from'] if row['isSet'] == 'from' else row['to'], axis=1)\n",
    "\n",
    "# Apply filter criteria\n",
    "df = events_inSet[(events_inSet['isSet']=='to') & (events_inSet['tokenType']!=20) & (events_inSet['contractAddress']!= '0x2953399124f0cbb46d2cbacd8a89cf0599974963')]\n",
    "# Sort by userAddress\n",
    "df = df.sort_values(by='userAddress').reset_index(drop=True)\n",
    "# Save as csv\n",
    "df.to_csv('../../data/nftsReceived.csv')\n",
    "\n",
    "# Print number of observations and unique users\n",
    "unique_addresses = len(df.groupby('userAddress'))\n",
    "observations = len(df)\n",
    "print(f'Observations: {observations}\\nUnique addresses: {unique_addresses}')"
   ],
   "metadata": {
    "collapsed": false,
    "pycharm": {
     "name": "#%%\n"
    }
   }
  },
  {
   "cell_type": "markdown",
   "source": [
    "### (Merge CSV files)"
   ],
   "metadata": {
    "collapsed": false,
    "pycharm": {
     "name": "#%% md\n"
    }
   }
  },
  {
   "cell_type": "code",
   "execution_count": null,
   "outputs": [],
   "source": [
    "files = ['../data/transactions_polygon_0-20000.csv', '../data/transactions_polygon_20001-40000.csv', '../data/transactions_polygon_40001-60000.csv', '../data/transactions_polygon_60001-80000.csv', '../data/transactions_polygon_80001-100000.csv', '../data/transactions_polygon_100001-120000.csv', '../data/transactions_polygon_120001-129987.csv']\n",
    "\n",
    "dfs = [pd.read_csv(file) for file in files]\n",
    "df = pd.concat(dfs, axis=0, ignore_index=True)\n",
    "df.to_csv('../data/polygon_transactions.csv', index=False)"
   ],
   "metadata": {
    "collapsed": false,
    "pycharm": {
     "name": "#%%\n"
    }
   }
  }
 ],
 "metadata": {
  "kernelspec": {
   "display_name": "Python 3",
   "language": "python",
   "name": "python3"
  },
  "language_info": {
   "codemirror_mode": {
    "name": "ipython",
    "version": 2
   },
   "file_extension": ".py",
   "mimetype": "text/x-python",
   "name": "python",
   "nbconvert_exporter": "python",
   "pygments_lexer": "ipython2",
   "version": "2.7.6"
  }
 },
 "nbformat": 4,
 "nbformat_minor": 0
}