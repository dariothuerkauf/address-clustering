{
 "cells": [
  {
   "cell_type": "markdown",
   "source": [
    "# Node embeddings\n",
    "\n",
    "In this notebook, we create the node embeddings using Diff2Vec, Role2Vec, and DeepWalk and measure/compare their performance using the previously generated ENS address pairs as ground-truth. For evaluation, we run each method ten times and report the average rank of the target address.\n",
    "\n",
    "Later on, we also test a two-step approach adding time-of-day and/or normalized gas information to the embeddings. We want to test if adding this information improves the average rank of the target."
   ],
   "metadata": {
    "collapsed": false
   }
  },
  {
   "cell_type": "code",
   "execution_count": 1,
   "metadata": {},
   "outputs": [],
   "source": [
    "from sklearn.preprocessing import StandardScaler\n",
    "from utils import *"
   ]
  },
  {
   "cell_type": "markdown",
   "metadata": {},
   "source": [
    "### Read CSVs"
   ]
  },
  {
   "cell_type": "code",
   "execution_count": 2,
   "metadata": {
    "pycharm": {
     "name": "#%%\n"
    }
   },
   "outputs": [
    {
     "name": "stderr",
     "output_type": "stream",
     "text": [
      "/Users/dthuerkauf/Desktop/Crypto/masterseminar/python/venv/lib/python3.9/site-packages/IPython/core/interactiveshell.py:3460: DtypeWarning: Columns (7,11,12) have mixed types.Specify dtype option on import or set low_memory=False.\n",
      "  exec(code_obj, self.user_global_ns, self.user_ns)\n"
     ]
    }
   ],
   "source": [
    "all_transfers_df = pd.read_csv('../data/all_intra_transfers.csv', index_col=[0]) # excluding zero-value transfers does not make a significant difference for the resulting graph (nodes: 51566, edges: 249302)\n",
    "ens_pairs = pd.read_csv('../data/ens_pairs.csv', index_col=[0])"
   ]
  },
  {
   "cell_type": "markdown",
   "source": [
    "### Create the network graph"
   ],
   "metadata": {
    "collapsed": false
   }
  },
  {
   "cell_type": "code",
   "execution_count": 3,
   "metadata": {
    "pycharm": {
     "name": "#%%\n"
    }
   },
   "outputs": [
    {
     "name": "stdout",
     "output_type": "stream",
     "text": [
      "Nodes: 51566\n",
      "Edges: 249302\n"
     ]
    }
   ],
   "source": [
    "## Create network graph\n",
    "G = nx.from_pandas_edgelist(all_transfers_df, 'from', 'to', create_using=nx.MultiDiGraph())\n",
    "G = clean_graph(G)\n",
    "\n",
    "# Get the largest connected component (assuming graph is undirected)\n",
    "largest_cc = max(nx.connected_components(G), key=len)\n",
    "G_cc = G.subgraph(largest_cc)\n",
    "\n",
    "# Recode the graph's nodes, node_map maps from address to index\n",
    "G_cc, node_map = recode_graph(G_cc)\n",
    "\n",
    "# Create reverse map (from indices to addresses)\n",
    "idx_map = dict(zip(node_map.values(),node_map.keys()))\n",
    "ordered_addresses = [idx_map[idx] for idx in range(len(node_map))]\n",
    "\n",
    "print(f'Nodes: {len(G_cc.nodes())}\\nEdges: {len(G_cc.edges())}')"
   ]
  },
  {
   "cell_type": "markdown",
   "source": [
    "### Run node embedding methods once and store the embeddings as a dataframe"
   ],
   "metadata": {
    "collapsed": false,
    "pycharm": {
     "name": "#%% md\n"
    }
   }
  },
  {
   "cell_type": "code",
   "execution_count": 32,
   "outputs": [],
   "source": [
    "# Diff2Vec\n",
    "diff2vec = Diff2Vec(diffusion_number=10, diffusion_cover=40, dimensions=128, window_size=5, learning_rate=0.025)\n",
    "embeddings_d2v, emb_d2v_df = fit_model(G_cc, diff2vec, ordered_addresses)\n",
    "emb_d2v_df.to_csv('../data/embeddings/diff2vec.csv')\n",
    "\n",
    "# Role2Vec\n",
    "role2vec = Role2Vec(walk_number=10, walk_length=40, dimensions=128, window_size=5, learning_rate=0.025, epochs=5)\n",
    "embeddings_r2v, emb_r2v_df = fit_model(G_cc, role2vec, ordered_addresses)\n",
    "emb_r2v_df.to_csv('../data/embeddings/role2vec.csv')\n",
    "\n",
    "# DeepWalk\n",
    "deepWalk = DeepWalk(walk_number=10, walk_length=40, dimensions=128, window_size=5, learning_rate=0.025, epochs=5)\n",
    "embeddings_dw, emb_dw_df = fit_model(G_cc, deepWalk, ordered_addresses)\n",
    "emb_dw_df.to_csv('../data/embeddings/deepWalk.csv')"
   ],
   "metadata": {
    "collapsed": false,
    "pycharm": {
     "name": "#%%\n"
    }
   }
  },
  {
   "cell_type": "markdown",
   "source": [
    "### Evaluation - Conduct 10 separate experiments and calculate the average rank for each target address"
   ],
   "metadata": {
    "collapsed": false,
    "pycharm": {
     "name": "#%% md\n"
    }
   }
  },
  {
   "cell_type": "code",
   "execution_count": 20,
   "outputs": [],
   "source": [
    "def calculate_average_rank(model, iterations=5):\n",
    "    rank_arr = []\n",
    "\n",
    "    for i in tqdm(range(iterations)):\n",
    "        embeddings, emb_df = fit_model(G_cc, model, ordered_addresses)\n",
    "        faiss_index = DistCalculation(embeddings, node_map)\n",
    "\n",
    "        ranks = []\n",
    "        for _, row in ens_pairs.iterrows():\n",
    "            rank, _ = faiss_index.foo(row['addr1'], row['addr2'])\n",
    "            ranks.append(rank)\n",
    "\n",
    "        # Add the ranks to the array\n",
    "        rank_arr.append(ranks)\n",
    "\n",
    "    rank_arr = np.array(rank_arr)\n",
    "    # Convert None values to np.nan\n",
    "    rank_arr = [[np.nan if val is None else val for val in sublist] for sublist in rank_arr]\n",
    "    average_rank = np.nanmean(rank_arr, axis=0)\n",
    "\n",
    "    return average_rank"
   ],
   "metadata": {
    "collapsed": false,
    "pycharm": {
     "name": "#%%\n"
    }
   }
  },
  {
   "cell_type": "code",
   "execution_count": 21,
   "outputs": [
    {
     "name": "stderr",
     "output_type": "stream",
     "text": [
      "100%|██████████| 10/10 [1:48:29<00:00, 650.93s/it]\n",
      "/var/folders/6y/q2mh3ct92xx9v05c53h84l6c0000gn/T/ipykernel_67154/4103458106.py:19: RuntimeWarning: Mean of empty slice\n",
      "  average_rank = np.nanmean(rank_arr, axis=0)\n"
     ]
    },
    {
     "data": {
      "text/plain": "array([  2.5, 577.3,   2.8, 106.8,   nan,  11.1,  30.7,  44.3,  16.3,\n         1. , 129.1,   nan,   1. ,   1.9,  10.4,   4. ,   4.2,   5.7,\n        52.3,   9. , 474.2,   1.7,   2.7,   1.3,   1. ,   3.7,  16.9,\n         3.6,   1.5,   2.7,   2. ,  64.8,   3. ,  11. ,  52.1,  10.3,\n         4.2,   2.3,  34. ])"
     },
     "execution_count": 21,
     "metadata": {},
     "output_type": "execute_result"
    }
   ],
   "source": [
    "# Diff2Vec\n",
    "diff2vec = Diff2Vec(diffusion_number=10, diffusion_cover=40, dimensions=128, window_size=5, learning_rate=0.025)\n",
    "average_rank_diff2vec = calculate_average_rank(diff2vec, iterations=10)\n",
    "average_rank_diff2vec"
   ],
   "metadata": {
    "collapsed": false,
    "pycharm": {
     "name": "#%%\n"
    }
   }
  },
  {
   "cell_type": "code",
   "execution_count": 22,
   "outputs": [
    {
     "name": "stderr",
     "output_type": "stream",
     "text": [
      "100%|██████████| 10/10 [1:37:16<00:00, 583.60s/it]\n",
      "/var/folders/6y/q2mh3ct92xx9v05c53h84l6c0000gn/T/ipykernel_67154/4103458106.py:19: RuntimeWarning: Mean of empty slice\n",
      "  average_rank = np.nanmean(rank_arr, axis=0)\n"
     ]
    },
    {
     "data": {
      "text/plain": "array([  6.2,  33.3,   2.5,  71.1,   nan,   3. ,   1. ,  91.2,  10.4,\n         1. ,  10. ,   nan,   1. ,   1. ,   1. ,   1. ,   1.5,   5.6,\n       373.8,   9. ,  86.7,   5. ,   1. ,   3.4,   1. ,   2. ,  14.4,\n         2.6,   2. ,   1. ,   2. ,  13.6,   1.1,  19.3,   5.6,  68.9,\n         4. ,   2.9, 178.6])"
     },
     "execution_count": 22,
     "metadata": {},
     "output_type": "execute_result"
    }
   ],
   "source": [
    "# Role2Vec\n",
    "role2vec = Role2Vec(walk_number=10, walk_length=40, dimensions=128, window_size=5, learning_rate=0.025, epochs=5)\n",
    "average_rank_role2vec = calculate_average_rank(role2vec, iterations=10)\n",
    "average_rank_role2vec"
   ],
   "metadata": {
    "collapsed": false,
    "pycharm": {
     "name": "#%%\n"
    }
   }
  },
  {
   "cell_type": "code",
   "execution_count": 23,
   "outputs": [
    {
     "name": "stderr",
     "output_type": "stream",
     "text": [
      "100%|██████████| 10/10 [41:27<00:00, 248.74s/it]\n",
      "/var/folders/6y/q2mh3ct92xx9v05c53h84l6c0000gn/T/ipykernel_67154/4103458106.py:19: RuntimeWarning: Mean of empty slice\n",
      "  average_rank = np.nanmean(rank_arr, axis=0)\n"
     ]
    },
    {
     "data": {
      "text/plain": "array([  2.7,  58.8,   3.3,  20.1,   nan,   1.4,   1. , 545.4,   4.1,\n         1. , 605.4,   nan,   1.8,   1. ,   1. ,  18.2,  10.3,  27.2,\n       108.5,   9. ,  51.8,   2.4,   1. ,   2.3,   2.4,   2.2, 284. ,\n         2.2,   1.7,   1.6,   1.1, 101.2,   1.6,   1.7,   3.4,  47.3,\n       227. ,   3.4, 138.6])"
     },
     "execution_count": 23,
     "metadata": {},
     "output_type": "execute_result"
    }
   ],
   "source": [
    "# DeepWalk\n",
    "deepWalk = DeepWalk(walk_number=10, walk_length=40, dimensions=128, window_size=5, learning_rate=0.025, epochs=5)\n",
    "average_rank_deepWalk = calculate_average_rank(deepWalk, iterations=10)\n",
    "average_rank_deepWalk"
   ],
   "metadata": {
    "collapsed": false,
    "pycharm": {
     "name": "#%%\n"
    }
   }
  },
  {
   "cell_type": "markdown",
   "source": [
    "### Combine the results and compute mean, median and std for each method"
   ],
   "metadata": {
    "collapsed": false
   }
  },
  {
   "cell_type": "code",
   "execution_count": 24,
   "outputs": [
    {
     "name": "stdout",
     "output_type": "stream",
     "text": [
      "Mean:\n",
      " Diff2Vec    46.037838\n",
      "Role2Vec    28.072973\n",
      "DeepWalk    62.083784\n",
      "dtype: float64\n",
      "\n",
      "Median:\n",
      " Diff2Vec    4.2\n",
      "Role2Vec    3.4\n",
      "DeepWalk    3.3\n",
      "dtype: float64\n",
      "\n",
      "Standard Deviation:\n",
      " Diff2Vec    120.504083\n",
      "Role2Vec     68.814003\n",
      "DeepWalk    139.931865\n",
      "dtype: float64\n"
     ]
    }
   ],
   "source": [
    "# Combine numpy arrays\n",
    "average_rank_array = np.column_stack((average_rank_diff2vec, average_rank_role2vec, average_rank_deepWalk))\n",
    "average_rank = pd.DataFrame(average_rank_array, columns=['Diff2Vec', 'Role2Vec', 'DeepWalk'])\n",
    "average_rank.to_csv('../data/average_rank.csv', index=False)\n",
    "\n",
    "# Calculate stats\n",
    "mean = average_rank.mean()\n",
    "median = average_rank.median()\n",
    "std = average_rank.std()\n",
    "\n",
    "# Print results\n",
    "print('Mean:\\n', mean)\n",
    "print('\\nMedian:\\n', median)\n",
    "print('\\nStandard Deviation:\\n', std)"
   ],
   "metadata": {
    "collapsed": false,
    "pycharm": {
     "name": "#%%\n"
    }
   }
  },
  {
   "cell_type": "markdown",
   "source": [
    "### Initialize distance calculation classes\n",
    "\n",
    "In order to run this without always calculating the embeddings, we stored the embeddings as CSVs after running them once. We use these embeddings to initialize our distance calculation class."
   ],
   "metadata": {
    "collapsed": false
   }
  },
  {
   "cell_type": "code",
   "execution_count": 4,
   "outputs": [],
   "source": [
    "#Diff2Vec\n",
    "emb_d2v_df = pd.read_csv('../data/embeddings/diff2vec.csv', index_col='address')\n",
    "embeddings_d2v = emb_d2v_df.values\n",
    "faiss_index_d2v = DistCalculation(embeddings_d2v, node_map)\n",
    "\n",
    "#Role2Vec\n",
    "emb_r2v_df = pd.read_csv('../data/embeddings/role2vec.csv', index_col='address')\n",
    "embeddings_r2v = emb_r2v_df.values\n",
    "faiss_index_r2v = DistCalculation(embeddings_r2v, node_map)\n",
    "\n",
    "#Deepwalk\n",
    "emb_dw_df = pd.read_csv('../data/embeddings/deepWalk.csv', index_col='address')\n",
    "embeddings_dw = emb_dw_df.values\n",
    "faiss_index_deepWalk = DistCalculation(embeddings_dw, node_map)"
   ],
   "metadata": {
    "collapsed": false,
    "pycharm": {
     "name": "#%%\n"
    }
   }
  },
  {
   "cell_type": "markdown",
   "source": [
    "### Add Time-of-Day-Activity and/or gas price selection vectors"
   ],
   "metadata": {
    "collapsed": false
   }
  },
  {
   "cell_type": "code",
   "execution_count": 7,
   "outputs": [],
   "source": [
    "# Prepare stats\n",
    "timeOfDay = pd.read_csv('../data/timeOfDay.csv', index_col='from')\n",
    "normalizedGas = pd.read_csv('../data/normalizedGas.csv', index_col='from')\n",
    "stats_df = timeOfDay.merge(normalizedGas, left_index=True, right_index=True, how='inner')\n",
    "\n",
    "# Normalize\n",
    "scaler = StandardScaler()\n",
    "stats_normalized = pd.DataFrame(scaler.fit_transform(stats_df), columns=stats_df.columns, index=stats_df.index)\n",
    "\n",
    "def filter_dataframe(df, argument, include_hist=False):\n",
    "    if argument.lower() == 'tod':\n",
    "        # keep only the 'ToD' related columns\n",
    "        selected_columns = [col for col in df.columns if 'ToD' in col]\n",
    "    elif argument.lower() == 'normalized_gasprice':\n",
    "        # keep only the 'normalized_gasPrice' related columns\n",
    "        selected_columns = [col for col in df.columns if 'normalized_gasPrice' in col]\n",
    "    elif argument.lower() == 'both':\n",
    "        # keep both 'ToD' and 'normalized_gasPrice' related columns\n",
    "        selected_columns = df.columns\n",
    "    else:\n",
    "        raise ValueError(\"Invalid argument. Expected 'ToD', 'normalized_gasPrice', or 'both'.\")\n",
    "\n",
    "    if not include_hist:\n",
    "        # If include_hist is False, remove columns with 'hist_bin_' in their names\n",
    "        selected_columns = [col for col in selected_columns if 'hist_bin_' not in col]\n",
    "\n",
    "    return df[selected_columns]\n",
    "\n",
    "\n",
    "def compute_relative_rank(df, source_address, target_address, num_neighbors=50):\n",
    "\n",
    "    if source_address in node_map and target_address in node_map:\n",
    "        # Get k nearest neighbors for specified address (default 50)\n",
    "        D, I = faiss_index_d2v.get_dist_idx(node_map[source_address])\n",
    "        nearest_neighbors = list(I[0:num_neighbors])\n",
    "        nearest_neighbors_addresses = [idx_map[j] for j in nearest_neighbors]\n",
    "        nearest_neighbors_addresses.insert(0, source_address)\n",
    "        if target_address not in nearest_neighbors_addresses:\n",
    "            print(f'Target address not in nearest {num_neighbors} neighbors')\n",
    "            return None\n",
    "\n",
    "        # Further filter the dataframe\n",
    "        df_filtered = df[df.index.isin(nearest_neighbors_addresses)]\n",
    "\n",
    "        # Compute the Euclidean distance between the source address and all other addresses\n",
    "        distances = np.linalg.norm(df_filtered.loc[source_address] - df_filtered, axis=1)\n",
    "\n",
    "        # Convert the distances to a DataFrame\n",
    "        df_distances = pd.DataFrame(distances, columns=['distance'], index=df_filtered.index)\n",
    "        df_distances.sort_values(by='distance', inplace=True)\n",
    "\n",
    "        target_rank = df_distances.index.get_loc(target_address)\n",
    "\n",
    "        return target_rank\n",
    "    else:\n",
    "        return None\n",
    "\n",
    "\n",
    "# Quick test\n",
    "df = filter_dataframe(stats_normalized, 'normalized_gasPrice', include_hist=False)\n",
    "source_address = '0x5500c014dc83d18c60858195b42f2e61f877323e'\n",
    "target_address = '0x29d8bf1894fb077edcd5a6ee8ed475b6aed5dbb4'\n",
    "rank = compute_relative_rank(df, source_address, target_address)\n",
    "print(rank)"
   ],
   "metadata": {
    "collapsed": false,
    "pycharm": {
     "name": "#%%\n"
    }
   }
  },
  {
   "cell_type": "code",
   "execution_count": 14,
   "outputs": [
    {
     "data": {
      "text/plain": "                                         addr1  \\\n0   0x85e5472752a6f00775faca4d5179bde1081571b0   \n1   0x5500c014dc83d18c60858195b42f2e61f877323e   \n2   0xb84914f420b6de809ac1ed3d4427d90ed596b41c   \n3   0x05c351382db8d770207f319d96ac1184c3717ede   \n4   0x26846c9083c4ab525de593178e3f2f82afb8ba83   \n5   0xe005c90eb8b38938cfe722e7069118414145709b   \n6   0x1a26db1b2baf0b23f18e19375e8fdc159feb707e   \n7   0x250fbb28b2cd0a9faadc2d8a1d1c72f69163ac29   \n8   0x84ab65f45d3f8067f8bbff80f2248cd1ab4d96be   \n9   0x580bb63d47242964fa5fe9e69c5eb5423b7a50d2   \n10  0xe2beae512697913951cdd85db49545b077a90699   \n11  0xe2cfeab2beba9a7f09fd981f13e84df1e9978a5e   \n12  0x974c1cb84f439826c100b20063c24d72226fd4a8   \n13  0x1e84c5351ad32ed179c14ed4f015748c417841a6   \n14  0xed41aa4abb256b13f02b87cd66a39ddc7a6c9a22   \n15  0xe104414bf575f943e7f94e55e7f59ed086035af4   \n16  0x5528bc911d6bc284cf4da89560534508e7638de4   \n17  0x2d84cfb9cba0e8e4d7511a88cb7102a984fdb0ba   \n18  0xa5dbd5f2f45cec05ace6c08f0b75bec711ea9517   \n19  0x6401f5b9f88c489495fb95ba7aa4276a353bebb8   \n20  0x54a80e0417008db88036f4fb2c4646264717f7a6   \n21  0xa65da49bb89ec7b1a10f3887ae07e4c9c8eea168   \n22  0x08a2f4a84a06a0331b015bd1320ed20e1a9be688   \n23  0x32712bb04948da01d11c9aa6b3e77daeda014781   \n24  0x1094ee0c78b81581c8c8ea34bc2eec8a4bd20756   \n25  0x325a0fa68fc381be451f57d6be7f84da206427fd   \n26  0x8b104344f397afc33ee55c743a0fbd7d956201cd   \n27  0x493df7506210e55a893d70e61d812d824ca1c489   \n28  0x7938d79352ef0f58cd2058f930629928ae74b790   \n29  0x11610d0bf661d3ccbb9493cf23184f68ecfe4783   \n30                                         NaN   \n31                                         NaN   \n32                                         NaN   \n\n                                         addr2       rank  distance  \\\n0   0xbf886e3069d0dfd64e384c93da322f775faa8876   1.000000  0.540400   \n1   0x29d8bf1894fb077edcd5a6ee8ed475b6aed5dbb4   3.000000  0.744784   \n2   0x50839a40d9d7ea49e2c6fd76ee9d184524e4c072   5.000000  1.168792   \n3   0xcf10cd8b5dc2323b1eb6de6164647756bad4de4d  45.000000  1.320000   \n4   0x0786a24145fef2c60a38237e8671332899ce7c1f   9.000000  1.037913   \n5   0xd9c0e1af68d08c8c00d418431e8c036662a82e37   1.000000  0.864102   \n6   0x33321e44c2861033fb80ad04f93e4ccd25f2beef   1.000000  0.671990   \n7   0xc0a527d87baf6f288074df53dd0fbba575e7547e   2.000000  0.607648   \n8   0x9c1bbcc03b59e78410de1d0ba9305082fedad3bb  13.000000  0.983868   \n9   0x7bd544f07afa4284a696dc71e7a03f680dca0543   5.000000  0.760373   \n10  0xfbd9ca40386a8c632cf0529bbb16b4bedb59a0a0   5.000000  0.947820   \n11  0xf3595731c00c1afafdc65eee239d89512d552558   7.000000  1.059497   \n12  0x9dbe3cfc34867cfb988af5ef8396bc6b08afcbb8   9.000000  0.763281   \n13  0xab70dee6c44b432bde1d77477eca6e5f0adbfebb   1.000000  0.534062   \n14  0x500cf9f39d4b202a6bb81c5ace06cd0fe86e0fb7   2.000000  0.536406   \n15  0xf5a134fdb640d5398c3bfdc3343a74f39ae93b7a   2.000000  0.516064   \n16  0x369359b5ae4d7fbbf0512f675157b6ac14bd1d67   1.000000  0.873264   \n17  0xb749a586080436e616f097f193ba9cb6a25e7ea6   3.000000  0.646053   \n18  0xf1289a44a9e7f75809de380ffa261f6095387c72  16.000000  1.139798   \n19  0x8d980b3f2f25e84bde1d1f3446c0292642efed13   4.000000  0.444457   \n20  0x7ee19419ca947821158bb4cc0952c3b58c8293be   2.000000  0.572260   \n21  0xf8efa4a66f933343d21885a3ace47ee5cb893e36   2.000000  0.835507   \n22  0xcad4f4417ed241bfb0061c6e9d572a3e12159549   2.000000  0.707801   \n23  0x8008e08e1f5f693ff02b37b17756ad75afa308c4   3.000000  0.798158   \n24  0x1d56a24b684da7f21e9566e1c8a7cb40483e1078   8.000000  1.135755   \n25  0x53fd90aa13b85168d46ada899b820ec595c852b6  13.000000  1.250952   \n26  0x8665f7ceadfbff09e2cc572f7a6e43198d87ff88  22.000000  1.217536   \n27  0xea904e4dc48bf280e811f496906ed84cf6a4ba4c   7.000000  1.178745   \n28  0xa1dc71c8d20e0c8b108a85a6baea140603e9e6a8   2.000000  0.282557   \n29  0xc0f00ca06f9fcd172edad8a0e5d106d55432aa92  33.000000  1.298972   \n30                                         NaN   7.633333  0.847961   \n31                                         NaN   3.500000  0.816832   \n32                                         NaN   9.864020  0.279991   \n\n    rank_ToD_noHist  rank_ToD_Hist  rank_nG_noHist  rank_nG_Hist  \\\n0          5.000000       6.000000       35.000000     35.000000   \n1          6.000000       2.000000       17.000000     11.000000   \n2         15.000000      34.000000       43.000000     42.000000   \n3          4.000000       9.000000       15.000000     18.000000   \n4          1.000000      25.000000       30.000000     25.000000   \n5          2.000000       2.000000        3.000000      2.000000   \n6         28.000000      27.000000        8.000000     11.000000   \n7          2.000000       2.000000       39.000000     34.000000   \n8          4.000000       4.000000       38.000000     36.000000   \n9          2.000000       2.000000        3.000000      1.000000   \n10         8.000000       7.000000        2.000000      3.000000   \n11        30.000000      25.000000        4.000000      4.000000   \n12         1.000000      38.000000        2.000000     39.000000   \n13         8.000000       7.000000        9.000000      5.000000   \n14         2.000000       1.000000        1.000000      1.000000   \n15         1.000000       4.000000       25.000000     24.000000   \n16        28.000000      16.000000        7.000000      3.000000   \n17         4.000000      15.000000        8.000000      9.000000   \n18         5.000000       3.000000        3.000000      2.000000   \n19         3.000000      42.000000        1.000000     41.000000   \n20         7.000000       7.000000       39.000000     35.000000   \n21         8.000000       6.000000        3.000000      2.000000   \n22         1.000000       2.000000        4.000000      5.000000   \n23         3.000000       3.000000        6.000000      4.000000   \n24         7.000000      19.000000        2.000000     19.000000   \n25        14.000000      10.000000        9.000000      4.000000   \n26         3.000000      21.000000       33.000000     24.000000   \n27        16.000000      22.000000       20.000000     21.000000   \n28         4.000000       5.000000       29.000000     29.000000   \n29        16.000000       3.000000       33.000000      2.000000   \n30         7.933333      12.300000       15.700000     16.366667   \n31         4.500000       7.000000        8.500000     11.000000   \n32         8.164694      11.656615       14.236456     14.180934   \n\n    rank_both_noHist  rank_both_Hist  \n0          18.000000       15.000000  \n1           5.000000        2.000000  \n2          28.000000       37.000000  \n3           1.000000       10.000000  \n4          11.000000       24.000000  \n5           2.000000        2.000000  \n6          27.000000       25.000000  \n7          15.000000       10.000000  \n8           7.000000        5.000000  \n9           2.000000        1.000000  \n10          1.000000        2.000000  \n11         28.000000       20.000000  \n12          1.000000       38.000000  \n13          5.000000        4.000000  \n14          1.000000        1.000000  \n15          8.000000        6.000000  \n16         25.000000       11.000000  \n17          3.000000       11.000000  \n18          2.000000        3.000000  \n19          1.000000       42.000000  \n20         14.000000        9.000000  \n21          6.000000        5.000000  \n22          1.000000        2.000000  \n23          2.000000        1.000000  \n24          7.000000       18.000000  \n25         12.000000        8.000000  \n26         10.000000       21.000000  \n27         13.000000       21.000000  \n28         10.000000       12.000000  \n29         17.000000        3.000000  \n30          9.433333       12.300000  \n31          7.000000        9.500000  \n32          8.562256       11.460512  ",
      "text/html": "<div>\n<style scoped>\n    .dataframe tbody tr th:only-of-type {\n        vertical-align: middle;\n    }\n\n    .dataframe tbody tr th {\n        vertical-align: top;\n    }\n\n    .dataframe thead th {\n        text-align: right;\n    }\n</style>\n<table border=\"1\" class=\"dataframe\">\n  <thead>\n    <tr style=\"text-align: right;\">\n      <th></th>\n      <th>addr1</th>\n      <th>addr2</th>\n      <th>rank</th>\n      <th>distance</th>\n      <th>rank_ToD_noHist</th>\n      <th>rank_ToD_Hist</th>\n      <th>rank_nG_noHist</th>\n      <th>rank_nG_Hist</th>\n      <th>rank_both_noHist</th>\n      <th>rank_both_Hist</th>\n    </tr>\n  </thead>\n  <tbody>\n    <tr>\n      <th>0</th>\n      <td>0x85e5472752a6f00775faca4d5179bde1081571b0</td>\n      <td>0xbf886e3069d0dfd64e384c93da322f775faa8876</td>\n      <td>1.000000</td>\n      <td>0.540400</td>\n      <td>5.000000</td>\n      <td>6.000000</td>\n      <td>35.000000</td>\n      <td>35.000000</td>\n      <td>18.000000</td>\n      <td>15.000000</td>\n    </tr>\n    <tr>\n      <th>1</th>\n      <td>0x5500c014dc83d18c60858195b42f2e61f877323e</td>\n      <td>0x29d8bf1894fb077edcd5a6ee8ed475b6aed5dbb4</td>\n      <td>3.000000</td>\n      <td>0.744784</td>\n      <td>6.000000</td>\n      <td>2.000000</td>\n      <td>17.000000</td>\n      <td>11.000000</td>\n      <td>5.000000</td>\n      <td>2.000000</td>\n    </tr>\n    <tr>\n      <th>2</th>\n      <td>0xb84914f420b6de809ac1ed3d4427d90ed596b41c</td>\n      <td>0x50839a40d9d7ea49e2c6fd76ee9d184524e4c072</td>\n      <td>5.000000</td>\n      <td>1.168792</td>\n      <td>15.000000</td>\n      <td>34.000000</td>\n      <td>43.000000</td>\n      <td>42.000000</td>\n      <td>28.000000</td>\n      <td>37.000000</td>\n    </tr>\n    <tr>\n      <th>3</th>\n      <td>0x05c351382db8d770207f319d96ac1184c3717ede</td>\n      <td>0xcf10cd8b5dc2323b1eb6de6164647756bad4de4d</td>\n      <td>45.000000</td>\n      <td>1.320000</td>\n      <td>4.000000</td>\n      <td>9.000000</td>\n      <td>15.000000</td>\n      <td>18.000000</td>\n      <td>1.000000</td>\n      <td>10.000000</td>\n    </tr>\n    <tr>\n      <th>4</th>\n      <td>0x26846c9083c4ab525de593178e3f2f82afb8ba83</td>\n      <td>0x0786a24145fef2c60a38237e8671332899ce7c1f</td>\n      <td>9.000000</td>\n      <td>1.037913</td>\n      <td>1.000000</td>\n      <td>25.000000</td>\n      <td>30.000000</td>\n      <td>25.000000</td>\n      <td>11.000000</td>\n      <td>24.000000</td>\n    </tr>\n    <tr>\n      <th>5</th>\n      <td>0xe005c90eb8b38938cfe722e7069118414145709b</td>\n      <td>0xd9c0e1af68d08c8c00d418431e8c036662a82e37</td>\n      <td>1.000000</td>\n      <td>0.864102</td>\n      <td>2.000000</td>\n      <td>2.000000</td>\n      <td>3.000000</td>\n      <td>2.000000</td>\n      <td>2.000000</td>\n      <td>2.000000</td>\n    </tr>\n    <tr>\n      <th>6</th>\n      <td>0x1a26db1b2baf0b23f18e19375e8fdc159feb707e</td>\n      <td>0x33321e44c2861033fb80ad04f93e4ccd25f2beef</td>\n      <td>1.000000</td>\n      <td>0.671990</td>\n      <td>28.000000</td>\n      <td>27.000000</td>\n      <td>8.000000</td>\n      <td>11.000000</td>\n      <td>27.000000</td>\n      <td>25.000000</td>\n    </tr>\n    <tr>\n      <th>7</th>\n      <td>0x250fbb28b2cd0a9faadc2d8a1d1c72f69163ac29</td>\n      <td>0xc0a527d87baf6f288074df53dd0fbba575e7547e</td>\n      <td>2.000000</td>\n      <td>0.607648</td>\n      <td>2.000000</td>\n      <td>2.000000</td>\n      <td>39.000000</td>\n      <td>34.000000</td>\n      <td>15.000000</td>\n      <td>10.000000</td>\n    </tr>\n    <tr>\n      <th>8</th>\n      <td>0x84ab65f45d3f8067f8bbff80f2248cd1ab4d96be</td>\n      <td>0x9c1bbcc03b59e78410de1d0ba9305082fedad3bb</td>\n      <td>13.000000</td>\n      <td>0.983868</td>\n      <td>4.000000</td>\n      <td>4.000000</td>\n      <td>38.000000</td>\n      <td>36.000000</td>\n      <td>7.000000</td>\n      <td>5.000000</td>\n    </tr>\n    <tr>\n      <th>9</th>\n      <td>0x580bb63d47242964fa5fe9e69c5eb5423b7a50d2</td>\n      <td>0x7bd544f07afa4284a696dc71e7a03f680dca0543</td>\n      <td>5.000000</td>\n      <td>0.760373</td>\n      <td>2.000000</td>\n      <td>2.000000</td>\n      <td>3.000000</td>\n      <td>1.000000</td>\n      <td>2.000000</td>\n      <td>1.000000</td>\n    </tr>\n    <tr>\n      <th>10</th>\n      <td>0xe2beae512697913951cdd85db49545b077a90699</td>\n      <td>0xfbd9ca40386a8c632cf0529bbb16b4bedb59a0a0</td>\n      <td>5.000000</td>\n      <td>0.947820</td>\n      <td>8.000000</td>\n      <td>7.000000</td>\n      <td>2.000000</td>\n      <td>3.000000</td>\n      <td>1.000000</td>\n      <td>2.000000</td>\n    </tr>\n    <tr>\n      <th>11</th>\n      <td>0xe2cfeab2beba9a7f09fd981f13e84df1e9978a5e</td>\n      <td>0xf3595731c00c1afafdc65eee239d89512d552558</td>\n      <td>7.000000</td>\n      <td>1.059497</td>\n      <td>30.000000</td>\n      <td>25.000000</td>\n      <td>4.000000</td>\n      <td>4.000000</td>\n      <td>28.000000</td>\n      <td>20.000000</td>\n    </tr>\n    <tr>\n      <th>12</th>\n      <td>0x974c1cb84f439826c100b20063c24d72226fd4a8</td>\n      <td>0x9dbe3cfc34867cfb988af5ef8396bc6b08afcbb8</td>\n      <td>9.000000</td>\n      <td>0.763281</td>\n      <td>1.000000</td>\n      <td>38.000000</td>\n      <td>2.000000</td>\n      <td>39.000000</td>\n      <td>1.000000</td>\n      <td>38.000000</td>\n    </tr>\n    <tr>\n      <th>13</th>\n      <td>0x1e84c5351ad32ed179c14ed4f015748c417841a6</td>\n      <td>0xab70dee6c44b432bde1d77477eca6e5f0adbfebb</td>\n      <td>1.000000</td>\n      <td>0.534062</td>\n      <td>8.000000</td>\n      <td>7.000000</td>\n      <td>9.000000</td>\n      <td>5.000000</td>\n      <td>5.000000</td>\n      <td>4.000000</td>\n    </tr>\n    <tr>\n      <th>14</th>\n      <td>0xed41aa4abb256b13f02b87cd66a39ddc7a6c9a22</td>\n      <td>0x500cf9f39d4b202a6bb81c5ace06cd0fe86e0fb7</td>\n      <td>2.000000</td>\n      <td>0.536406</td>\n      <td>2.000000</td>\n      <td>1.000000</td>\n      <td>1.000000</td>\n      <td>1.000000</td>\n      <td>1.000000</td>\n      <td>1.000000</td>\n    </tr>\n    <tr>\n      <th>15</th>\n      <td>0xe104414bf575f943e7f94e55e7f59ed086035af4</td>\n      <td>0xf5a134fdb640d5398c3bfdc3343a74f39ae93b7a</td>\n      <td>2.000000</td>\n      <td>0.516064</td>\n      <td>1.000000</td>\n      <td>4.000000</td>\n      <td>25.000000</td>\n      <td>24.000000</td>\n      <td>8.000000</td>\n      <td>6.000000</td>\n    </tr>\n    <tr>\n      <th>16</th>\n      <td>0x5528bc911d6bc284cf4da89560534508e7638de4</td>\n      <td>0x369359b5ae4d7fbbf0512f675157b6ac14bd1d67</td>\n      <td>1.000000</td>\n      <td>0.873264</td>\n      <td>28.000000</td>\n      <td>16.000000</td>\n      <td>7.000000</td>\n      <td>3.000000</td>\n      <td>25.000000</td>\n      <td>11.000000</td>\n    </tr>\n    <tr>\n      <th>17</th>\n      <td>0x2d84cfb9cba0e8e4d7511a88cb7102a984fdb0ba</td>\n      <td>0xb749a586080436e616f097f193ba9cb6a25e7ea6</td>\n      <td>3.000000</td>\n      <td>0.646053</td>\n      <td>4.000000</td>\n      <td>15.000000</td>\n      <td>8.000000</td>\n      <td>9.000000</td>\n      <td>3.000000</td>\n      <td>11.000000</td>\n    </tr>\n    <tr>\n      <th>18</th>\n      <td>0xa5dbd5f2f45cec05ace6c08f0b75bec711ea9517</td>\n      <td>0xf1289a44a9e7f75809de380ffa261f6095387c72</td>\n      <td>16.000000</td>\n      <td>1.139798</td>\n      <td>5.000000</td>\n      <td>3.000000</td>\n      <td>3.000000</td>\n      <td>2.000000</td>\n      <td>2.000000</td>\n      <td>3.000000</td>\n    </tr>\n    <tr>\n      <th>19</th>\n      <td>0x6401f5b9f88c489495fb95ba7aa4276a353bebb8</td>\n      <td>0x8d980b3f2f25e84bde1d1f3446c0292642efed13</td>\n      <td>4.000000</td>\n      <td>0.444457</td>\n      <td>3.000000</td>\n      <td>42.000000</td>\n      <td>1.000000</td>\n      <td>41.000000</td>\n      <td>1.000000</td>\n      <td>42.000000</td>\n    </tr>\n    <tr>\n      <th>20</th>\n      <td>0x54a80e0417008db88036f4fb2c4646264717f7a6</td>\n      <td>0x7ee19419ca947821158bb4cc0952c3b58c8293be</td>\n      <td>2.000000</td>\n      <td>0.572260</td>\n      <td>7.000000</td>\n      <td>7.000000</td>\n      <td>39.000000</td>\n      <td>35.000000</td>\n      <td>14.000000</td>\n      <td>9.000000</td>\n    </tr>\n    <tr>\n      <th>21</th>\n      <td>0xa65da49bb89ec7b1a10f3887ae07e4c9c8eea168</td>\n      <td>0xf8efa4a66f933343d21885a3ace47ee5cb893e36</td>\n      <td>2.000000</td>\n      <td>0.835507</td>\n      <td>8.000000</td>\n      <td>6.000000</td>\n      <td>3.000000</td>\n      <td>2.000000</td>\n      <td>6.000000</td>\n      <td>5.000000</td>\n    </tr>\n    <tr>\n      <th>22</th>\n      <td>0x08a2f4a84a06a0331b015bd1320ed20e1a9be688</td>\n      <td>0xcad4f4417ed241bfb0061c6e9d572a3e12159549</td>\n      <td>2.000000</td>\n      <td>0.707801</td>\n      <td>1.000000</td>\n      <td>2.000000</td>\n      <td>4.000000</td>\n      <td>5.000000</td>\n      <td>1.000000</td>\n      <td>2.000000</td>\n    </tr>\n    <tr>\n      <th>23</th>\n      <td>0x32712bb04948da01d11c9aa6b3e77daeda014781</td>\n      <td>0x8008e08e1f5f693ff02b37b17756ad75afa308c4</td>\n      <td>3.000000</td>\n      <td>0.798158</td>\n      <td>3.000000</td>\n      <td>3.000000</td>\n      <td>6.000000</td>\n      <td>4.000000</td>\n      <td>2.000000</td>\n      <td>1.000000</td>\n    </tr>\n    <tr>\n      <th>24</th>\n      <td>0x1094ee0c78b81581c8c8ea34bc2eec8a4bd20756</td>\n      <td>0x1d56a24b684da7f21e9566e1c8a7cb40483e1078</td>\n      <td>8.000000</td>\n      <td>1.135755</td>\n      <td>7.000000</td>\n      <td>19.000000</td>\n      <td>2.000000</td>\n      <td>19.000000</td>\n      <td>7.000000</td>\n      <td>18.000000</td>\n    </tr>\n    <tr>\n      <th>25</th>\n      <td>0x325a0fa68fc381be451f57d6be7f84da206427fd</td>\n      <td>0x53fd90aa13b85168d46ada899b820ec595c852b6</td>\n      <td>13.000000</td>\n      <td>1.250952</td>\n      <td>14.000000</td>\n      <td>10.000000</td>\n      <td>9.000000</td>\n      <td>4.000000</td>\n      <td>12.000000</td>\n      <td>8.000000</td>\n    </tr>\n    <tr>\n      <th>26</th>\n      <td>0x8b104344f397afc33ee55c743a0fbd7d956201cd</td>\n      <td>0x8665f7ceadfbff09e2cc572f7a6e43198d87ff88</td>\n      <td>22.000000</td>\n      <td>1.217536</td>\n      <td>3.000000</td>\n      <td>21.000000</td>\n      <td>33.000000</td>\n      <td>24.000000</td>\n      <td>10.000000</td>\n      <td>21.000000</td>\n    </tr>\n    <tr>\n      <th>27</th>\n      <td>0x493df7506210e55a893d70e61d812d824ca1c489</td>\n      <td>0xea904e4dc48bf280e811f496906ed84cf6a4ba4c</td>\n      <td>7.000000</td>\n      <td>1.178745</td>\n      <td>16.000000</td>\n      <td>22.000000</td>\n      <td>20.000000</td>\n      <td>21.000000</td>\n      <td>13.000000</td>\n      <td>21.000000</td>\n    </tr>\n    <tr>\n      <th>28</th>\n      <td>0x7938d79352ef0f58cd2058f930629928ae74b790</td>\n      <td>0xa1dc71c8d20e0c8b108a85a6baea140603e9e6a8</td>\n      <td>2.000000</td>\n      <td>0.282557</td>\n      <td>4.000000</td>\n      <td>5.000000</td>\n      <td>29.000000</td>\n      <td>29.000000</td>\n      <td>10.000000</td>\n      <td>12.000000</td>\n    </tr>\n    <tr>\n      <th>29</th>\n      <td>0x11610d0bf661d3ccbb9493cf23184f68ecfe4783</td>\n      <td>0xc0f00ca06f9fcd172edad8a0e5d106d55432aa92</td>\n      <td>33.000000</td>\n      <td>1.298972</td>\n      <td>16.000000</td>\n      <td>3.000000</td>\n      <td>33.000000</td>\n      <td>2.000000</td>\n      <td>17.000000</td>\n      <td>3.000000</td>\n    </tr>\n    <tr>\n      <th>30</th>\n      <td>NaN</td>\n      <td>NaN</td>\n      <td>7.633333</td>\n      <td>0.847961</td>\n      <td>7.933333</td>\n      <td>12.300000</td>\n      <td>15.700000</td>\n      <td>16.366667</td>\n      <td>9.433333</td>\n      <td>12.300000</td>\n    </tr>\n    <tr>\n      <th>31</th>\n      <td>NaN</td>\n      <td>NaN</td>\n      <td>3.500000</td>\n      <td>0.816832</td>\n      <td>4.500000</td>\n      <td>7.000000</td>\n      <td>8.500000</td>\n      <td>11.000000</td>\n      <td>7.000000</td>\n      <td>9.500000</td>\n    </tr>\n    <tr>\n      <th>32</th>\n      <td>NaN</td>\n      <td>NaN</td>\n      <td>9.864020</td>\n      <td>0.279991</td>\n      <td>8.164694</td>\n      <td>11.656615</td>\n      <td>14.236456</td>\n      <td>14.180934</td>\n      <td>8.562256</td>\n      <td>11.460512</td>\n    </tr>\n  </tbody>\n</table>\n</div>"
     },
     "execution_count": 14,
     "metadata": {},
     "output_type": "execute_result"
    }
   ],
   "source": [
    "d2v_ens = d2v_ens[d2v_ens['rank'] <= 50]\n",
    "\n",
    "ToD_noHist = filter_dataframe(stats_normalized, 'ToD', include_hist=False)\n",
    "d2v_ens['ToD_noHist'] = d2v_ens.apply(\n",
    "    lambda row: compute_relative_rank(ToD_noHist, row['addr1'], row['addr2']),\n",
    "    axis=1\n",
    ")\n",
    "\n",
    "ToD_Hist = filter_dataframe(stats_normalized, 'ToD', include_hist=True)\n",
    "d2v_ens['ToD_Hist'] = d2v_ens.apply(\n",
    "    lambda row: compute_relative_rank(ToD_Hist, row['addr1'], row['addr2']),\n",
    "    axis=1\n",
    ")\n",
    "\n",
    "nGas_noHist = filter_dataframe(stats_normalized, 'normalized_gasPrice', include_hist=False)\n",
    "d2v_ens['nG_noHist'] = d2v_ens.apply(\n",
    "    lambda row: compute_relative_rank(nGas_noHist, row['addr1'], row['addr2']),\n",
    "    axis=1\n",
    ")\n",
    "\n",
    "nGas_Hist = filter_dataframe(stats_normalized, 'normalized_gasPrice', include_hist=True)\n",
    "d2v_ens['nG_Hist'] = d2v_ens.apply(\n",
    "    lambda row: compute_relative_rank(nGas_Hist, row['addr1'], row['addr2']),\n",
    "    axis=1\n",
    ")\n",
    "\n",
    "both_noHist = filter_dataframe(stats_normalized, 'both', include_hist=False)\n",
    "d2v_ens['both_noHist'] = d2v_ens.apply(\n",
    "    lambda row: compute_relative_rank(both_noHist, row['addr1'], row['addr2']),\n",
    "    axis=1\n",
    ")\n",
    "\n",
    "both_Hist = filter_dataframe(stats_normalized, 'both', include_hist=True)\n",
    "d2v_ens['both_Hist'] = d2v_ens.apply(\n",
    "    lambda row: compute_relative_rank(both_Hist, row['addr1'], row['addr2']),\n",
    "    axis=1\n",
    ")\n",
    "\n",
    "\n",
    "# Compute mean and median of numeric columns\n",
    "numeric_cols = d2v_ens.select_dtypes(include=[np.number])\n",
    "df_mean = numeric_cols.mean()\n",
    "df_median = numeric_cols.median()\n",
    "df_std = np.std(numeric_cols)\n",
    "\n",
    "# Append mean and median to the dataframe\n",
    "df_final = d2v_ens.append(df_mean, ignore_index=True)\n",
    "df_final = df_final.append(df_median, ignore_index=True)\n",
    "df_final = df_final.append(df_std, ignore_index=True)\n",
    "df_final"
   ],
   "metadata": {
    "collapsed": false,
    "pycharm": {
     "name": "#%%\n"
    }
   }
  }
 ],
 "metadata": {
  "kernelspec": {
   "display_name": "Python 3 (ipykernel)",
   "language": "python",
   "name": "python3"
  },
  "language_info": {
   "codemirror_mode": {
    "name": "ipython",
    "version": 2
   },
   "file_extension": ".py",
   "mimetype": "text/x-python",
   "name": "python",
   "nbconvert_exporter": "python",
   "pygments_lexer": "ipython2",
   "version": "2.7.6"
  }
 },
 "nbformat": 4,
 "nbformat_minor": 1
}