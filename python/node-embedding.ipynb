{
 "cells": [
  {
   "cell_type": "code",
   "execution_count": 1,
   "metadata": {
    "collapsed": true
   },
   "outputs": [],
   "source": [
    "# Import packages\n",
    "from pymongo import MongoClient\n",
    "import pandas as pd\n",
    "from karateclub import Diff2Vec\n",
    "import networkx as nx\n",
    "import matplotlib.pyplot as plt\n",
    "import numpy as np\n",
    "import faiss\n",
    "import seaborn as sns"
   ]
  },
  {
   "cell_type": "code",
   "execution_count": 17,
   "outputs": [],
   "source": [
    "# Function to prepare dataframe to construct network graph\n",
    "def prepare_dataframe(df):\n",
    "    # Remove self-transfers (loops)\n",
    "    df = df[df['from'] != df['to']]\n",
    "    # Only keep from and to columns from the dataframe\n",
    "    df = df[['from', 'to']]\n",
    "    # Sort from and to addresses lexicographically\n",
    "    df['from'], df['to'] = np.where(df['from'] > df['to'], [df['to'], df['from']], [df['from'], df['to']])\n",
    "    # Group by 'from' and 'to', and count the number of interactions\n",
    "    grouped_df = df.groupby(['from', 'to']).size().reset_index(name='interactions')\n",
    "    grouped_df = grouped_df.rename(columns={\"from\": \"address1\", \"to\": \"address2\"})\n",
    "    # Only keep rows where weight is greater than 1\n",
    "    #grouped_df = grouped_df[grouped_df['interactions'] > 1]\n",
    "    return grouped_df\n",
    "\n",
    "def clean_graph(G):\n",
    "    G_undir = G.to_undirected()\n",
    "    G_tmp = nx.Graph()\n",
    "    G_tmp.add_edges_from(G_undir.edges())\n",
    "    G_tmp.remove_edges_from(nx.selfloop_edges(G_tmp))\n",
    "    return G_tmp\n",
    "\n",
    "def recode_graph(G):\n",
    "    N = G.number_of_nodes()\n",
    "    node_map = dict(zip(G.nodes(), range(N)))\n",
    "    edges_addr = list(G.edges())\n",
    "    edges_idx = [(node_map[src], node_map[trg]) for src, trg in edges_addr]\n",
    "    G_tmp = nx.Graph()\n",
    "    G_tmp.add_edges_from(edges_idx)\n",
    "    return G_tmp, node_map"
   ],
   "metadata": {
    "collapsed": false,
    "pycharm": {
     "name": "#%%\n"
    }
   }
  },
  {
   "cell_type": "markdown",
   "source": [
    "## Construct intra-set transfer and transaction dataframes"
   ],
   "metadata": {
    "collapsed": false
   }
  },
  {
   "cell_type": "code",
   "execution_count": 12,
   "outputs": [],
   "source": [
    "transfer_df = pd.read_csv('../data/token_transfers.csv', index_col=[0])\n",
    "transaction_df = pd.read_csv('../data/native_transfers.csv', index_col=[0])"
   ],
   "metadata": {
    "collapsed": false,
    "pycharm": {
     "name": "#%%\n"
    }
   }
  },
  {
   "cell_type": "code",
   "execution_count": 15,
   "outputs": [
    {
     "data": {
      "text/plain": "                                                      hash  \\\n0        0x67c44a94c7fa3deb18b52c8725daf4e1285028a88201...   \n1        0xd1870ec270e664b83bc7206d438ecbe8b61284dfa174...   \n2        0x5d04935633af10fb3f2161f7c0328934145cbea17375...   \n3        0x1060eb7fa78e1e3604c2e0150fff45f3224a437ec5c8...   \n4        0x68f79a067b1bf334e9e1634bc04e49ede5255d57e6c3...   \n...                                                    ...   \n1185021  0xff4b2d8133986f6b6a9d6bbd88a2bfb1c5abee3648ea...   \n1185022  0x0635f1dcc46059bfb00d29130914370cbe4bb2c8061a...   \n1185023  0xe4dde48b270b76854b461748dfc1c0f5fd0cc986a4ef...   \n1185024  0x085c04dacb55543e2333f84395b3ae93b8631c69d57f...   \n1185025  0xd37d3918b9dae7d2649ae23e3d833239a86c3e2aa9f9...   \n\n                                               from  \\\n0        0x000000085d9a759bb5c3d459d638739c0f48deb0   \n1        0x000000085d9a759bb5c3d459d638739c0f48deb0   \n2        0x000000085d9a759bb5c3d459d638739c0f48deb0   \n3        0x000000085d9a759bb5c3d459d638739c0f48deb0   \n4        0x000000085d9a759bb5c3d459d638739c0f48deb0   \n...                                             ...   \n1185021  0xfffea9b28702bdc5fa77efc33ec87b8f65a73eb7   \n1185022  0xfffea9b28702bdc5fa77efc33ec87b8f65a73eb7   \n1185023  0xfffea9b28702bdc5fa77efc33ec87b8f65a73eb7   \n1185024  0xffffca7879d31e91047d37193a5b806f5f791848   \n1185025  0xffffca7879d31e91047d37193a5b806f5f791848   \n\n                                                 to   timeStamp    nonce  \\\n0        0x000000085d9a759bb5c3d459d638739c0f48deb0  1686282535    189.0   \n1        0x000000085d9a759bb5c3d459d638739c0f48deb0  1688893903    204.0   \n2        0x000000085d9a759bb5c3d459d638739c0f48deb0  1688986319    205.0   \n3        0x000000085d9a759bb5c3d459d638739c0f48deb0  1688993888    206.0   \n4        0x000000085d9a759bb5c3d459d638739c0f48deb0  1688994700    207.0   \n...                                             ...         ...      ...   \n1185021  0x799efb3e3568d40468467722eae51e5f6765b5fa  1671413907  40309.0   \n1185022  0x799efb3e3568d40468467722eae51e5f6765b5fa  1671413931  59757.0   \n1185023  0x799efb3e3568d40468467722eae51e5f6765b5fa  1671413955  96970.0   \n1185024  0x16efdf4ef182a5b82221fed14f4c3996922d00e2  1652154158     27.0   \n1185025  0x16efdf4ef182a5b82221fed14f4c3996922d00e2  1659443472     37.0   \n\n         value      gasPrice input  gasUsed  functionName chainName  \\\n0          0.0  167262761118    0x    21000           NaN   Polygon   \n1          0.0   67000000000    0x    21000           NaN   Polygon   \n2          0.0  110000000000    0x    21000           NaN   Polygon   \n3          0.0  102000000000    0x    21000           NaN   Polygon   \n4          0.0   87000000000    0x    21000           NaN   Polygon   \n...        ...           ...   ...      ...           ...       ...   \n1185021    NaN   61922750388   NaN   145726           NaN   Polygon   \n1185022    NaN   64081415590   NaN   137287           NaN   Polygon   \n1185023    NaN   64737010321   NaN   162802           NaN   Polygon   \n1185024  100.0   49354171902   NaN    46085           NaN  Ethereum   \n1185025    1.0   11131035260   NaN    29682           NaN  Ethereum   \n\n                                    contractAddress  \\\n0                                               NaN   \n1                                               NaN   \n2                                               NaN   \n3                                               NaN   \n4                                               NaN   \n...                                             ...   \n1185021  0xb854bf4d15be8e1f9b38e8b6af7d3283b81edfd8   \n1185022  0xbcbdf467b5530d85b792d9e8afb109d7d1ac32c4   \n1185023  0x873c11f798fc6f6c370c40f460aae4e20069b105   \n1185024  0xdac17f958d2ee523a2206206994597c13d831ec7   \n1185025  0xc02aaa39b223fe8d0a0e5c4f27ead9083c756cc2   \n\n                             tokenName  tokenType       tokenID  \n0                                  NaN        NaN           NaN  \n1                                  NaN        NaN           NaN  \n2                                  NaN        NaN           NaN  \n3                                  NaN        NaN           NaN  \n4                                  NaN        NaN           NaN  \n...                                ...        ...           ...  \n1185021        ICE Poker SNG Wearables      721.0  2.106246e+65  \n1185022                 FOMO Bro NFTee      721.0  1.620000e+02  \n1185023  Roland Lifestyle DCLMVMF 2022      721.0  7.320000e+02  \n1185024                     Tether USD       20.0           NaN  \n1185025                  Wrapped Ether       20.0           NaN  \n\n[1185026 rows x 15 columns]",
      "text/html": "<div>\n<style scoped>\n    .dataframe tbody tr th:only-of-type {\n        vertical-align: middle;\n    }\n\n    .dataframe tbody tr th {\n        vertical-align: top;\n    }\n\n    .dataframe thead th {\n        text-align: right;\n    }\n</style>\n<table border=\"1\" class=\"dataframe\">\n  <thead>\n    <tr style=\"text-align: right;\">\n      <th></th>\n      <th>hash</th>\n      <th>from</th>\n      <th>to</th>\n      <th>timeStamp</th>\n      <th>nonce</th>\n      <th>value</th>\n      <th>gasPrice</th>\n      <th>input</th>\n      <th>gasUsed</th>\n      <th>functionName</th>\n      <th>chainName</th>\n      <th>contractAddress</th>\n      <th>tokenName</th>\n      <th>tokenType</th>\n      <th>tokenID</th>\n    </tr>\n  </thead>\n  <tbody>\n    <tr>\n      <th>0</th>\n      <td>0x67c44a94c7fa3deb18b52c8725daf4e1285028a88201...</td>\n      <td>0x000000085d9a759bb5c3d459d638739c0f48deb0</td>\n      <td>0x000000085d9a759bb5c3d459d638739c0f48deb0</td>\n      <td>1686282535</td>\n      <td>189.0</td>\n      <td>0.0</td>\n      <td>167262761118</td>\n      <td>0x</td>\n      <td>21000</td>\n      <td>NaN</td>\n      <td>Polygon</td>\n      <td>NaN</td>\n      <td>NaN</td>\n      <td>NaN</td>\n      <td>NaN</td>\n    </tr>\n    <tr>\n      <th>1</th>\n      <td>0xd1870ec270e664b83bc7206d438ecbe8b61284dfa174...</td>\n      <td>0x000000085d9a759bb5c3d459d638739c0f48deb0</td>\n      <td>0x000000085d9a759bb5c3d459d638739c0f48deb0</td>\n      <td>1688893903</td>\n      <td>204.0</td>\n      <td>0.0</td>\n      <td>67000000000</td>\n      <td>0x</td>\n      <td>21000</td>\n      <td>NaN</td>\n      <td>Polygon</td>\n      <td>NaN</td>\n      <td>NaN</td>\n      <td>NaN</td>\n      <td>NaN</td>\n    </tr>\n    <tr>\n      <th>2</th>\n      <td>0x5d04935633af10fb3f2161f7c0328934145cbea17375...</td>\n      <td>0x000000085d9a759bb5c3d459d638739c0f48deb0</td>\n      <td>0x000000085d9a759bb5c3d459d638739c0f48deb0</td>\n      <td>1688986319</td>\n      <td>205.0</td>\n      <td>0.0</td>\n      <td>110000000000</td>\n      <td>0x</td>\n      <td>21000</td>\n      <td>NaN</td>\n      <td>Polygon</td>\n      <td>NaN</td>\n      <td>NaN</td>\n      <td>NaN</td>\n      <td>NaN</td>\n    </tr>\n    <tr>\n      <th>3</th>\n      <td>0x1060eb7fa78e1e3604c2e0150fff45f3224a437ec5c8...</td>\n      <td>0x000000085d9a759bb5c3d459d638739c0f48deb0</td>\n      <td>0x000000085d9a759bb5c3d459d638739c0f48deb0</td>\n      <td>1688993888</td>\n      <td>206.0</td>\n      <td>0.0</td>\n      <td>102000000000</td>\n      <td>0x</td>\n      <td>21000</td>\n      <td>NaN</td>\n      <td>Polygon</td>\n      <td>NaN</td>\n      <td>NaN</td>\n      <td>NaN</td>\n      <td>NaN</td>\n    </tr>\n    <tr>\n      <th>4</th>\n      <td>0x68f79a067b1bf334e9e1634bc04e49ede5255d57e6c3...</td>\n      <td>0x000000085d9a759bb5c3d459d638739c0f48deb0</td>\n      <td>0x000000085d9a759bb5c3d459d638739c0f48deb0</td>\n      <td>1688994700</td>\n      <td>207.0</td>\n      <td>0.0</td>\n      <td>87000000000</td>\n      <td>0x</td>\n      <td>21000</td>\n      <td>NaN</td>\n      <td>Polygon</td>\n      <td>NaN</td>\n      <td>NaN</td>\n      <td>NaN</td>\n      <td>NaN</td>\n    </tr>\n    <tr>\n      <th>...</th>\n      <td>...</td>\n      <td>...</td>\n      <td>...</td>\n      <td>...</td>\n      <td>...</td>\n      <td>...</td>\n      <td>...</td>\n      <td>...</td>\n      <td>...</td>\n      <td>...</td>\n      <td>...</td>\n      <td>...</td>\n      <td>...</td>\n      <td>...</td>\n      <td>...</td>\n    </tr>\n    <tr>\n      <th>1185021</th>\n      <td>0xff4b2d8133986f6b6a9d6bbd88a2bfb1c5abee3648ea...</td>\n      <td>0xfffea9b28702bdc5fa77efc33ec87b8f65a73eb7</td>\n      <td>0x799efb3e3568d40468467722eae51e5f6765b5fa</td>\n      <td>1671413907</td>\n      <td>40309.0</td>\n      <td>NaN</td>\n      <td>61922750388</td>\n      <td>NaN</td>\n      <td>145726</td>\n      <td>NaN</td>\n      <td>Polygon</td>\n      <td>0xb854bf4d15be8e1f9b38e8b6af7d3283b81edfd8</td>\n      <td>ICE Poker SNG Wearables</td>\n      <td>721.0</td>\n      <td>2.106246e+65</td>\n    </tr>\n    <tr>\n      <th>1185022</th>\n      <td>0x0635f1dcc46059bfb00d29130914370cbe4bb2c8061a...</td>\n      <td>0xfffea9b28702bdc5fa77efc33ec87b8f65a73eb7</td>\n      <td>0x799efb3e3568d40468467722eae51e5f6765b5fa</td>\n      <td>1671413931</td>\n      <td>59757.0</td>\n      <td>NaN</td>\n      <td>64081415590</td>\n      <td>NaN</td>\n      <td>137287</td>\n      <td>NaN</td>\n      <td>Polygon</td>\n      <td>0xbcbdf467b5530d85b792d9e8afb109d7d1ac32c4</td>\n      <td>FOMO Bro NFTee</td>\n      <td>721.0</td>\n      <td>1.620000e+02</td>\n    </tr>\n    <tr>\n      <th>1185023</th>\n      <td>0xe4dde48b270b76854b461748dfc1c0f5fd0cc986a4ef...</td>\n      <td>0xfffea9b28702bdc5fa77efc33ec87b8f65a73eb7</td>\n      <td>0x799efb3e3568d40468467722eae51e5f6765b5fa</td>\n      <td>1671413955</td>\n      <td>96970.0</td>\n      <td>NaN</td>\n      <td>64737010321</td>\n      <td>NaN</td>\n      <td>162802</td>\n      <td>NaN</td>\n      <td>Polygon</td>\n      <td>0x873c11f798fc6f6c370c40f460aae4e20069b105</td>\n      <td>Roland Lifestyle DCLMVMF 2022</td>\n      <td>721.0</td>\n      <td>7.320000e+02</td>\n    </tr>\n    <tr>\n      <th>1185024</th>\n      <td>0x085c04dacb55543e2333f84395b3ae93b8631c69d57f...</td>\n      <td>0xffffca7879d31e91047d37193a5b806f5f791848</td>\n      <td>0x16efdf4ef182a5b82221fed14f4c3996922d00e2</td>\n      <td>1652154158</td>\n      <td>27.0</td>\n      <td>100.0</td>\n      <td>49354171902</td>\n      <td>NaN</td>\n      <td>46085</td>\n      <td>NaN</td>\n      <td>Ethereum</td>\n      <td>0xdac17f958d2ee523a2206206994597c13d831ec7</td>\n      <td>Tether USD</td>\n      <td>20.0</td>\n      <td>NaN</td>\n    </tr>\n    <tr>\n      <th>1185025</th>\n      <td>0xd37d3918b9dae7d2649ae23e3d833239a86c3e2aa9f9...</td>\n      <td>0xffffca7879d31e91047d37193a5b806f5f791848</td>\n      <td>0x16efdf4ef182a5b82221fed14f4c3996922d00e2</td>\n      <td>1659443472</td>\n      <td>37.0</td>\n      <td>1.0</td>\n      <td>11131035260</td>\n      <td>NaN</td>\n      <td>29682</td>\n      <td>NaN</td>\n      <td>Ethereum</td>\n      <td>0xc02aaa39b223fe8d0a0e5c4f27ead9083c756cc2</td>\n      <td>Wrapped Ether</td>\n      <td>20.0</td>\n      <td>NaN</td>\n    </tr>\n  </tbody>\n</table>\n<p>1185026 rows × 15 columns</p>\n</div>"
     },
     "execution_count": 15,
     "metadata": {},
     "output_type": "execute_result"
    }
   ],
   "source": [
    "## Combine both dataframes\n",
    "all_transfers_df = pd.concat([transaction_df, transfer_df], ignore_index=True)\n",
    "all_transfers_df"
   ],
   "metadata": {
    "collapsed": false,
    "pycharm": {
     "name": "#%%\n"
    }
   }
  },
  {
   "cell_type": "markdown",
   "source": [
    "## ((Prepare dataframe to create network graph)) Probably already create network graph and then clean this one"
   ],
   "metadata": {
    "collapsed": false
   }
  },
  {
   "cell_type": "code",
   "execution_count": 7,
   "outputs": [
    {
     "name": "stdout",
     "output_type": "stream",
     "text": [
      "Number of unique addresses: 56299\n"
     ]
    }
   ],
   "source": [
    "## Remove self-loops, count number of interactions\n",
    "graph_df = prepare_dataframe(all_transfers)\n",
    "graph_df\n",
    "\n",
    "# # Count unique addresses\n",
    "unique_addresses = pd.concat([graph_df['address1'], graph_df['address2']]).nunique()\n",
    "print(f\"Number of unique addresses: {unique_addresses}\")"
   ],
   "metadata": {
    "collapsed": false,
    "pycharm": {
     "name": "#%%\n"
    }
   }
  },
  {
   "cell_type": "markdown",
   "source": [
    "### Refined approach"
   ],
   "metadata": {
    "collapsed": false
   }
  },
  {
   "cell_type": "code",
   "execution_count": null,
   "outputs": [
    {
     "name": "stdout",
     "output_type": "stream",
     "text": [
      "33677\n"
     ]
    }
   ],
   "source": [
    "## Create network graph\n",
    "G = nx.from_pandas_edgelist(all_transfers_df, 'from', 'to', create_using=nx.Graph())\n",
    "G = clean_graph(G)\n",
    "\n",
    "# remove low degree nodes\n",
    "G = nx.k_core(G, k=2)\n",
    "\n",
    "# Get the largest connected component (assuming graph is undirected)\n",
    "largest_cc = max(nx.connected_components(G), key=len)\n",
    "print(len(largest_cc))\n",
    "# Create a subgraph of G consisting only of the nodes in the largest connected component\n",
    "G_cc = G.subgraph(largest_cc)\n",
    "\n",
    "# Recode the graph's nodes\n",
    "G_cc, node_map = recode_graph(G_cc)\n",
    "\n",
    "# Create reverse map (from indices to addresses)\n",
    "idx_map = dict(zip(node_map.values(),node_map.keys()))\n",
    "ordered_addresses = [idx_map[idx] for idx in range(len(node_map))]\n",
    "\n",
    "# Initialize Diff2Vec model\n",
    "model = Diff2Vec(diffusion_number=10, diffusion_cover=40, dimensions=128, window_size=5, learning_rate=0.025) #same as in tutela\n",
    "model.fit(G_cc)\n",
    "\n",
    "# Get embeddings\n",
    "embeddings = model.get_embedding()\n",
    "embeddings_df = pd.DataFrame(embeddings)\n",
    "embeddings_df['address'] = ordered_addresses\n",
    "embeddings_df"
   ],
   "metadata": {
    "collapsed": false,
    "pycharm": {
     "name": "#%%\n",
     "is_executing": true
    }
   }
  },
  {
   "cell_type": "markdown",
   "source": [
    "### Compute node embeddings using Diff2Vec"
   ],
   "metadata": {
    "collapsed": false
   }
  },
  {
   "cell_type": "code",
   "execution_count": 13,
   "outputs": [
    {
     "name": "stdout",
     "output_type": "stream",
     "text": [
      "51566\n"
     ]
    },
    {
     "ename": "NetworkXError",
     "evalue": "Frozen graph can't be modified",
     "output_type": "error",
     "traceback": [
      "\u001B[0;31m---------------------------------------------------------------------------\u001B[0m",
      "\u001B[0;31mNetworkXError\u001B[0m                             Traceback (most recent call last)",
      "Cell \u001B[0;32mIn[13], line 26\u001B[0m\n\u001B[1;32m     18\u001B[0m \u001B[38;5;66;03m# Creating a mapping of old node IDs to new node IDs\u001B[39;00m\n\u001B[1;32m     19\u001B[0m \u001B[38;5;66;03m#node_mapping = {node: i for i, node in enumerate(G_cc.nodes)}\u001B[39;00m\n\u001B[1;32m     20\u001B[0m \n\u001B[0;32m   (...)\u001B[0m\n\u001B[1;32m     23\u001B[0m \n\u001B[1;32m     24\u001B[0m \u001B[38;5;66;03m# Initialize Diff2Vec model\u001B[39;00m\n\u001B[1;32m     25\u001B[0m model \u001B[38;5;241m=\u001B[39m Diff2Vec(diffusion_number\u001B[38;5;241m=\u001B[39m\u001B[38;5;241m10\u001B[39m, diffusion_cover\u001B[38;5;241m=\u001B[39m\u001B[38;5;241m40\u001B[39m, dimensions\u001B[38;5;241m=\u001B[39m\u001B[38;5;241m128\u001B[39m, window_size\u001B[38;5;241m=\u001B[39m\u001B[38;5;241m5\u001B[39m, learning_rate\u001B[38;5;241m=\u001B[39m\u001B[38;5;241m0.025\u001B[39m) \u001B[38;5;66;03m#same as in tutela\u001B[39;00m\n\u001B[0;32m---> 26\u001B[0m \u001B[43mmodel\u001B[49m\u001B[38;5;241;43m.\u001B[39;49m\u001B[43mfit\u001B[49m\u001B[43m(\u001B[49m\u001B[43mG_cc\u001B[49m\u001B[43m)\u001B[49m\n\u001B[1;32m     28\u001B[0m \u001B[38;5;66;03m# Get embeddings\u001B[39;00m\n\u001B[1;32m     29\u001B[0m embeddings \u001B[38;5;241m=\u001B[39m model\u001B[38;5;241m.\u001B[39mget_embedding()\n",
      "File \u001B[0;32m~/Desktop/Crypto/masterseminar/python/venv/lib/python3.9/site-packages/karateclub/node_embedding/neighbourhood/diff2vec.py:58\u001B[0m, in \u001B[0;36mDiff2Vec.fit\u001B[0;34m(self, graph)\u001B[0m\n\u001B[1;32m     51\u001B[0m \u001B[38;5;124;03m\"\"\"\u001B[39;00m\n\u001B[1;32m     52\u001B[0m \u001B[38;5;124;03mFitting a Diff2Vec model.\u001B[39;00m\n\u001B[1;32m     53\u001B[0m \n\u001B[1;32m     54\u001B[0m \u001B[38;5;124;03mArg types:\u001B[39;00m\n\u001B[1;32m     55\u001B[0m \u001B[38;5;124;03m    * **graph** *(NetworkX graph)* - The graph to be embedded.\u001B[39;00m\n\u001B[1;32m     56\u001B[0m \u001B[38;5;124;03m\"\"\"\u001B[39;00m\n\u001B[1;32m     57\u001B[0m \u001B[38;5;28mself\u001B[39m\u001B[38;5;241m.\u001B[39m_set_seed()\n\u001B[0;32m---> 58\u001B[0m graph \u001B[38;5;241m=\u001B[39m \u001B[38;5;28;43mself\u001B[39;49m\u001B[38;5;241;43m.\u001B[39;49m\u001B[43m_check_graph\u001B[49m\u001B[43m(\u001B[49m\u001B[43mgraph\u001B[49m\u001B[43m)\u001B[49m\n\u001B[1;32m     59\u001B[0m diffuser \u001B[38;5;241m=\u001B[39m EulerianDiffuser(\u001B[38;5;28mself\u001B[39m\u001B[38;5;241m.\u001B[39mdiffusion_number, \u001B[38;5;28mself\u001B[39m\u001B[38;5;241m.\u001B[39mdiffusion_cover)\n\u001B[1;32m     60\u001B[0m diffuser\u001B[38;5;241m.\u001B[39mdo_diffusions(graph)\n",
      "File \u001B[0;32m~/Desktop/Crypto/masterseminar/python/venv/lib/python3.9/site-packages/karateclub/estimator.py:66\u001B[0m, in \u001B[0;36mEstimator._check_graph\u001B[0;34m(self, graph)\u001B[0m\n\u001B[1;32m     64\u001B[0m \u001B[38;5;124;03m\"\"\"Check the Karate Club assumptions about the graph.\"\"\"\u001B[39;00m\n\u001B[1;32m     65\u001B[0m \u001B[38;5;28mself\u001B[39m\u001B[38;5;241m.\u001B[39m_check_indexing(graph)\n\u001B[0;32m---> 66\u001B[0m graph \u001B[38;5;241m=\u001B[39m \u001B[38;5;28;43mself\u001B[39;49m\u001B[38;5;241;43m.\u001B[39;49m\u001B[43m_ensure_integrity\u001B[49m\u001B[43m(\u001B[49m\u001B[43mgraph\u001B[49m\u001B[43m)\u001B[49m\n\u001B[1;32m     68\u001B[0m \u001B[38;5;28;01mreturn\u001B[39;00m graph\n",
      "File \u001B[0;32m~/Desktop/Crypto/masterseminar/python/venv/lib/python3.9/site-packages/karateclub/estimator.py:51\u001B[0m, in \u001B[0;36mEstimator._ensure_integrity\u001B[0;34m(graph)\u001B[0m\n\u001B[1;32m     49\u001B[0m \u001B[38;5;124;03m\"\"\"Ensure walk traversal conditions.\"\"\"\u001B[39;00m\n\u001B[1;32m     50\u001B[0m edge_list \u001B[38;5;241m=\u001B[39m [(index, index) \u001B[38;5;28;01mfor\u001B[39;00m index \u001B[38;5;129;01min\u001B[39;00m \u001B[38;5;28mrange\u001B[39m(graph\u001B[38;5;241m.\u001B[39mnumber_of_nodes())]\n\u001B[0;32m---> 51\u001B[0m \u001B[43mgraph\u001B[49m\u001B[38;5;241;43m.\u001B[39;49m\u001B[43madd_edges_from\u001B[49m\u001B[43m(\u001B[49m\u001B[43medge_list\u001B[49m\u001B[43m)\u001B[49m\n\u001B[1;32m     53\u001B[0m \u001B[38;5;28;01mreturn\u001B[39;00m graph\n",
      "File \u001B[0;32m~/Desktop/Crypto/masterseminar/python/venv/lib/python3.9/site-packages/networkx/classes/function.py:158\u001B[0m, in \u001B[0;36mfrozen\u001B[0;34m(*args, **kwargs)\u001B[0m\n\u001B[1;32m    156\u001B[0m \u001B[38;5;28;01mdef\u001B[39;00m \u001B[38;5;21mfrozen\u001B[39m(\u001B[38;5;241m*\u001B[39margs, \u001B[38;5;241m*\u001B[39m\u001B[38;5;241m*\u001B[39mkwargs):\n\u001B[1;32m    157\u001B[0m     \u001B[38;5;124;03m\"\"\"Dummy method for raising errors when trying to modify frozen graphs\"\"\"\u001B[39;00m\n\u001B[0;32m--> 158\u001B[0m     \u001B[38;5;28;01mraise\u001B[39;00m nx\u001B[38;5;241m.\u001B[39mNetworkXError(\u001B[38;5;124m\"\u001B[39m\u001B[38;5;124mFrozen graph can\u001B[39m\u001B[38;5;124m'\u001B[39m\u001B[38;5;124mt be modified\u001B[39m\u001B[38;5;124m\"\u001B[39m)\n",
      "\u001B[0;31mNetworkXError\u001B[0m: Frozen graph can't be modified"
     ]
    }
   ],
   "source": [
    "## Create network graph\n",
    "G = nx.from_pandas_edgelist(graph_df, 'address1', 'address2', 'interactions', create_using=nx.Graph())\n",
    "\n",
    "# Get the largest connected component (assuming graph is undirected)\n",
    "largest_cc = max(nx.connected_components(G), key=len)\n",
    "print(len(largest_cc))\n",
    "\n",
    "# Create a subgraph of G consisting only of the nodes in the largest connected component\n",
    "G_cc = G.subgraph(largest_cc)\n",
    "\n",
    "# Creating a mapping of old node IDs to new node IDs\n",
    "node_mapping = {node: i for i, node in enumerate(G_cc.nodes)}\n",
    "\n",
    "# Relabeling the nodes in the graph according to the mapping\n",
    "G_cc = nx.relabel_nodes(G_cc, node_mapping)\n",
    "\n",
    "# Initialize Diff2Vec model\n",
    "model = Diff2Vec(diffusion_number=10, diffusion_cover=40, dimensions=128, window_size=5, learning_rate=0.025) #same as in tutela\n",
    "model.fit(G_cc)\n",
    "\n",
    "# Get embeddings\n",
    "embeddings = model.get_embedding()\n",
    "embeddings"
   ],
   "metadata": {
    "collapsed": false,
    "pycharm": {
     "name": "#%%\n"
    }
   }
  },
  {
   "cell_type": "code",
   "execution_count": 22,
   "outputs": [
    {
     "name": "stdout",
     "output_type": "stream",
     "text": [
      "34899 34901\n"
     ]
    }
   ],
   "source": [
    "## Manual check of Address Pair\n",
    "idx1 = embeddings_df[embeddings_df['address'] == '0x85e5472752a6f00775faca4d5179bde1081571b0'].index.item()\n",
    "idx2 = embeddings_df[embeddings_df['address'] == '0xbf886e3069d0dfd64e384c93da322f775faa8876'].index.item()\n",
    "#idx1 = node_mapping['0x85e5472752a6f00775faca4d5179bde1081571b0']\n",
    "#idx2 = node_mapping['0xbf886e3069d0dfd64e384c93da322f775faa8876']\n",
    "print(idx1,idx2)"
   ],
   "metadata": {
    "collapsed": false,
    "pycharm": {
     "name": "#%%\n"
    }
   }
  },
  {
   "cell_type": "markdown",
   "source": [
    "### Find k nearest neighbours using FAISS"
   ],
   "metadata": {
    "collapsed": false
   }
  },
  {
   "cell_type": "code",
   "execution_count": 23,
   "outputs": [
    {
     "name": "stdout",
     "output_type": "stream",
     "text": [
      "[[0.         0.5018554  0.52201164 0.5957526  0.628039   0.810272\n",
      "  0.8254644  0.87807345 1.0277601  1.0841581  1.0935464  1.1040522\n",
      "  1.1180125  1.14423    1.1533135  1.1579843  1.1592032  1.1652615\n",
      "  1.1701431  1.1707379  1.1737895  1.1745033  1.1808927  1.1815057\n",
      "  1.183559   1.1881876  1.1902595  1.1921837  1.2003042  1.2072392 ]]\n",
      "[[34899 34902 34136 34901 34898 33752 46886 46390  9032 33753 34904 27712\n",
      "  46391 34844 33747 36495 34897 31848 34896 34900 31143 43156 43159 25180\n",
      "  38041 43164 10635 35022 26599 36498]]\n"
     ]
    }
   ],
   "source": [
    "# Assuming `embeddings` is a 2D numpy array where each row is the embedding of a node\n",
    "# Normalize embeddings\n",
    "embeddings = embeddings / np.linalg.norm(embeddings, axis=1, keepdims=True)\n",
    "\n",
    "# Build the index\n",
    "index = faiss.IndexFlatL2(embeddings.shape[1])\n",
    "\n",
    "# Add vectors to the index\n",
    "index.add(embeddings)\n",
    "\n",
    "# Query the index for the nearest neighbors of any embedding\n",
    "D, I = index.search(embeddings[idx1:idx1+1], k=30)\n",
    "\n",
    "# D and I are the distances and indices of the nearest neighbors, respectively\n",
    "print(D)  # Distance to nearest neighbors\n",
    "print(I)  # Indices of nearest neighbors\n"
   ],
   "metadata": {
    "collapsed": false,
    "pycharm": {
     "name": "#%%\n"
    }
   }
  },
  {
   "cell_type": "code",
   "execution_count": 38,
   "outputs": [
    {
     "data": {
      "text/plain": "                ENS Name                                          Addresses\n0           anisofim.eth  [0x85e5472752a6f00775faca4d5179bde1081571b0, 0...\n1        arisalzberg.eth  [0x94e59547b8c68924380c90e729488f3e79ff8d22, 0...\n2            atearnz.eth  [0x5500c014dc83d18c60858195b42f2e61f877323e, 0...\n3            awedjob.eth  [0xc939519869c946e4bdca8fd0b6459048c4aebae2, 0...\n4          captvicky.eth  [0x33e51a1141c44cc8bcb9b50c4a3c7ab59f4cf68c, 0...\n5          disruptor.eth  [0xb84914f420b6de809ac1ed3d4427d90ed596b41c, 0...\n6       dragonkiller.eth  [0x4fdafeadb7c2f127e3c1719a99c01680cc8ddab1, 0...\n7            eibriel.eth  [0x05c351382db8d770207f319d96ac1184c3717ede, 0...\n8          epdrabbit.eth  [0x26846c9083c4ab525de593178e3f2f82afb8ba83, 0...\n9          erikarand.eth  [0xe005c90eb8b38938cfe722e7069118414145709b, 0...\n10      froilancrypt.eth  [0xf4ea960bd28359da37b9cda021b342fec9ea28df, 0...\n11         hyperspek.eth  [0x5c4fe960950ba0e09a72869c3d51fe70f07580e0, 0...\n12   jamesmillerblog.eth  [0x38a66799f30e7b2b0e7095a141aca56dd6f4f7c8, 0...\n13          jasonhsu.eth  [0x1a26db1b2baf0b23f18e19375e8fdc159feb707e, 0...\n14             joeyz.eth  [0x250fbb28b2cd0a9faadc2d8a1d1c72f69163ac29, 0...\n15           keastie.eth  [0x84ab65f45d3f8067f8bbff80f2248cd1ab4d96be, 0...\n16             linkg.eth  [0x580bb63d47242964fa5fe9e69c5eb5423b7a50d2, 0...\n17             lulox.eth  [0xe2beae512697913951cdd85db49545b077a90699, 0...\n18           maruudn.eth  [0xe2cfeab2beba9a7f09fd981f13e84df1e9978a5e, 0...\n19           maryana.eth  [0x370f859a2f31d40192e1879eb97d64e6459bc8e4, 0...\n20          meanboss.eth  [0x974c1cb84f439826c100b20063c24d72226fd4a8, 0...\n21     metatiger.dcl.eth  [0x05d460310a2d785d0bd5b586c8f6402e70366fae, 0...\n22        mgdivingnz.eth  [0x1e84c5351ad32ed179c14ed4f015748c417841a6, 0...\n23            mrcryp.eth  [0xed41aa4abb256b13f02b87cd66a39ddc7a6c9a22, 0...\n24        nicebhaiya.eth  [0xe104414bf575f943e7f94e55e7f59ed086035af4, 0...\n25           niceguy.eth  [0x5528bc911d6bc284cf4da89560534508e7638de4, 0...\n26       ornellaweb3.eth  [0x2d84cfb9cba0e8e4d7511a88cb7102a984fdb0ba, 0...\n27         pinkboots.eth  [0xa5dbd5f2f45cec05ace6c08f0b75bec711ea9517, 0...\n28              remx.eth  [0x6401f5b9f88c489495fb95ba7aa4276a353bebb8, 0...\n29        rileybeans.eth  [0x54a80e0417008db88036f4fb2c4646264717f7a6, 0...\n30       robertjames.eth  [0xa65da49bb89ec7b1a10f3887ae07e4c9c8eea168, 0...\n31           rsantos.eth  [0x08a2f4a84a06a0331b015bd1320ed20e1a9be688, 0...\n32            sannin.eth  [0x4bcfb57149dd1e8ec510bc2cc490bc4c43c7af8f, 0...\n33         smileface.eth  [0x32712bb04948da01d11c9aa6b3e77daeda014781, 0...\n34  theartcollection.eth  [0x1094ee0c78b81581c8c8ea34bc2eec8a4bd20756, 0...\n35          turkii13.eth  [0x325a0fa68fc381be451f57d6be7f84da206427fd, 0...\n36         tweetious.eth  [0x8b104344f397afc33ee55c743a0fbd7d956201cd, 0...\n37             willg.eth  [0x493df7506210e55a893d70e61d812d824ca1c489, 0...\n38            wpunks.eth  [0x7938d79352ef0f58cd2058f930629928ae74b790, 0...\n39            zolder.eth  [0x11610d0bf661d3ccbb9493cf23184f68ecfe4783, 0...",
      "text/html": "<div>\n<style scoped>\n    .dataframe tbody tr th:only-of-type {\n        vertical-align: middle;\n    }\n\n    .dataframe tbody tr th {\n        vertical-align: top;\n    }\n\n    .dataframe thead th {\n        text-align: right;\n    }\n</style>\n<table border=\"1\" class=\"dataframe\">\n  <thead>\n    <tr style=\"text-align: right;\">\n      <th></th>\n      <th>ENS Name</th>\n      <th>Addresses</th>\n    </tr>\n  </thead>\n  <tbody>\n    <tr>\n      <th>0</th>\n      <td>anisofim.eth</td>\n      <td>[0x85e5472752a6f00775faca4d5179bde1081571b0, 0...</td>\n    </tr>\n    <tr>\n      <th>1</th>\n      <td>arisalzberg.eth</td>\n      <td>[0x94e59547b8c68924380c90e729488f3e79ff8d22, 0...</td>\n    </tr>\n    <tr>\n      <th>2</th>\n      <td>atearnz.eth</td>\n      <td>[0x5500c014dc83d18c60858195b42f2e61f877323e, 0...</td>\n    </tr>\n    <tr>\n      <th>3</th>\n      <td>awedjob.eth</td>\n      <td>[0xc939519869c946e4bdca8fd0b6459048c4aebae2, 0...</td>\n    </tr>\n    <tr>\n      <th>4</th>\n      <td>captvicky.eth</td>\n      <td>[0x33e51a1141c44cc8bcb9b50c4a3c7ab59f4cf68c, 0...</td>\n    </tr>\n    <tr>\n      <th>5</th>\n      <td>disruptor.eth</td>\n      <td>[0xb84914f420b6de809ac1ed3d4427d90ed596b41c, 0...</td>\n    </tr>\n    <tr>\n      <th>6</th>\n      <td>dragonkiller.eth</td>\n      <td>[0x4fdafeadb7c2f127e3c1719a99c01680cc8ddab1, 0...</td>\n    </tr>\n    <tr>\n      <th>7</th>\n      <td>eibriel.eth</td>\n      <td>[0x05c351382db8d770207f319d96ac1184c3717ede, 0...</td>\n    </tr>\n    <tr>\n      <th>8</th>\n      <td>epdrabbit.eth</td>\n      <td>[0x26846c9083c4ab525de593178e3f2f82afb8ba83, 0...</td>\n    </tr>\n    <tr>\n      <th>9</th>\n      <td>erikarand.eth</td>\n      <td>[0xe005c90eb8b38938cfe722e7069118414145709b, 0...</td>\n    </tr>\n    <tr>\n      <th>10</th>\n      <td>froilancrypt.eth</td>\n      <td>[0xf4ea960bd28359da37b9cda021b342fec9ea28df, 0...</td>\n    </tr>\n    <tr>\n      <th>11</th>\n      <td>hyperspek.eth</td>\n      <td>[0x5c4fe960950ba0e09a72869c3d51fe70f07580e0, 0...</td>\n    </tr>\n    <tr>\n      <th>12</th>\n      <td>jamesmillerblog.eth</td>\n      <td>[0x38a66799f30e7b2b0e7095a141aca56dd6f4f7c8, 0...</td>\n    </tr>\n    <tr>\n      <th>13</th>\n      <td>jasonhsu.eth</td>\n      <td>[0x1a26db1b2baf0b23f18e19375e8fdc159feb707e, 0...</td>\n    </tr>\n    <tr>\n      <th>14</th>\n      <td>joeyz.eth</td>\n      <td>[0x250fbb28b2cd0a9faadc2d8a1d1c72f69163ac29, 0...</td>\n    </tr>\n    <tr>\n      <th>15</th>\n      <td>keastie.eth</td>\n      <td>[0x84ab65f45d3f8067f8bbff80f2248cd1ab4d96be, 0...</td>\n    </tr>\n    <tr>\n      <th>16</th>\n      <td>linkg.eth</td>\n      <td>[0x580bb63d47242964fa5fe9e69c5eb5423b7a50d2, 0...</td>\n    </tr>\n    <tr>\n      <th>17</th>\n      <td>lulox.eth</td>\n      <td>[0xe2beae512697913951cdd85db49545b077a90699, 0...</td>\n    </tr>\n    <tr>\n      <th>18</th>\n      <td>maruudn.eth</td>\n      <td>[0xe2cfeab2beba9a7f09fd981f13e84df1e9978a5e, 0...</td>\n    </tr>\n    <tr>\n      <th>19</th>\n      <td>maryana.eth</td>\n      <td>[0x370f859a2f31d40192e1879eb97d64e6459bc8e4, 0...</td>\n    </tr>\n    <tr>\n      <th>20</th>\n      <td>meanboss.eth</td>\n      <td>[0x974c1cb84f439826c100b20063c24d72226fd4a8, 0...</td>\n    </tr>\n    <tr>\n      <th>21</th>\n      <td>metatiger.dcl.eth</td>\n      <td>[0x05d460310a2d785d0bd5b586c8f6402e70366fae, 0...</td>\n    </tr>\n    <tr>\n      <th>22</th>\n      <td>mgdivingnz.eth</td>\n      <td>[0x1e84c5351ad32ed179c14ed4f015748c417841a6, 0...</td>\n    </tr>\n    <tr>\n      <th>23</th>\n      <td>mrcryp.eth</td>\n      <td>[0xed41aa4abb256b13f02b87cd66a39ddc7a6c9a22, 0...</td>\n    </tr>\n    <tr>\n      <th>24</th>\n      <td>nicebhaiya.eth</td>\n      <td>[0xe104414bf575f943e7f94e55e7f59ed086035af4, 0...</td>\n    </tr>\n    <tr>\n      <th>25</th>\n      <td>niceguy.eth</td>\n      <td>[0x5528bc911d6bc284cf4da89560534508e7638de4, 0...</td>\n    </tr>\n    <tr>\n      <th>26</th>\n      <td>ornellaweb3.eth</td>\n      <td>[0x2d84cfb9cba0e8e4d7511a88cb7102a984fdb0ba, 0...</td>\n    </tr>\n    <tr>\n      <th>27</th>\n      <td>pinkboots.eth</td>\n      <td>[0xa5dbd5f2f45cec05ace6c08f0b75bec711ea9517, 0...</td>\n    </tr>\n    <tr>\n      <th>28</th>\n      <td>remx.eth</td>\n      <td>[0x6401f5b9f88c489495fb95ba7aa4276a353bebb8, 0...</td>\n    </tr>\n    <tr>\n      <th>29</th>\n      <td>rileybeans.eth</td>\n      <td>[0x54a80e0417008db88036f4fb2c4646264717f7a6, 0...</td>\n    </tr>\n    <tr>\n      <th>30</th>\n      <td>robertjames.eth</td>\n      <td>[0xa65da49bb89ec7b1a10f3887ae07e4c9c8eea168, 0...</td>\n    </tr>\n    <tr>\n      <th>31</th>\n      <td>rsantos.eth</td>\n      <td>[0x08a2f4a84a06a0331b015bd1320ed20e1a9be688, 0...</td>\n    </tr>\n    <tr>\n      <th>32</th>\n      <td>sannin.eth</td>\n      <td>[0x4bcfb57149dd1e8ec510bc2cc490bc4c43c7af8f, 0...</td>\n    </tr>\n    <tr>\n      <th>33</th>\n      <td>smileface.eth</td>\n      <td>[0x32712bb04948da01d11c9aa6b3e77daeda014781, 0...</td>\n    </tr>\n    <tr>\n      <th>34</th>\n      <td>theartcollection.eth</td>\n      <td>[0x1094ee0c78b81581c8c8ea34bc2eec8a4bd20756, 0...</td>\n    </tr>\n    <tr>\n      <th>35</th>\n      <td>turkii13.eth</td>\n      <td>[0x325a0fa68fc381be451f57d6be7f84da206427fd, 0...</td>\n    </tr>\n    <tr>\n      <th>36</th>\n      <td>tweetious.eth</td>\n      <td>[0x8b104344f397afc33ee55c743a0fbd7d956201cd, 0...</td>\n    </tr>\n    <tr>\n      <th>37</th>\n      <td>willg.eth</td>\n      <td>[0x493df7506210e55a893d70e61d812d824ca1c489, 0...</td>\n    </tr>\n    <tr>\n      <th>38</th>\n      <td>wpunks.eth</td>\n      <td>[0x7938d79352ef0f58cd2058f930629928ae74b790, 0...</td>\n    </tr>\n    <tr>\n      <th>39</th>\n      <td>zolder.eth</td>\n      <td>[0x11610d0bf661d3ccbb9493cf23184f68ecfe4783, 0...</td>\n    </tr>\n  </tbody>\n</table>\n</div>"
     },
     "execution_count": 38,
     "metadata": {},
     "output_type": "execute_result"
    }
   ],
   "source": [
    "## Function to find the rank and distance of the right address in my ground truth set\n",
    "def find_rank_and_distance(row):\n",
    "    addresses = row['Addresses']  # Addresses should already be a list\n",
    "\n",
    "    if addresses[0] not in node_mapping or addresses[1] not in node_mapping:\n",
    "        return None, None  # Skip if addresses are not in node_mapping\n",
    "\n",
    "    idx1 = node_mapping[addresses[0]]\n",
    "    idx2 = node_mapping[addresses[1]]\n",
    "\n",
    "    # Search the k nearest neighbours for address i\n",
    "    D, I = index.search(embeddings[idx1:idx1+1], k=50000)\n",
    "\n",
    "    # Find the rank and distance of the second address among these neighbours\n",
    "    if idx2 in I:\n",
    "        rank = np.where(I == idx2)[1][0]\n",
    "        distance = D[0][rank]  # Get the corresponding distance\n",
    "    else:\n",
    "        rank = None\n",
    "        distance = None\n",
    "\n",
    "    return rank, distance\n",
    "\n",
    "## ENS dataset\n",
    "df = pd.read_csv('../data/ens_list.csv')\n",
    "\n",
    "# Group by ENS Name and filter groups with 2 addresses\n",
    "grouped_df = df.groupby('ENS Name').filter(lambda x: len(x) > 1)\n",
    "\n",
    "# for each ENS name in the DF, get a list of associated addresses\n",
    "data = []\n",
    "for ens_name, group in grouped_df.groupby('ENS Name'):\n",
    "    addresses = group['Address'].tolist()\n",
    "    data.append([ens_name, addresses])\n",
    "\n",
    "ens_addresses_df = pd.DataFrame(data, columns=['ENS Name', 'Addresses'])\n",
    "ens_addresses_df\n",
    "# Apply the function to find the rank and distance of the right pair to each row of the dataframe\n",
    "# ens_addresses_df['Rank'], ens_addresses_df['Distance'] = zip(*ens_addresses_df.apply(find_rank_and_distance, axis=1))\n",
    "# print(ens_addresses_df['Distance'].mean())\n",
    "# print(ens_addresses_df['Rank'].median())\n",
    "# ens_addresses_df.to_csv('../other_parameters.csv')"
   ],
   "metadata": {
    "collapsed": false,
    "pycharm": {
     "name": "#%%\n"
    }
   }
  },
  {
   "cell_type": "markdown",
   "source": [
    "### New approach"
   ],
   "metadata": {
    "collapsed": false
   }
  },
  {
   "cell_type": "code",
   "execution_count": 37,
   "outputs": [
    {
     "name": "stdout",
     "output_type": "stream",
     "text": [
      "0.9187945566679302\n",
      "3.5\n",
      "44.31578947368421\n"
     ]
    },
    {
     "data": {
      "text/plain": "                ENS Name                                          Addresses  \\\n0           anisofim.eth  [0x85e5472752a6f00775faca4d5179bde1081571b0, 0...   \n1        arisalzberg.eth  [0x94e59547b8c68924380c90e729488f3e79ff8d22, 0...   \n2            atearnz.eth  [0x5500c014dc83d18c60858195b42f2e61f877323e, 0...   \n3            awedjob.eth  [0xc939519869c946e4bdca8fd0b6459048c4aebae2, 0...   \n4          captvicky.eth  [0x33e51a1141c44cc8bcb9b50c4a3c7ab59f4cf68c, 0...   \n5          disruptor.eth  [0xb84914f420b6de809ac1ed3d4427d90ed596b41c, 0...   \n6       dragonkiller.eth  [0x4fdafeadb7c2f127e3c1719a99c01680cc8ddab1, 0...   \n7            eibriel.eth  [0x05c351382db8d770207f319d96ac1184c3717ede, 0...   \n8          epdrabbit.eth  [0x26846c9083c4ab525de593178e3f2f82afb8ba83, 0...   \n9          erikarand.eth  [0xe005c90eb8b38938cfe722e7069118414145709b, 0...   \n10      froilancrypt.eth  [0xf4ea960bd28359da37b9cda021b342fec9ea28df, 0...   \n11         hyperspek.eth  [0x5c4fe960950ba0e09a72869c3d51fe70f07580e0, 0...   \n12   jamesmillerblog.eth  [0x38a66799f30e7b2b0e7095a141aca56dd6f4f7c8, 0...   \n13          jasonhsu.eth  [0x1a26db1b2baf0b23f18e19375e8fdc159feb707e, 0...   \n14             joeyz.eth  [0x250fbb28b2cd0a9faadc2d8a1d1c72f69163ac29, 0...   \n15           keastie.eth  [0x84ab65f45d3f8067f8bbff80f2248cd1ab4d96be, 0...   \n16             linkg.eth  [0x580bb63d47242964fa5fe9e69c5eb5423b7a50d2, 0...   \n17             lulox.eth  [0xe2beae512697913951cdd85db49545b077a90699, 0...   \n18           maruudn.eth  [0xe2cfeab2beba9a7f09fd981f13e84df1e9978a5e, 0...   \n19           maryana.eth  [0x370f859a2f31d40192e1879eb97d64e6459bc8e4, 0...   \n20          meanboss.eth  [0x974c1cb84f439826c100b20063c24d72226fd4a8, 0...   \n21     metatiger.dcl.eth  [0x05d460310a2d785d0bd5b586c8f6402e70366fae, 0...   \n22        mgdivingnz.eth  [0x1e84c5351ad32ed179c14ed4f015748c417841a6, 0...   \n23            mrcryp.eth  [0xed41aa4abb256b13f02b87cd66a39ddc7a6c9a22, 0...   \n24        nicebhaiya.eth  [0xe104414bf575f943e7f94e55e7f59ed086035af4, 0...   \n25           niceguy.eth  [0x5528bc911d6bc284cf4da89560534508e7638de4, 0...   \n26       ornellaweb3.eth  [0x2d84cfb9cba0e8e4d7511a88cb7102a984fdb0ba, 0...   \n27         pinkboots.eth  [0xa5dbd5f2f45cec05ace6c08f0b75bec711ea9517, 0...   \n28              remx.eth  [0x6401f5b9f88c489495fb95ba7aa4276a353bebb8, 0...   \n29        rileybeans.eth  [0x54a80e0417008db88036f4fb2c4646264717f7a6, 0...   \n30       robertjames.eth  [0xa65da49bb89ec7b1a10f3887ae07e4c9c8eea168, 0...   \n31           rsantos.eth  [0x08a2f4a84a06a0331b015bd1320ed20e1a9be688, 0...   \n32            sannin.eth  [0x4bcfb57149dd1e8ec510bc2cc490bc4c43c7af8f, 0...   \n33         smileface.eth  [0x32712bb04948da01d11c9aa6b3e77daeda014781, 0...   \n34  theartcollection.eth  [0x1094ee0c78b81581c8c8ea34bc2eec8a4bd20756, 0...   \n35          turkii13.eth  [0x325a0fa68fc381be451f57d6be7f84da206427fd, 0...   \n36         tweetious.eth  [0x8b104344f397afc33ee55c743a0fbd7d956201cd, 0...   \n37             willg.eth  [0x493df7506210e55a893d70e61d812d824ca1c489, 0...   \n38            wpunks.eth  [0x7938d79352ef0f58cd2058f930629928ae74b790, 0...   \n39            zolder.eth  [0x11610d0bf661d3ccbb9493cf23184f68ecfe4783, 0...   \n\n     Rank  Distance  \n0     3.0  0.595753  \n1     9.0  1.229145  \n2     1.0  0.621609  \n3    43.0  1.191568  \n4     NaN       NaN  \n5     7.0  1.184267  \n6    12.0  0.808134  \n7   648.0  1.557934  \n8    18.0  1.055943  \n9     1.0  0.884336  \n10    1.0  0.794077  \n11   10.0  1.310704  \n12    NaN       NaN  \n13    1.0  0.588026  \n14    2.0  0.643424  \n15    1.0  0.595723  \n16   20.0  0.975858  \n17    3.0  0.925098  \n18    3.0  0.982082  \n19  157.0  1.379853  \n20    9.0  0.682540  \n21  203.0  1.333318  \n22    2.0  0.455139  \n23    3.0  0.546236  \n24    2.0  0.612435  \n25    1.0  0.974584  \n26    3.0  0.661287  \n27   40.0  1.298425  \n28    4.0  0.441854  \n29    1.0  0.499483  \n30   22.0  1.052096  \n31    2.0  0.637377  \n32  242.0  1.392446  \n33    1.0  0.733730  \n34   19.0  1.224491  \n35    2.0  1.090343  \n36   12.0  1.162832  \n37    4.0  0.977817  \n38    1.0  0.390122  \n39  171.0  1.424103  ",
      "text/html": "<div>\n<style scoped>\n    .dataframe tbody tr th:only-of-type {\n        vertical-align: middle;\n    }\n\n    .dataframe tbody tr th {\n        vertical-align: top;\n    }\n\n    .dataframe thead th {\n        text-align: right;\n    }\n</style>\n<table border=\"1\" class=\"dataframe\">\n  <thead>\n    <tr style=\"text-align: right;\">\n      <th></th>\n      <th>ENS Name</th>\n      <th>Addresses</th>\n      <th>Rank</th>\n      <th>Distance</th>\n    </tr>\n  </thead>\n  <tbody>\n    <tr>\n      <th>0</th>\n      <td>anisofim.eth</td>\n      <td>[0x85e5472752a6f00775faca4d5179bde1081571b0, 0...</td>\n      <td>3.0</td>\n      <td>0.595753</td>\n    </tr>\n    <tr>\n      <th>1</th>\n      <td>arisalzberg.eth</td>\n      <td>[0x94e59547b8c68924380c90e729488f3e79ff8d22, 0...</td>\n      <td>9.0</td>\n      <td>1.229145</td>\n    </tr>\n    <tr>\n      <th>2</th>\n      <td>atearnz.eth</td>\n      <td>[0x5500c014dc83d18c60858195b42f2e61f877323e, 0...</td>\n      <td>1.0</td>\n      <td>0.621609</td>\n    </tr>\n    <tr>\n      <th>3</th>\n      <td>awedjob.eth</td>\n      <td>[0xc939519869c946e4bdca8fd0b6459048c4aebae2, 0...</td>\n      <td>43.0</td>\n      <td>1.191568</td>\n    </tr>\n    <tr>\n      <th>4</th>\n      <td>captvicky.eth</td>\n      <td>[0x33e51a1141c44cc8bcb9b50c4a3c7ab59f4cf68c, 0...</td>\n      <td>NaN</td>\n      <td>NaN</td>\n    </tr>\n    <tr>\n      <th>5</th>\n      <td>disruptor.eth</td>\n      <td>[0xb84914f420b6de809ac1ed3d4427d90ed596b41c, 0...</td>\n      <td>7.0</td>\n      <td>1.184267</td>\n    </tr>\n    <tr>\n      <th>6</th>\n      <td>dragonkiller.eth</td>\n      <td>[0x4fdafeadb7c2f127e3c1719a99c01680cc8ddab1, 0...</td>\n      <td>12.0</td>\n      <td>0.808134</td>\n    </tr>\n    <tr>\n      <th>7</th>\n      <td>eibriel.eth</td>\n      <td>[0x05c351382db8d770207f319d96ac1184c3717ede, 0...</td>\n      <td>648.0</td>\n      <td>1.557934</td>\n    </tr>\n    <tr>\n      <th>8</th>\n      <td>epdrabbit.eth</td>\n      <td>[0x26846c9083c4ab525de593178e3f2f82afb8ba83, 0...</td>\n      <td>18.0</td>\n      <td>1.055943</td>\n    </tr>\n    <tr>\n      <th>9</th>\n      <td>erikarand.eth</td>\n      <td>[0xe005c90eb8b38938cfe722e7069118414145709b, 0...</td>\n      <td>1.0</td>\n      <td>0.884336</td>\n    </tr>\n    <tr>\n      <th>10</th>\n      <td>froilancrypt.eth</td>\n      <td>[0xf4ea960bd28359da37b9cda021b342fec9ea28df, 0...</td>\n      <td>1.0</td>\n      <td>0.794077</td>\n    </tr>\n    <tr>\n      <th>11</th>\n      <td>hyperspek.eth</td>\n      <td>[0x5c4fe960950ba0e09a72869c3d51fe70f07580e0, 0...</td>\n      <td>10.0</td>\n      <td>1.310704</td>\n    </tr>\n    <tr>\n      <th>12</th>\n      <td>jamesmillerblog.eth</td>\n      <td>[0x38a66799f30e7b2b0e7095a141aca56dd6f4f7c8, 0...</td>\n      <td>NaN</td>\n      <td>NaN</td>\n    </tr>\n    <tr>\n      <th>13</th>\n      <td>jasonhsu.eth</td>\n      <td>[0x1a26db1b2baf0b23f18e19375e8fdc159feb707e, 0...</td>\n      <td>1.0</td>\n      <td>0.588026</td>\n    </tr>\n    <tr>\n      <th>14</th>\n      <td>joeyz.eth</td>\n      <td>[0x250fbb28b2cd0a9faadc2d8a1d1c72f69163ac29, 0...</td>\n      <td>2.0</td>\n      <td>0.643424</td>\n    </tr>\n    <tr>\n      <th>15</th>\n      <td>keastie.eth</td>\n      <td>[0x84ab65f45d3f8067f8bbff80f2248cd1ab4d96be, 0...</td>\n      <td>1.0</td>\n      <td>0.595723</td>\n    </tr>\n    <tr>\n      <th>16</th>\n      <td>linkg.eth</td>\n      <td>[0x580bb63d47242964fa5fe9e69c5eb5423b7a50d2, 0...</td>\n      <td>20.0</td>\n      <td>0.975858</td>\n    </tr>\n    <tr>\n      <th>17</th>\n      <td>lulox.eth</td>\n      <td>[0xe2beae512697913951cdd85db49545b077a90699, 0...</td>\n      <td>3.0</td>\n      <td>0.925098</td>\n    </tr>\n    <tr>\n      <th>18</th>\n      <td>maruudn.eth</td>\n      <td>[0xe2cfeab2beba9a7f09fd981f13e84df1e9978a5e, 0...</td>\n      <td>3.0</td>\n      <td>0.982082</td>\n    </tr>\n    <tr>\n      <th>19</th>\n      <td>maryana.eth</td>\n      <td>[0x370f859a2f31d40192e1879eb97d64e6459bc8e4, 0...</td>\n      <td>157.0</td>\n      <td>1.379853</td>\n    </tr>\n    <tr>\n      <th>20</th>\n      <td>meanboss.eth</td>\n      <td>[0x974c1cb84f439826c100b20063c24d72226fd4a8, 0...</td>\n      <td>9.0</td>\n      <td>0.682540</td>\n    </tr>\n    <tr>\n      <th>21</th>\n      <td>metatiger.dcl.eth</td>\n      <td>[0x05d460310a2d785d0bd5b586c8f6402e70366fae, 0...</td>\n      <td>203.0</td>\n      <td>1.333318</td>\n    </tr>\n    <tr>\n      <th>22</th>\n      <td>mgdivingnz.eth</td>\n      <td>[0x1e84c5351ad32ed179c14ed4f015748c417841a6, 0...</td>\n      <td>2.0</td>\n      <td>0.455139</td>\n    </tr>\n    <tr>\n      <th>23</th>\n      <td>mrcryp.eth</td>\n      <td>[0xed41aa4abb256b13f02b87cd66a39ddc7a6c9a22, 0...</td>\n      <td>3.0</td>\n      <td>0.546236</td>\n    </tr>\n    <tr>\n      <th>24</th>\n      <td>nicebhaiya.eth</td>\n      <td>[0xe104414bf575f943e7f94e55e7f59ed086035af4, 0...</td>\n      <td>2.0</td>\n      <td>0.612435</td>\n    </tr>\n    <tr>\n      <th>25</th>\n      <td>niceguy.eth</td>\n      <td>[0x5528bc911d6bc284cf4da89560534508e7638de4, 0...</td>\n      <td>1.0</td>\n      <td>0.974584</td>\n    </tr>\n    <tr>\n      <th>26</th>\n      <td>ornellaweb3.eth</td>\n      <td>[0x2d84cfb9cba0e8e4d7511a88cb7102a984fdb0ba, 0...</td>\n      <td>3.0</td>\n      <td>0.661287</td>\n    </tr>\n    <tr>\n      <th>27</th>\n      <td>pinkboots.eth</td>\n      <td>[0xa5dbd5f2f45cec05ace6c08f0b75bec711ea9517, 0...</td>\n      <td>40.0</td>\n      <td>1.298425</td>\n    </tr>\n    <tr>\n      <th>28</th>\n      <td>remx.eth</td>\n      <td>[0x6401f5b9f88c489495fb95ba7aa4276a353bebb8, 0...</td>\n      <td>4.0</td>\n      <td>0.441854</td>\n    </tr>\n    <tr>\n      <th>29</th>\n      <td>rileybeans.eth</td>\n      <td>[0x54a80e0417008db88036f4fb2c4646264717f7a6, 0...</td>\n      <td>1.0</td>\n      <td>0.499483</td>\n    </tr>\n    <tr>\n      <th>30</th>\n      <td>robertjames.eth</td>\n      <td>[0xa65da49bb89ec7b1a10f3887ae07e4c9c8eea168, 0...</td>\n      <td>22.0</td>\n      <td>1.052096</td>\n    </tr>\n    <tr>\n      <th>31</th>\n      <td>rsantos.eth</td>\n      <td>[0x08a2f4a84a06a0331b015bd1320ed20e1a9be688, 0...</td>\n      <td>2.0</td>\n      <td>0.637377</td>\n    </tr>\n    <tr>\n      <th>32</th>\n      <td>sannin.eth</td>\n      <td>[0x4bcfb57149dd1e8ec510bc2cc490bc4c43c7af8f, 0...</td>\n      <td>242.0</td>\n      <td>1.392446</td>\n    </tr>\n    <tr>\n      <th>33</th>\n      <td>smileface.eth</td>\n      <td>[0x32712bb04948da01d11c9aa6b3e77daeda014781, 0...</td>\n      <td>1.0</td>\n      <td>0.733730</td>\n    </tr>\n    <tr>\n      <th>34</th>\n      <td>theartcollection.eth</td>\n      <td>[0x1094ee0c78b81581c8c8ea34bc2eec8a4bd20756, 0...</td>\n      <td>19.0</td>\n      <td>1.224491</td>\n    </tr>\n    <tr>\n      <th>35</th>\n      <td>turkii13.eth</td>\n      <td>[0x325a0fa68fc381be451f57d6be7f84da206427fd, 0...</td>\n      <td>2.0</td>\n      <td>1.090343</td>\n    </tr>\n    <tr>\n      <th>36</th>\n      <td>tweetious.eth</td>\n      <td>[0x8b104344f397afc33ee55c743a0fbd7d956201cd, 0...</td>\n      <td>12.0</td>\n      <td>1.162832</td>\n    </tr>\n    <tr>\n      <th>37</th>\n      <td>willg.eth</td>\n      <td>[0x493df7506210e55a893d70e61d812d824ca1c489, 0...</td>\n      <td>4.0</td>\n      <td>0.977817</td>\n    </tr>\n    <tr>\n      <th>38</th>\n      <td>wpunks.eth</td>\n      <td>[0x7938d79352ef0f58cd2058f930629928ae74b790, 0...</td>\n      <td>1.0</td>\n      <td>0.390122</td>\n    </tr>\n    <tr>\n      <th>39</th>\n      <td>zolder.eth</td>\n      <td>[0x11610d0bf661d3ccbb9493cf23184f68ecfe4783, 0...</td>\n      <td>171.0</td>\n      <td>1.424103</td>\n    </tr>\n  </tbody>\n</table>\n</div>"
     },
     "execution_count": 37,
     "metadata": {},
     "output_type": "execute_result"
    }
   ],
   "source": [
    "address_embedding_dict = pd.Series(embeddings_df.drop(columns='address').values.tolist(), index=embeddings_df.address).to_dict()\n",
    "\n",
    "def get_embedding_from_address(address):\n",
    "    return address_embedding_dict[address]\n",
    "\n",
    "def find_nearest_neighbours(address, k=10):\n",
    "    # Get embedding of the address\n",
    "    address_embedding = np.array(get_embedding_from_address(address)).reshape(1, -1)\n",
    "\n",
    "    # Query the index for the nearest neighbors of the address's embedding\n",
    "    D, I = index.search(address_embedding, k)\n",
    "\n",
    "    # Translate indices back to addresses\n",
    "    neighbours = [ordered_addresses[i] for i in I[0]]\n",
    "\n",
    "    return neighbours\n",
    "\n",
    "## Function to find the rank and distance of the right address in my ground truth set\n",
    "def find_rank_and_distance(row):\n",
    "    addresses = row['Addresses']  # Addresses should already be a list\n",
    "\n",
    "    if addresses[0] not in address_embedding_dict or addresses[1] not in address_embedding_dict:\n",
    "        return None, None  # Skip if addresses are not in node_mapping\n",
    "\n",
    "    idx1 = embeddings_df[embeddings_df['address'] == addresses[0]].index.item()\n",
    "    idx2 = embeddings_df[embeddings_df['address'] == addresses[1]].index.item()\n",
    "\n",
    "    # Search the k nearest neighbours for address i\n",
    "    D, I = index.search(embeddings[idx1:idx1+1], k=50000)\n",
    "\n",
    "    # Find the rank and distance of the second address among these neighbours\n",
    "    if idx2 in I:\n",
    "        rank = np.where(I == idx2)[1][0]\n",
    "        distance = D[0][rank]  # Get the corresponding distance\n",
    "    else:\n",
    "        rank = None\n",
    "        distance = None\n",
    "\n",
    "    return rank, distance\n",
    "\n",
    "find_nearest_neighbours('0x85e5472752a6f00775faca4d5179bde1081571b0', 30)\n",
    "\n",
    "ens_addresses_df['Rank'], ens_addresses_df['Distance'] = zip(*ens_addresses_df.apply(find_rank_and_distance, axis=1))\n",
    "print(ens_addresses_df['Distance'].mean())\n",
    "print(ens_addresses_df['Rank'].median())\n",
    "print(ens_addresses_df['Rank'].mean())\n",
    "ens_addresses_df"
   ],
   "metadata": {
    "collapsed": false,
    "pycharm": {
     "name": "#%%\n"
    }
   }
  },
  {
   "cell_type": "code",
   "execution_count": 140,
   "outputs": [
    {
     "name": "stdout",
     "output_type": "stream",
     "text": [
      "Dataset: only Transfers / transfers and native / other params\n",
      "Mean Rank: 68.54054054054055 / 24.18421052631579 / 17.263157894736842\n",
      "Median Rank: 3.0 / 4.0 / 3.0\n",
      "Mean Distance: 0.9587040140822127 / 0.9279692471027374 / 0.9096820652484894\n",
      "Median Distance: 0.95011568069458 / 0.9279692471027374 / 0.9260088801383972\n"
     ]
    }
   ],
   "source": [
    "df1 = pd.read_csv('../only_transfers.csv')\n",
    "df2 = pd.read_csv('../transfersPlusNative.csv')\n",
    "df3 = pd.read_csv('../other_parameters.csv')\n",
    "\n",
    "print('Dataset: only Transfers / transfers and native / other params')\n",
    "print(f'Mean Rank: {df1[\"Rank\"].mean()} / {df2[\"Rank\"].mean()} / {df3[\"Rank\"].mean()}')\n",
    "print(f'Median Rank: {df1[\"Rank\"].median()} / {df2[\"Rank\"].median()} / {df3[\"Rank\"].median()}')\n",
    "print(f'Mean Distance: {df1[\"Distance\"].mean()} / {df2[\"Distance\"].median()} / {df3[\"Distance\"].mean()}')\n",
    "print(f'Median Distance: {df1[\"Distance\"].median()} / {df2[\"Distance\"].median()} / {df3[\"Distance\"].median()}')"
   ],
   "metadata": {
    "collapsed": false,
    "pycharm": {
     "name": "#%%\n"
    }
   }
  },
  {
   "cell_type": "code",
   "execution_count": 141,
   "outputs": [
    {
     "data": {
      "text/plain": "    Unnamed: 0              ENS Name  \\\n0            0          anisofim.eth   \n1            1       arisalzberg.eth   \n2            2           atearnz.eth   \n3            3           awedjob.eth   \n4            4         captvicky.eth   \n5            5         disruptor.eth   \n6            6      dragonkiller.eth   \n7            7           eibriel.eth   \n8            8         epdrabbit.eth   \n9            9         erikarand.eth   \n10          10      froilancrypt.eth   \n11          11         hyperspek.eth   \n12          12   jamesmillerblog.eth   \n13          13          jasonhsu.eth   \n14          14             joeyz.eth   \n15          15           keastie.eth   \n16          16             linkg.eth   \n17          17             lulox.eth   \n18          18           maruudn.eth   \n19          19           maryana.eth   \n20          20          meanboss.eth   \n21          21     metatiger.dcl.eth   \n22          22        mgdivingnz.eth   \n23          23            mrcryp.eth   \n24          24        nicebhaiya.eth   \n25          25           niceguy.eth   \n26          26       ornellaweb3.eth   \n27          27         pinkboots.eth   \n28          28              remx.eth   \n29          29        rileybeans.eth   \n30          30       robertjames.eth   \n31          31           rsantos.eth   \n32          32            sannin.eth   \n33          33         smileface.eth   \n34          34  theartcollection.eth   \n35          35          turkii13.eth   \n36          36         tweetious.eth   \n37          37             willg.eth   \n38          38            wpunks.eth   \n39          39            zolder.eth   \n\n                                            Addresses   Rank  Distance  \n0   ['0x85e5472752a6f00775faca4d5179bde1081571b0',...    4.0  0.661215  \n1   ['0x94e59547b8c68924380c90e729488f3e79ff8d22',...   21.0  1.348246  \n2   ['0x5500c014dc83d18c60858195b42f2e61f877323e',...    2.0  0.653908  \n3   ['0xc939519869c946e4bdca8fd0b6459048c4aebae2',...   74.0  1.248078  \n4   ['0x33e51a1141c44cc8bcb9b50c4a3c7ab59f4cf68c',...    NaN       NaN  \n5   ['0xb84914f420b6de809ac1ed3d4427d90ed596b41c',...    6.0  1.221428  \n6   ['0x4fdafeadb7c2f127e3c1719a99c01680cc8ddab1',...   42.0  0.972515  \n7   ['0x05c351382db8d770207f319d96ac1184c3717ede',...  174.0  1.449171  \n8   ['0x26846c9083c4ab525de593178e3f2f82afb8ba83',...   19.0  1.123956  \n9   ['0xe005c90eb8b38938cfe722e7069118414145709b',...    1.0  0.682870  \n10  ['0xf4ea960bd28359da37b9cda021b342fec9ea28df',...    6.0  1.031768  \n11  ['0x5c4fe960950ba0e09a72869c3d51fe70f07580e0',...    3.0  1.165416  \n12  ['0x38a66799f30e7b2b0e7095a141aca56dd6f4f7c8',...    NaN       NaN  \n13  ['0x1a26db1b2baf0b23f18e19375e8fdc159feb707e',...    1.0  0.550555  \n14  ['0x250fbb28b2cd0a9faadc2d8a1d1c72f69163ac29',...    2.0  0.662666  \n15  ['0x84ab65f45d3f8067f8bbff80f2248cd1ab4d96be',...    1.0  0.765458  \n16  ['0x580bb63d47242964fa5fe9e69c5eb5423b7a50d2',...    3.0  0.842804  \n17  ['0xe2beae512697913951cdd85db49545b077a90699',...    3.0  0.907114  \n18  ['0xe2cfeab2beba9a7f09fd981f13e84df1e9978a5e',...    6.0  1.103808  \n19  ['0x370f859a2f31d40192e1879eb97d64e6459bc8e4',...   21.0  1.234860  \n20  ['0x974c1cb84f439826c100b20063c24d72226fd4a8',...    9.0  0.670316  \n21  ['0x05d460310a2d785d0bd5b586c8f6402e70366fae',...   92.0  1.290549  \n22  ['0x1e84c5351ad32ed179c14ed4f015748c417841a6',...    2.0  0.599096  \n23  ['0xed41aa4abb256b13f02b87cd66a39ddc7a6c9a22',...    1.0  0.419898  \n24  ['0xe104414bf575f943e7f94e55e7f59ed086035af4',...    2.0  0.748093  \n25  ['0x5528bc911d6bc284cf4da89560534508e7638de4',...    1.0  0.804745  \n26  ['0x2d84cfb9cba0e8e4d7511a88cb7102a984fdb0ba',...    3.0  0.521830  \n27  ['0xa5dbd5f2f45cec05ace6c08f0b75bec711ea9517',...   24.0  1.245999  \n28  ['0x6401f5b9f88c489495fb95ba7aa4276a353bebb8',...    3.0  0.376694  \n29  ['0x54a80e0417008db88036f4fb2c4646264717f7a6',...    1.0  0.553767  \n30  ['0xa65da49bb89ec7b1a10f3887ae07e4c9c8eea168',...    2.0  0.944903  \n31  ['0x08a2f4a84a06a0331b015bd1320ed20e1a9be688',...    2.0  0.689835  \n32  ['0x4bcfb57149dd1e8ec510bc2cc490bc4c43c7af8f',...   38.0  1.178971  \n33  ['0x32712bb04948da01d11c9aa6b3e77daeda014781',...    2.0  0.707578  \n34  ['0x1094ee0c78b81581c8c8ea34bc2eec8a4bd20756',...   10.0  1.173771  \n35  ['0x325a0fa68fc381be451f57d6be7f84da206427fd',...    2.0  1.135322  \n36  ['0x8b104344f397afc33ee55c743a0fbd7d956201cd',...   50.0  1.286774  \n37  ['0x493df7506210e55a893d70e61d812d824ca1c489',...    4.0  0.987436  \n38  ['0x7938d79352ef0f58cd2058f930629928ae74b790',...    3.0  0.358646  \n39  ['0x11610d0bf661d3ccbb9493cf23184f68ecfe4783',...   16.0  1.247861  ",
      "text/html": "<div>\n<style scoped>\n    .dataframe tbody tr th:only-of-type {\n        vertical-align: middle;\n    }\n\n    .dataframe tbody tr th {\n        vertical-align: top;\n    }\n\n    .dataframe thead th {\n        text-align: right;\n    }\n</style>\n<table border=\"1\" class=\"dataframe\">\n  <thead>\n    <tr style=\"text-align: right;\">\n      <th></th>\n      <th>Unnamed: 0</th>\n      <th>ENS Name</th>\n      <th>Addresses</th>\n      <th>Rank</th>\n      <th>Distance</th>\n    </tr>\n  </thead>\n  <tbody>\n    <tr>\n      <th>0</th>\n      <td>0</td>\n      <td>anisofim.eth</td>\n      <td>['0x85e5472752a6f00775faca4d5179bde1081571b0',...</td>\n      <td>4.0</td>\n      <td>0.661215</td>\n    </tr>\n    <tr>\n      <th>1</th>\n      <td>1</td>\n      <td>arisalzberg.eth</td>\n      <td>['0x94e59547b8c68924380c90e729488f3e79ff8d22',...</td>\n      <td>21.0</td>\n      <td>1.348246</td>\n    </tr>\n    <tr>\n      <th>2</th>\n      <td>2</td>\n      <td>atearnz.eth</td>\n      <td>['0x5500c014dc83d18c60858195b42f2e61f877323e',...</td>\n      <td>2.0</td>\n      <td>0.653908</td>\n    </tr>\n    <tr>\n      <th>3</th>\n      <td>3</td>\n      <td>awedjob.eth</td>\n      <td>['0xc939519869c946e4bdca8fd0b6459048c4aebae2',...</td>\n      <td>74.0</td>\n      <td>1.248078</td>\n    </tr>\n    <tr>\n      <th>4</th>\n      <td>4</td>\n      <td>captvicky.eth</td>\n      <td>['0x33e51a1141c44cc8bcb9b50c4a3c7ab59f4cf68c',...</td>\n      <td>NaN</td>\n      <td>NaN</td>\n    </tr>\n    <tr>\n      <th>5</th>\n      <td>5</td>\n      <td>disruptor.eth</td>\n      <td>['0xb84914f420b6de809ac1ed3d4427d90ed596b41c',...</td>\n      <td>6.0</td>\n      <td>1.221428</td>\n    </tr>\n    <tr>\n      <th>6</th>\n      <td>6</td>\n      <td>dragonkiller.eth</td>\n      <td>['0x4fdafeadb7c2f127e3c1719a99c01680cc8ddab1',...</td>\n      <td>42.0</td>\n      <td>0.972515</td>\n    </tr>\n    <tr>\n      <th>7</th>\n      <td>7</td>\n      <td>eibriel.eth</td>\n      <td>['0x05c351382db8d770207f319d96ac1184c3717ede',...</td>\n      <td>174.0</td>\n      <td>1.449171</td>\n    </tr>\n    <tr>\n      <th>8</th>\n      <td>8</td>\n      <td>epdrabbit.eth</td>\n      <td>['0x26846c9083c4ab525de593178e3f2f82afb8ba83',...</td>\n      <td>19.0</td>\n      <td>1.123956</td>\n    </tr>\n    <tr>\n      <th>9</th>\n      <td>9</td>\n      <td>erikarand.eth</td>\n      <td>['0xe005c90eb8b38938cfe722e7069118414145709b',...</td>\n      <td>1.0</td>\n      <td>0.682870</td>\n    </tr>\n    <tr>\n      <th>10</th>\n      <td>10</td>\n      <td>froilancrypt.eth</td>\n      <td>['0xf4ea960bd28359da37b9cda021b342fec9ea28df',...</td>\n      <td>6.0</td>\n      <td>1.031768</td>\n    </tr>\n    <tr>\n      <th>11</th>\n      <td>11</td>\n      <td>hyperspek.eth</td>\n      <td>['0x5c4fe960950ba0e09a72869c3d51fe70f07580e0',...</td>\n      <td>3.0</td>\n      <td>1.165416</td>\n    </tr>\n    <tr>\n      <th>12</th>\n      <td>12</td>\n      <td>jamesmillerblog.eth</td>\n      <td>['0x38a66799f30e7b2b0e7095a141aca56dd6f4f7c8',...</td>\n      <td>NaN</td>\n      <td>NaN</td>\n    </tr>\n    <tr>\n      <th>13</th>\n      <td>13</td>\n      <td>jasonhsu.eth</td>\n      <td>['0x1a26db1b2baf0b23f18e19375e8fdc159feb707e',...</td>\n      <td>1.0</td>\n      <td>0.550555</td>\n    </tr>\n    <tr>\n      <th>14</th>\n      <td>14</td>\n      <td>joeyz.eth</td>\n      <td>['0x250fbb28b2cd0a9faadc2d8a1d1c72f69163ac29',...</td>\n      <td>2.0</td>\n      <td>0.662666</td>\n    </tr>\n    <tr>\n      <th>15</th>\n      <td>15</td>\n      <td>keastie.eth</td>\n      <td>['0x84ab65f45d3f8067f8bbff80f2248cd1ab4d96be',...</td>\n      <td>1.0</td>\n      <td>0.765458</td>\n    </tr>\n    <tr>\n      <th>16</th>\n      <td>16</td>\n      <td>linkg.eth</td>\n      <td>['0x580bb63d47242964fa5fe9e69c5eb5423b7a50d2',...</td>\n      <td>3.0</td>\n      <td>0.842804</td>\n    </tr>\n    <tr>\n      <th>17</th>\n      <td>17</td>\n      <td>lulox.eth</td>\n      <td>['0xe2beae512697913951cdd85db49545b077a90699',...</td>\n      <td>3.0</td>\n      <td>0.907114</td>\n    </tr>\n    <tr>\n      <th>18</th>\n      <td>18</td>\n      <td>maruudn.eth</td>\n      <td>['0xe2cfeab2beba9a7f09fd981f13e84df1e9978a5e',...</td>\n      <td>6.0</td>\n      <td>1.103808</td>\n    </tr>\n    <tr>\n      <th>19</th>\n      <td>19</td>\n      <td>maryana.eth</td>\n      <td>['0x370f859a2f31d40192e1879eb97d64e6459bc8e4',...</td>\n      <td>21.0</td>\n      <td>1.234860</td>\n    </tr>\n    <tr>\n      <th>20</th>\n      <td>20</td>\n      <td>meanboss.eth</td>\n      <td>['0x974c1cb84f439826c100b20063c24d72226fd4a8',...</td>\n      <td>9.0</td>\n      <td>0.670316</td>\n    </tr>\n    <tr>\n      <th>21</th>\n      <td>21</td>\n      <td>metatiger.dcl.eth</td>\n      <td>['0x05d460310a2d785d0bd5b586c8f6402e70366fae',...</td>\n      <td>92.0</td>\n      <td>1.290549</td>\n    </tr>\n    <tr>\n      <th>22</th>\n      <td>22</td>\n      <td>mgdivingnz.eth</td>\n      <td>['0x1e84c5351ad32ed179c14ed4f015748c417841a6',...</td>\n      <td>2.0</td>\n      <td>0.599096</td>\n    </tr>\n    <tr>\n      <th>23</th>\n      <td>23</td>\n      <td>mrcryp.eth</td>\n      <td>['0xed41aa4abb256b13f02b87cd66a39ddc7a6c9a22',...</td>\n      <td>1.0</td>\n      <td>0.419898</td>\n    </tr>\n    <tr>\n      <th>24</th>\n      <td>24</td>\n      <td>nicebhaiya.eth</td>\n      <td>['0xe104414bf575f943e7f94e55e7f59ed086035af4',...</td>\n      <td>2.0</td>\n      <td>0.748093</td>\n    </tr>\n    <tr>\n      <th>25</th>\n      <td>25</td>\n      <td>niceguy.eth</td>\n      <td>['0x5528bc911d6bc284cf4da89560534508e7638de4',...</td>\n      <td>1.0</td>\n      <td>0.804745</td>\n    </tr>\n    <tr>\n      <th>26</th>\n      <td>26</td>\n      <td>ornellaweb3.eth</td>\n      <td>['0x2d84cfb9cba0e8e4d7511a88cb7102a984fdb0ba',...</td>\n      <td>3.0</td>\n      <td>0.521830</td>\n    </tr>\n    <tr>\n      <th>27</th>\n      <td>27</td>\n      <td>pinkboots.eth</td>\n      <td>['0xa5dbd5f2f45cec05ace6c08f0b75bec711ea9517',...</td>\n      <td>24.0</td>\n      <td>1.245999</td>\n    </tr>\n    <tr>\n      <th>28</th>\n      <td>28</td>\n      <td>remx.eth</td>\n      <td>['0x6401f5b9f88c489495fb95ba7aa4276a353bebb8',...</td>\n      <td>3.0</td>\n      <td>0.376694</td>\n    </tr>\n    <tr>\n      <th>29</th>\n      <td>29</td>\n      <td>rileybeans.eth</td>\n      <td>['0x54a80e0417008db88036f4fb2c4646264717f7a6',...</td>\n      <td>1.0</td>\n      <td>0.553767</td>\n    </tr>\n    <tr>\n      <th>30</th>\n      <td>30</td>\n      <td>robertjames.eth</td>\n      <td>['0xa65da49bb89ec7b1a10f3887ae07e4c9c8eea168',...</td>\n      <td>2.0</td>\n      <td>0.944903</td>\n    </tr>\n    <tr>\n      <th>31</th>\n      <td>31</td>\n      <td>rsantos.eth</td>\n      <td>['0x08a2f4a84a06a0331b015bd1320ed20e1a9be688',...</td>\n      <td>2.0</td>\n      <td>0.689835</td>\n    </tr>\n    <tr>\n      <th>32</th>\n      <td>32</td>\n      <td>sannin.eth</td>\n      <td>['0x4bcfb57149dd1e8ec510bc2cc490bc4c43c7af8f',...</td>\n      <td>38.0</td>\n      <td>1.178971</td>\n    </tr>\n    <tr>\n      <th>33</th>\n      <td>33</td>\n      <td>smileface.eth</td>\n      <td>['0x32712bb04948da01d11c9aa6b3e77daeda014781',...</td>\n      <td>2.0</td>\n      <td>0.707578</td>\n    </tr>\n    <tr>\n      <th>34</th>\n      <td>34</td>\n      <td>theartcollection.eth</td>\n      <td>['0x1094ee0c78b81581c8c8ea34bc2eec8a4bd20756',...</td>\n      <td>10.0</td>\n      <td>1.173771</td>\n    </tr>\n    <tr>\n      <th>35</th>\n      <td>35</td>\n      <td>turkii13.eth</td>\n      <td>['0x325a0fa68fc381be451f57d6be7f84da206427fd',...</td>\n      <td>2.0</td>\n      <td>1.135322</td>\n    </tr>\n    <tr>\n      <th>36</th>\n      <td>36</td>\n      <td>tweetious.eth</td>\n      <td>['0x8b104344f397afc33ee55c743a0fbd7d956201cd',...</td>\n      <td>50.0</td>\n      <td>1.286774</td>\n    </tr>\n    <tr>\n      <th>37</th>\n      <td>37</td>\n      <td>willg.eth</td>\n      <td>['0x493df7506210e55a893d70e61d812d824ca1c489',...</td>\n      <td>4.0</td>\n      <td>0.987436</td>\n    </tr>\n    <tr>\n      <th>38</th>\n      <td>38</td>\n      <td>wpunks.eth</td>\n      <td>['0x7938d79352ef0f58cd2058f930629928ae74b790',...</td>\n      <td>3.0</td>\n      <td>0.358646</td>\n    </tr>\n    <tr>\n      <th>39</th>\n      <td>39</td>\n      <td>zolder.eth</td>\n      <td>['0x11610d0bf661d3ccbb9493cf23184f68ecfe4783',...</td>\n      <td>16.0</td>\n      <td>1.247861</td>\n    </tr>\n  </tbody>\n</table>\n</div>"
     },
     "execution_count": 141,
     "metadata": {},
     "output_type": "execute_result"
    }
   ],
   "source": [
    "df3"
   ],
   "metadata": {
    "collapsed": false,
    "pycharm": {
     "name": "#%%\n"
    }
   }
  },
  {
   "cell_type": "code",
   "execution_count": 159,
   "outputs": [
    {
     "name": "stdout",
     "output_type": "stream",
     "text": [
      "36566\n"
     ]
    },
    {
     "data": {
      "text/plain": "[{0},\n {1},\n {2},\n {3,\n  14205,\n  16421,\n  18579,\n  19558,\n  20368,\n  24394,\n  25743,\n  26605,\n  26778,\n  27452,\n  37341,\n  39353,\n  42582,\n  44816,\n  45024,\n  45050,\n  45052,\n  45103,\n  45153,\n  45162,\n  45168,\n  45208,\n  45233,\n  45251,\n  45253},\n {4},\n {5,\n  3760,\n  14205,\n  19416,\n  20368,\n  24078,\n  25270,\n  26778,\n  27452,\n  29400,\n  30800,\n  35292,\n  35786,\n  37341,\n  39337,\n  39353,\n  39371,\n  39390,\n  43261,\n  44253,\n  44662,\n  45024,\n  45037,\n  45050,\n  45052,\n  45061,\n  45158,\n  45162,\n  45163,\n  45177,\n  45180,\n  45188,\n  45251,\n  45256},\n {6},\n {7},\n {8},\n {9},\n {10},\n {11},\n {12},\n {13},\n {14},\n {15},\n {16},\n {17},\n {18},\n {19},\n {20},\n {21},\n {22},\n {23},\n {24},\n {25},\n {26},\n {27},\n {28},\n {29},\n {30},\n {31},\n {32},\n {33},\n {34},\n {35},\n {36},\n {37},\n {38},\n {39},\n {40},\n {41, 20503, 25432, 32626, 39672, 47060, 47587},\n {42},\n {43},\n {44},\n {45},\n {46},\n {47},\n {48},\n {49},\n {50},\n {51},\n {52},\n {53},\n {54},\n {55},\n {56},\n {57,\n  19476,\n  21768,\n  26165,\n  30344,\n  37767,\n  38695,\n  40534,\n  40548,\n  41133,\n  41492,\n  41951,\n  42692,\n  43108,\n  44059,\n  44060,\n  44076,\n  44084,\n  44087,\n  44089,\n  44094,\n  44101,\n  44106},\n {58},\n {59},\n {60},\n {61},\n {62},\n {63},\n {64},\n {65,\n  5015,\n  30632,\n  35940,\n  36889,\n  37198,\n  44357,\n  47200,\n  48265,\n  49254,\n  49448,\n  49497,\n  50444,\n  50734,\n  50744},\n {66},\n {67},\n {68},\n {69},\n {70},\n {71},\n {72},\n {73},\n {74},\n {75, 30421, 39536, 46346, 47333, 50584, 50587},\n {76},\n {77},\n {78},\n {79},\n {80},\n {81},\n {82,\n  11663,\n  14324,\n  19658,\n  24243,\n  29222,\n  30721,\n  38207,\n  47270,\n  47372,\n  50676,\n  51532},\n {83},\n {84},\n {85},\n {86},\n {87},\n {88},\n {89},\n {90},\n {91},\n {92,\n  12699,\n  21199,\n  21200,\n  21203,\n  28099,\n  36339,\n  39375,\n  42802,\n  44200,\n  45289,\n  46177,\n  48294,\n  48295,\n  50414},\n {93},\n {94},\n {95},\n {96},\n {97},\n {98},\n {99},\n {100},\n {101},\n {102},\n {103},\n {104},\n {105},\n {106},\n {107},\n {108},\n {109},\n {110},\n {111},\n {112},\n {113},\n {114, 19792},\n {115},\n {116},\n {117},\n {118},\n {119},\n {120},\n {121},\n {122, 123, 124, 125, 126, 127},\n {128},\n {129},\n {130},\n {131},\n {132},\n {133},\n {134},\n {135},\n {136},\n {137},\n {138, 139},\n {140},\n {141},\n {142},\n {143},\n {144},\n {145},\n {146},\n {147},\n {148, 151, 152, 153, 155},\n {149},\n {150},\n {154},\n {152, 156},\n {157},\n {158},\n {159},\n {160},\n {161},\n {162},\n {163},\n {164},\n {165},\n {166},\n {167},\n {168},\n {169,\n  2696,\n  24521,\n  27253,\n  30511,\n  35943,\n  36478,\n  37502,\n  37611,\n  38662,\n  38677,\n  38972,\n  40132,\n  41567,\n  42525,\n  42529,\n  42769,\n  43296,\n  43362,\n  43378,\n  45350,\n  45961,\n  46542,\n  46979,\n  47366,\n  47724,\n  48675,\n  49315,\n  49551,\n  49794,\n  49851,\n  49947,\n  49956,\n  50055,\n  50122,\n  50409,\n  50619,\n  50622,\n  50662,\n  50875,\n  51317,\n  51337},\n {170},\n {171},\n {172},\n {173},\n {174},\n {175},\n {176},\n {177, 15944, 15951, 18740, 35505, 40079, 46574, 47792, 50616, 51038},\n {178, 1925, 21530, 36510},\n {179},\n {180},\n {181},\n {182},\n {183, 184},\n {185},\n {186},\n {187},\n {188},\n {189},\n {190},\n {191},\n {192},\n {193},\n {194},\n {195},\n {196},\n {197},\n {198},\n {199},\n {200},\n {201},\n {202, 203},\n {204},\n {205},\n {206},\n {207},\n {208},\n {209, 210, 35329, 35455, 35456, 35457},\n {210, 35456, 35457},\n {211},\n {212},\n {213, 215, 217, 218},\n {214},\n {215, 217, 218},\n {216},\n {219, 24179, 41814},\n {220, 221},\n {222},\n {223},\n {224},\n {225},\n {226,\n  267,\n  702,\n  763,\n  856,\n  964,\n  989,\n  17030,\n  22710,\n  24470,\n  30028,\n  42150,\n  42419,\n  42702,\n  46265,\n  46922,\n  47955,\n  49613},\n {227,\n  11450,\n  19185,\n  19420,\n  25277,\n  39131,\n  39211,\n  39343,\n  41190,\n  41770,\n  45340,\n  45399,\n  47957,\n  48832,\n  50073,\n  50550,\n  50820,\n  51034,\n  51263,\n  51379,\n  51390,\n  51392},\n {228,\n  24663,\n  38880,\n  40447,\n  42185,\n  46726,\n  47073,\n  47074,\n  47612,\n  48162,\n  49026,\n  50039,\n  50800},\n {229},\n {230,\n  20089,\n  23770,\n  25768,\n  30431,\n  39891,\n  41563,\n  47344,\n  48495,\n  49258,\n  49387,\n  49832,\n  51055},\n {231},\n {232, 234},\n {233},\n {235},\n {236},\n {237},\n {238},\n {239},\n {240},\n {241},\n {242, 5073, 6498, 9142, 16899, 37871, 50142, 50143},\n {243},\n {244},\n {245},\n {246},\n {247},\n {248},\n {249},\n {250},\n {251},\n {252},\n {253},\n {254, 28126, 38554, 46387, 50365, 50381, 50397, 51126},\n {255},\n {256, 257, 258},\n {259},\n {260},\n {261},\n {262},\n {263},\n {264},\n {265},\n {266},\n {267,\n  663,\n  702,\n  762,\n  776,\n  856,\n  887,\n  964,\n  17030,\n  22710,\n  23854,\n  42419,\n  46265,\n  49569,\n  49613,\n  49615},\n {268,\n  27574,\n  36242,\n  39302,\n  41308,\n  42160,\n  42394,\n  42396,\n  42401,\n  42402,\n  42404,\n  42405},\n {269},\n {270, 769, 17888, 27923, 37825, 40473, 44172, 50036, 50234, 50917},\n {271},\n {272, 17007, 17438, 18026, 18033, 18038, 18046, 30084, 36750, 36753},\n {273},\n {274,\n  20063,\n  20627,\n  22479,\n  25277,\n  39343,\n  39987,\n  41190,\n  41770,\n  42701,\n  44163,\n  45340,\n  46606,\n  48241,\n  48283,\n  48832,\n  49018,\n  49778,\n  50820,\n  51263,\n  51375,\n  51379,\n  51389,\n  51390},\n {275,\n  14537,\n  26095,\n  26967,\n  28515,\n  41484,\n  43119,\n  44737,\n  44839,\n  47172,\n  47272,\n  48301,\n  49750,\n  50624,\n  50808,\n  50954,\n  51246},\n {276},\n {277,\n  23527,\n  30080,\n  43695,\n  43696,\n  43697,\n  44366,\n  44706,\n  47290,\n  48851,\n  48874,\n  50241,\n  50242},\n {278},\n {279, 580, 38434, 40089, 42180, 42181},\n {280},\n {281},\n {282},\n {283},\n {284},\n {285},\n {286},\n {287,\n  15075,\n  15838,\n  25634,\n  26326,\n  37815,\n  41269,\n  43248,\n  46739,\n  46740,\n  46742,\n  46743,\n  50598},\n {288},\n {289},\n {290},\n {291},\n {292},\n {293},\n {294},\n {295},\n {296},\n {297},\n {298},\n {299, 6980, 37164, 39653, 49202, 50383, 51120, 51427},\n {300},\n {301},\n {302},\n {303},\n {304},\n {305},\n {306},\n {307},\n {308},\n {309},\n {310},\n {311},\n {312},\n {313},\n {314},\n {315},\n {316},\n {317},\n {318},\n {319},\n {320},\n {321},\n {322},\n {323},\n {324},\n {325},\n {326},\n {327},\n {328},\n {329},\n {330},\n {331},\n {332},\n {333},\n {334},\n {335},\n {336},\n {337},\n {338},\n {339},\n {340},\n {341},\n {342},\n {343},\n {344},\n {345},\n {346},\n {347},\n {348},\n {349},\n {350},\n {351},\n {352},\n {353},\n {354},\n {355},\n {356},\n {357},\n {358},\n {359},\n {360},\n {361},\n {362},\n {363},\n {364},\n {365},\n {366},\n {367},\n {368},\n {369},\n {370},\n {371},\n {372},\n {373},\n {374},\n {375},\n {376},\n {377},\n {378},\n {379},\n {380},\n {381},\n {382},\n {383},\n {384},\n {385},\n {386},\n {387},\n {388},\n {389},\n {390},\n {391},\n {392},\n {393},\n {394},\n {395},\n {396},\n {397},\n {398},\n {399},\n {400},\n {401},\n {402},\n {403},\n {404},\n {405},\n {406},\n {407},\n {408},\n {409},\n {410},\n {411},\n {412},\n {413},\n {414},\n {415},\n {416},\n {417},\n {418},\n {419},\n {420},\n {421},\n {422},\n {423},\n {424},\n {425},\n {426},\n {427},\n {428},\n {429},\n {430},\n {431},\n {432},\n {433},\n {434},\n {435},\n {436},\n {437},\n {438},\n {439},\n {440},\n {441},\n {442},\n {443},\n {444},\n {445},\n {446},\n {447},\n {448},\n {449},\n {450},\n {451},\n {452},\n {453},\n {454},\n {455},\n {456},\n {457},\n {458},\n {459},\n {460},\n {461},\n {462},\n {463},\n {464},\n {465},\n {466},\n {467},\n {468},\n {469},\n {470},\n {471},\n {472},\n {473},\n {474},\n {475},\n {476},\n {477},\n {478},\n {479},\n {480},\n {481},\n {482},\n {483},\n {484},\n {485},\n {486},\n {487},\n {488},\n {489},\n {490},\n {491},\n {492},\n {493},\n {494},\n {495},\n {496},\n {497},\n {498},\n {499},\n {500},\n {501},\n {502},\n {503},\n {504},\n {505},\n {506},\n {507},\n {508},\n {509},\n {510},\n {511},\n {512},\n {513},\n {514},\n {515},\n {516},\n {517},\n {518},\n {519},\n {520},\n {521},\n {522},\n {523},\n {524},\n {525},\n {526},\n {527},\n {528},\n {529},\n {530},\n {531},\n {532},\n {533},\n {534},\n {535},\n {536, 8739, 8744},\n {537},\n {538},\n {539},\n {540},\n {541},\n {542},\n {543},\n {544},\n {545},\n {546},\n {547},\n {548},\n {549},\n {550},\n {551},\n {552},\n {553},\n {554},\n {555},\n {556},\n {557},\n {558},\n {559},\n {560},\n {561},\n {562},\n {563},\n {564},\n {565},\n {566},\n {567},\n {568},\n {569},\n {570},\n {571},\n {572},\n {573},\n {574},\n {575},\n {576},\n {577},\n {578},\n {579},\n {580, 40089},\n {581},\n {582},\n {583},\n {584},\n {585},\n {586},\n {587},\n {588},\n {589, 29072, 39049, 39050, 39051, 39052, 42936, 43983},\n {590},\n {591},\n {592},\n {593},\n {594},\n {595, 13818, 18290, 38283, 38284, 38285, 38291, 38296, 42612, 42616, 48620},\n {596},\n {597},\n {598, 599, 3382, 3383, 3384, 20299, 20300, 20301},\n {600},\n {601},\n {602},\n {603},\n {604},\n {605},\n {606},\n {607},\n {608},\n {609},\n {610},\n {611},\n {612},\n {613},\n {614},\n {615, 4678, 12469, 26771, 27111, 37627, 38367, 49355, 50913},\n {616},\n {617},\n {618},\n {619},\n {620, 621, 623},\n {622},\n {624},\n {625},\n {626},\n {627},\n {628},\n {629},\n {630},\n {631},\n {632},\n {633},\n {634, 695, 23774, 44313, 49341},\n {635},\n {636},\n {637},\n {638},\n {639},\n {640, 21774, 28996, 36677, 39176, 39178, 39180},\n {641, 644, 645, 646, 33477, 34771},\n {642},\n {643},\n {644, 646},\n {645, 33477},\n {647},\n {648},\n {649},\n {650},\n {651},\n {652},\n {653},\n {654},\n {655},\n {656},\n {657},\n {658},\n {659},\n {660, 666},\n {661},\n {662},\n {664,\n  12991,\n  12993,\n  24069,\n  25790,\n  25839,\n  27481,\n  27815,\n  28988,\n  29541,\n  32132,\n  35657,\n  38118,\n  41921,\n  46536,\n  49138},\n {665},\n {667},\n {668},\n {669},\n {670,\n  672,\n  673,\n  25008,\n  26101,\n  34272,\n  35233,\n  35234,\n  46911,\n  48671,\n  48751,\n  49536},\n {671},\n {672, 673},\n {674, 962, 24023, 40391, 45953, 48941},\n {675},\n {676},\n {677, 938, 9548, 18425, 41246, 47692},\n {678},\n {679, 680, 682, 40383},\n {681},\n {683, 15198, 23592, 49165, 50103, 50892, 51208},\n {684},\n {685},\n {686},\n {687},\n {688},\n {689,\n  6538,\n  7304,\n  10076,\n  17152,\n  20698,\n  22035,\n  25761,\n  27487,\n  27759,\n  30905,\n  30908,\n  30909,\n  30910,\n  30915,\n  30919,\n  30921,\n  30924,\n  30933,\n  30934,\n  30935,\n  30937,\n  30943,\n  30944,\n  30950},\n {690},\n {691,\n  10922,\n  15101,\n  37321,\n  38803,\n  42625,\n  43753,\n  44201,\n  44202,\n  44204,\n  44206,\n  44208,\n  44210,\n  44213,\n  44215,\n  44217,\n  44219,\n  44220,\n  44221,\n  44223,\n  44224},\n {692},\n {693},\n {694},\n {696, 814, 944, 945, 974, 4703, 18906, 20492, 25008, 25012, 38916},\n {697, 5158, 28940, 29036, 29194, 47458, 51175, 51413},\n {698},\n {699, 19891, 20992, 21011, 21028, 21034, 21037},\n {700},\n {701},\n {703},\n {704},\n {705},\n {706},\n {707},\n {708},\n {709},\n {710},\n {711},\n {712},\n {713},\n {714},\n {715},\n {716},\n {717},\n {718},\n {719},\n {720},\n {721},\n {722},\n {723},\n {724},\n {725},\n {726},\n {727},\n {728},\n {729},\n {730},\n {731},\n {732},\n {733},\n {734},\n {735},\n {736},\n {737},\n {738},\n {739},\n {740},\n {741},\n {742},\n {743},\n {744},\n {745},\n {746},\n {747, 8814, 24329, 40473, 46255, 46577, 50854},\n {748},\n {749, 41167, 45420, 45936, 47359, 47709, 49752, 51463},\n {750},\n {751},\n {752, 5097, 8023, 26825, 26826, 26827, 26829, 47174, 48187},\n {753},\n {754, 8716, 8736, 8740, 8746, 8748},\n {755,\n  756,\n  9918,\n  26038,\n  26044,\n  27030,\n  33351,\n  35586,\n  37513,\n  37515,\n  37516,\n  37517,\n  37519,\n  37956,\n  37957,\n  48306},\n {757},\n {758},\n {759},\n {760},\n {761},\n {764, 44696, 46893, 46894, 46895},\n {765},\n {766,\n  11001,\n  11465,\n  15555,\n  15591,\n  15595,\n  15603,\n  15614,\n  15629,\n  36656,\n  40598,\n  46264,\n  47829,\n  50976,\n  51486,\n  51487},\n {702, 767, 964, 49569, 49613},\n {768,\n  6540,\n  15295,\n  25485,\n  28521,\n  29389,\n  38662,\n  38972,\n  39455,\n  41387,\n  41567,\n  41650,\n  42020,\n  42529,\n  44297,\n  47701,\n  48675,\n  48859,\n  49315,\n  49551,\n  49923,\n  50122,\n  50619,\n  50792,\n  50875,\n  51330},\n {770},\n {771,\n  958,\n  8573,\n  10276,\n  14111,\n  20400,\n  29294,\n  35618,\n  38209,\n  38898,\n  40821,\n  41517,\n  42361,\n  43092,\n  45003,\n  46305,\n  48335,\n  49070,\n  50385,\n  50890,\n  50891,\n  50995},\n {772, 774, 775, 18615, 18616, 18617, 18619, 30045, 30046, 50487},\n {772, 773, 775, 30046},\n {774, 18617},\n {776, 856, 23854, 28647, 29776, 42419, 44754, 46265, 49611, 49613, 49614},\n {777,\n  22967,\n  23061,\n  27943,\n  39014,\n  39381,\n  40002,\n  41920,\n  43034,\n  44185,\n  44676,\n  48593,\n  50441,\n  50811,\n  50812,\n  50813,\n  50814,\n  50815},\n {778},\n {779, 26033, 37713, 41978, 48013, 48942, 49047, 49106, 49918},\n {780},\n {781, 31191, 44897, 49146, 49147, 49148, 49530, 49531},\n {782,\n  8808,\n  12112,\n  21299,\n  22036,\n  35819,\n  35959,\n  38694,\n  41966,\n  44309,\n  49667,\n  50280,\n  50755,\n  50978,\n  51045,\n  51046,\n  51047,\n  51048,\n  51049},\n {783},\n {784,\n  3767,\n  11048,\n  12068,\n  13255,\n  15457,\n  15463,\n  15466,\n  15472,\n  15475,\n  15477,\n  15483,\n  15485,\n  15499,\n  18270,\n  22868,\n  24219,\n  27942,\n  30338,\n  37499,\n  37995,\n  39317,\n  44467,\n  45640,\n  45983,\n  46204,\n  46919,\n  48032,\n  48782,\n  48937,\n  49675,\n  50110,\n  50294,\n  50296,\n  50300,\n  50301,\n  50306,\n  50307,\n  50310},\n {785, 18120, 21790, 37320, 43528, 46831, 49839, 50880},\n {786},\n {787},\n {788},\n {789},\n {790,\n  4925,\n  27250,\n  30076,\n  36241,\n  41636,\n  42740,\n  44240,\n  44577,\n  47389,\n  49152,\n  49198,\n  49718,\n  50368,\n  51382},\n {791},\n {792},\n {793},\n {794},\n {795},\n {796},\n {797},\n {798},\n {799},\n {800},\n {801},\n {802},\n {803},\n {804, 807, 12763, 22845, 42029, 42030, 46474, 49253},\n {805},\n {806},\n {808},\n {809},\n {810,\n  4158,\n  10859,\n  15251,\n  18121,\n  22741,\n  24149,\n  25409,\n  27229,\n  28789,\n  38119,\n  41063,\n  44228,\n  48527,\n  48765,\n  48777,\n  49499,\n  49500,\n  49501},\n {811},\n {812,\n  6370,\n  10430,\n  17801,\n  21768,\n  21782,\n  22544,\n  23261,\n  24497,\n  30390,\n  35524,\n  35533,\n  35990,\n  35991,\n  35992,\n  37052,\n  37324,\n  37458,\n  37609,\n  39378,\n  40548,\n  41749,\n  41750,\n  41751,\n  43108,\n  44084,\n  44093,\n  46417,\n  46845,\n  46847,\n  46848,\n  46849,\n  46853},\n {813,\n  5132,\n  14384,\n  16243,\n  38554,\n  40213,\n  40215,\n  40216,\n  47225,\n  49965,\n  49966,\n  50381,\n  50397,\n  51126},\n {814, 944, 945, 20492, 25012, 38916},\n {815},\n {816},\n {817},\n {818},\n {819},\n {820, 838},\n {821},\n {822},\n {823},\n {824},\n {825},\n {826},\n {827},\n {828},\n {829},\n {830},\n {831},\n {832},\n {833},\n {834},\n {835},\n {836},\n {837},\n {839},\n {840},\n {841},\n {842},\n {843},\n {844},\n {845},\n {846},\n {847},\n {848},\n {849},\n {850},\n {851},\n {852},\n {853},\n {854},\n {855},\n {857},\n {858},\n {859},\n {860,\n  10671,\n  14652,\n  18427,\n  24466,\n  24952,\n  26901,\n  29330,\n  30024,\n  31016,\n  37044,\n  37819,\n  38549,\n  40285,\n  42428,\n  43929,\n  46972,\n  47248,\n  48409,\n  48440,\n  48449,\n  48450,\n  48451,\n  48453,\n  48457,\n  48463,\n  48466,\n  48471,\n  48472},\n {861},\n {862},\n {863,\n  9583,\n  17455,\n  23660,\n  25566,\n  36028,\n  40664,\n  41366,\n  48504,\n  48505,\n  49045,\n  49232},\n {864},\n {865},\n {866, 36456, 40714, 46766, 47877, 49344},\n {867},\n {868, 25308, 30432, 38065, 40170, 47529, 47867, 47868, 47869, 47870, 47871},\n {869},\n {870, 2992, 2993, 2996, 2997, 2998, 3000, 3011, 3012, 3013},\n {871, 872},\n {873, 9597},\n {874},\n {875},\n {876, 15651, 21918, 25627, 36774, 39289, 42155, 50821},\n {877},\n {878, 29819, 39635, 47266, 48661, 49931, 50804},\n {879},\n {880, 10295, 22667, 22668, 22669, 26782, 31037, 40006, 41753, 47983, 50943},\n {881},\n {882, 883, 18818, 18819},\n {883, 18818},\n {267, 856, 884, 887, 964},\n {885,\n  6439,\n  10540,\n  11988,\n  26206,\n  26212,\n  26215,\n  26216,\n  26217,\n  26219,\n  26221,\n  26225,\n  26228,\n  26229,\n  26230,\n  26231,\n  26232,\n  26234},\n {886},\n {888, 889, 890},\n {889,\n  890,\n  9867,\n  12657,\n  30509,\n  36085,\n  38422,\n  38695,\n  39378,\n  39923,\n  41525,\n  42838,\n  44061,\n  44065,\n  44073,\n  44075,\n  44092,\n  44095,\n  44096,\n  50863},\n {891},\n {892,\n  7451,\n  13076,\n  18643,\n  19148,\n  22769,\n  25419,\n  30483,\n  30511,\n  31087,\n  36478,\n  40001,\n  40132,\n  42381,\n  42529,\n  42904,\n  43585,\n  44663,\n  44885,\n  46466,\n  48675,\n  48838,\n  49894,\n  49956,\n  50122,\n  50619,\n  50768,\n  51035,\n  51292},\n {893},\n {894},\n {895},\n {896},\n {897},\n {898},\n {899, 8217, 12908, 12911, 12919, 28017},\n {900},\n {901},\n {902},\n {903, 9991, 9999, 25601, 44951, 44953},\n {904},\n {905},\n {906, 4899, 26320, 35508, 38502, 38590, 39793, 40657, 46201},\n {907},\n {908},\n {909},\n {910},\n {911},\n {912},\n {913},\n {914},\n {915},\n {916,\n  1010,\n  1082,\n  1358,\n  1404,\n  1543,\n  1583,\n  1609,\n  1618,\n  1650,\n  1714,\n  1842,\n  1866,\n  2253,\n  2442,\n  2515},\n {917, 918, 919, 920, 923},\n {921},\n {922},\n {924},\n {925},\n {926, 22625, 46643, 50720, 50877},\n {927},\n {928,\n  19377,\n  26585,\n  27140,\n  28564,\n  31046,\n  36100,\n  36410,\n  36565,\n  37869,\n  39719,\n  39874,\n  40009,\n  43153,\n  48228,\n  50374,\n  50463,\n  50568},\n {929},\n {930,\n  7159,\n  22467,\n  26958,\n  29608,\n  35867,\n  36784,\n  42573,\n  42574,\n  42575,\n  42576,\n  42577,\n  51503},\n {931,\n  8562,\n  9975,\n  10479,\n  10523,\n  18309,\n  18310,\n  24969,\n  25376,\n  26068,\n  28124,\n  28739,\n  30500,\n  38752,\n  41822,\n  42744,\n  43135,\n  46816,\n  49975,\n  51015,\n  51414,\n  51438},\n {932},\n {933},\n {934},\n {935},\n {936},\n {937},\n {939},\n {940,\n  9978,\n  26250,\n  27252,\n  28759,\n  30130,\n  30136,\n  30138,\n  30142,\n  30147,\n  30155,\n  30156,\n  30169,\n  30171},\n {941},\n {696, 942, 944, 25008, 38916},\n {943},\n {946, 4600, 41186, 41189, 43948, 46360, 47689, 48537},\n {947},\n {948},\n {949},\n {950},\n {951},\n {952},\n {953},\n {954},\n {955},\n {956},\n {957},\n {958, 960, 14111, 29294, 45003},\n {959},\n {961},\n {962,\n  11072,\n  24023,\n  25440,\n  26180,\n  28646,\n  29503,\n  37366,\n  40391,\n  44646,\n  46188,\n  47919,\n  48941,\n  50290,\n  50292,\n  50293},\n {963},\n {965, 27881, 38400, 38401, 44605},\n {966,\n  10443,\n  11452,\n  13368,\n  14294,\n  15987,\n  21225,\n  21272,\n  23878,\n  28195,\n  28570,\n  35223,\n  36096,\n  36155,\n  36223,\n  37240,\n  37495,\n  37719,\n  38886,\n  39930,\n  40196,\n  40471,\n  41023,\n  42128,\n  43076,\n  43449,\n  43790,\n  44449,\n  44785,\n  45469,\n  45657,\n  45726,\n  45732,\n  45742,\n  45745,\n  45750,\n  45755,\n  45761,\n  45764,\n  45770,\n  45772,\n  45779,\n  45780,\n  45781,\n  45784,\n  45786,\n  45787,\n  45798,\n  45807,\n  45816,\n  45827,\n  45842,\n  45857,\n  45859,\n  45864,\n  45866,\n  45867,\n  45871,\n  45882},\n {967},\n {968},\n {969},\n {696, 945, 970, 20492, 25008},\n {971,\n  3351,\n  14584,\n  17031,\n  19375,\n  20988,\n  21656,\n  22683,\n  28861,\n  30479,\n  32289,\n  40195,\n  40750,\n  41674,\n  41675,\n  41677,\n  41687,\n  41695,\n  41696,\n  41698,\n  41701,\n  41702,\n  41705,\n  41717,\n  41718,\n  41722,\n  44579,\n  45316,\n  46309,\n  47723,\n  47773,\n  47947,\n  48036,\n  48048},\n {972},\n {973, 10922, 44202, 44217, 44221},\n {975},\n {976},\n {977},\n {978},\n {979},\n {980},\n {981, 8643},\n {982},\n {983, 985, 6990, 6992, 6993, 6994, 41438, 44664},\n {984},\n {986, 23129, 37890, 38354, 46825, 48261, 49959},\n {987},\n {988},\n {990},\n {991,\n  1008,\n  1027,\n  1089,\n  1107,\n  1117,\n  1132,\n  1137,\n  1153,\n  1154,\n  1211,\n  1243,\n  1257,\n  1319,\n  1320,\n  1348,\n  1387,\n  1419,\n  1453,\n  1604,\n  1630,\n  1656,\n  1743,\n  1770,\n  1892,\n  1938,\n  1982,\n  2003,\n  2053,\n  2062,\n  2063,\n  2066,\n  2072,\n  2079,\n  2099,\n  2102,\n  2106,\n  2141,\n  2157,\n  2163,\n  2192,\n  2240,\n  2241,\n  2259,\n  2286,\n  2297,\n  2313,\n  2323,\n  2333,\n  2337,\n  2340,\n  2410,\n  2547},\n {992,\n  1089,\n  1132,\n  1154,\n  1180,\n  1243,\n  1320,\n  1348,\n  1387,\n  1399,\n  1416,\n  1453,\n  1465,\n  1709,\n  1729,\n  1751,\n  1770,\n  1778,\n  1828,\n  1857,\n  1896,\n  1938,\n  1945,\n  2003,\n  2006,\n  2063,\n  2066,\n  2157,\n  2175,\n  2241,\n  2258,\n  2283,\n  2286,\n  2297,\n  2333,\n  2337,\n  2340,\n  2410,\n  2455,\n  2471,\n  2485,\n  2521,\n  2547},\n {993},\n {994},\n {995},\n {996},\n {997},\n {998},\n {999,\n  1132,\n  1137,\n  1243,\n  1419,\n  1751,\n  1759,\n  1945,\n  2102,\n  2192,\n  2325,\n  2340,\n  2410,\n  2521,\n  2547},\n {1000, 1649, 1736, 1822, 1895, 1903, 2029, 2168, 2267},\n {1001},\n {1002, 1137, 2003, 2337, 2547},\n {1003},\n {1004},\n {1005, 1085, 1956, 2195, 2204},\n {1006},\n {1007, 1977, 6883, 6884, 6885, 6886, 6887, 6890},\n {1008, 1945, 1948, 2062, 2066, 2297, 2323, 2340, 2547},\n {1009},\n {1010, 1169, 1543, 1609, 1842, 2253, 2442},\n {1011, 1089, 1243, 1348, 1354, 1419, 1656, 1892, 1938, 2099, 2319, 2337},\n {1012},\n {1013, 1154, 1348, 1419, 1425, 1656, 1709, 2410},\n {1014},\n {1015},\n {1016},\n {1017},\n {1018},\n {1019,\n  11477,\n  11482,\n  18828,\n  18829,\n  18830,\n  18831,\n  29221,\n  29564,\n  38696,\n  39573,\n  40566,\n  40567,\n  40569,\n  40570,\n  40574,\n  49101,\n  50114,\n  51008,\n  51104,\n  51497},\n {1020},\n {1021},\n {1022},\n {1023},\n {1024},\n {1025},\n {1026},\n {1027,\n  1089,\n  1132,\n  1293,\n  1419,\n  1770,\n  2003,\n  2062,\n  2079,\n  2241,\n  2249,\n  2313,\n  2340,\n  2468},\n {1028, 1119, 1163, 1213, 1739, 1820, 2008, 2116, 2210, 2284, 2501},\n {1029},\n {1030, 1089, 1243, 1257, 1320, 1419, 1778, 2003, 2216, 2410, 2436, 2547},\n {1031},\n {1032, 1259, 1339, 1446, 1546, 1927, 2009, 2129, 2197, 2217, 2489},\n {1033},\n {1034, 1132, 1293, 1387, 2485},\n {1035, 1137, 1257, 1589, 1759, 1896, 2286, 2337, 2340},\n {1036},\n {1037},\n {1038, 1431, 5184, 13077, 25718, 30698, 30700, 30701},\n {1039},\n {1040},\n {1041},\n {1042},\n {1043, 1501, 1864, 1919, 2036, 2158, 2405, 2461},\n {1044},\n {1045, 1243, 1319, 1419, 2039, 2079, 2337, 2410, 2521},\n {1046},\n {1047, 1089, 1243, 1467, 1883, 1986, 2003, 2062, 2323, 2337, 2410, 2547},\n {1008, 1048, 1387, 2241, 2337},\n {1049},\n {1050},\n {1051},\n ...]"
     },
     "execution_count": 159,
     "metadata": {},
     "output_type": "execute_result"
    }
   ],
   "source": [
    "# Number of nearest neighbours to consider\n",
    "k = 5\n",
    "\n",
    "# This will store the clusters. Each cluster is a set of nodes (i.e., a set of indices).\n",
    "clusters = []\n",
    "\n",
    "threshold = 0.5\n",
    "\n",
    "# Iterate over all embeddings\n",
    "for i in range(embeddings.shape[0]):\n",
    "    # Query the index for the k nearest neighbors of the i-th embedding\n",
    "    D, I = index.search(embeddings[i:i+1], k)\n",
    "\n",
    "    # The indices of the nearest neighbors of the i-th node are in I[0]\n",
    "    neighbours = set(I[0][D[0] < threshold])\n",
    "\n",
    "    # Check if the node is already part of a cluster\n",
    "    for cluster in clusters:\n",
    "        if i in cluster:\n",
    "            # If the node is part of a cluster, we extend this cluster by the new neighbours\n",
    "            cluster.update(neighbours)\n",
    "            break\n",
    "    else:\n",
    "        # If the node was not part of any cluster, we create a new cluster\n",
    "        clusters.append(neighbours)\n",
    "\n",
    "\n",
    "print(len(clusters))\n",
    "clusters\n",
    "# 26,740"
   ],
   "metadata": {
    "collapsed": false,
    "pycharm": {
     "name": "#%%\n"
    }
   }
  },
  {
   "cell_type": "markdown",
   "source": [
    "### Manual check of clusters using time-of-day"
   ],
   "metadata": {
    "collapsed": false
   }
  },
  {
   "cell_type": "code",
   "execution_count": 160,
   "outputs": [
    {
     "name": "stdout",
     "output_type": "stream",
     "text": [
      "['0x00029d35cb7ae09d38037355a046791d7b5e1645', '0x8b44b8384082bab94f31248e161b870be83ebb28']\n"
     ]
    }
   ],
   "source": [
    "# Create an inverse mapping\n",
    "inverse_node_mapping = {i: node for node, i in node_mapping.items()}\n",
    "\n",
    "# Now, let's say you have a list of node IDs you got from FAISS,\n",
    "# and you want to convert them back to original addresses\n",
    "faiss_node_ids = [114,19792]  # just an example, replace with your actual node IDs\n",
    "\n",
    "# Get the original addresses\n",
    "clustered_addresses = [inverse_node_mapping[node_id] for node_id in faiss_node_ids]\n",
    "\n",
    "print(clustered_addresses)"
   ],
   "metadata": {
    "collapsed": false,
    "pycharm": {
     "name": "#%%\n"
    }
   }
  },
  {
   "cell_type": "code",
   "execution_count": 161,
   "outputs": [
    {
     "data": {
      "text/plain": "                                                     hash  \\\n210676  0x11ffe4cb849ce2c97d10ed487c2a3f22c61223b16743...   \n210677  0x049ece275b7f2f823b26a9a055a21c9b6efedfc74bcd...   \n775780  0x7776a6bd2ff4218adc3080d36ca238b7dc3f88dbaa43...   \n\n                                              from  \\\n210676  0x00029d35cb7ae09d38037355a046791d7b5e1645   \n210677  0x00029d35cb7ae09d38037355a046791d7b5e1645   \n775780  0x8b44b8384082bab94f31248e161b870be83ebb28   \n\n                                                to   timeStamp  nonce  \\\n210676  0x00029d35cb7ae09d38037355a046791d7b5e1645  1647653921  280.0   \n210677  0x2586181d6544b49060d48f8c1322339ed2876f16  1635470037  165.0   \n775780  0x2586181d6544b49060d48f8c1322339ed2876f16  1664235215  203.0   \n\n           value      gasPrice input  gasUsed functionName chainName  \\\n210676             29100962882   NaN    36331          NaN  Ethereum   \n210677  333690.0  238551173765   NaN    43911          NaN  Ethereum   \n775780   0.06555    6710629504   NaN   190785          NaN  Ethereum   \n\n                                   contractAddress      tokenName  tokenType  \\\n210676  0xddec51fcb10ed81f532fca8d73e25480f71b7cfe  PeacefulToadz      721.0   \n210677  0xbaac2b4491727d78d2b78815144570b9f2fe8899   The Doge NFT       20.0   \n775780  0xc02aaa39b223fe8d0a0e5c4f27ead9083c756cc2  Wrapped Ether       20.0   \n\n       tokenID  \n210676    1853  \n210677          \n775780          ",
      "text/html": "<div>\n<style scoped>\n    .dataframe tbody tr th:only-of-type {\n        vertical-align: middle;\n    }\n\n    .dataframe tbody tr th {\n        vertical-align: top;\n    }\n\n    .dataframe thead th {\n        text-align: right;\n    }\n</style>\n<table border=\"1\" class=\"dataframe\">\n  <thead>\n    <tr style=\"text-align: right;\">\n      <th></th>\n      <th>hash</th>\n      <th>from</th>\n      <th>to</th>\n      <th>timeStamp</th>\n      <th>nonce</th>\n      <th>value</th>\n      <th>gasPrice</th>\n      <th>input</th>\n      <th>gasUsed</th>\n      <th>functionName</th>\n      <th>chainName</th>\n      <th>contractAddress</th>\n      <th>tokenName</th>\n      <th>tokenType</th>\n      <th>tokenID</th>\n    </tr>\n  </thead>\n  <tbody>\n    <tr>\n      <th>210676</th>\n      <td>0x11ffe4cb849ce2c97d10ed487c2a3f22c61223b16743...</td>\n      <td>0x00029d35cb7ae09d38037355a046791d7b5e1645</td>\n      <td>0x00029d35cb7ae09d38037355a046791d7b5e1645</td>\n      <td>1647653921</td>\n      <td>280.0</td>\n      <td></td>\n      <td>29100962882</td>\n      <td>NaN</td>\n      <td>36331</td>\n      <td>NaN</td>\n      <td>Ethereum</td>\n      <td>0xddec51fcb10ed81f532fca8d73e25480f71b7cfe</td>\n      <td>PeacefulToadz</td>\n      <td>721.0</td>\n      <td>1853</td>\n    </tr>\n    <tr>\n      <th>210677</th>\n      <td>0x049ece275b7f2f823b26a9a055a21c9b6efedfc74bcd...</td>\n      <td>0x00029d35cb7ae09d38037355a046791d7b5e1645</td>\n      <td>0x2586181d6544b49060d48f8c1322339ed2876f16</td>\n      <td>1635470037</td>\n      <td>165.0</td>\n      <td>333690.0</td>\n      <td>238551173765</td>\n      <td>NaN</td>\n      <td>43911</td>\n      <td>NaN</td>\n      <td>Ethereum</td>\n      <td>0xbaac2b4491727d78d2b78815144570b9f2fe8899</td>\n      <td>The Doge NFT</td>\n      <td>20.0</td>\n      <td></td>\n    </tr>\n    <tr>\n      <th>775780</th>\n      <td>0x7776a6bd2ff4218adc3080d36ca238b7dc3f88dbaa43...</td>\n      <td>0x8b44b8384082bab94f31248e161b870be83ebb28</td>\n      <td>0x2586181d6544b49060d48f8c1322339ed2876f16</td>\n      <td>1664235215</td>\n      <td>203.0</td>\n      <td>0.06555</td>\n      <td>6710629504</td>\n      <td>NaN</td>\n      <td>190785</td>\n      <td>NaN</td>\n      <td>Ethereum</td>\n      <td>0xc02aaa39b223fe8d0a0e5c4f27ead9083c756cc2</td>\n      <td>Wrapped Ether</td>\n      <td>20.0</td>\n      <td></td>\n    </tr>\n  </tbody>\n</table>\n</div>"
     },
     "execution_count": 161,
     "metadata": {},
     "output_type": "execute_result"
    }
   ],
   "source": [
    "addresses = ['0xf4ea960bd28359da37b9cda021b342fec9ea28df',\n",
    "'0x1fbe11d4b9ca6d9299b9cb9391e5252f2050bb7e',\n",
    "'0x66693f348b718771973aefb4c080d581cb20d631']\n",
    "df = all[all['from'].isin(clustered_addresses)]\n",
    "df"
   ],
   "metadata": {
    "collapsed": false,
    "pycharm": {
     "name": "#%%\n"
    }
   }
  },
  {
   "cell_type": "code",
   "execution_count": 162,
   "outputs": [
    {
     "name": "stderr",
     "output_type": "stream",
     "text": [
      "/var/folders/6y/q2mh3ct92xx9v05c53h84l6c0000gn/T/ipykernel_37485/3726759338.py:1: SettingWithCopyWarning: \n",
      "A value is trying to be set on a copy of a slice from a DataFrame.\n",
      "Try using .loc[row_indexer,col_indexer] = value instead\n",
      "\n",
      "See the caveats in the documentation: https://pandas.pydata.org/pandas-docs/stable/user_guide/indexing.html#returning-a-view-versus-a-copy\n",
      "  df['timeStamp'] = pd.to_datetime(df['timeStamp'], unit='s')  # Convert UNIX timestamps to datetime\n",
      "/var/folders/6y/q2mh3ct92xx9v05c53h84l6c0000gn/T/ipykernel_37485/3726759338.py:2: SettingWithCopyWarning: \n",
      "A value is trying to be set on a copy of a slice from a DataFrame.\n",
      "Try using .loc[row_indexer,col_indexer] = value instead\n",
      "\n",
      "See the caveats in the documentation: https://pandas.pydata.org/pandas-docs/stable/user_guide/indexing.html#returning-a-view-versus-a-copy\n",
      "  df['hour_of_day'] = df['timeStamp'].dt.hour + df['timeStamp'].dt.minute/60  # Extract the time of the day in hours\n"
     ]
    }
   ],
   "source": [
    "df['timeStamp'] = pd.to_datetime(df['timeStamp'], unit='s')  # Convert UNIX timestamps to datetime\n",
    "df['hour_of_day'] = df['timeStamp'].dt.hour + df['timeStamp'].dt.minute/60  # Extract the time of the day in hours"
   ],
   "metadata": {
    "collapsed": false,
    "pycharm": {
     "name": "#%%\n"
    }
   }
  },
  {
   "cell_type": "code",
   "execution_count": 163,
   "outputs": [
    {
     "data": {
      "text/plain": "<Figure size 1000x600 with 1 Axes>",
      "image/png": "[encoded data removed]"
     },
     "metadata": {},
     "output_type": "display_data"
    }
   ],
   "source": [
    "# Create a list of unique addresses\n",
    "addresses = df['from'].unique()\n",
    "\n",
    "# Create a color palette\n",
    "colors = plt.cm.viridis(np.linspace(0, 1, len(addresses)))\n",
    "\n",
    "plt.figure(figsize=[10,6])\n",
    "\n",
    "bins = np.linspace(0, 24, num=7)\n",
    "\n",
    "# Plot histogram for each user address\n",
    "for address in addresses:\n",
    "    subset = df[df['from'] == address]\n",
    "    sns.histplot(subset['hour_of_day'], bins=bins, label=address, alpha=0.5)\n",
    "\n",
    "sns.set_theme(context='paper')\n",
    "plt.xlabel('Time of Day (Hours)')\n",
    "plt.xticks(bins)\n",
    "plt.ylabel('Frequency')\n",
    "plt.xlim((0,24))\n",
    "plt.title('Distribution of Transactions Over the Day for Sample Cluster')\n",
    "plt.legend(title='User Addresses', bbox_to_anchor=(1.05, 1), loc='upper left')  # Place legend outside of plot\n",
    "plt.show()"
   ],
   "metadata": {
    "collapsed": false,
    "pycharm": {
     "name": "#%%\n"
    }
   }
  },
  {
   "cell_type": "markdown",
   "source": [
    "### Use transactions"
   ],
   "metadata": {
    "collapsed": false
   }
  },
  {
   "cell_type": "markdown",
   "source": [
    "### Try network visualization"
   ],
   "metadata": {
    "collapsed": false
   }
  },
  {
   "cell_type": "code",
   "execution_count": null,
   "outputs": [],
   "source": [
    "df = graph_df.sample(n=100)\n",
    "\n",
    "# Create a graph from the dataframe\n",
    "G = nx.from_pandas_edgelist(df, 'address1', 'address2')\n",
    "\n",
    "# calculate degree for each node and use it as the node size in the plot\n",
    "degree = nx.degree(G)\n",
    "node_sizes = [v * 10 for v in dict(degree).values()]\n",
    "\n",
    "plt.figure(figsize=(10,10))\n",
    "pos = nx.spring_layout(G, seed=100)\n",
    "\n",
    "nx.draw_networkx_nodes(G, pos, node_size=node_sizes, alpha=0.7)\n",
    "# nx.draw_networkx_edges(G, pos, alpha=0.1, edge_color='grey', width=0.5)\n",
    "\n",
    "plt.axis(\"off\")\n",
    "plt.show()"
   ],
   "metadata": {
    "collapsed": false,
    "pycharm": {
     "name": "#%%\n"
    }
   }
  }
 ],
 "metadata": {
  "kernelspec": {
   "display_name": "Python 3",
   "language": "python",
   "name": "python3"
  },
  "language_info": {
   "codemirror_mode": {
    "name": "ipython",
    "version": 2
   },
   "file_extension": ".py",
   "mimetype": "text/x-python",
   "name": "python",
   "nbconvert_exporter": "python",
   "pygments_lexer": "ipython2",
   "version": "2.7.6"
  }
 },
 "nbformat": 4,
 "nbformat_minor": 0
}