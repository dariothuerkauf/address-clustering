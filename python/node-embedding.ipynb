{
 "cells": [
  {
   "cell_type": "markdown",
   "source": [
    "# Node embeddings\n",
    "\n",
    "This notebook generates and evaluates node embeddings using Diff2Vec, Role2Vec, and DeepWalk algorithms.\n",
    "The performance is measured with ENS address pairs as ground-truth.\n",
    "Each method is run 10 times and the average rank of the target address is reported.\n",
    "\n",
    "Additionally, a two-step for address clustering, approach adding time-of-day and/or normalized gas information to the embeddings, is tested.\n",
    "However, adding this information did not improve the average rank of the target.\n",
    "\n",
    "More information on the node embedding algorithms can be found here:\n",
    "<code>https://github.com/benedekrozemberczki/karateclub/tree/master</code>\n",
    "\n",
    "Including the following methods:\n",
    "- Diff2Vec: <code>https://github.com/benedekrozemberczki/diff2vec</code>\n",
    "- Role2Vec: <code>https://github.com/benedekrozemberczki/role2vec</code>\n",
    "- DeepWalk: <code>https://github.com/benedekrozemberczki/karateclub/blob/master/karateclub/node_embedding/neighbourhood/deepwalk.py</code>"
   ],
   "metadata": {
    "collapsed": false
   }
  },
  {
   "cell_type": "code",
   "execution_count": 4,
   "metadata": {},
   "outputs": [],
   "source": [
    "from sklearn.preprocessing import StandardScaler\n",
    "from utils import *"
   ]
  },
  {
   "cell_type": "markdown",
   "metadata": {},
   "source": [
    "### Read CSVs"
   ]
  },
  {
   "cell_type": "code",
   "execution_count": 6,
   "metadata": {
    "pycharm": {
     "name": "#%%\n"
    }
   },
   "outputs": [],
   "source": [
    "all_transfers_df = pd.read_csv('../data/intra_all_transfers.csv', index_col=[0], low_memory=False) # excluding zero-value transfers does not make a significant difference for the resulting graph (nodes: 51566, edges: 249302)\n",
    "ens_pairs = pd.read_csv('../data/ens_pairs.csv', index_col=[0])"
   ]
  },
  {
   "cell_type": "markdown",
   "source": [
    "### Create the network graph"
   ],
   "metadata": {
    "collapsed": false
   }
  },
  {
   "cell_type": "code",
   "execution_count": 7,
   "metadata": {
    "pycharm": {
     "name": "#%%\n"
    }
   },
   "outputs": [
    {
     "name": "stdout",
     "output_type": "stream",
     "text": [
      "Nodes: 51566\n",
      "Edges: 249302\n"
     ]
    }
   ],
   "source": [
    "## Create network graph\n",
    "G = nx.from_pandas_edgelist(all_transfers_df, 'from', 'to', create_using=nx.MultiDiGraph())\n",
    "G = clean_graph(G)\n",
    "\n",
    "# Get the largest connected component (assuming graph is undirected)\n",
    "largest_cc = max(nx.connected_components(G), key=len)\n",
    "G_cc = G.subgraph(largest_cc)\n",
    "\n",
    "# Recode the graph's nodes, node_map maps from address to index\n",
    "G_cc, node_map = recode_graph(G_cc)\n",
    "\n",
    "# Create reverse map (from indices to addresses)\n",
    "idx_map = dict(zip(node_map.values(),node_map.keys()))\n",
    "ordered_addresses = [idx_map[idx] for idx in range(len(node_map))]\n",
    "\n",
    "print(f'Nodes: {len(G_cc.nodes())}\\nEdges: {len(G_cc.edges())}')"
   ]
  },
  {
   "cell_type": "markdown",
   "source": [
    "### Run node embedding methods once and store the embeddings as a dataframe"
   ],
   "metadata": {
    "collapsed": false,
    "pycharm": {
     "name": "#%% md\n"
    }
   }
  },
  {
   "cell_type": "code",
   "execution_count": 32,
   "outputs": [],
   "source": [
    "# Diff2Vec\n",
    "diff2vec = Diff2Vec(diffusion_number=10, diffusion_cover=40, dimensions=128, window_size=5, learning_rate=0.025)\n",
    "embeddings_d2v, emb_d2v_df = fit_model(G_cc, diff2vec, ordered_addresses)\n",
    "emb_d2v_df.to_csv('../data/embeddings/diff2vec.csv')\n",
    "\n",
    "# Role2Vec\n",
    "role2vec = Role2Vec(walk_number=10, walk_length=40, dimensions=128, window_size=5, learning_rate=0.025, epochs=5)\n",
    "embeddings_r2v, emb_r2v_df = fit_model(G_cc, role2vec, ordered_addresses)\n",
    "emb_r2v_df.to_csv('../data/embeddings/role2vec.csv')\n",
    "\n",
    "# DeepWalk\n",
    "deepWalk = DeepWalk(walk_number=10, walk_length=40, dimensions=128, window_size=5, learning_rate=0.025, epochs=5)\n",
    "embeddings_dw, emb_dw_df = fit_model(G_cc, deepWalk, ordered_addresses)\n",
    "emb_dw_df.to_csv('../data/embeddings/deepWalk.csv')"
   ],
   "metadata": {
    "collapsed": false,
    "pycharm": {
     "name": "#%%\n"
    }
   }
  },
  {
   "cell_type": "markdown",
   "source": [
    "### Evaluation - Conduct 10 separate experiments and calculate the average rank for each target address"
   ],
   "metadata": {
    "collapsed": false,
    "pycharm": {
     "name": "#%% md\n"
    }
   }
  },
  {
   "cell_type": "code",
   "execution_count": 8,
   "outputs": [],
   "source": [
    "def calculate_average_rank(model, iterations=5):\n",
    "    rank_arr = []\n",
    "\n",
    "    for i in tqdm(range(iterations)):\n",
    "        embeddings, emb_df = fit_model(G_cc, model, ordered_addresses)\n",
    "        faiss_index = DistCalculation(embeddings, node_map)\n",
    "\n",
    "        ranks = []\n",
    "        for _, row in ens_pairs.iterrows():\n",
    "            rank, _ = faiss_index.foo(row['addr1'], row['addr2'])\n",
    "            ranks.append(rank)\n",
    "\n",
    "        # Add the ranks to the array\n",
    "        rank_arr.append(ranks)\n",
    "\n",
    "    rank_arr = np.array(rank_arr)\n",
    "    # Convert None values to np.nan\n",
    "    rank_arr = [[np.nan if val is None else val for val in sublist] for sublist in rank_arr]\n",
    "    average_rank = np.nanmean(rank_arr, axis=0)\n",
    "\n",
    "    return average_rank"
   ],
   "metadata": {
    "collapsed": false,
    "pycharm": {
     "name": "#%%\n"
    }
   }
  },
  {
   "cell_type": "code",
   "execution_count": 21,
   "outputs": [
    {
     "name": "stderr",
     "output_type": "stream",
     "text": [
      "100%|██████████| 10/10 [1:48:29<00:00, 650.93s/it]\n",
      "/var/folders/6y/q2mh3ct92xx9v05c53h84l6c0000gn/T/ipykernel_67154/4103458106.py:19: RuntimeWarning: Mean of empty slice\n",
      "  average_rank = np.nanmean(rank_arr, axis=0)\n"
     ]
    },
    {
     "data": {
      "text/plain": "array([  2.5, 577.3,   2.8, 106.8,   nan,  11.1,  30.7,  44.3,  16.3,\n         1. , 129.1,   nan,   1. ,   1.9,  10.4,   4. ,   4.2,   5.7,\n        52.3,   9. , 474.2,   1.7,   2.7,   1.3,   1. ,   3.7,  16.9,\n         3.6,   1.5,   2.7,   2. ,  64.8,   3. ,  11. ,  52.1,  10.3,\n         4.2,   2.3,  34. ])"
     },
     "execution_count": 21,
     "metadata": {},
     "output_type": "execute_result"
    }
   ],
   "source": [
    "# Diff2Vec\n",
    "diff2vec = Diff2Vec(diffusion_number=10, diffusion_cover=40, dimensions=128, window_size=5, learning_rate=0.025)\n",
    "average_rank_diff2vec = calculate_average_rank(diff2vec, iterations=10)\n",
    "average_rank_diff2vec"
   ],
   "metadata": {
    "collapsed": false,
    "pycharm": {
     "name": "#%%\n"
    }
   }
  },
  {
   "cell_type": "code",
   "execution_count": 22,
   "outputs": [
    {
     "name": "stderr",
     "output_type": "stream",
     "text": [
      "100%|██████████| 10/10 [1:37:16<00:00, 583.60s/it]\n",
      "/var/folders/6y/q2mh3ct92xx9v05c53h84l6c0000gn/T/ipykernel_67154/4103458106.py:19: RuntimeWarning: Mean of empty slice\n",
      "  average_rank = np.nanmean(rank_arr, axis=0)\n"
     ]
    },
    {
     "data": {
      "text/plain": "array([  6.2,  33.3,   2.5,  71.1,   nan,   3. ,   1. ,  91.2,  10.4,\n         1. ,  10. ,   nan,   1. ,   1. ,   1. ,   1. ,   1.5,   5.6,\n       373.8,   9. ,  86.7,   5. ,   1. ,   3.4,   1. ,   2. ,  14.4,\n         2.6,   2. ,   1. ,   2. ,  13.6,   1.1,  19.3,   5.6,  68.9,\n         4. ,   2.9, 178.6])"
     },
     "execution_count": 22,
     "metadata": {},
     "output_type": "execute_result"
    }
   ],
   "source": [
    "# Role2Vec\n",
    "role2vec = Role2Vec(walk_number=10, walk_length=40, dimensions=128, window_size=5, learning_rate=0.025, epochs=5)\n",
    "average_rank_role2vec = calculate_average_rank(role2vec, iterations=10)\n",
    "average_rank_role2vec"
   ],
   "metadata": {
    "collapsed": false,
    "pycharm": {
     "name": "#%%\n"
    }
   }
  },
  {
   "cell_type": "code",
   "execution_count": 23,
   "outputs": [
    {
     "name": "stderr",
     "output_type": "stream",
     "text": [
      "100%|██████████| 10/10 [41:27<00:00, 248.74s/it]\n",
      "/var/folders/6y/q2mh3ct92xx9v05c53h84l6c0000gn/T/ipykernel_67154/4103458106.py:19: RuntimeWarning: Mean of empty slice\n",
      "  average_rank = np.nanmean(rank_arr, axis=0)\n"
     ]
    },
    {
     "data": {
      "text/plain": "array([  2.7,  58.8,   3.3,  20.1,   nan,   1.4,   1. , 545.4,   4.1,\n         1. , 605.4,   nan,   1.8,   1. ,   1. ,  18.2,  10.3,  27.2,\n       108.5,   9. ,  51.8,   2.4,   1. ,   2.3,   2.4,   2.2, 284. ,\n         2.2,   1.7,   1.6,   1.1, 101.2,   1.6,   1.7,   3.4,  47.3,\n       227. ,   3.4, 138.6])"
     },
     "execution_count": 23,
     "metadata": {},
     "output_type": "execute_result"
    }
   ],
   "source": [
    "# DeepWalk\n",
    "deepWalk = DeepWalk(walk_number=10, walk_length=40, dimensions=128, window_size=5, learning_rate=0.025, epochs=5)\n",
    "average_rank_deepWalk = calculate_average_rank(deepWalk, iterations=10)\n",
    "average_rank_deepWalk"
   ],
   "metadata": {
    "collapsed": false,
    "pycharm": {
     "name": "#%%\n"
    }
   }
  },
  {
   "cell_type": "markdown",
   "source": [
    "### Combine the results and compute mean, median and std for each method"
   ],
   "metadata": {
    "collapsed": false
   }
  },
  {
   "cell_type": "code",
   "execution_count": 24,
   "outputs": [
    {
     "name": "stdout",
     "output_type": "stream",
     "text": [
      "Mean:\n",
      " Diff2Vec    46.037838\n",
      "Role2Vec    28.072973\n",
      "DeepWalk    62.083784\n",
      "dtype: float64\n",
      "\n",
      "Median:\n",
      " Diff2Vec    4.2\n",
      "Role2Vec    3.4\n",
      "DeepWalk    3.3\n",
      "dtype: float64\n",
      "\n",
      "Standard Deviation:\n",
      " Diff2Vec    120.504083\n",
      "Role2Vec     68.814003\n",
      "DeepWalk    139.931865\n",
      "dtype: float64\n"
     ]
    }
   ],
   "source": [
    "# Combine numpy arrays\n",
    "average_rank_array = np.column_stack((average_rank_diff2vec, average_rank_role2vec, average_rank_deepWalk))\n",
    "average_rank = pd.DataFrame(average_rank_array, columns=['Diff2Vec', 'Role2Vec', 'DeepWalk'])\n",
    "average_rank.to_csv('../data/average_rank.csv', index=False)\n",
    "\n",
    "# Calculate stats\n",
    "mean = average_rank.mean()\n",
    "median = average_rank.median()\n",
    "std = average_rank.std()\n",
    "\n",
    "# Print results\n",
    "print('Mean:\\n', mean)\n",
    "print('\\nMedian:\\n', median)\n",
    "print('\\nStandard Deviation:\\n', std)"
   ],
   "metadata": {
    "collapsed": false,
    "pycharm": {
     "name": "#%%\n"
    }
   }
  },
  {
   "cell_type": "markdown",
   "source": [
    "# Two-step approach\n",
    "\n",
    "\n",
    "**Initialize distance calculation classes**\n",
    "To not always recalculate the node embeddings, they were stored as CSV files. These embeddings are used to initialize the distance calculation class."
   ],
   "metadata": {
    "collapsed": false
   }
  },
  {
   "cell_type": "code",
   "execution_count": 9,
   "outputs": [],
   "source": [
    "#Diff2Vec\n",
    "emb_d2v_df = pd.read_csv('../data/embeddings/diff2vec.csv', index_col='address')\n",
    "embeddings_d2v = emb_d2v_df.values\n",
    "faiss_index_d2v = DistCalculation(embeddings_d2v, node_map)\n",
    "\n",
    "#Role2Vec\n",
    "emb_r2v_df = pd.read_csv('../data/embeddings/role2vec.csv', index_col='address')\n",
    "embeddings_r2v = emb_r2v_df.values\n",
    "faiss_index_r2v = DistCalculation(embeddings_r2v, node_map)\n",
    "\n",
    "#Deepwalk\n",
    "emb_dw_df = pd.read_csv('../data/embeddings/deepWalk.csv', index_col='address')\n",
    "embeddings_dw = emb_dw_df.values\n",
    "faiss_index_deepWalk = DistCalculation(embeddings_dw, node_map)"
   ],
   "metadata": {
    "collapsed": false,
    "pycharm": {
     "name": "#%%\n"
    }
   }
  },
  {
   "cell_type": "markdown",
   "source": [
    "### Add Time-of-Day-Activity and/or gas price selection vectors"
   ],
   "metadata": {
    "collapsed": false
   }
  },
  {
   "cell_type": "code",
   "execution_count": 73,
   "outputs": [],
   "source": [
    "# Prepare Vectors\n",
    "timeOfDay = pd.read_csv('../data/timeOfDay.csv', index_col='from')\n",
    "normalizedGas = pd.read_csv('../data/normalizedGas.csv', index_col='from')\n",
    "stats_df = timeOfDay.merge(normalizedGas, left_index=True, right_index=True, how='inner')\n",
    "\n",
    "# Normalize\n",
    "scaler = StandardScaler()\n",
    "stats_normalized = pd.DataFrame(scaler.fit_transform(stats_df), columns=stats_df.columns, index=stats_df.index)\n",
    "\n",
    "def filter_dataframe(df, argument, include_hist=False):\n",
    "    if argument.lower() == 'tod':\n",
    "        # keep only the 'ToD' related columns\n",
    "        selected_columns = [col for col in df.columns if 'ToD' in col]\n",
    "    elif argument.lower() == 'gas':\n",
    "        # keep only the 'normalized_gasPrice' related columns\n",
    "        selected_columns = [col for col in df.columns if 'normalized_gasPrice' in col]\n",
    "    elif argument.lower() == 'both':\n",
    "        # keep both 'ToD' and 'normalized_gasPrice' related columns\n",
    "        selected_columns = df.columns\n",
    "    else:\n",
    "        raise ValueError(\"Invalid argument. Expected 'ToD', 'normalized_gasPrice', or 'both'.\")\n",
    "\n",
    "    if not include_hist:\n",
    "        # If include_hist is False, remove columns with 'hist_bin_' in their names\n",
    "        selected_columns = [col for col in selected_columns if 'hist_bin_' not in col]\n",
    "\n",
    "    return df[selected_columns]\n",
    "\n",
    "\n",
    "def compute_relative_rank(df, source_address, target_address, num_neighbors=10):\n",
    "\n",
    "    if source_address in node_map and target_address in node_map:\n",
    "        # Get k nearest neighbors for specified address\n",
    "        D, I = faiss_index_d2v.get_dist_idx(node_map[source_address])\n",
    "        nearest_neighbors = list(I[0:num_neighbors])\n",
    "        nearest_neighbors_addresses = [idx_map[j] for j in nearest_neighbors]\n",
    "        nearest_neighbors_addresses.insert(0, source_address)\n",
    "        if target_address not in nearest_neighbors_addresses:\n",
    "            print(f'Target address not in nearest {num_neighbors} neighbors')\n",
    "            return None\n",
    "\n",
    "        # Further filter the dataframe\n",
    "        df_filtered = df[df.index.isin(nearest_neighbors_addresses)]\n",
    "\n",
    "        # Compute the Euclidean distance between the source address and all other addresses\n",
    "        distances = np.linalg.norm(df_filtered.loc[source_address] - df_filtered, axis=1)\n",
    "\n",
    "        # Convert the distances to a DataFrame\n",
    "        df_distances = pd.DataFrame(distances, columns=['distance'], index=df_filtered.index)\n",
    "        df_distances.sort_values(by='distance', inplace=True)\n",
    "\n",
    "        target_rank = df_distances.index.get_loc(target_address)\n",
    "\n",
    "        return target_rank\n",
    "    else:\n",
    "        return None"
   ],
   "metadata": {
    "collapsed": false,
    "pycharm": {
     "name": "#%%\n"
    }
   }
  },
  {
   "cell_type": "code",
   "execution_count": 74,
   "outputs": [
    {
     "name": "stdout",
     "output_type": "stream",
     "text": [
      "2\n"
     ]
    }
   ],
   "source": [
    "# Test\n",
    "df = filter_dataframe(stats_normalized, 'tod', include_hist=True)\n",
    "source_address = '0x5500c014dc83d18c60858195b42f2e61f877323e'\n",
    "target_address = '0x29d8bf1894fb077edcd5a6ee8ed475b6aed5dbb4'\n",
    "rank = compute_relative_rank(df, source_address, target_address)\n",
    "print(rank)"
   ],
   "metadata": {
    "collapsed": false,
    "pycharm": {
     "name": "#%%\n"
    }
   }
  },
  {
   "cell_type": "code",
   "execution_count": 75,
   "outputs": [
    {
     "data": {
      "text/plain": "                                                           addr1  \\\nens_name                                                           \nanisofim.eth          0x85e5472752a6f00775faca4d5179bde1081571b0   \narisalzberg.eth       0x94e59547b8c68924380c90e729488f3e79ff8d22   \natearnz.eth           0x5500c014dc83d18c60858195b42f2e61f877323e   \nawedjob.eth           0xc939519869c946e4bdca8fd0b6459048c4aebae2   \ncaptvicky.eth         0x33e51a1141c44cc8bcb9b50c4a3c7ab59f4cf68c   \ndisruptor.eth         0xb84914f420b6de809ac1ed3d4427d90ed596b41c   \ndragonkiller.eth      0x4fdafeadb7c2f127e3c1719a99c01680cc8ddab1   \neibriel.eth           0x05c351382db8d770207f319d96ac1184c3717ede   \nepdrabbit.eth         0x26846c9083c4ab525de593178e3f2f82afb8ba83   \nerikarand.eth         0xe005c90eb8b38938cfe722e7069118414145709b   \nhyperspek.eth         0x5c4fe960950ba0e09a72869c3d51fe70f07580e0   \njamesmillerblog.eth   0x38a66799f30e7b2b0e7095a141aca56dd6f4f7c8   \njasonhsu.eth          0x1a26db1b2baf0b23f18e19375e8fdc159feb707e   \njoeyz.eth             0x250fbb28b2cd0a9faadc2d8a1d1c72f69163ac29   \nkeastie.eth           0x84ab65f45d3f8067f8bbff80f2248cd1ab4d96be   \nlinkg.eth             0x580bb63d47242964fa5fe9e69c5eb5423b7a50d2   \nlulox.eth             0xe2beae512697913951cdd85db49545b077a90699   \nmaruudn.eth           0xe2cfeab2beba9a7f09fd981f13e84df1e9978a5e   \nmaryana.eth           0x370f859a2f31d40192e1879eb97d64e6459bc8e4   \nmeanboss.eth          0x974c1cb84f439826c100b20063c24d72226fd4a8   \nmetatiger.dcl.eth     0x05d460310a2d785d0bd5b586c8f6402e70366fae   \nmgdivingnz.eth        0x1e84c5351ad32ed179c14ed4f015748c417841a6   \nmrcryp.eth            0xed41aa4abb256b13f02b87cd66a39ddc7a6c9a22   \nnicebhaiya.eth        0xe104414bf575f943e7f94e55e7f59ed086035af4   \nniceguy.eth           0x5528bc911d6bc284cf4da89560534508e7638de4   \nornellaweb3.eth       0x2d84cfb9cba0e8e4d7511a88cb7102a984fdb0ba   \npinkboots.eth         0xa5dbd5f2f45cec05ace6c08f0b75bec711ea9517   \nremx.eth              0x6401f5b9f88c489495fb95ba7aa4276a353bebb8   \nrileybeans.eth        0x54a80e0417008db88036f4fb2c4646264717f7a6   \nrobertjames.eth       0xa65da49bb89ec7b1a10f3887ae07e4c9c8eea168   \nrsantos.eth           0x08a2f4a84a06a0331b015bd1320ed20e1a9be688   \nsannin.eth            0x4bcfb57149dd1e8ec510bc2cc490bc4c43c7af8f   \nsmileface.eth         0x32712bb04948da01d11c9aa6b3e77daeda014781   \ntheartcollection.eth  0x1094ee0c78b81581c8c8ea34bc2eec8a4bd20756   \nturkii13.eth          0x325a0fa68fc381be451f57d6be7f84da206427fd   \ntweetious.eth         0x8b104344f397afc33ee55c743a0fbd7d956201cd   \nwillg.eth             0x493df7506210e55a893d70e61d812d824ca1c489   \nwpunks.eth            0x7938d79352ef0f58cd2058f930629928ae74b790   \nzolder.eth            0x11610d0bf661d3ccbb9493cf23184f68ecfe4783   \n\n                                                           addr2    Rank  \\\nens_name                                                                   \nanisofim.eth          0xbf886e3069d0dfd64e384c93da322f775faa8876     5.0   \narisalzberg.eth       0x8977e750a620607f3db83436360ae1bdacb28b82    21.0   \natearnz.eth           0x29d8bf1894fb077edcd5a6ee8ed475b6aed5dbb4     3.0   \nawedjob.eth           0xe1eedbd1e08478707c794e7e8b1ee623f5fa6d64    34.5   \ncaptvicky.eth         0x42b21ca9cc96d0f71ed2533b33d659207a88f784     NaN   \ndisruptor.eth         0x50839a40d9d7ea49e2c6fd76ee9d184524e4c072     2.0   \ndragonkiller.eth      0xffca46238dd656de99ac616da099dcb6dfb0f2f4     1.0   \neibriel.eth           0xcf10cd8b5dc2323b1eb6de6164647756bad4de4d   113.0   \nepdrabbit.eth         0x0786a24145fef2c60a38237e8671332899ce7c1f     9.0   \nerikarand.eth         0xd9c0e1af68d08c8c00d418431e8c036662a82e37     1.0   \nhyperspek.eth         0x7e97e648b6576187f1a4a03b194cbfd4ee76f543    16.0   \njamesmillerblog.eth   0x3d68fb85f7965b5843275582866c33f8ee68f7fe     NaN   \njasonhsu.eth          0x33321e44c2861033fb80ad04f93e4ccd25f2beef     1.0   \njoeyz.eth             0xc0a527d87baf6f288074df53dd0fbba575e7547e     1.0   \nkeastie.eth           0x9c1bbcc03b59e78410de1d0ba9305082fedad3bb     1.5   \nlinkg.eth             0x7bd544f07afa4284a696dc71e7a03f680dca0543     1.0   \nlulox.eth             0xfbd9ca40386a8c632cf0529bbb16b4bedb59a0a0     1.5   \nmaruudn.eth           0xf3595731c00c1afafdc65eee239d89512d552558     4.0   \nmaryana.eth           0x9937e3e274be96a624d7cd00f384eb71c741dd1b   269.0   \nmeanboss.eth          0x9dbe3cfc34867cfb988af5ef8396bc6b08afcbb8     9.0   \nmetatiger.dcl.eth     0x4f7fe261619141ffa63fefee35bba886581292f4    57.0   \nmgdivingnz.eth        0xab70dee6c44b432bde1d77477eca6e5f0adbfebb     3.5   \nmrcryp.eth            0x500cf9f39d4b202a6bb81c5ace06cd0fe86e0fb7     1.0   \nnicebhaiya.eth        0xf5a134fdb640d5398c3bfdc3343a74f39ae93b7a     3.5   \nniceguy.eth           0x369359b5ae4d7fbbf0512f675157b6ac14bd1d67     1.0   \nornellaweb3.eth       0xb749a586080436e616f097f193ba9cb6a25e7ea6     2.0   \npinkboots.eth         0xf1289a44a9e7f75809de380ffa261f6095387c72     5.5   \nremx.eth              0x8d980b3f2f25e84bde1d1f3446c0292642efed13     2.0   \nrileybeans.eth        0x7ee19419ca947821158bb4cc0952c3b58c8293be     1.5   \nrobertjames.eth       0xf8efa4a66f933343d21885a3ace47ee5cb893e36     1.5   \nrsantos.eth           0xcad4f4417ed241bfb0061c6e9d572a3e12159549     2.0   \nsannin.eth            0x613e052555ac74ff6af0fc64e40e8035c1e9dcf8    11.0   \nsmileface.eth         0x8008e08e1f5f693ff02b37b17756ad75afa308c4     1.0   \ntheartcollection.eth  0x1d56a24b684da7f21e9566e1c8a7cb40483e1078  3216.0   \nturkii13.eth          0x53fd90aa13b85168d46ada899b820ec595c852b6    11.5   \ntweetious.eth         0x8665f7ceadfbff09e2cc572f7a6e43198d87ff88    52.5   \nwillg.eth             0xea904e4dc48bf280e811f496906ed84cf6a4ba4c     4.5   \nwpunks.eth            0xa1dc71c8d20e0c8b108a85a6baea140603e9e6a8     3.0   \nzolder.eth            0xc0f00ca06f9fcd172edad8a0e5d106d55432aa92   209.5   \n\n                      Distance  \nens_name                        \nanisofim.eth          0.435835  \narisalzberg.eth       0.978317  \natearnz.eth           0.494003  \nawedjob.eth           0.835938  \ncaptvicky.eth              NaN  \ndisruptor.eth         0.443547  \ndragonkiller.eth      0.243687  \neibriel.eth           1.006223  \nepdrabbit.eth         0.774624  \nerikarand.eth         0.550495  \nhyperspek.eth         0.873212  \njamesmillerblog.eth        NaN  \njasonhsu.eth          0.451531  \njoeyz.eth             0.376588  \nkeastie.eth           0.543159  \nlinkg.eth             0.473275  \nlulox.eth             0.470894  \nmaruudn.eth           0.685986  \nmaryana.eth           0.989704  \nmeanboss.eth          0.565887  \nmetatiger.dcl.eth     0.879401  \nmgdivingnz.eth        0.740283  \nmrcryp.eth            0.548535  \nnicebhaiya.eth        0.674570  \nniceguy.eth           0.575552  \nornellaweb3.eth       0.429356  \npinkboots.eth         0.708377  \nremx.eth              0.287439  \nrileybeans.eth        0.373414  \nrobertjames.eth       0.523014  \nrsantos.eth           0.384891  \nsannin.eth            0.864952  \nsmileface.eth         0.378543  \ntheartcollection.eth  0.927465  \nturkii13.eth          0.833717  \ntweetious.eth         0.949741  \nwillg.eth             0.708866  \nwpunks.eth            0.314535  \nzolder.eth            1.158234  ",
      "text/html": "<div>\n<style scoped>\n    .dataframe tbody tr th:only-of-type {\n        vertical-align: middle;\n    }\n\n    .dataframe tbody tr th {\n        vertical-align: top;\n    }\n\n    .dataframe thead th {\n        text-align: right;\n    }\n</style>\n<table border=\"1\" class=\"dataframe\">\n  <thead>\n    <tr style=\"text-align: right;\">\n      <th></th>\n      <th>addr1</th>\n      <th>addr2</th>\n      <th>Rank</th>\n      <th>Distance</th>\n    </tr>\n    <tr>\n      <th>ens_name</th>\n      <th></th>\n      <th></th>\n      <th></th>\n      <th></th>\n    </tr>\n  </thead>\n  <tbody>\n    <tr>\n      <th>anisofim.eth</th>\n      <td>0x85e5472752a6f00775faca4d5179bde1081571b0</td>\n      <td>0xbf886e3069d0dfd64e384c93da322f775faa8876</td>\n      <td>5.0</td>\n      <td>0.435835</td>\n    </tr>\n    <tr>\n      <th>arisalzberg.eth</th>\n      <td>0x94e59547b8c68924380c90e729488f3e79ff8d22</td>\n      <td>0x8977e750a620607f3db83436360ae1bdacb28b82</td>\n      <td>21.0</td>\n      <td>0.978317</td>\n    </tr>\n    <tr>\n      <th>atearnz.eth</th>\n      <td>0x5500c014dc83d18c60858195b42f2e61f877323e</td>\n      <td>0x29d8bf1894fb077edcd5a6ee8ed475b6aed5dbb4</td>\n      <td>3.0</td>\n      <td>0.494003</td>\n    </tr>\n    <tr>\n      <th>awedjob.eth</th>\n      <td>0xc939519869c946e4bdca8fd0b6459048c4aebae2</td>\n      <td>0xe1eedbd1e08478707c794e7e8b1ee623f5fa6d64</td>\n      <td>34.5</td>\n      <td>0.835938</td>\n    </tr>\n    <tr>\n      <th>captvicky.eth</th>\n      <td>0x33e51a1141c44cc8bcb9b50c4a3c7ab59f4cf68c</td>\n      <td>0x42b21ca9cc96d0f71ed2533b33d659207a88f784</td>\n      <td>NaN</td>\n      <td>NaN</td>\n    </tr>\n    <tr>\n      <th>disruptor.eth</th>\n      <td>0xb84914f420b6de809ac1ed3d4427d90ed596b41c</td>\n      <td>0x50839a40d9d7ea49e2c6fd76ee9d184524e4c072</td>\n      <td>2.0</td>\n      <td>0.443547</td>\n    </tr>\n    <tr>\n      <th>dragonkiller.eth</th>\n      <td>0x4fdafeadb7c2f127e3c1719a99c01680cc8ddab1</td>\n      <td>0xffca46238dd656de99ac616da099dcb6dfb0f2f4</td>\n      <td>1.0</td>\n      <td>0.243687</td>\n    </tr>\n    <tr>\n      <th>eibriel.eth</th>\n      <td>0x05c351382db8d770207f319d96ac1184c3717ede</td>\n      <td>0xcf10cd8b5dc2323b1eb6de6164647756bad4de4d</td>\n      <td>113.0</td>\n      <td>1.006223</td>\n    </tr>\n    <tr>\n      <th>epdrabbit.eth</th>\n      <td>0x26846c9083c4ab525de593178e3f2f82afb8ba83</td>\n      <td>0x0786a24145fef2c60a38237e8671332899ce7c1f</td>\n      <td>9.0</td>\n      <td>0.774624</td>\n    </tr>\n    <tr>\n      <th>erikarand.eth</th>\n      <td>0xe005c90eb8b38938cfe722e7069118414145709b</td>\n      <td>0xd9c0e1af68d08c8c00d418431e8c036662a82e37</td>\n      <td>1.0</td>\n      <td>0.550495</td>\n    </tr>\n    <tr>\n      <th>hyperspek.eth</th>\n      <td>0x5c4fe960950ba0e09a72869c3d51fe70f07580e0</td>\n      <td>0x7e97e648b6576187f1a4a03b194cbfd4ee76f543</td>\n      <td>16.0</td>\n      <td>0.873212</td>\n    </tr>\n    <tr>\n      <th>jamesmillerblog.eth</th>\n      <td>0x38a66799f30e7b2b0e7095a141aca56dd6f4f7c8</td>\n      <td>0x3d68fb85f7965b5843275582866c33f8ee68f7fe</td>\n      <td>NaN</td>\n      <td>NaN</td>\n    </tr>\n    <tr>\n      <th>jasonhsu.eth</th>\n      <td>0x1a26db1b2baf0b23f18e19375e8fdc159feb707e</td>\n      <td>0x33321e44c2861033fb80ad04f93e4ccd25f2beef</td>\n      <td>1.0</td>\n      <td>0.451531</td>\n    </tr>\n    <tr>\n      <th>joeyz.eth</th>\n      <td>0x250fbb28b2cd0a9faadc2d8a1d1c72f69163ac29</td>\n      <td>0xc0a527d87baf6f288074df53dd0fbba575e7547e</td>\n      <td>1.0</td>\n      <td>0.376588</td>\n    </tr>\n    <tr>\n      <th>keastie.eth</th>\n      <td>0x84ab65f45d3f8067f8bbff80f2248cd1ab4d96be</td>\n      <td>0x9c1bbcc03b59e78410de1d0ba9305082fedad3bb</td>\n      <td>1.5</td>\n      <td>0.543159</td>\n    </tr>\n    <tr>\n      <th>linkg.eth</th>\n      <td>0x580bb63d47242964fa5fe9e69c5eb5423b7a50d2</td>\n      <td>0x7bd544f07afa4284a696dc71e7a03f680dca0543</td>\n      <td>1.0</td>\n      <td>0.473275</td>\n    </tr>\n    <tr>\n      <th>lulox.eth</th>\n      <td>0xe2beae512697913951cdd85db49545b077a90699</td>\n      <td>0xfbd9ca40386a8c632cf0529bbb16b4bedb59a0a0</td>\n      <td>1.5</td>\n      <td>0.470894</td>\n    </tr>\n    <tr>\n      <th>maruudn.eth</th>\n      <td>0xe2cfeab2beba9a7f09fd981f13e84df1e9978a5e</td>\n      <td>0xf3595731c00c1afafdc65eee239d89512d552558</td>\n      <td>4.0</td>\n      <td>0.685986</td>\n    </tr>\n    <tr>\n      <th>maryana.eth</th>\n      <td>0x370f859a2f31d40192e1879eb97d64e6459bc8e4</td>\n      <td>0x9937e3e274be96a624d7cd00f384eb71c741dd1b</td>\n      <td>269.0</td>\n      <td>0.989704</td>\n    </tr>\n    <tr>\n      <th>meanboss.eth</th>\n      <td>0x974c1cb84f439826c100b20063c24d72226fd4a8</td>\n      <td>0x9dbe3cfc34867cfb988af5ef8396bc6b08afcbb8</td>\n      <td>9.0</td>\n      <td>0.565887</td>\n    </tr>\n    <tr>\n      <th>metatiger.dcl.eth</th>\n      <td>0x05d460310a2d785d0bd5b586c8f6402e70366fae</td>\n      <td>0x4f7fe261619141ffa63fefee35bba886581292f4</td>\n      <td>57.0</td>\n      <td>0.879401</td>\n    </tr>\n    <tr>\n      <th>mgdivingnz.eth</th>\n      <td>0x1e84c5351ad32ed179c14ed4f015748c417841a6</td>\n      <td>0xab70dee6c44b432bde1d77477eca6e5f0adbfebb</td>\n      <td>3.5</td>\n      <td>0.740283</td>\n    </tr>\n    <tr>\n      <th>mrcryp.eth</th>\n      <td>0xed41aa4abb256b13f02b87cd66a39ddc7a6c9a22</td>\n      <td>0x500cf9f39d4b202a6bb81c5ace06cd0fe86e0fb7</td>\n      <td>1.0</td>\n      <td>0.548535</td>\n    </tr>\n    <tr>\n      <th>nicebhaiya.eth</th>\n      <td>0xe104414bf575f943e7f94e55e7f59ed086035af4</td>\n      <td>0xf5a134fdb640d5398c3bfdc3343a74f39ae93b7a</td>\n      <td>3.5</td>\n      <td>0.674570</td>\n    </tr>\n    <tr>\n      <th>niceguy.eth</th>\n      <td>0x5528bc911d6bc284cf4da89560534508e7638de4</td>\n      <td>0x369359b5ae4d7fbbf0512f675157b6ac14bd1d67</td>\n      <td>1.0</td>\n      <td>0.575552</td>\n    </tr>\n    <tr>\n      <th>ornellaweb3.eth</th>\n      <td>0x2d84cfb9cba0e8e4d7511a88cb7102a984fdb0ba</td>\n      <td>0xb749a586080436e616f097f193ba9cb6a25e7ea6</td>\n      <td>2.0</td>\n      <td>0.429356</td>\n    </tr>\n    <tr>\n      <th>pinkboots.eth</th>\n      <td>0xa5dbd5f2f45cec05ace6c08f0b75bec711ea9517</td>\n      <td>0xf1289a44a9e7f75809de380ffa261f6095387c72</td>\n      <td>5.5</td>\n      <td>0.708377</td>\n    </tr>\n    <tr>\n      <th>remx.eth</th>\n      <td>0x6401f5b9f88c489495fb95ba7aa4276a353bebb8</td>\n      <td>0x8d980b3f2f25e84bde1d1f3446c0292642efed13</td>\n      <td>2.0</td>\n      <td>0.287439</td>\n    </tr>\n    <tr>\n      <th>rileybeans.eth</th>\n      <td>0x54a80e0417008db88036f4fb2c4646264717f7a6</td>\n      <td>0x7ee19419ca947821158bb4cc0952c3b58c8293be</td>\n      <td>1.5</td>\n      <td>0.373414</td>\n    </tr>\n    <tr>\n      <th>robertjames.eth</th>\n      <td>0xa65da49bb89ec7b1a10f3887ae07e4c9c8eea168</td>\n      <td>0xf8efa4a66f933343d21885a3ace47ee5cb893e36</td>\n      <td>1.5</td>\n      <td>0.523014</td>\n    </tr>\n    <tr>\n      <th>rsantos.eth</th>\n      <td>0x08a2f4a84a06a0331b015bd1320ed20e1a9be688</td>\n      <td>0xcad4f4417ed241bfb0061c6e9d572a3e12159549</td>\n      <td>2.0</td>\n      <td>0.384891</td>\n    </tr>\n    <tr>\n      <th>sannin.eth</th>\n      <td>0x4bcfb57149dd1e8ec510bc2cc490bc4c43c7af8f</td>\n      <td>0x613e052555ac74ff6af0fc64e40e8035c1e9dcf8</td>\n      <td>11.0</td>\n      <td>0.864952</td>\n    </tr>\n    <tr>\n      <th>smileface.eth</th>\n      <td>0x32712bb04948da01d11c9aa6b3e77daeda014781</td>\n      <td>0x8008e08e1f5f693ff02b37b17756ad75afa308c4</td>\n      <td>1.0</td>\n      <td>0.378543</td>\n    </tr>\n    <tr>\n      <th>theartcollection.eth</th>\n      <td>0x1094ee0c78b81581c8c8ea34bc2eec8a4bd20756</td>\n      <td>0x1d56a24b684da7f21e9566e1c8a7cb40483e1078</td>\n      <td>3216.0</td>\n      <td>0.927465</td>\n    </tr>\n    <tr>\n      <th>turkii13.eth</th>\n      <td>0x325a0fa68fc381be451f57d6be7f84da206427fd</td>\n      <td>0x53fd90aa13b85168d46ada899b820ec595c852b6</td>\n      <td>11.5</td>\n      <td>0.833717</td>\n    </tr>\n    <tr>\n      <th>tweetious.eth</th>\n      <td>0x8b104344f397afc33ee55c743a0fbd7d956201cd</td>\n      <td>0x8665f7ceadfbff09e2cc572f7a6e43198d87ff88</td>\n      <td>52.5</td>\n      <td>0.949741</td>\n    </tr>\n    <tr>\n      <th>willg.eth</th>\n      <td>0x493df7506210e55a893d70e61d812d824ca1c489</td>\n      <td>0xea904e4dc48bf280e811f496906ed84cf6a4ba4c</td>\n      <td>4.5</td>\n      <td>0.708866</td>\n    </tr>\n    <tr>\n      <th>wpunks.eth</th>\n      <td>0x7938d79352ef0f58cd2058f930629928ae74b790</td>\n      <td>0xa1dc71c8d20e0c8b108a85a6baea140603e9e6a8</td>\n      <td>3.0</td>\n      <td>0.314535</td>\n    </tr>\n    <tr>\n      <th>zolder.eth</th>\n      <td>0x11610d0bf661d3ccbb9493cf23184f68ecfe4783</td>\n      <td>0xc0f00ca06f9fcd172edad8a0e5d106d55432aa92</td>\n      <td>209.5</td>\n      <td>1.158234</td>\n    </tr>\n  </tbody>\n</table>\n</div>"
     },
     "execution_count": 75,
     "metadata": {},
     "output_type": "execute_result"
    }
   ],
   "source": [
    "# Initialize the DistCalculation object\n",
    "calc = DistCalculation(embeddings_r2v, node_map) # embeddings and node_map should be defined previously\n",
    "\n",
    "# Function to apply to each row of the dataframe\n",
    "def compute_rank_distance(row):\n",
    "    rank, distance = calc.get_rank(row['addr1'], row['addr2'])\n",
    "    return pd.Series([rank, distance])\n",
    "\n",
    "# Apply the function to each row\n",
    "ens_pairs[['Rank', 'Distance']] = ens_pairs.apply(compute_rank_distance, axis=1)\n",
    "ens_pairs"
   ],
   "metadata": {
    "collapsed": false,
    "pycharm": {
     "name": "#%%\n"
    }
   }
  },
  {
   "cell_type": "code",
   "execution_count": 76,
   "outputs": [
    {
     "name": "stdout",
     "output_type": "stream",
     "text": [
      "Target address not in nearest 20 neighbors\n",
      "Target address not in nearest 20 neighbors\n",
      "Target address not in nearest 20 neighbors\n",
      "Target address not in nearest 20 neighbors\n",
      "Target address not in nearest 20 neighbors\n",
      "Target address not in nearest 20 neighbors\n",
      "Target address not in nearest 20 neighbors\n",
      "Target address not in nearest 20 neighbors\n",
      "Target address not in nearest 20 neighbors\n",
      "Target address not in nearest 20 neighbors\n",
      "Target address not in nearest 20 neighbors\n",
      "Target address not in nearest 20 neighbors\n",
      "Target address not in nearest 20 neighbors\n",
      "Target address not in nearest 20 neighbors\n",
      "Target address not in nearest 20 neighbors\n",
      "Target address not in nearest 20 neighbors\n",
      "Target address not in nearest 20 neighbors\n",
      "Target address not in nearest 20 neighbors\n"
     ]
    }
   ],
   "source": [
    "# Only evaluate address pairs where the target address is already within the 10 nearest neighbors\n",
    "ens_pairs_filtered = ens_pairs[ens_pairs['Rank'] <= 10].copy()\n",
    "\n",
    "ToD_noHist = filter_dataframe(stats_normalized, 'ToD', include_hist=False)\n",
    "ens_pairs_filtered['ToD_noHist'] = ens_pairs_filtered.apply(\n",
    "    lambda row: compute_relative_rank(ToD_noHist, row['addr1'], row['addr2']),\n",
    "    axis=1\n",
    ")\n",
    "\n",
    "ToD_Hist = filter_dataframe(stats_normalized, 'ToD', include_hist=True)\n",
    "ens_pairs_filtered['ToD_Hist'] = ens_pairs_filtered.apply(\n",
    "    lambda row: compute_relative_rank(ToD_Hist, row['addr1'], row['addr2']),\n",
    "    axis=1\n",
    ")\n",
    "\n",
    "nGas_noHist = filter_dataframe(stats_normalized, 'gas', include_hist=False)\n",
    "ens_pairs_filtered['nG_noHist'] = ens_pairs_filtered.apply(\n",
    "    lambda row: compute_relative_rank(nGas_noHist, row['addr1'], row['addr2']),\n",
    "    axis=1\n",
    ")\n",
    "\n",
    "nGas_Hist = filter_dataframe(stats_normalized, 'gas', include_hist=True)\n",
    "ens_pairs_filtered['nG_Hist'] = ens_pairs_filtered.apply(\n",
    "    lambda row: compute_relative_rank(nGas_Hist, row['addr1'], row['addr2']),\n",
    "    axis=1\n",
    ")\n",
    "\n",
    "both_noHist = filter_dataframe(stats_normalized, 'both', include_hist=False)\n",
    "ens_pairs_filtered['both_noHist'] = ens_pairs_filtered.apply(\n",
    "    lambda row: compute_relative_rank(both_noHist, row['addr1'], row['addr2']),\n",
    "    axis=1\n",
    ")\n",
    "\n",
    "both_Hist = filter_dataframe(stats_normalized, 'both', include_hist=True)\n",
    "ens_pairs_filtered['both_Hist'] = ens_pairs_filtered.apply(\n",
    "    lambda row: compute_relative_rank(both_Hist, row['addr1'], row['addr2']),\n",
    "    axis=1\n",
    ")"
   ],
   "metadata": {
    "collapsed": false,
    "pycharm": {
     "name": "#%%\n"
    }
   }
  },
  {
   "cell_type": "code",
   "execution_count": 77,
   "outputs": [
    {
     "name": "stdout",
     "output_type": "stream",
     "text": [
      "   Column_Name      mean  median       std\n",
      "0         Rank  3.810345     2.0  3.860084\n",
      "1   ToD_noHist  4.000000     3.0  3.633180\n",
      "2     ToD_Hist  5.500000     3.0  4.925444\n",
      "3    nG_noHist  6.846154     4.0  6.116812\n",
      "4      nG_Hist  7.307692     6.0  6.051573\n",
      "5  both_noHist  4.923077     3.0  3.979177\n",
      "6    both_Hist  5.615385     4.0  4.775579\n"
     ]
    }
   ],
   "source": [
    "# Exclude the columns if they exist in numeric_cols\n",
    "exclude_columns = ['addr1', 'addr2', 'Distance']\n",
    "numeric_cols = ens_pairs_filtered.select_dtypes(include=[np.number])\n",
    "columns_to_drop = [col for col in exclude_columns if col in numeric_cols.columns]\n",
    "numeric_cols = numeric_cols.drop(columns=columns_to_drop)\n",
    "\n",
    "# Compute statistics of numeric columns\n",
    "df_mean = numeric_cols.mean()\n",
    "df_median = numeric_cols.median()\n",
    "df_std = numeric_cols.std()\n",
    "\n",
    "# Create a new dataframe capturing the statistics\n",
    "stats_df = pd.DataFrame({\n",
    "    'Column_Name': numeric_cols.columns,\n",
    "    'mean': df_mean.values,\n",
    "    'median': df_median.values,\n",
    "    'std': df_std.values\n",
    "})\n",
    "\n",
    "print(stats_df)"
   ],
   "metadata": {
    "collapsed": false,
    "pycharm": {
     "name": "#%%\n"
    }
   }
  }
 ],
 "metadata": {
  "kernelspec": {
   "display_name": "Python 3 (ipykernel)",
   "language": "python",
   "name": "python3"
  },
  "language_info": {
   "codemirror_mode": {
    "name": "ipython",
    "version": 2
   },
   "file_extension": ".py",
   "mimetype": "text/x-python",
   "name": "python",
   "nbconvert_exporter": "python",
   "pygments_lexer": "ipython2",
   "version": "2.7.6"
  }
 },
 "nbformat": 4,
 "nbformat_minor": 1
}