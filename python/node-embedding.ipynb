{
 "cells": [
  {
   "cell_type": "code",
   "execution_count": 8,
   "metadata": {},
   "outputs": [],
   "source": [
    "from sklearn.preprocessing import StandardScaler\n",
    "from utils import *"
   ]
  },
  {
   "cell_type": "markdown",
   "metadata": {},
   "source": [
    "### Read CSVs"
   ]
  },
  {
   "cell_type": "code",
   "execution_count": null,
   "metadata": {
    "pycharm": {
     "name": "#%%\n"
    }
   },
   "outputs": [],
   "source": [
    "all_transfers_df = pd.read_csv('../data/all_intra_transfers.csv', index_col=[0]) # excluding zero-value transfers does not make a significant difference for the resulting graph (nodes: 51566, edges: 249302)\n",
    "ens_pairs = pd.read_csv('../data/ens_pairs.csv', index_col=[0])"
   ]
  },
  {
   "cell_type": "markdown",
   "source": [
    "### Prepare network graph"
   ],
   "metadata": {
    "collapsed": false
   }
  },
  {
   "cell_type": "code",
   "execution_count": 6,
   "metadata": {
    "pycharm": {
     "name": "#%%\n"
    }
   },
   "outputs": [
    {
     "name": "stdout",
     "output_type": "stream",
     "text": [
      "Nodes: 51566\n",
      "Edges: 249302\n"
     ]
    }
   ],
   "source": [
    "## Create network graph\n",
    "G = nx.from_pandas_edgelist(all_transfers_df, 'from', 'to', create_using=nx.MultiDiGraph())\n",
    "G = clean_graph(G)\n",
    "\n",
    "# Get the largest connected component (assuming graph is undirected)\n",
    "largest_cc = max(nx.connected_components(G), key=len)\n",
    "G_cc = G.subgraph(largest_cc)\n",
    "\n",
    "# Recode the graph's nodes, node_map maps from address to index\n",
    "G_cc, node_map = recode_graph(G_cc)\n",
    "\n",
    "# Create reverse map (from indices to addresses)\n",
    "idx_map = dict(zip(node_map.values(),node_map.keys()))\n",
    "ordered_addresses = [idx_map[idx] for idx in range(len(node_map))]\n",
    "\n",
    "print(f'Nodes: {len(G_cc.nodes())}\\nEdges: {len(G_cc.edges())}')"
   ]
  },
  {
   "cell_type": "markdown",
   "source": [
    "### Run models once and store the embeddings as a dataframe"
   ],
   "metadata": {
    "collapsed": false,
    "pycharm": {
     "name": "#%% md\n"
    }
   }
  },
  {
   "cell_type": "code",
   "execution_count": 32,
   "outputs": [],
   "source": [
    "# Diff2Vec\n",
    "diff2vec = Diff2Vec(diffusion_number=10, diffusion_cover=40, dimensions=128, window_size=5, learning_rate=0.025)\n",
    "embeddings_d2v, emb_d2v_df = fit_model(G_cc, diff2vec, ordered_addresses)\n",
    "emb_d2v_df.to_csv('../data/embeddings/diff2vec.csv')\n",
    "\n",
    "# Role2Vec\n",
    "role2vec = Role2Vec(walk_number=10, walk_length=40, dimensions=128, window_size=5, learning_rate=0.025, epochs=5)\n",
    "embeddings_r2v, emb_r2v_df = fit_model(G_cc, role2vec, ordered_addresses)\n",
    "emb_r2v_df.to_csv('../data/embeddings/role2vec.csv')\n",
    "\n",
    "# DeepWalk\n",
    "deepWalk = DeepWalk(walk_number=10, walk_length=40, dimensions=128, window_size=5, learning_rate=0.025, epochs=5)\n",
    "embeddings_dw, emb_dw_df = fit_model(G_cc, deepWalk, ordered_addresses)\n",
    "emb_dw_df.to_csv('../data/embeddings/deepWalk.csv')"
   ],
   "metadata": {
    "collapsed": false,
    "pycharm": {
     "name": "#%%\n"
    }
   }
  },
  {
   "cell_type": "markdown",
   "source": [
    "## Evaluation: Conduct 10 separate experiments and store the average ranks for each model"
   ],
   "metadata": {
    "collapsed": false,
    "pycharm": {
     "name": "#%% md\n"
    }
   }
  },
  {
   "cell_type": "code",
   "execution_count": 20,
   "outputs": [],
   "source": [
    "def calculate_average_rank(model, iterations=5):\n",
    "    rank_arr = []\n",
    "\n",
    "    for i in tqdm(range(iterations)):\n",
    "        embeddings, emb_df = fit_model(G_cc, model, ordered_addresses)\n",
    "        faiss_index = DistCalculation(embeddings, node_map)\n",
    "\n",
    "        ranks = []\n",
    "        for _, row in ens_pairs.iterrows():\n",
    "            rank, _ = faiss_index.foo(row['addr1'], row['addr2'])\n",
    "            ranks.append(rank)\n",
    "\n",
    "        # Add the ranks to the array\n",
    "        rank_arr.append(ranks)\n",
    "\n",
    "    rank_arr = np.array(rank_arr)\n",
    "    # Convert None values to np.nan\n",
    "    rank_arr = [[np.nan if val is None else val for val in sublist] for sublist in rank_arr]\n",
    "    average_rank = np.nanmean(rank_arr, axis=0)\n",
    "\n",
    "    return average_rank"
   ],
   "metadata": {
    "collapsed": false,
    "pycharm": {
     "name": "#%%\n"
    }
   }
  },
  {
   "cell_type": "code",
   "execution_count": 21,
   "outputs": [
    {
     "name": "stderr",
     "output_type": "stream",
     "text": [
      "100%|██████████| 10/10 [1:48:29<00:00, 650.93s/it]\n",
      "/var/folders/6y/q2mh3ct92xx9v05c53h84l6c0000gn/T/ipykernel_67154/4103458106.py:19: RuntimeWarning: Mean of empty slice\n",
      "  average_rank = np.nanmean(rank_arr, axis=0)\n"
     ]
    },
    {
     "data": {
      "text/plain": "array([  2.5, 577.3,   2.8, 106.8,   nan,  11.1,  30.7,  44.3,  16.3,\n         1. , 129.1,   nan,   1. ,   1.9,  10.4,   4. ,   4.2,   5.7,\n        52.3,   9. , 474.2,   1.7,   2.7,   1.3,   1. ,   3.7,  16.9,\n         3.6,   1.5,   2.7,   2. ,  64.8,   3. ,  11. ,  52.1,  10.3,\n         4.2,   2.3,  34. ])"
     },
     "execution_count": 21,
     "metadata": {},
     "output_type": "execute_result"
    }
   ],
   "source": [
    "# Diff2Vec\n",
    "diff2vec = Diff2Vec(diffusion_number=10, diffusion_cover=40, dimensions=128, window_size=5, learning_rate=0.025)\n",
    "average_rank_diff2vec = calculate_average_rank(diff2vec, iterations=10)\n",
    "average_rank_diff2vec"
   ],
   "metadata": {
    "collapsed": false,
    "pycharm": {
     "name": "#%%\n"
    }
   }
  },
  {
   "cell_type": "code",
   "execution_count": 22,
   "outputs": [
    {
     "name": "stderr",
     "output_type": "stream",
     "text": [
      "100%|██████████| 10/10 [1:37:16<00:00, 583.60s/it]\n",
      "/var/folders/6y/q2mh3ct92xx9v05c53h84l6c0000gn/T/ipykernel_67154/4103458106.py:19: RuntimeWarning: Mean of empty slice\n",
      "  average_rank = np.nanmean(rank_arr, axis=0)\n"
     ]
    },
    {
     "data": {
      "text/plain": "array([  6.2,  33.3,   2.5,  71.1,   nan,   3. ,   1. ,  91.2,  10.4,\n         1. ,  10. ,   nan,   1. ,   1. ,   1. ,   1. ,   1.5,   5.6,\n       373.8,   9. ,  86.7,   5. ,   1. ,   3.4,   1. ,   2. ,  14.4,\n         2.6,   2. ,   1. ,   2. ,  13.6,   1.1,  19.3,   5.6,  68.9,\n         4. ,   2.9, 178.6])"
     },
     "execution_count": 22,
     "metadata": {},
     "output_type": "execute_result"
    }
   ],
   "source": [
    "# Role2Vec\n",
    "role2vec = Role2Vec(walk_number=10, walk_length=40, dimensions=128, window_size=5, learning_rate=0.025, epochs=5)\n",
    "average_rank_role2vec = calculate_average_rank(role2vec, iterations=10)\n",
    "average_rank_role2vec"
   ],
   "metadata": {
    "collapsed": false,
    "pycharm": {
     "name": "#%%\n"
    }
   }
  },
  {
   "cell_type": "code",
   "execution_count": 23,
   "outputs": [
    {
     "name": "stderr",
     "output_type": "stream",
     "text": [
      "100%|██████████| 10/10 [41:27<00:00, 248.74s/it]\n",
      "/var/folders/6y/q2mh3ct92xx9v05c53h84l6c0000gn/T/ipykernel_67154/4103458106.py:19: RuntimeWarning: Mean of empty slice\n",
      "  average_rank = np.nanmean(rank_arr, axis=0)\n"
     ]
    },
    {
     "data": {
      "text/plain": "array([  2.7,  58.8,   3.3,  20.1,   nan,   1.4,   1. , 545.4,   4.1,\n         1. , 605.4,   nan,   1.8,   1. ,   1. ,  18.2,  10.3,  27.2,\n       108.5,   9. ,  51.8,   2.4,   1. ,   2.3,   2.4,   2.2, 284. ,\n         2.2,   1.7,   1.6,   1.1, 101.2,   1.6,   1.7,   3.4,  47.3,\n       227. ,   3.4, 138.6])"
     },
     "execution_count": 23,
     "metadata": {},
     "output_type": "execute_result"
    }
   ],
   "source": [
    "# DeepWalk\n",
    "deepWalk = DeepWalk(walk_number=10, walk_length=40, dimensions=128, window_size=5, learning_rate=0.025, epochs=5)\n",
    "average_rank_deepWalk = calculate_average_rank(deepWalk, iterations=10)\n",
    "average_rank_deepWalk"
   ],
   "metadata": {
    "collapsed": false,
    "pycharm": {
     "name": "#%%\n"
    }
   }
  },
  {
   "cell_type": "markdown",
   "source": [
    "### Combine the results and compute mean, median and std for each method"
   ],
   "metadata": {
    "collapsed": false
   }
  },
  {
   "cell_type": "code",
   "execution_count": 24,
   "outputs": [
    {
     "name": "stdout",
     "output_type": "stream",
     "text": [
      "Mean:\n",
      " Diff2Vec    46.037838\n",
      "Role2Vec    28.072973\n",
      "DeepWalk    62.083784\n",
      "dtype: float64\n",
      "\n",
      "Median:\n",
      " Diff2Vec    4.2\n",
      "Role2Vec    3.4\n",
      "DeepWalk    3.3\n",
      "dtype: float64\n",
      "\n",
      "Standard Deviation:\n",
      " Diff2Vec    120.504083\n",
      "Role2Vec     68.814003\n",
      "DeepWalk    139.931865\n",
      "dtype: float64\n"
     ]
    }
   ],
   "source": [
    "# Combine numpy arrays\n",
    "average_rank_array = np.column_stack((average_rank_diff2vec, average_rank_role2vec, average_rank_deepWalk))\n",
    "average_rank = pd.DataFrame(average_rank_array, columns=['Diff2Vec', 'Role2Vec', 'DeepWalk'])\n",
    "average_rank.to_csv('../data/average_rank.csv', index=False)\n",
    "\n",
    "# Calculate stats\n",
    "mean = average_rank.mean()\n",
    "median = average_rank.median()\n",
    "std = average_rank.std()\n",
    "\n",
    "# Print results\n",
    "print('Mean:\\n', mean)\n",
    "print('\\nMedian:\\n', median)\n",
    "print('\\nStandard Deviation:\\n', std)"
   ],
   "metadata": {
    "collapsed": false,
    "pycharm": {
     "name": "#%%\n"
    }
   }
  },
  {
   "cell_type": "markdown",
   "source": [
    "### Initialize distance calculation classes"
   ],
   "metadata": {
    "collapsed": false
   }
  },
  {
   "cell_type": "code",
   "execution_count": null,
   "outputs": [],
   "source": [
    "#Diff2Vec\n",
    "emb_d2v_df = pd.read_csv('../data/embeddings/diff2vec.csv', index_col='address')\n",
    "embeddings_d2v = emb_d2v_df.values\n",
    "faiss_index_d2v = DistCalculation(embeddings_d2v, node_map)\n",
    "\n",
    "#Role2Vec\n",
    "emb_r2v_df = pd.read_csv('../data/embeddings/role2vec.csv', index_col='address')\n",
    "embeddings_r2v = emb_r2v_df.values\n",
    "faiss_index_r2v = DistCalculation(embeddings_r2v, node_map)\n",
    "\n",
    "#Deepwalk\n",
    "emb_dw_df = pd.read_csv('../data/embeddings/deepWalk.csv', index_col='address')\n",
    "embeddings_dw = emb_dw_df.values\n",
    "faiss_index_deepWalk = DistCalculation(embeddings_dw, node_map)"
   ],
   "metadata": {
    "collapsed": false,
    "pycharm": {
     "name": "#%%\n"
    }
   }
  },
  {
   "cell_type": "code",
   "execution_count": 7,
   "outputs": [],
   "source": [
    "# Prepare stats\n",
    "timeOfDay = pd.read_csv('../data/timeOfDay.csv', index_col='from')\n",
    "normalizedGas = pd.read_csv('../data/normalizedGas.csv', index_col='from')\n",
    "stats_df = timeOfDay.merge(normalizedGas, left_index=True, right_index=True, how='inner')\n",
    "\n",
    "# Normalize\n",
    "scaler = StandardScaler()\n",
    "stats_normalized = pd.DataFrame(scaler.fit_transform(stats_df), columns=stats_df.columns, index=stats_df.index)\n",
    "\n",
    "def filter_dataframe(df, argument, include_hist=False):\n",
    "    if argument.lower() == 'tod':\n",
    "        # keep only the 'ToD' related columns\n",
    "        selected_columns = [col for col in df.columns if 'ToD' in col]\n",
    "    elif argument.lower() == 'normalized_gasprice':\n",
    "        # keep only the 'normalized_gasPrice' related columns\n",
    "        selected_columns = [col for col in df.columns if 'normalized_gasPrice' in col]\n",
    "    elif argument.lower() == 'both':\n",
    "        # keep both 'ToD' and 'normalized_gasPrice' related columns\n",
    "        selected_columns = df.columns\n",
    "    else:\n",
    "        raise ValueError(\"Invalid argument. Expected 'ToD', 'normalized_gasPrice', or 'both'.\")\n",
    "\n",
    "    if not include_hist:\n",
    "        # If include_hist is False, remove columns with 'hist_bin_' in their names\n",
    "        selected_columns = [col for col in selected_columns if 'hist_bin_' not in col]\n",
    "\n",
    "    return df[selected_columns]\n",
    "\n",
    "\n",
    "def compute_relative_rank(df, source_address, target_address, num_neighbors=50):\n",
    "\n",
    "    if source_address in node_map and target_address in node_map:\n",
    "        # Get k nearest neighbors for specified address (default 50)\n",
    "        D, I = faiss_index_d2v.get_dist_idx(node_map[source_address])\n",
    "        nearest_neighbors = list(I[0:num_neighbors])\n",
    "        nearest_neighbors_addresses = [idx_map[j] for j in nearest_neighbors]\n",
    "        nearest_neighbors_addresses.insert(0, source_address)\n",
    "        if target_address not in nearest_neighbors_addresses:\n",
    "            print(f'Target address not in nearest {num_neighbors} neighbors')\n",
    "            return None\n",
    "\n",
    "        # Further filter the dataframe\n",
    "        df_filtered = df[df.index.isin(nearest_neighbors_addresses)]\n",
    "\n",
    "        # Compute the Euclidean distance between the source address and all other addresses\n",
    "        distances = np.linalg.norm(df_filtered.loc[source_address] - df_filtered, axis=1)\n",
    "\n",
    "        # Convert the distances to a DataFrame\n",
    "        df_distances = pd.DataFrame(distances, columns=['distance'], index=df_filtered.index)\n",
    "        df_distances.sort_values(by='distance', inplace=True)\n",
    "\n",
    "        target_rank = df_distances.index.get_loc(target_address)\n",
    "\n",
    "        return target_rank\n",
    "    else:\n",
    "        return None\n",
    "\n",
    "\n",
    "# Quick test\n",
    "df = filter_dataframe(stats_normalized, 'normalized_gasPrice', include_hist=False)\n",
    "source_address = '0x5500c014dc83d18c60858195b42f2e61f877323e'\n",
    "target_address = '0x29d8bf1894fb077edcd5a6ee8ed475b6aed5dbb4'\n",
    "rank = compute_relative_rank(df, source_address, target_address)\n",
    "print(rank)"
   ],
   "metadata": {
    "collapsed": false,
    "pycharm": {
     "name": "#%%\n"
    }
   }
  },
  {
   "cell_type": "code",
   "execution_count": 14,
   "outputs": [
    {
     "data": {
      "text/plain": "                                         addr1  \\\n0   0x85e5472752a6f00775faca4d5179bde1081571b0   \n1   0x5500c014dc83d18c60858195b42f2e61f877323e   \n2   0xb84914f420b6de809ac1ed3d4427d90ed596b41c   \n3   0x05c351382db8d770207f319d96ac1184c3717ede   \n4   0x26846c9083c4ab525de593178e3f2f82afb8ba83   \n5   0xe005c90eb8b38938cfe722e7069118414145709b   \n6   0x1a26db1b2baf0b23f18e19375e8fdc159feb707e   \n7   0x250fbb28b2cd0a9faadc2d8a1d1c72f69163ac29   \n8   0x84ab65f45d3f8067f8bbff80f2248cd1ab4d96be   \n9   0x580bb63d47242964fa5fe9e69c5eb5423b7a50d2   \n10  0xe2beae512697913951cdd85db49545b077a90699   \n11  0xe2cfeab2beba9a7f09fd981f13e84df1e9978a5e   \n12  0x974c1cb84f439826c100b20063c24d72226fd4a8   \n13  0x1e84c5351ad32ed179c14ed4f015748c417841a6   \n14  0xed41aa4abb256b13f02b87cd66a39ddc7a6c9a22   \n15  0xe104414bf575f943e7f94e55e7f59ed086035af4   \n16  0x5528bc911d6bc284cf4da89560534508e7638de4   \n17  0x2d84cfb9cba0e8e4d7511a88cb7102a984fdb0ba   \n18  0xa5dbd5f2f45cec05ace6c08f0b75bec711ea9517   \n19  0x6401f5b9f88c489495fb95ba7aa4276a353bebb8   \n20  0x54a80e0417008db88036f4fb2c4646264717f7a6   \n21  0xa65da49bb89ec7b1a10f3887ae07e4c9c8eea168   \n22  0x08a2f4a84a06a0331b015bd1320ed20e1a9be688   \n23  0x32712bb04948da01d11c9aa6b3e77daeda014781   \n24  0x1094ee0c78b81581c8c8ea34bc2eec8a4bd20756   \n25  0x325a0fa68fc381be451f57d6be7f84da206427fd   \n26  0x8b104344f397afc33ee55c743a0fbd7d956201cd   \n27  0x493df7506210e55a893d70e61d812d824ca1c489   \n28  0x7938d79352ef0f58cd2058f930629928ae74b790   \n29  0x11610d0bf661d3ccbb9493cf23184f68ecfe4783   \n30                                         NaN   \n31                                         NaN   \n32                                         NaN   \n\n                                         addr2       rank  distance  \\\n0   0xbf886e3069d0dfd64e384c93da322f775faa8876   1.000000  0.540400   \n1   0x29d8bf1894fb077edcd5a6ee8ed475b6aed5dbb4   3.000000  0.744784   \n2   0x50839a40d9d7ea49e2c6fd76ee9d184524e4c072   5.000000  1.168792   \n3   0xcf10cd8b5dc2323b1eb6de6164647756bad4de4d  45.000000  1.320000   \n4   0x0786a24145fef2c60a38237e8671332899ce7c1f   9.000000  1.037913   \n5   0xd9c0e1af68d08c8c00d418431e8c036662a82e37   1.000000  0.864102   \n6   0x33321e44c2861033fb80ad04f93e4ccd25f2beef   1.000000  0.671990   \n7   0xc0a527d87baf6f288074df53dd0fbba575e7547e   2.000000  0.607648   \n8   0x9c1bbcc03b59e78410de1d0ba9305082fedad3bb  13.000000  0.983868   \n9   0x7bd544f07afa4284a696dc71e7a03f680dca0543   5.000000  0.760373   \n10  0xfbd9ca40386a8c632cf0529bbb16b4bedb59a0a0   5.000000  0.947820   \n11  0xf3595731c00c1afafdc65eee239d89512d552558   7.000000  1.059497   \n12  0x9dbe3cfc34867cfb988af5ef8396bc6b08afcbb8   9.000000  0.763281   \n13  0xab70dee6c44b432bde1d77477eca6e5f0adbfebb   1.000000  0.534062   \n14  0x500cf9f39d4b202a6bb81c5ace06cd0fe86e0fb7   2.000000  0.536406   \n15  0xf5a134fdb640d5398c3bfdc3343a74f39ae93b7a   2.000000  0.516064   \n16  0x369359b5ae4d7fbbf0512f675157b6ac14bd1d67   1.000000  0.873264   \n17  0xb749a586080436e616f097f193ba9cb6a25e7ea6   3.000000  0.646053   \n18  0xf1289a44a9e7f75809de380ffa261f6095387c72  16.000000  1.139798   \n19  0x8d980b3f2f25e84bde1d1f3446c0292642efed13   4.000000  0.444457   \n20  0x7ee19419ca947821158bb4cc0952c3b58c8293be   2.000000  0.572260   \n21  0xf8efa4a66f933343d21885a3ace47ee5cb893e36   2.000000  0.835507   \n22  0xcad4f4417ed241bfb0061c6e9d572a3e12159549   2.000000  0.707801   \n23  0x8008e08e1f5f693ff02b37b17756ad75afa308c4   3.000000  0.798158   \n24  0x1d56a24b684da7f21e9566e1c8a7cb40483e1078   8.000000  1.135755   \n25  0x53fd90aa13b85168d46ada899b820ec595c852b6  13.000000  1.250952   \n26  0x8665f7ceadfbff09e2cc572f7a6e43198d87ff88  22.000000  1.217536   \n27  0xea904e4dc48bf280e811f496906ed84cf6a4ba4c   7.000000  1.178745   \n28  0xa1dc71c8d20e0c8b108a85a6baea140603e9e6a8   2.000000  0.282557   \n29  0xc0f00ca06f9fcd172edad8a0e5d106d55432aa92  33.000000  1.298972   \n30                                         NaN   7.633333  0.847961   \n31                                         NaN   3.500000  0.816832   \n32                                         NaN   9.864020  0.279991   \n\n    rank_ToD_noHist  rank_ToD_Hist  rank_nG_noHist  rank_nG_Hist  \\\n0          5.000000       6.000000       35.000000     35.000000   \n1          6.000000       2.000000       17.000000     11.000000   \n2         15.000000      34.000000       43.000000     42.000000   \n3          4.000000       9.000000       15.000000     18.000000   \n4          1.000000      25.000000       30.000000     25.000000   \n5          2.000000       2.000000        3.000000      2.000000   \n6         28.000000      27.000000        8.000000     11.000000   \n7          2.000000       2.000000       39.000000     34.000000   \n8          4.000000       4.000000       38.000000     36.000000   \n9          2.000000       2.000000        3.000000      1.000000   \n10         8.000000       7.000000        2.000000      3.000000   \n11        30.000000      25.000000        4.000000      4.000000   \n12         1.000000      38.000000        2.000000     39.000000   \n13         8.000000       7.000000        9.000000      5.000000   \n14         2.000000       1.000000        1.000000      1.000000   \n15         1.000000       4.000000       25.000000     24.000000   \n16        28.000000      16.000000        7.000000      3.000000   \n17         4.000000      15.000000        8.000000      9.000000   \n18         5.000000       3.000000        3.000000      2.000000   \n19         3.000000      42.000000        1.000000     41.000000   \n20         7.000000       7.000000       39.000000     35.000000   \n21         8.000000       6.000000        3.000000      2.000000   \n22         1.000000       2.000000        4.000000      5.000000   \n23         3.000000       3.000000        6.000000      4.000000   \n24         7.000000      19.000000        2.000000     19.000000   \n25        14.000000      10.000000        9.000000      4.000000   \n26         3.000000      21.000000       33.000000     24.000000   \n27        16.000000      22.000000       20.000000     21.000000   \n28         4.000000       5.000000       29.000000     29.000000   \n29        16.000000       3.000000       33.000000      2.000000   \n30         7.933333      12.300000       15.700000     16.366667   \n31         4.500000       7.000000        8.500000     11.000000   \n32         8.164694      11.656615       14.236456     14.180934   \n\n    rank_both_noHist  rank_both_Hist  \n0          18.000000       15.000000  \n1           5.000000        2.000000  \n2          28.000000       37.000000  \n3           1.000000       10.000000  \n4          11.000000       24.000000  \n5           2.000000        2.000000  \n6          27.000000       25.000000  \n7          15.000000       10.000000  \n8           7.000000        5.000000  \n9           2.000000        1.000000  \n10          1.000000        2.000000  \n11         28.000000       20.000000  \n12          1.000000       38.000000  \n13          5.000000        4.000000  \n14          1.000000        1.000000  \n15          8.000000        6.000000  \n16         25.000000       11.000000  \n17          3.000000       11.000000  \n18          2.000000        3.000000  \n19          1.000000       42.000000  \n20         14.000000        9.000000  \n21          6.000000        5.000000  \n22          1.000000        2.000000  \n23          2.000000        1.000000  \n24          7.000000       18.000000  \n25         12.000000        8.000000  \n26         10.000000       21.000000  \n27         13.000000       21.000000  \n28         10.000000       12.000000  \n29         17.000000        3.000000  \n30          9.433333       12.300000  \n31          7.000000        9.500000  \n32          8.562256       11.460512  ",
      "text/html": "<div>\n<style scoped>\n    .dataframe tbody tr th:only-of-type {\n        vertical-align: middle;\n    }\n\n    .dataframe tbody tr th {\n        vertical-align: top;\n    }\n\n    .dataframe thead th {\n        text-align: right;\n    }\n</style>\n<table border=\"1\" class=\"dataframe\">\n  <thead>\n    <tr style=\"text-align: right;\">\n      <th></th>\n      <th>addr1</th>\n      <th>addr2</th>\n      <th>rank</th>\n      <th>distance</th>\n      <th>rank_ToD_noHist</th>\n      <th>rank_ToD_Hist</th>\n      <th>rank_nG_noHist</th>\n      <th>rank_nG_Hist</th>\n      <th>rank_both_noHist</th>\n      <th>rank_both_Hist</th>\n    </tr>\n  </thead>\n  <tbody>\n    <tr>\n      <th>0</th>\n      <td>0x85e5472752a6f00775faca4d5179bde1081571b0</td>\n      <td>0xbf886e3069d0dfd64e384c93da322f775faa8876</td>\n      <td>1.000000</td>\n      <td>0.540400</td>\n      <td>5.000000</td>\n      <td>6.000000</td>\n      <td>35.000000</td>\n      <td>35.000000</td>\n      <td>18.000000</td>\n      <td>15.000000</td>\n    </tr>\n    <tr>\n      <th>1</th>\n      <td>0x5500c014dc83d18c60858195b42f2e61f877323e</td>\n      <td>0x29d8bf1894fb077edcd5a6ee8ed475b6aed5dbb4</td>\n      <td>3.000000</td>\n      <td>0.744784</td>\n      <td>6.000000</td>\n      <td>2.000000</td>\n      <td>17.000000</td>\n      <td>11.000000</td>\n      <td>5.000000</td>\n      <td>2.000000</td>\n    </tr>\n    <tr>\n      <th>2</th>\n      <td>0xb84914f420b6de809ac1ed3d4427d90ed596b41c</td>\n      <td>0x50839a40d9d7ea49e2c6fd76ee9d184524e4c072</td>\n      <td>5.000000</td>\n      <td>1.168792</td>\n      <td>15.000000</td>\n      <td>34.000000</td>\n      <td>43.000000</td>\n      <td>42.000000</td>\n      <td>28.000000</td>\n      <td>37.000000</td>\n    </tr>\n    <tr>\n      <th>3</th>\n      <td>0x05c351382db8d770207f319d96ac1184c3717ede</td>\n      <td>0xcf10cd8b5dc2323b1eb6de6164647756bad4de4d</td>\n      <td>45.000000</td>\n      <td>1.320000</td>\n      <td>4.000000</td>\n      <td>9.000000</td>\n      <td>15.000000</td>\n      <td>18.000000</td>\n      <td>1.000000</td>\n      <td>10.000000</td>\n    </tr>\n    <tr>\n      <th>4</th>\n      <td>0x26846c9083c4ab525de593178e3f2f82afb8ba83</td>\n      <td>0x0786a24145fef2c60a38237e8671332899ce7c1f</td>\n      <td>9.000000</td>\n      <td>1.037913</td>\n      <td>1.000000</td>\n      <td>25.000000</td>\n      <td>30.000000</td>\n      <td>25.000000</td>\n      <td>11.000000</td>\n      <td>24.000000</td>\n    </tr>\n    <tr>\n      <th>5</th>\n      <td>0xe005c90eb8b38938cfe722e7069118414145709b</td>\n      <td>0xd9c0e1af68d08c8c00d418431e8c036662a82e37</td>\n      <td>1.000000</td>\n      <td>0.864102</td>\n      <td>2.000000</td>\n      <td>2.000000</td>\n      <td>3.000000</td>\n      <td>2.000000</td>\n      <td>2.000000</td>\n      <td>2.000000</td>\n    </tr>\n    <tr>\n      <th>6</th>\n      <td>0x1a26db1b2baf0b23f18e19375e8fdc159feb707e</td>\n      <td>0x33321e44c2861033fb80ad04f93e4ccd25f2beef</td>\n      <td>1.000000</td>\n      <td>0.671990</td>\n      <td>28.000000</td>\n      <td>27.000000</td>\n      <td>8.000000</td>\n      <td>11.000000</td>\n      <td>27.000000</td>\n      <td>25.000000</td>\n    </tr>\n    <tr>\n      <th>7</th>\n      <td>0x250fbb28b2cd0a9faadc2d8a1d1c72f69163ac29</td>\n      <td>0xc0a527d87baf6f288074df53dd0fbba575e7547e</td>\n      <td>2.000000</td>\n      <td>0.607648</td>\n      <td>2.000000</td>\n      <td>2.000000</td>\n      <td>39.000000</td>\n      <td>34.000000</td>\n      <td>15.000000</td>\n      <td>10.000000</td>\n    </tr>\n    <tr>\n      <th>8</th>\n      <td>0x84ab65f45d3f8067f8bbff80f2248cd1ab4d96be</td>\n      <td>0x9c1bbcc03b59e78410de1d0ba9305082fedad3bb</td>\n      <td>13.000000</td>\n      <td>0.983868</td>\n      <td>4.000000</td>\n      <td>4.000000</td>\n      <td>38.000000</td>\n      <td>36.000000</td>\n      <td>7.000000</td>\n      <td>5.000000</td>\n    </tr>\n    <tr>\n      <th>9</th>\n      <td>0x580bb63d47242964fa5fe9e69c5eb5423b7a50d2</td>\n      <td>0x7bd544f07afa4284a696dc71e7a03f680dca0543</td>\n      <td>5.000000</td>\n      <td>0.760373</td>\n      <td>2.000000</td>\n      <td>2.000000</td>\n      <td>3.000000</td>\n      <td>1.000000</td>\n      <td>2.000000</td>\n      <td>1.000000</td>\n    </tr>\n    <tr>\n      <th>10</th>\n      <td>0xe2beae512697913951cdd85db49545b077a90699</td>\n      <td>0xfbd9ca40386a8c632cf0529bbb16b4bedb59a0a0</td>\n      <td>5.000000</td>\n      <td>0.947820</td>\n      <td>8.000000</td>\n      <td>7.000000</td>\n      <td>2.000000</td>\n      <td>3.000000</td>\n      <td>1.000000</td>\n      <td>2.000000</td>\n    </tr>\n    <tr>\n      <th>11</th>\n      <td>0xe2cfeab2beba9a7f09fd981f13e84df1e9978a5e</td>\n      <td>0xf3595731c00c1afafdc65eee239d89512d552558</td>\n      <td>7.000000</td>\n      <td>1.059497</td>\n      <td>30.000000</td>\n      <td>25.000000</td>\n      <td>4.000000</td>\n      <td>4.000000</td>\n      <td>28.000000</td>\n      <td>20.000000</td>\n    </tr>\n    <tr>\n      <th>12</th>\n      <td>0x974c1cb84f439826c100b20063c24d72226fd4a8</td>\n      <td>0x9dbe3cfc34867cfb988af5ef8396bc6b08afcbb8</td>\n      <td>9.000000</td>\n      <td>0.763281</td>\n      <td>1.000000</td>\n      <td>38.000000</td>\n      <td>2.000000</td>\n      <td>39.000000</td>\n      <td>1.000000</td>\n      <td>38.000000</td>\n    </tr>\n    <tr>\n      <th>13</th>\n      <td>0x1e84c5351ad32ed179c14ed4f015748c417841a6</td>\n      <td>0xab70dee6c44b432bde1d77477eca6e5f0adbfebb</td>\n      <td>1.000000</td>\n      <td>0.534062</td>\n      <td>8.000000</td>\n      <td>7.000000</td>\n      <td>9.000000</td>\n      <td>5.000000</td>\n      <td>5.000000</td>\n      <td>4.000000</td>\n    </tr>\n    <tr>\n      <th>14</th>\n      <td>0xed41aa4abb256b13f02b87cd66a39ddc7a6c9a22</td>\n      <td>0x500cf9f39d4b202a6bb81c5ace06cd0fe86e0fb7</td>\n      <td>2.000000</td>\n      <td>0.536406</td>\n      <td>2.000000</td>\n      <td>1.000000</td>\n      <td>1.000000</td>\n      <td>1.000000</td>\n      <td>1.000000</td>\n      <td>1.000000</td>\n    </tr>\n    <tr>\n      <th>15</th>\n      <td>0xe104414bf575f943e7f94e55e7f59ed086035af4</td>\n      <td>0xf5a134fdb640d5398c3bfdc3343a74f39ae93b7a</td>\n      <td>2.000000</td>\n      <td>0.516064</td>\n      <td>1.000000</td>\n      <td>4.000000</td>\n      <td>25.000000</td>\n      <td>24.000000</td>\n      <td>8.000000</td>\n      <td>6.000000</td>\n    </tr>\n    <tr>\n      <th>16</th>\n      <td>0x5528bc911d6bc284cf4da89560534508e7638de4</td>\n      <td>0x369359b5ae4d7fbbf0512f675157b6ac14bd1d67</td>\n      <td>1.000000</td>\n      <td>0.873264</td>\n      <td>28.000000</td>\n      <td>16.000000</td>\n      <td>7.000000</td>\n      <td>3.000000</td>\n      <td>25.000000</td>\n      <td>11.000000</td>\n    </tr>\n    <tr>\n      <th>17</th>\n      <td>0x2d84cfb9cba0e8e4d7511a88cb7102a984fdb0ba</td>\n      <td>0xb749a586080436e616f097f193ba9cb6a25e7ea6</td>\n      <td>3.000000</td>\n      <td>0.646053</td>\n      <td>4.000000</td>\n      <td>15.000000</td>\n      <td>8.000000</td>\n      <td>9.000000</td>\n      <td>3.000000</td>\n      <td>11.000000</td>\n    </tr>\n    <tr>\n      <th>18</th>\n      <td>0xa5dbd5f2f45cec05ace6c08f0b75bec711ea9517</td>\n      <td>0xf1289a44a9e7f75809de380ffa261f6095387c72</td>\n      <td>16.000000</td>\n      <td>1.139798</td>\n      <td>5.000000</td>\n      <td>3.000000</td>\n      <td>3.000000</td>\n      <td>2.000000</td>\n      <td>2.000000</td>\n      <td>3.000000</td>\n    </tr>\n    <tr>\n      <th>19</th>\n      <td>0x6401f5b9f88c489495fb95ba7aa4276a353bebb8</td>\n      <td>0x8d980b3f2f25e84bde1d1f3446c0292642efed13</td>\n      <td>4.000000</td>\n      <td>0.444457</td>\n      <td>3.000000</td>\n      <td>42.000000</td>\n      <td>1.000000</td>\n      <td>41.000000</td>\n      <td>1.000000</td>\n      <td>42.000000</td>\n    </tr>\n    <tr>\n      <th>20</th>\n      <td>0x54a80e0417008db88036f4fb2c4646264717f7a6</td>\n      <td>0x7ee19419ca947821158bb4cc0952c3b58c8293be</td>\n      <td>2.000000</td>\n      <td>0.572260</td>\n      <td>7.000000</td>\n      <td>7.000000</td>\n      <td>39.000000</td>\n      <td>35.000000</td>\n      <td>14.000000</td>\n      <td>9.000000</td>\n    </tr>\n    <tr>\n      <th>21</th>\n      <td>0xa65da49bb89ec7b1a10f3887ae07e4c9c8eea168</td>\n      <td>0xf8efa4a66f933343d21885a3ace47ee5cb893e36</td>\n      <td>2.000000</td>\n      <td>0.835507</td>\n      <td>8.000000</td>\n      <td>6.000000</td>\n      <td>3.000000</td>\n      <td>2.000000</td>\n      <td>6.000000</td>\n      <td>5.000000</td>\n    </tr>\n    <tr>\n      <th>22</th>\n      <td>0x08a2f4a84a06a0331b015bd1320ed20e1a9be688</td>\n      <td>0xcad4f4417ed241bfb0061c6e9d572a3e12159549</td>\n      <td>2.000000</td>\n      <td>0.707801</td>\n      <td>1.000000</td>\n      <td>2.000000</td>\n      <td>4.000000</td>\n      <td>5.000000</td>\n      <td>1.000000</td>\n      <td>2.000000</td>\n    </tr>\n    <tr>\n      <th>23</th>\n      <td>0x32712bb04948da01d11c9aa6b3e77daeda014781</td>\n      <td>0x8008e08e1f5f693ff02b37b17756ad75afa308c4</td>\n      <td>3.000000</td>\n      <td>0.798158</td>\n      <td>3.000000</td>\n      <td>3.000000</td>\n      <td>6.000000</td>\n      <td>4.000000</td>\n      <td>2.000000</td>\n      <td>1.000000</td>\n    </tr>\n    <tr>\n      <th>24</th>\n      <td>0x1094ee0c78b81581c8c8ea34bc2eec8a4bd20756</td>\n      <td>0x1d56a24b684da7f21e9566e1c8a7cb40483e1078</td>\n      <td>8.000000</td>\n      <td>1.135755</td>\n      <td>7.000000</td>\n      <td>19.000000</td>\n      <td>2.000000</td>\n      <td>19.000000</td>\n      <td>7.000000</td>\n      <td>18.000000</td>\n    </tr>\n    <tr>\n      <th>25</th>\n      <td>0x325a0fa68fc381be451f57d6be7f84da206427fd</td>\n      <td>0x53fd90aa13b85168d46ada899b820ec595c852b6</td>\n      <td>13.000000</td>\n      <td>1.250952</td>\n      <td>14.000000</td>\n      <td>10.000000</td>\n      <td>9.000000</td>\n      <td>4.000000</td>\n      <td>12.000000</td>\n      <td>8.000000</td>\n    </tr>\n    <tr>\n      <th>26</th>\n      <td>0x8b104344f397afc33ee55c743a0fbd7d956201cd</td>\n      <td>0x8665f7ceadfbff09e2cc572f7a6e43198d87ff88</td>\n      <td>22.000000</td>\n      <td>1.217536</td>\n      <td>3.000000</td>\n      <td>21.000000</td>\n      <td>33.000000</td>\n      <td>24.000000</td>\n      <td>10.000000</td>\n      <td>21.000000</td>\n    </tr>\n    <tr>\n      <th>27</th>\n      <td>0x493df7506210e55a893d70e61d812d824ca1c489</td>\n      <td>0xea904e4dc48bf280e811f496906ed84cf6a4ba4c</td>\n      <td>7.000000</td>\n      <td>1.178745</td>\n      <td>16.000000</td>\n      <td>22.000000</td>\n      <td>20.000000</td>\n      <td>21.000000</td>\n      <td>13.000000</td>\n      <td>21.000000</td>\n    </tr>\n    <tr>\n      <th>28</th>\n      <td>0x7938d79352ef0f58cd2058f930629928ae74b790</td>\n      <td>0xa1dc71c8d20e0c8b108a85a6baea140603e9e6a8</td>\n      <td>2.000000</td>\n      <td>0.282557</td>\n      <td>4.000000</td>\n      <td>5.000000</td>\n      <td>29.000000</td>\n      <td>29.000000</td>\n      <td>10.000000</td>\n      <td>12.000000</td>\n    </tr>\n    <tr>\n      <th>29</th>\n      <td>0x11610d0bf661d3ccbb9493cf23184f68ecfe4783</td>\n      <td>0xc0f00ca06f9fcd172edad8a0e5d106d55432aa92</td>\n      <td>33.000000</td>\n      <td>1.298972</td>\n      <td>16.000000</td>\n      <td>3.000000</td>\n      <td>33.000000</td>\n      <td>2.000000</td>\n      <td>17.000000</td>\n      <td>3.000000</td>\n    </tr>\n    <tr>\n      <th>30</th>\n      <td>NaN</td>\n      <td>NaN</td>\n      <td>7.633333</td>\n      <td>0.847961</td>\n      <td>7.933333</td>\n      <td>12.300000</td>\n      <td>15.700000</td>\n      <td>16.366667</td>\n      <td>9.433333</td>\n      <td>12.300000</td>\n    </tr>\n    <tr>\n      <th>31</th>\n      <td>NaN</td>\n      <td>NaN</td>\n      <td>3.500000</td>\n      <td>0.816832</td>\n      <td>4.500000</td>\n      <td>7.000000</td>\n      <td>8.500000</td>\n      <td>11.000000</td>\n      <td>7.000000</td>\n      <td>9.500000</td>\n    </tr>\n    <tr>\n      <th>32</th>\n      <td>NaN</td>\n      <td>NaN</td>\n      <td>9.864020</td>\n      <td>0.279991</td>\n      <td>8.164694</td>\n      <td>11.656615</td>\n      <td>14.236456</td>\n      <td>14.180934</td>\n      <td>8.562256</td>\n      <td>11.460512</td>\n    </tr>\n  </tbody>\n</table>\n</div>"
     },
     "execution_count": 14,
     "metadata": {},
     "output_type": "execute_result"
    }
   ],
   "source": [
    "d2v_ens = d2v_ens[d2v_ens['rank'] <= 50]\n",
    "\n",
    "ToD_noHist = filter_dataframe(stats_normalized, 'ToD', include_hist=False)\n",
    "d2v_ens['ToD_noHist'] = d2v_ens.apply(\n",
    "    lambda row: compute_relative_rank(ToD_noHist, row['addr1'], row['addr2']),\n",
    "    axis=1\n",
    ")\n",
    "\n",
    "ToD_Hist = filter_dataframe(stats_normalized, 'ToD', include_hist=True)\n",
    "d2v_ens['ToD_Hist'] = d2v_ens.apply(\n",
    "    lambda row: compute_relative_rank(ToD_Hist, row['addr1'], row['addr2']),\n",
    "    axis=1\n",
    ")\n",
    "\n",
    "nGas_noHist = filter_dataframe(stats_normalized, 'normalized_gasPrice', include_hist=False)\n",
    "d2v_ens['nG_noHist'] = d2v_ens.apply(\n",
    "    lambda row: compute_relative_rank(nGas_noHist, row['addr1'], row['addr2']),\n",
    "    axis=1\n",
    ")\n",
    "\n",
    "nGas_Hist = filter_dataframe(stats_normalized, 'normalized_gasPrice', include_hist=True)\n",
    "d2v_ens['nG_Hist'] = d2v_ens.apply(\n",
    "    lambda row: compute_relative_rank(nGas_Hist, row['addr1'], row['addr2']),\n",
    "    axis=1\n",
    ")\n",
    "\n",
    "both_noHist = filter_dataframe(stats_normalized, 'both', include_hist=False)\n",
    "d2v_ens['both_noHist'] = d2v_ens.apply(\n",
    "    lambda row: compute_relative_rank(both_noHist, row['addr1'], row['addr2']),\n",
    "    axis=1\n",
    ")\n",
    "\n",
    "both_Hist = filter_dataframe(stats_normalized, 'both', include_hist=True)\n",
    "d2v_ens['both_Hist'] = d2v_ens.apply(\n",
    "    lambda row: compute_relative_rank(both_Hist, row['addr1'], row['addr2']),\n",
    "    axis=1\n",
    ")\n",
    "\n",
    "\n",
    "# Compute mean and median of numeric columns\n",
    "numeric_cols = d2v_ens.select_dtypes(include=[np.number])\n",
    "df_mean = numeric_cols.mean()\n",
    "df_median = numeric_cols.median()\n",
    "df_std = np.std(numeric_cols)\n",
    "\n",
    "# Append mean and median to the dataframe\n",
    "df_final = d2v_ens.append(df_mean, ignore_index=True)\n",
    "df_final = df_final.append(df_median, ignore_index=True)\n",
    "df_final = df_final.append(df_std, ignore_index=True)\n",
    "df_final"
   ],
   "metadata": {
    "collapsed": false,
    "pycharm": {
     "name": "#%%\n"
    }
   }
  },
  {
   "cell_type": "markdown",
   "source": [
    "### Time of day"
   ],
   "metadata": {
    "collapsed": false,
    "pycharm": {
     "name": "#%% md\n"
    }
   }
  },
  {
   "cell_type": "code",
   "execution_count": 47,
   "metadata": {
    "pycharm": {
     "name": "#%%\n"
    }
   },
   "outputs": [
    {
     "name": "stdout",
     "output_type": "stream",
     "text": [
      "0x76232accd8b6e1827a00462abd9b3cffcad68b9e 15\n",
      "0xaa68328e0dd8e7ecde1b6c7a01e552c5e33df563 8\n"
     ]
    },
    {
     "data": {
      "text/plain": "<Figure size 750x300 with 1 Axes>",
      "image/png": "[encoded data removed]"
     },
     "metadata": {},
     "output_type": "display_data"
    },
    {
     "data": {
      "text/plain": "<Figure size 750x300 with 1 Axes>",
      "image/png": "[encoded data removed]"
     },
     "metadata": {},
     "output_type": "display_data"
    }
   ],
   "source": [
    "addresses = [idx_map[i] for i in [487, 493]]\n",
    "\n",
    "show_patterns(all_transfers_df, addresses, hour_bins=6, show_kde=True)"
   ]
  },
  {
   "cell_type": "markdown",
   "metadata": {
    "pycharm": {
     "name": "#%% md\n"
    }
   },
   "source": [
    "### Find a way to cluster the addresses instead of k nearest neighbors\n",
    "\n",
    "Do it with different tresholds, see how the number of clusters changes, visualize it"
   ]
  },
  {
   "cell_type": "code",
   "execution_count": 16,
   "metadata": {
    "pycharm": {
     "name": "#%%\n"
    }
   },
   "outputs": [
    {
     "name": "stdout",
     "output_type": "stream",
     "text": [
      "51566\n",
      "36253\n"
     ]
    },
    {
     "data": {
      "text/plain": "[{47489, 48488},\n {0},\n {23863, 26275, 27046, 27571},\n {36886, 36962},\n {4},\n {5},\n {6},\n {548, 551},\n {359, 38896, 38900},\n {9},\n {324, 327, 3100},\n {134, 139},\n {12},\n {19516, 19557},\n {14, 137},\n {15},\n {44, 132},\n {18095, 45561},\n {508, 509},\n {19},\n {20},\n {21, 453},\n {22, 502},\n {23},\n {350, 37410, 37415},\n {25},\n {26},\n {27},\n {38030, 38215},\n {24952, 25733},\n {30},\n {31},\n {32},\n {39787, 39792, 39797},\n {34},\n {12423, 12427},\n {36},\n {12679, 45893, 45894},\n {16132, 42058, 48975},\n {39},\n {39563, 39576},\n {13173, 13191},\n {9098, 9107},\n {30451, 46003},\n {132},\n {9395, 13443, 15691},\n {46},\n {47, 80},\n {48},\n {49},\n {38500, 38515},\n {20015, 47946},\n {52},\n {53},\n {40807, 48240, 48644},\n {55},\n {56},\n {57},\n {9274, 9367},\n {59},\n {60},\n {8329, 33610, 33624},\n {62},\n {63},\n {43074, 43075},\n {50300, 50303, 50305},\n {66},\n {67},\n {68},\n {13295, 45604, 47314},\n {70},\n {71},\n {30242, 30243},\n {21129, 31177, 45141},\n {42394, 45413},\n {75},\n {76},\n {77, 563},\n {1200, 32246, 39441},\n {79, 1180},\n {82, 83},\n {100, 119},\n {84},\n {85},\n {87, 106},\n {88},\n {89, 15431},\n {90, 94},\n {83},\n {92},\n {93},\n {2410, 37379},\n {96},\n {97},\n {98},\n {38564, 38568},\n {101},\n {102},\n {103},\n {104, 105},\n {107, 108},\n {119},\n {110, 111},\n {113, 118},\n {81},\n {115, 116},\n {118},\n {33810, 33813},\n {120},\n {33810, 33813},\n {123, 5199},\n {20654, 24065, 33910},\n {2813, 3092},\n {94},\n {118},\n {17936, 42434},\n {43272, 44256, 48260},\n {139},\n {130},\n {139},\n {139},\n {139},\n {139},\n {138},\n {140},\n {141, 143},\n {139},\n {145, 147},\n {145},\n {342, 46566, 46568},\n {17454, 17457},\n {1310, 20028},\n {151, 22960},\n {152},\n {153},\n {15218, 15223},\n {13901, 40672, 40674},\n {43345, 43352},\n {157},\n {158},\n {159},\n {32305, 50295},\n {161},\n {34548, 34551},\n {163},\n {164},\n {165},\n {166},\n {167},\n {168},\n {38933, 38935},\n {525, 526},\n {525},\n {545, 546},\n {173, 1254},\n {18934, 25336},\n {175},\n {48337, 48339},\n {177},\n {178},\n {35076, 35088},\n {180},\n {181, 407},\n {42477, 42480},\n {183},\n {184},\n {185},\n {186},\n {187},\n {188},\n {189},\n {2532, 3130},\n {191},\n {192},\n {39586, 39594},\n {194},\n {195},\n {4419, 18363, 18377},\n {197},\n {198},\n {12250, 12253},\n {200},\n {201},\n {237, 248},\n {217, 247},\n {222, 235, 252},\n {230, 257},\n {216, 243},\n {226, 263},\n {216},\n {209, 260},\n {216, 245},\n {223, 227},\n {37877, 48159},\n {252, 258},\n {259, 265},\n {245},\n {264, 269},\n {226},\n {245},\n {221, 246},\n {245},\n {209},\n {217},\n {205},\n {235, 252},\n {245},\n {216},\n {229},\n {226, 236},\n {248},\n {8188, 8190},\n {203},\n {230},\n {216},\n {263},\n {216, 251},\n {257},\n {257},\n {216},\n {254, 311},\n {255, 317},\n {38097, 38099},\n {205, 270},\n {263},\n {269},\n {221},\n {221},\n {268, 316},\n {245},\n {232},\n {216},\n {274, 281},\n {257},\n {223},\n {265},\n {254},\n {226},\n {298, 305, 307},\n {243},\n {283},\n {284, 302},\n {209},\n {286, 303},\n {298, 300},\n {303},\n {289},\n {308, 318},\n {291, 306},\n {292, 294},\n {238, 295},\n {296},\n {297, 314},\n {307},\n {299, 301},\n {299},\n {256},\n {268},\n {44612, 44613, 44615},\n {278},\n {315},\n {319},\n {320},\n {321},\n {35769, 48783},\n {18354, 18359},\n {37378, 48419},\n {5997, 6005},\n {328},\n {329},\n {330},\n {331},\n {369, 49077, 49078},\n {333},\n {334},\n {13042, 28701},\n {336},\n {337},\n {338},\n {339},\n {27586, 38026, 38027},\n {341},\n {601, 20677, 37162, 37164},\n {344},\n {345},\n {346},\n {1202, 51411},\n {348, 349},\n {15091, 38249, 38250},\n {39373, 43859},\n {9000, 9042},\n {354},\n {30308, 45434},\n {356},\n {12073, 14860, 35562},\n {358},\n {360},\n {361},\n {362},\n {363, 542},\n {42823, 47443},\n {365, 397},\n {366},\n {367},\n {368},\n {370, 379},\n {371},\n {372},\n {40510, 43759},\n {374},\n {375},\n {376},\n {377},\n {1288, 35895, 44857, 48333},\n {380},\n {381},\n {382},\n {31674, 31678, 31679},\n {31979, 31980},\n {385},\n {38115, 38116},\n {387},\n {48306, 48307},\n {389},\n {390},\n {391},\n {392},\n {393},\n {394, 13740},\n {395},\n {396},\n {398, 426},\n {399, 445},\n {400, 401},\n {402, 403},\n {404},\n {414, 425},\n {406, 408},\n {409, 31963},\n {410},\n {35382, 35384},\n {412},\n {413},\n {415},\n {24028, 45409, 45621},\n {28650, 38999, 44173},\n {418},\n {419},\n {5925, 5928},\n {421},\n {422},\n {423},\n {424},\n {398},\n {38263, 38264},\n {429, 436},\n {604, 1212},\n {431},\n {432, 433},\n {433},\n {434},\n {32753, 32755},\n {436},\n {439, 440},\n {440, 443},\n {443},\n {443},\n {453},\n {38823, 38826},\n {448},\n {44509, 44518},\n {450},\n {451, 4641},\n {452},\n {454},\n {455, 43238},\n {13340, 13342},\n {34964, 34965, 34966},\n {458},\n {17268, 45392},\n {460},\n {28994, 43825},\n {462},\n {463},\n {464, 39691},\n {465},\n {466},\n {467},\n {19999, 50066},\n {446},\n {470},\n {471},\n {477, 479},\n {472},\n {472},\n {479},\n {487, 490},\n {483, 485},\n {472},\n {479},\n {18397, 18405},\n {484},\n {486},\n {487, 493},\n {488, 489},\n {491},\n {492, 7124},\n {494},\n {495, 16780},\n {496},\n {497},\n {498},\n {7957, 7960},\n {500},\n {26090, 35132},\n {503},\n {504},\n {505},\n {506},\n {625, 3358},\n {509},\n {510},\n {511},\n {10975, 22897, 22905},\n {513},\n {17906, 28699, 40864},\n {515},\n {31420, 41375},\n {517, 524},\n {20702, 38496, 42671},\n {524},\n {520},\n {524},\n {522},\n {524},\n {527, 528},\n {528},\n {32237, 45900},\n {531},\n {532, 534},\n {533, 536},\n {535},\n {40051, 40052},\n {538, 37771},\n {539},\n {540},\n {172},\n {543},\n {545},\n {546},\n {551},\n {43517, 44308},\n {35456, 38810},\n {555, 559},\n {553, 555},\n {555, 556},\n {556},\n {552},\n {560},\n {77, 565},\n {562},\n {40499, 40500, 40501},\n {566, 7360},\n {39746, 44297},\n {20215, 20217},\n {569, 7359},\n {570, 571},\n {572},\n {573, 576},\n {574, 575},\n {577, 43427},\n {43427},\n {45655, 45656},\n {580},\n {581},\n {582, 4081},\n {45656},\n {584},\n {22441, 48779},\n {586},\n {587, 14428},\n {588},\n {589},\n {590},\n {591},\n {592},\n {16351, 16353, 48795, 51287},\n {594},\n {595},\n {1355, 39563, 39569},\n {18374, 18377},\n {30026, 30035},\n {599},\n {45155, 45156},\n {602},\n {603},\n {604, 49253},\n {605},\n {17006, 20796, 40938, 51155},\n {607},\n {608},\n {609},\n {610},\n {611},\n {30286, 30287},\n {50270, 51303},\n {614},\n {47197, 47264},\n {616},\n {617},\n {618},\n {619},\n {620},\n {621},\n {622},\n {42469, 45492},\n {624},\n {37081, 39362, 39365},\n {626},\n {43833, 43835},\n {628},\n {629},\n {630},\n {631},\n {632},\n {633},\n {634},\n {7768, 38803, 38805},\n {636, 15070},\n {637},\n {17408, 44757, 51430},\n {6508, 6512},\n {640},\n {641},\n {642, 826},\n {643, 3887},\n {32826, 32828},\n {645},\n {31962, 31965},\n {37405, 37406},\n {648, 792},\n {649},\n {650},\n {651, 684},\n {652},\n {653},\n {654},\n {692, 1124},\n {656},\n {657, 1339},\n {658},\n {659},\n {660},\n {916, 968},\n {662},\n {33213, 33269, 43979},\n {664},\n {43415, 43419},\n {666},\n {667},\n {45263, 45264, 45265},\n {41880, 46592, 51412},\n {670},\n {671, 13664},\n {18337, 21327, 51082},\n {46646, 46647},\n {674},\n {675},\n {676},\n {677, 686},\n {678},\n {679},\n {46784, 46785},\n {43321, 43322},\n {2993, 47545},\n {30575, 30577},\n {10360, 13244},\n {47516, 47518},\n {17393, 17394},\n {44705, 48237, 48238},\n {17467, 44507, 49036},\n {691},\n {45970, 45971},\n {694},\n {695},\n {696, 1848},\n {44601, 49171},\n {698},\n {33267, 38989, 45477, 45478},\n {50312, 50313},\n {48040, 48041},\n {44446, 44622, 44625},\n {703},\n {51224, 51225, 51226},\n {705},\n {3956, 22218},\n {707},\n {7024, 42858, 46493},\n {7173, 7198},\n {4427, 8830},\n {8844, 34854, 42983, 42990},\n {712},\n {713},\n {13134, 13135, 13151},\n {13857, 35193, 35203},\n {716},\n {14683, 14696},\n {718},\n {719},\n {720},\n {18297, 46913, 46919},\n {722},\n {723},\n {724},\n {725},\n {726},\n {727},\n {29626, 29908, 29911},\n {29692, 29696},\n {730},\n {29950, 29961},\n {732, 1046},\n {12475, 30825},\n {734},\n {31446, 39338, 39341},\n {736},\n {737},\n {738},\n {33008, 34826, 34829},\n {740},\n {741},\n {742},\n {34008, 34009},\n {744},\n {34926, 41906, 41931},\n {35067, 35068},\n {747},\n {35676, 35677},\n {35698, 35699},\n {11916, 35801, 49264},\n {751},\n {752},\n {34106, 42040, 47834, 47836},\n {36581, 36582},\n {37119, 37121},\n {914, 916, 968},\n {757},\n {758},\n {759},\n {760},\n {33033, 37933, 48461},\n {13823, 29230},\n {763},\n {29580, 38488},\n {38530, 39072, 39074},\n {38556, 44193, 49190},\n {30872, 45663, 49920, 49923},\n {768},\n {39043, 39044},\n {770},\n {39616, 50169, 50175},\n {39725, 39730},\n {773},\n {774},\n {40407, 49211},\n {14825, 40968},\n {777},\n {41170, 41184},\n {779},\n {780},\n {781},\n {782},\n {783},\n {784},\n {16276, 46515},\n {15068, 15071},\n {24687, 34091, 34094},\n {39856, 42760, 50139},\n {42868, 42870},\n {790},\n {43054, 45067, 45368, 47231},\n {793},\n {43401, 43402},\n {795},\n {796},\n {797},\n {798},\n {799},\n {800},\n {801},\n {802},\n {44099, 44100},\n {804},\n {805},\n {806, 26980},\n {807},\n {808},\n {809},\n {44487, 44488},\n {44745, 44746},\n {32230, 44970},\n {1764, 44991},\n {45026, 45027},\n {815},\n {13384, 45212},\n {45287, 45288},\n {818},\n {45663},\n {45181, 45785},\n {43758, 45853},\n {23842, 24178, 27443},\n {823},\n {824},\n {825},\n {827},\n {828},\n {47272, 47273},\n {830},\n {33331, 35780},\n {832},\n {47727, 47728},\n {834},\n {835},\n {836},\n {837},\n {700},\n {839},\n {840},\n {841},\n {842},\n {843},\n {9834, 48466},\n {40558, 49172, 51118},\n {10737, 10772},\n {39471, 49260},\n {848},\n {849},\n {850},\n {851},\n {50225, 50227},\n {853},\n {854},\n {855},\n {856},\n {23958, 26401},\n {15471, 50333},\n {859},\n {20428, 50414},\n {861},\n {46694, 50531},\n {19097, 50550},\n {864},\n {865},\n {866},\n {867},\n {868},\n {869},\n {870},\n {871},\n {38310, 50000},\n {873},\n {874},\n {875},\n {876},\n {877},\n {878},\n {879},\n {880},\n {881},\n {882},\n {31775, 51548},\n {884},\n {885},\n {892, 999},\n {887},\n {9073, 43434},\n {889},\n {22890, 22891, 22892},\n {891},\n {999},\n {893},\n {894},\n {895},\n {1171, 46455, 46456},\n {48039, 48159},\n {22392, 38619, 45160},\n {9972, 9985},\n {900},\n {901},\n {968},\n {903},\n {17282, 17283},\n {905},\n {20716, 20718},\n {907},\n {908},\n {909, 962},\n {910},\n {16573, 16974},\n {912},\n {913},\n {915},\n {917},\n {918},\n {919},\n {32028, 32031},\n {921},\n {922},\n {923, 1051},\n {924, 1773},\n {925},\n {926},\n {927},\n {928},\n {929},\n {21563, 21564, 21567},\n {931},\n {932},\n {933},\n {934},\n {25766, 27699},\n {936},\n {937},\n {938, 19399},\n {939},\n {940},\n {941, 10692},\n {37781, 37784, 37786},\n {943},\n {944},\n {20109, 20147},\n {946},\n {947},\n {41713, 50122},\n {15202, 15204, 15208},\n {923},\n {951},\n {952, 15232},\n {953},\n {40558, 41240},\n {955},\n {956},\n {33998, 41582},\n {958},\n {41729, 41736},\n {960},\n {3542, 4666, 4764},\n {963},\n {964, 1107},\n {965, 1018},\n {966, 17076},\n {967},\n {969},\n {970},\n {42881, 42884},\n {972},\n {20297, 20305, 20306},\n {19686, 19690},\n {975},\n {976},\n {977, 35332},\n {43339, 50414},\n {979},\n {980},\n {41373, 41376},\n {982},\n {983},\n {984},\n {985},\n {44221, 48291, 48956},\n {35783, 35784},\n {19621, 51088, 51089},\n {4216, 4278},\n {14402, 14406, 14426},\n {991},\n {44786, 44788, 44789},\n {993},\n {916, 1009},\n {44965, 44966},\n {892},\n {38991, 40025, 42946},\n {29565, 32213, 48025},\n {1000},\n {1001},\n {1002},\n {1003, 51390},\n {1004},\n {1005},\n {1006},\n {1007},\n {1008},\n {24223, 40163, 49256},\n {1011},\n {35414, 39499},\n {10860, 10866},\n {1014, 28811},\n {1015},\n {1016},\n {1017},\n {1019},\n {1020},\n {1021},\n {1667, 26292},\n {1023},\n {40437, 40438},\n {45067, 47231},\n {1026},\n {1027},\n {20179, 29810, 50570},\n {25052, 36779},\n {34289, 34290},\n {1031},\n {7940, 8129},\n {1033},\n {1034},\n {968},\n {1036},\n {1037},\n {1038},\n {1039},\n {34098, 50639},\n {1041},\n {1042},\n {687},\n {1044},\n {1045},\n {1047, 1065},\n {1048},\n {1049},\n {1050},\n {1052, 1103},\n {46664, 46667},\n {1054},\n {1055},\n {1056},\n {1057},\n {9239, 26194},\n {1059},\n {44493, 44495},\n {26589, 30488},\n {1062},\n {1063},\n {1064},\n {32386, 41875, 41877},\n {1067},\n {1068},\n {1069},\n {1070},\n {1071},\n {1072},\n {1073},\n {11488, 34161},\n {39688, 39693},\n {1076},\n {1077},\n {3884, 34622, 34635, 34650},\n {1079},\n {46520, 50578},\n {50580, 50581},\n {25460, 47457, 47829, 48292},\n {968},\n {1084},\n {27845, 50583},\n {1086},\n {1087},\n {1088},\n {1089},\n {39890, 39892},\n {1091},\n {44711, 44715, 44719},\n {1093},\n {1094},\n {1095},\n {1096},\n {1097},\n {14413, 14416},\n {968},\n {35883, 35884},\n {1101, 9066},\n {1102},\n {1104},\n {1105},\n {25887, 33820},\n {1108, 3794},\n {1113, 12814, 19466},\n {47253, 47257},\n {1111},\n {1112},\n {1114},\n {40523, 40525},\n {33645, 37795},\n {1117},\n {1118},\n {1119},\n {1120},\n {44218, 44219},\n {1122},\n {1107},\n {1125},\n {19675, 45944, 46481},\n ...]"
     },
     "execution_count": 16,
     "metadata": {},
     "output_type": "execute_result"
    }
   ],
   "source": [
    "# This will store the clusters. Each cluster is a set of nodes (i.e., a set of indices).\n",
    "clusters = []\n",
    "\n",
    "threshold = 0.8\n",
    "\n",
    "print(embeddings_d2v.shape[0])\n",
    "\n",
    "# Iterate over all embeddings\n",
    "for i in range(embeddings_d2v.shape[0]):\n",
    "    # Query the index for the k nearest neighbors of the i-th embedding\n",
    "    D, I = faiss_index_d2v.get_dist_idx(i)\n",
    "\n",
    "    # The indices of the nearest neighbors of the i-th node are in I[0]\n",
    "    neighbours = set(I[0][D[0] < threshold])\n",
    "\n",
    "    if not neighbours:\n",
    "        neighbours = set([i])\n",
    "\n",
    "    # Check if the node is already part of a cluster\n",
    "    for cluster in clusters:\n",
    "        if i in cluster:\n",
    "            # If the node is part of a cluster, we extend this cluster by the new neighbours\n",
    "            cluster.update(neighbours)\n",
    "            break\n",
    "    else:\n",
    "        # If the node was not part of any cluster, we create a new cluster\n",
    "        clusters.append(neighbours)\n",
    "\n",
    "\n",
    "print(len(clusters))\n",
    "clusters"
   ]
  }
 ],
 "metadata": {
  "kernelspec": {
   "display_name": "Python 3 (ipykernel)",
   "language": "python",
   "name": "python3"
  },
  "language_info": {
   "codemirror_mode": {
    "name": "ipython",
    "version": 2
   },
   "file_extension": ".py",
   "mimetype": "text/x-python",
   "name": "python",
   "nbconvert_exporter": "python",
   "pygments_lexer": "ipython2",
   "version": "2.7.6"
  }
 },
 "nbformat": 4,
 "nbformat_minor": 1
}