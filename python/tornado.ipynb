{
 "cells": [
  {
   "cell_type": "code",
   "execution_count": 1,
   "outputs": [],
   "source": [
    "import pandas as pd\n",
    "from pymongo import MongoClient\n",
    "\n",
    "# Connect to db collections\n",
    "client = MongoClient('mongodb://localhost:27017/')\n",
    "db = client['address-clustering']\n",
    "transfers = db['transfers']\n",
    "transactions = db['transactions']"
   ],
   "metadata": {
    "collapsed": false,
    "pycharm": {
     "name": "#%%\n"
    }
   }
  },
  {
   "cell_type": "code",
   "execution_count": 10,
   "outputs": [],
   "source": [
    "mixer_contracts = [\n",
    "    '0xA160cdAB225685dA1d56aa342Ad8841c3b53f291', # 100 Eth\n",
    "    '0x910Cbd523D972eb0a6f4cAe4618aD62622b39DbF', # 10 Eth\n",
    "    '0x47CE0C6eD5B0Ce3d3A51fdb1C52DC66a7c3c2936', # 1 Eth\n",
    "    '0x12D66f87A04A9E220743712cE6d9bB1B5616B8Fc', # 0.1 Eth\n",
    "    '0x23773E65ed146A459791799d01336DB287f25334', # 100k Dai\n",
    "    '0xF60dD140cFf0706bAE9Cd734Ac3ae76AD9eBC32A', # 10k Dai\n",
    "    '0x07687e702b410Fa43f4cB4Af7FA097918ffD2730', # 10k Dai 2\n",
    "    '0xFD8610d20aA15b7B2E3Be39B396a1bC3516c7144', # 1k Dai\n",
    "    '0x178169B423a011fff22B9e3F3abeA13414dDD0F1', # 0.1 wBTC\n",
    "    '0x610B717796ad172B316836AC95a2ffad065CeaB4', # 1 wBTC\n",
    "    '0xbB93e510BbCD0B7beb5A853875f9eC60275CF498', # 10 wBTC\n",
    "    '0x4736dCf1b7A3d580672CcE6E7c65cd5cc9cFBa9D', # 1 USDC\n",
    "    '0xd96f2B1c14Db8458374d9Aca76E26c3D18364307', # 1k USDC\n",
    "    '0xD691F27f38B395864Ea86CfC7253969B409c362d', # 10k USDC\n",
    "    '0x169AD27A470D064DEDE56a2D3ff727986b15D52B', # 100 USDT\n",
    "    '0x0836222F2B2B24A3F36f98668Ed8F0B38D1a872f', # 1k USDT\n",
    "    '0xF67721A2D8F736E75a49FdD7FAd2e31D8676542a', # 10k USDT\n",
    "    '0x9AD122c22B14202B4490eDAf288FDb3C7cb3ff5E', # 100k USDT\n",
    "    '0x22aaA7720ddd5388A3c0A3333430953C68f1849b', # 5k cDai\n",
    "    '0xaEaaC358560e11f52454D997AAFF2c5731B6f8a6', # 5k cUSDC\n",
    "    '0xD21be7248e0197Ee08E0c20D4a96DEBdaC3D20Af', # 5M cDai\n",
    "    '0xBA214C1c1928a32Bffe790263E38B4Af9bFCD659', # 50k cDai\n",
    "    '0x1356c899D8C9467C7f71C195612F8A395aBf2f0a'  # 50k cUSDC\n",
    "]\n",
    "\n",
    "# Convert to lowercase\n",
    "mixer_contracts = [address.lower() for address in mixer_contracts]\n",
    "\n",
    "# Queries\n",
    "tornado_transactions = pd.DataFrame(list(transactions.find({\"$or\": [{\"from\": {\"$in\": mixer_contracts}}, {\"to\": {\"$in\": mixer_contracts}}]})))\n",
    "tornado_transfers = pd.DataFrame(list(transfers.find({\"$or\": [{\"from\": {\"$in\": mixer_contracts}}, {\"to\": {\"$in\": mixer_contracts}}]})))"
   ],
   "metadata": {
    "collapsed": false,
    "pycharm": {
     "name": "#%%\n"
    }
   }
  },
  {
   "cell_type": "code",
   "execution_count": 11,
   "outputs": [
    {
     "data": {
      "text/plain": "                        _id   timeStamp  \\\n0  64b3c66fd2daf924bfea3a84  1645977039   \n1  64b3c66fd2daf924bfea3a85  1645977128   \n2  64b3c66fd2daf924bfea3a8e  1650694964   \n3  64b3c667d2daf924bfe36393  1656513645   \n4  64b3c66ed2daf924bfe930db  1602750994   \n5  64b3c662d2daf924bfdf6cd5  1619556022   \n6  64b3c67dd2daf924bff51526  1621903058   \n7  64b3c666d2daf924bfe2cd68  1611456084   \n\n                                                hash  \\\n0  0x02d3248afbc3c7a0f69a243d7078a026e68740e22219...   \n1  0x0eb4023bd604c8455ba645805a64bfeed02e32de1224...   \n2  0x4c57e8cd48b129792fe0db25636c05a6ddce03387d77...   \n3  0x8cb02e9ae5c27ec0f9346aa60e36662413574c67584b...   \n4  0x5607c93ba2fc0814327af6f53b53923bcc747edc7b2b...   \n5  0xdb5ea6e7a175dda3b9359910aaa5ebf3f70b5e2ab253...   \n6  0x7bce45c79f340555a9c7e66116875cb56ad065a24488...   \n7  0x53e455eb4028499613080fb7bd98048069d898594ff8...   \n\n                                         from  \\\n0  0x07687e702b410fa43f4cb4af7fa097918ffd2730   \n1  0x07687e702b410fa43f4cb4af7fa097918ffd2730   \n2  0x07687e702b410fa43f4cb4af7fa097918ffd2730   \n3  0x169ad27a470d064dede56a2d3ff727986b15d52b   \n4  0x169ad27a470d064dede56a2d3ff727986b15d52b   \n5  0x178169b423a011fff22b9e3f3abea13414ddd0f1   \n6  0xfd8610d20aa15b7b2e3be39b396a1bc3516c7144   \n7  0x1e27c17432abff8e314b421be50c63a42d3e95e0   \n\n                                           to  \\\n0  0x44bc008896076226ba6d5292721239b281ddf970   \n1  0x44bc008896076226ba6d5292721239b281ddf970   \n2  0x44bc008896076226ba6d5292721239b281ddf970   \n3  0x21985c3acb37fd288007b290b5a5bb5e6bbbd690   \n4  0x3f0500b79c099dfe2638d0faf1c03f56b90d12d1   \n5  0x0c40bff248ed5d99d294ceca8826c7924f745134   \n6  0x7a218b62ae9e23aac788979ead8be51258a3cbc5   \n7  0xfd8610d20aa15b7b2e3be39b396a1bc3516c7144   \n\n                              contractAddress         value  nonce  \\\n0  0x6b175474e89094c44da98b954eedeac495271d0f  10000.000000    363   \n1  0x6b175474e89094c44da98b954eedeac495271d0f  10000.000000    364   \n2  0x6b175474e89094c44da98b954eedeac495271d0f  10000.000000    373   \n3  0xdac17f958d2ee523a2206206994597c13d831ec7     54.982380    159   \n4  0xdac17f958d2ee523a2206206994597c13d831ec7     77.187086   2787   \n5  0x2260fac5e5542a773aa44fbcfedf7c193bc2c599      0.098320   3439   \n6  0x6b175474e89094c44da98b954eedeac495271d0f   1000.000000    154   \n7  0x6b175474e89094c44da98b954eedeac495271d0f   1000.000000   2122   \n\n        tokenName     gasPrice  gasUsed chainName  tokenType tokenID isSet  \\\n0  Dai Stablecoin  24921692244   366756  Ethereum         20            to   \n1  Dai Stablecoin  22204166799   349680  Ethereum         20            to   \n2  Dai Stablecoin  24662766495   371328  Ethereum         20            to   \n3      Tether USD  45782936619   440385  Ethereum         20            to   \n4      Tether USD  80000000000   361300  Ethereum         20            to   \n5     Wrapped BTC  58650000000   399260  Ethereum         20            to   \n6  Dai Stablecoin  46000000000   395784  Ethereum         20            to   \n7  Dai Stablecoin  51000000000  1000316  Ethereum         20          from   \n\n                                  userAddress  \n0  0x44bc008896076226ba6d5292721239b281ddf970  \n1  0x44bc008896076226ba6d5292721239b281ddf970  \n2  0x44bc008896076226ba6d5292721239b281ddf970  \n3  0x21985c3acb37fd288007b290b5a5bb5e6bbbd690  \n4  0x3f0500b79c099dfe2638d0faf1c03f56b90d12d1  \n5  0x0c40bff248ed5d99d294ceca8826c7924f745134  \n6  0x7a218b62ae9e23aac788979ead8be51258a3cbc5  \n7  0x1e27c17432abff8e314b421be50c63a42d3e95e0  ",
      "text/html": "<div>\n<style scoped>\n    .dataframe tbody tr th:only-of-type {\n        vertical-align: middle;\n    }\n\n    .dataframe tbody tr th {\n        vertical-align: top;\n    }\n\n    .dataframe thead th {\n        text-align: right;\n    }\n</style>\n<table border=\"1\" class=\"dataframe\">\n  <thead>\n    <tr style=\"text-align: right;\">\n      <th></th>\n      <th>_id</th>\n      <th>timeStamp</th>\n      <th>hash</th>\n      <th>from</th>\n      <th>to</th>\n      <th>contractAddress</th>\n      <th>value</th>\n      <th>nonce</th>\n      <th>tokenName</th>\n      <th>gasPrice</th>\n      <th>gasUsed</th>\n      <th>chainName</th>\n      <th>tokenType</th>\n      <th>tokenID</th>\n      <th>isSet</th>\n      <th>userAddress</th>\n    </tr>\n  </thead>\n  <tbody>\n    <tr>\n      <th>0</th>\n      <td>64b3c66fd2daf924bfea3a84</td>\n      <td>1645977039</td>\n      <td>0x02d3248afbc3c7a0f69a243d7078a026e68740e22219...</td>\n      <td>0x07687e702b410fa43f4cb4af7fa097918ffd2730</td>\n      <td>0x44bc008896076226ba6d5292721239b281ddf970</td>\n      <td>0x6b175474e89094c44da98b954eedeac495271d0f</td>\n      <td>10000.000000</td>\n      <td>363</td>\n      <td>Dai Stablecoin</td>\n      <td>24921692244</td>\n      <td>366756</td>\n      <td>Ethereum</td>\n      <td>20</td>\n      <td></td>\n      <td>to</td>\n      <td>0x44bc008896076226ba6d5292721239b281ddf970</td>\n    </tr>\n    <tr>\n      <th>1</th>\n      <td>64b3c66fd2daf924bfea3a85</td>\n      <td>1645977128</td>\n      <td>0x0eb4023bd604c8455ba645805a64bfeed02e32de1224...</td>\n      <td>0x07687e702b410fa43f4cb4af7fa097918ffd2730</td>\n      <td>0x44bc008896076226ba6d5292721239b281ddf970</td>\n      <td>0x6b175474e89094c44da98b954eedeac495271d0f</td>\n      <td>10000.000000</td>\n      <td>364</td>\n      <td>Dai Stablecoin</td>\n      <td>22204166799</td>\n      <td>349680</td>\n      <td>Ethereum</td>\n      <td>20</td>\n      <td></td>\n      <td>to</td>\n      <td>0x44bc008896076226ba6d5292721239b281ddf970</td>\n    </tr>\n    <tr>\n      <th>2</th>\n      <td>64b3c66fd2daf924bfea3a8e</td>\n      <td>1650694964</td>\n      <td>0x4c57e8cd48b129792fe0db25636c05a6ddce03387d77...</td>\n      <td>0x07687e702b410fa43f4cb4af7fa097918ffd2730</td>\n      <td>0x44bc008896076226ba6d5292721239b281ddf970</td>\n      <td>0x6b175474e89094c44da98b954eedeac495271d0f</td>\n      <td>10000.000000</td>\n      <td>373</td>\n      <td>Dai Stablecoin</td>\n      <td>24662766495</td>\n      <td>371328</td>\n      <td>Ethereum</td>\n      <td>20</td>\n      <td></td>\n      <td>to</td>\n      <td>0x44bc008896076226ba6d5292721239b281ddf970</td>\n    </tr>\n    <tr>\n      <th>3</th>\n      <td>64b3c667d2daf924bfe36393</td>\n      <td>1656513645</td>\n      <td>0x8cb02e9ae5c27ec0f9346aa60e36662413574c67584b...</td>\n      <td>0x169ad27a470d064dede56a2d3ff727986b15d52b</td>\n      <td>0x21985c3acb37fd288007b290b5a5bb5e6bbbd690</td>\n      <td>0xdac17f958d2ee523a2206206994597c13d831ec7</td>\n      <td>54.982380</td>\n      <td>159</td>\n      <td>Tether USD</td>\n      <td>45782936619</td>\n      <td>440385</td>\n      <td>Ethereum</td>\n      <td>20</td>\n      <td></td>\n      <td>to</td>\n      <td>0x21985c3acb37fd288007b290b5a5bb5e6bbbd690</td>\n    </tr>\n    <tr>\n      <th>4</th>\n      <td>64b3c66ed2daf924bfe930db</td>\n      <td>1602750994</td>\n      <td>0x5607c93ba2fc0814327af6f53b53923bcc747edc7b2b...</td>\n      <td>0x169ad27a470d064dede56a2d3ff727986b15d52b</td>\n      <td>0x3f0500b79c099dfe2638d0faf1c03f56b90d12d1</td>\n      <td>0xdac17f958d2ee523a2206206994597c13d831ec7</td>\n      <td>77.187086</td>\n      <td>2787</td>\n      <td>Tether USD</td>\n      <td>80000000000</td>\n      <td>361300</td>\n      <td>Ethereum</td>\n      <td>20</td>\n      <td></td>\n      <td>to</td>\n      <td>0x3f0500b79c099dfe2638d0faf1c03f56b90d12d1</td>\n    </tr>\n    <tr>\n      <th>5</th>\n      <td>64b3c662d2daf924bfdf6cd5</td>\n      <td>1619556022</td>\n      <td>0xdb5ea6e7a175dda3b9359910aaa5ebf3f70b5e2ab253...</td>\n      <td>0x178169b423a011fff22b9e3f3abea13414ddd0f1</td>\n      <td>0x0c40bff248ed5d99d294ceca8826c7924f745134</td>\n      <td>0x2260fac5e5542a773aa44fbcfedf7c193bc2c599</td>\n      <td>0.098320</td>\n      <td>3439</td>\n      <td>Wrapped BTC</td>\n      <td>58650000000</td>\n      <td>399260</td>\n      <td>Ethereum</td>\n      <td>20</td>\n      <td></td>\n      <td>to</td>\n      <td>0x0c40bff248ed5d99d294ceca8826c7924f745134</td>\n    </tr>\n    <tr>\n      <th>6</th>\n      <td>64b3c67dd2daf924bff51526</td>\n      <td>1621903058</td>\n      <td>0x7bce45c79f340555a9c7e66116875cb56ad065a24488...</td>\n      <td>0xfd8610d20aa15b7b2e3be39b396a1bc3516c7144</td>\n      <td>0x7a218b62ae9e23aac788979ead8be51258a3cbc5</td>\n      <td>0x6b175474e89094c44da98b954eedeac495271d0f</td>\n      <td>1000.000000</td>\n      <td>154</td>\n      <td>Dai Stablecoin</td>\n      <td>46000000000</td>\n      <td>395784</td>\n      <td>Ethereum</td>\n      <td>20</td>\n      <td></td>\n      <td>to</td>\n      <td>0x7a218b62ae9e23aac788979ead8be51258a3cbc5</td>\n    </tr>\n    <tr>\n      <th>7</th>\n      <td>64b3c666d2daf924bfe2cd68</td>\n      <td>1611456084</td>\n      <td>0x53e455eb4028499613080fb7bd98048069d898594ff8...</td>\n      <td>0x1e27c17432abff8e314b421be50c63a42d3e95e0</td>\n      <td>0xfd8610d20aa15b7b2e3be39b396a1bc3516c7144</td>\n      <td>0x6b175474e89094c44da98b954eedeac495271d0f</td>\n      <td>1000.000000</td>\n      <td>2122</td>\n      <td>Dai Stablecoin</td>\n      <td>51000000000</td>\n      <td>1000316</td>\n      <td>Ethereum</td>\n      <td>20</td>\n      <td></td>\n      <td>from</td>\n      <td>0x1e27c17432abff8e314b421be50c63a42d3e95e0</td>\n    </tr>\n  </tbody>\n</table>\n</div>"
     },
     "execution_count": 11,
     "metadata": {},
     "output_type": "execute_result"
    }
   ],
   "source": [
    "tornado_transfers"
   ],
   "metadata": {
    "collapsed": false,
    "pycharm": {
     "name": "#%%\n"
    }
   }
  },
  {
   "cell_type": "code",
   "execution_count": 12,
   "outputs": [
    {
     "data": {
      "text/plain": "                         _id  \\\n0   64b3cb424aab629717365197   \n1   64b3cb614aab629717454167   \n2   64b3cb624aab62971745c7bf   \n3   64b3cb744aab6297174e589f   \n4   64b3cb754aab6297174ec1d0   \n..                       ...   \n69  64b3cb514aab6297173d5e93   \n70  64b3cb514aab6297173d5e94   \n71  64b3cb624aab62971745c62a   \n72  64b3cb624aab62971745c62b   \n73  64b3cb614aab629717456a8c   \n\n                                                 hash  \\\n0   0xab9112a0bfd7ee489f32ad2eace95cd9111da9091008...   \n1   0xb96895d541a818232300808230ff202f8e1217609f10...   \n2   0x282777a6664cf1d9d3f1695bed549f7a62ec57411350...   \n3   0xc880becfb7f3a939765f1cb650cd7b624cdb0a046a22...   \n4   0xd9eeeec262897f88c4323013ca927cb3cb94e7f22347...   \n..                                                ...   \n69  0x67f3c5382639041fa17436d968a30bf3ee587169f92b...   \n70  0x7b58fe7198ce2aac14be10fe0a29e4d7869e66a22b2b...   \n71  0x0fbe7a369735d17181d7f257bd92c17b6f9cb375d37c...   \n72  0x2ec2c9bcb2552776675f1b618bbf81738d57d716af53...   \n73  0x53e455eb4028499613080fb7bd98048069d898594ff8...   \n\n                                          from  \\\n0   0x007f44362400de9f364efa919ff84c6ea9e210d5   \n1   0x1dd5df3b2d78271039f3dc39eb9350ecc31ca9dc   \n2   0x1ec594a869dc67d78fabc33963d3c6a0ab017dd6   \n3   0x2fef65e4d69a38bf0dd074079f367cdf176ec0de   \n4   0x30602250c5f1fcba5407e99b1dfaab992ea4ffd2   \n..                                         ...   \n69  0x0d779d67a428457cabec145a0f94703d14cd496b   \n70  0x0d779d67a428457cabec145a0f94703d14cd496b   \n71  0x1ec594a869dc67d78fabc33963d3c6a0ab017dd6   \n72  0x1ec594a869dc67d78fabc33963d3c6a0ab017dd6   \n73  0x1e27c17432abff8e314b421be50c63a42d3e95e0   \n\n                                            to   timeStamp   nonce  \\\n0   0x12d66f87a04a9e220743712ce6d9bb1b5616b8fc  1597667681   171.0   \n1   0x12d66f87a04a9e220743712ce6d9bb1b5616b8fc  1605348173    39.0   \n2   0x12d66f87a04a9e220743712ce6d9bb1b5616b8fc  1602676051   827.0   \n3   0x12d66f87a04a9e220743712ce6d9bb1b5616b8fc  1603804997  7601.0   \n4   0x12d66f87a04a9e220743712ce6d9bb1b5616b8fc  1583900510  4830.0   \n..                                         ...         ...     ...   \n69  0xa160cdab225685da1d56aa342ad8841c3b53f291  1604015758   418.0   \n70  0xa160cdab225685da1d56aa342ad8841c3b53f291  1604015815   419.0   \n71  0xa160cdab225685da1d56aa342ad8841c3b53f291  1597659277   428.0   \n72  0xa160cdab225685da1d56aa342ad8841c3b53f291  1597659377   429.0   \n73  0xfd8610d20aa15b7b2e3be39b396a1bc3516c7144  1611456084  2122.0   \n\n           value      gasPrice  \\\n0   1.000000e+17  112000000000   \n1   1.000000e+17   23000000000   \n2   1.000000e+17   33000000000   \n3   1.000000e+17   45000000000   \n4   1.000000e+17   13000000000   \n..           ...           ...   \n69  1.000000e+20   39000000000   \n70  1.000000e+20   42000000000   \n71  1.000000e+20   92000000000   \n72  1.000000e+20   97000000000   \n73  0.000000e+00   51000000000   \n\n                                                input  gasUsed  \\\n0   0xb214faa52606de7c18da92872e783b4cf27c757334ca...   966887   \n1   0xb214faa50bf6fe5e24e3223b7e2cec17a028597694c1...   978703   \n2   0xb214faa512dd5f64b38ff2414a7e7cf5219e5ff98ec6...   978703   \n3   0xb214faa50205af153fb0c6e1818a2e396450ed9baf14...   972795   \n4   0xb214faa5068a8346b266fcdfd7a9830a2409eac71681...   984611   \n..                                                ...      ...   \n69  0xb214faa50ee0938c88331c0a65ba0fdb22dc7dbfd029...   972795   \n70  0xb214faa500180f0ef097f60976879fa2fd22255c6670...   966875   \n71  0xb214faa512f433f52be2765a40e0aa112d61e5aac657...   972795   \n72  0xb214faa51f398166a6a8deefda660708849c84a70882...   966887   \n73  0xb214faa508dc6dd11803393ae14de4e2406600484b9f...  1000316   \n\n            functionName chainName  \n0   deposit(bytes32 _id)  Ethereum  \n1   deposit(bytes32 _id)  Ethereum  \n2   deposit(bytes32 _id)  Ethereum  \n3   deposit(bytes32 _id)  Ethereum  \n4   deposit(bytes32 _id)  Ethereum  \n..                   ...       ...  \n69  deposit(bytes32 _id)  Ethereum  \n70  deposit(bytes32 _id)  Ethereum  \n71  deposit(bytes32 _id)  Ethereum  \n72  deposit(bytes32 _id)  Ethereum  \n73  deposit(bytes32 _id)  Ethereum  \n\n[74 rows x 12 columns]",
      "text/html": "<div>\n<style scoped>\n    .dataframe tbody tr th:only-of-type {\n        vertical-align: middle;\n    }\n\n    .dataframe tbody tr th {\n        vertical-align: top;\n    }\n\n    .dataframe thead th {\n        text-align: right;\n    }\n</style>\n<table border=\"1\" class=\"dataframe\">\n  <thead>\n    <tr style=\"text-align: right;\">\n      <th></th>\n      <th>_id</th>\n      <th>hash</th>\n      <th>from</th>\n      <th>to</th>\n      <th>timeStamp</th>\n      <th>nonce</th>\n      <th>value</th>\n      <th>gasPrice</th>\n      <th>input</th>\n      <th>gasUsed</th>\n      <th>functionName</th>\n      <th>chainName</th>\n    </tr>\n  </thead>\n  <tbody>\n    <tr>\n      <th>0</th>\n      <td>64b3cb424aab629717365197</td>\n      <td>0xab9112a0bfd7ee489f32ad2eace95cd9111da9091008...</td>\n      <td>0x007f44362400de9f364efa919ff84c6ea9e210d5</td>\n      <td>0x12d66f87a04a9e220743712ce6d9bb1b5616b8fc</td>\n      <td>1597667681</td>\n      <td>171.0</td>\n      <td>1.000000e+17</td>\n      <td>112000000000</td>\n      <td>0xb214faa52606de7c18da92872e783b4cf27c757334ca...</td>\n      <td>966887</td>\n      <td>deposit(bytes32 _id)</td>\n      <td>Ethereum</td>\n    </tr>\n    <tr>\n      <th>1</th>\n      <td>64b3cb614aab629717454167</td>\n      <td>0xb96895d541a818232300808230ff202f8e1217609f10...</td>\n      <td>0x1dd5df3b2d78271039f3dc39eb9350ecc31ca9dc</td>\n      <td>0x12d66f87a04a9e220743712ce6d9bb1b5616b8fc</td>\n      <td>1605348173</td>\n      <td>39.0</td>\n      <td>1.000000e+17</td>\n      <td>23000000000</td>\n      <td>0xb214faa50bf6fe5e24e3223b7e2cec17a028597694c1...</td>\n      <td>978703</td>\n      <td>deposit(bytes32 _id)</td>\n      <td>Ethereum</td>\n    </tr>\n    <tr>\n      <th>2</th>\n      <td>64b3cb624aab62971745c7bf</td>\n      <td>0x282777a6664cf1d9d3f1695bed549f7a62ec57411350...</td>\n      <td>0x1ec594a869dc67d78fabc33963d3c6a0ab017dd6</td>\n      <td>0x12d66f87a04a9e220743712ce6d9bb1b5616b8fc</td>\n      <td>1602676051</td>\n      <td>827.0</td>\n      <td>1.000000e+17</td>\n      <td>33000000000</td>\n      <td>0xb214faa512dd5f64b38ff2414a7e7cf5219e5ff98ec6...</td>\n      <td>978703</td>\n      <td>deposit(bytes32 _id)</td>\n      <td>Ethereum</td>\n    </tr>\n    <tr>\n      <th>3</th>\n      <td>64b3cb744aab6297174e589f</td>\n      <td>0xc880becfb7f3a939765f1cb650cd7b624cdb0a046a22...</td>\n      <td>0x2fef65e4d69a38bf0dd074079f367cdf176ec0de</td>\n      <td>0x12d66f87a04a9e220743712ce6d9bb1b5616b8fc</td>\n      <td>1603804997</td>\n      <td>7601.0</td>\n      <td>1.000000e+17</td>\n      <td>45000000000</td>\n      <td>0xb214faa50205af153fb0c6e1818a2e396450ed9baf14...</td>\n      <td>972795</td>\n      <td>deposit(bytes32 _id)</td>\n      <td>Ethereum</td>\n    </tr>\n    <tr>\n      <th>4</th>\n      <td>64b3cb754aab6297174ec1d0</td>\n      <td>0xd9eeeec262897f88c4323013ca927cb3cb94e7f22347...</td>\n      <td>0x30602250c5f1fcba5407e99b1dfaab992ea4ffd2</td>\n      <td>0x12d66f87a04a9e220743712ce6d9bb1b5616b8fc</td>\n      <td>1583900510</td>\n      <td>4830.0</td>\n      <td>1.000000e+17</td>\n      <td>13000000000</td>\n      <td>0xb214faa5068a8346b266fcdfd7a9830a2409eac71681...</td>\n      <td>984611</td>\n      <td>deposit(bytes32 _id)</td>\n      <td>Ethereum</td>\n    </tr>\n    <tr>\n      <th>...</th>\n      <td>...</td>\n      <td>...</td>\n      <td>...</td>\n      <td>...</td>\n      <td>...</td>\n      <td>...</td>\n      <td>...</td>\n      <td>...</td>\n      <td>...</td>\n      <td>...</td>\n      <td>...</td>\n      <td>...</td>\n    </tr>\n    <tr>\n      <th>69</th>\n      <td>64b3cb514aab6297173d5e93</td>\n      <td>0x67f3c5382639041fa17436d968a30bf3ee587169f92b...</td>\n      <td>0x0d779d67a428457cabec145a0f94703d14cd496b</td>\n      <td>0xa160cdab225685da1d56aa342ad8841c3b53f291</td>\n      <td>1604015758</td>\n      <td>418.0</td>\n      <td>1.000000e+20</td>\n      <td>39000000000</td>\n      <td>0xb214faa50ee0938c88331c0a65ba0fdb22dc7dbfd029...</td>\n      <td>972795</td>\n      <td>deposit(bytes32 _id)</td>\n      <td>Ethereum</td>\n    </tr>\n    <tr>\n      <th>70</th>\n      <td>64b3cb514aab6297173d5e94</td>\n      <td>0x7b58fe7198ce2aac14be10fe0a29e4d7869e66a22b2b...</td>\n      <td>0x0d779d67a428457cabec145a0f94703d14cd496b</td>\n      <td>0xa160cdab225685da1d56aa342ad8841c3b53f291</td>\n      <td>1604015815</td>\n      <td>419.0</td>\n      <td>1.000000e+20</td>\n      <td>42000000000</td>\n      <td>0xb214faa500180f0ef097f60976879fa2fd22255c6670...</td>\n      <td>966875</td>\n      <td>deposit(bytes32 _id)</td>\n      <td>Ethereum</td>\n    </tr>\n    <tr>\n      <th>71</th>\n      <td>64b3cb624aab62971745c62a</td>\n      <td>0x0fbe7a369735d17181d7f257bd92c17b6f9cb375d37c...</td>\n      <td>0x1ec594a869dc67d78fabc33963d3c6a0ab017dd6</td>\n      <td>0xa160cdab225685da1d56aa342ad8841c3b53f291</td>\n      <td>1597659277</td>\n      <td>428.0</td>\n      <td>1.000000e+20</td>\n      <td>92000000000</td>\n      <td>0xb214faa512f433f52be2765a40e0aa112d61e5aac657...</td>\n      <td>972795</td>\n      <td>deposit(bytes32 _id)</td>\n      <td>Ethereum</td>\n    </tr>\n    <tr>\n      <th>72</th>\n      <td>64b3cb624aab62971745c62b</td>\n      <td>0x2ec2c9bcb2552776675f1b618bbf81738d57d716af53...</td>\n      <td>0x1ec594a869dc67d78fabc33963d3c6a0ab017dd6</td>\n      <td>0xa160cdab225685da1d56aa342ad8841c3b53f291</td>\n      <td>1597659377</td>\n      <td>429.0</td>\n      <td>1.000000e+20</td>\n      <td>97000000000</td>\n      <td>0xb214faa51f398166a6a8deefda660708849c84a70882...</td>\n      <td>966887</td>\n      <td>deposit(bytes32 _id)</td>\n      <td>Ethereum</td>\n    </tr>\n    <tr>\n      <th>73</th>\n      <td>64b3cb614aab629717456a8c</td>\n      <td>0x53e455eb4028499613080fb7bd98048069d898594ff8...</td>\n      <td>0x1e27c17432abff8e314b421be50c63a42d3e95e0</td>\n      <td>0xfd8610d20aa15b7b2e3be39b396a1bc3516c7144</td>\n      <td>1611456084</td>\n      <td>2122.0</td>\n      <td>0.000000e+00</td>\n      <td>51000000000</td>\n      <td>0xb214faa508dc6dd11803393ae14de4e2406600484b9f...</td>\n      <td>1000316</td>\n      <td>deposit(bytes32 _id)</td>\n      <td>Ethereum</td>\n    </tr>\n  </tbody>\n</table>\n<p>74 rows × 12 columns</p>\n</div>"
     },
     "execution_count": 12,
     "metadata": {},
     "output_type": "execute_result"
    }
   ],
   "source": [
    "tornado_transactions"
   ],
   "metadata": {
    "collapsed": false,
    "pycharm": {
     "name": "#%%\n"
    }
   }
  }
 ],
 "metadata": {
  "kernelspec": {
   "display_name": "Python 3",
   "language": "python",
   "name": "python3"
  },
  "language_info": {
   "codemirror_mode": {
    "name": "ipython",
    "version": 2
   },
   "file_extension": ".py",
   "mimetype": "text/x-python",
   "name": "python",
   "nbconvert_exporter": "python",
   "pygments_lexer": "ipython2",
   "version": "2.7.6"
  }
 },
 "nbformat": 4,
 "nbformat_minor": 0
}