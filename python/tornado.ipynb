{
 "cells": [
  {
   "cell_type": "code",
   "execution_count": null,
   "outputs": [],
   "source": [
    "import pandas as pd\n",
    "from pymongo import MongoClient"
   ],
   "metadata": {
    "collapsed": false,
    "pycharm": {
     "name": "#%%\n"
    }
   }
  },
  {
   "cell_type": "code",
   "execution_count": 13,
   "outputs": [
    {
     "data": {
      "text/plain": "                                                 pool\ncontract_address                                     \n0xa160cdab225685da1d56aa342ad8841c3b53f291    100 Eth\n0x910cbd523d972eb0a6f4cae4618ad62622b39dbf     10 Eth\n0x47ce0c6ed5b0ce3d3a51fdb1c52dc66a7c3c2936      1 Eth\n0x12d66f87a04a9e220743712ce6d9bb1b5616b8fc    0.1 Eth\n0x23773e65ed146a459791799d01336db287f25334   100k Dai\n0x07687e702b410fa43f4cb4af7fa097918ffd2730    10k Dai\n0xfd8610d20aa15b7b2e3be39b396a1bc3516c7144     1k Dai\n0xd4b88df4d29f5cedd6857912842cff3b20c8cfa3    100 Dai\n0xbb93e510bbcd0b7beb5a853875f9ec60275cf498    10 wBTC\n0x610b717796ad172b316836ac95a2ffad065ceab4     1 wBTC\n0x178169b423a011fff22b9e3f3abea13414ddd0f1   0.1 wBTC\n0xd691f27f38b395864ea86cfc7253969b409c362d   10k USDC\n0xd96f2b1c14db8458374d9aca76e26c3d18364307   100 USDC\n0x4736dcf1b7a3d580672cce6e7c65cd5cc9cfba9d    1k USDC\n0x9ad122c22b14202b4490edaf288fdb3c7cb3ff5e  100k USDT\n0xf67721a2d8f736e75a49fdd7fad2e31d8676542a   10k USDT\n0x0836222f2b2b24a3f36f98668ed8f0b38d1a872f    1k USDT\n0x169ad27a470d064dede56a2d3ff727986b15d52b   100 USDT\n0xd21be7248e0197ee08e0c20d4a96debdac3d20af    5M cDai\n0x2717c5e28cf931547b621a5dddb772ab6a35b701  500k cDai\n0xba214c1c1928a32bffe790263e38b4af9bfcd659   50k cDai\n0x22aaa7720ddd5388a3c0a3333430953c68f1849b    5k cDai\n0x1356c899d8c9467c7f71c195612f8a395abf2f0a  50k cUSDC\n0xaeaac358560e11f52454d997aaff2c5731b6f8a6   5k cUSDC",
      "text/html": "<div>\n<style scoped>\n    .dataframe tbody tr th:only-of-type {\n        vertical-align: middle;\n    }\n\n    .dataframe tbody tr th {\n        vertical-align: top;\n    }\n\n    .dataframe thead th {\n        text-align: right;\n    }\n</style>\n<table border=\"1\" class=\"dataframe\">\n  <thead>\n    <tr style=\"text-align: right;\">\n      <th></th>\n      <th>pool</th>\n    </tr>\n    <tr>\n      <th>contract_address</th>\n      <th></th>\n    </tr>\n  </thead>\n  <tbody>\n    <tr>\n      <th>0xa160cdab225685da1d56aa342ad8841c3b53f291</th>\n      <td>100 Eth</td>\n    </tr>\n    <tr>\n      <th>0x910cbd523d972eb0a6f4cae4618ad62622b39dbf</th>\n      <td>10 Eth</td>\n    </tr>\n    <tr>\n      <th>0x47ce0c6ed5b0ce3d3a51fdb1c52dc66a7c3c2936</th>\n      <td>1 Eth</td>\n    </tr>\n    <tr>\n      <th>0x12d66f87a04a9e220743712ce6d9bb1b5616b8fc</th>\n      <td>0.1 Eth</td>\n    </tr>\n    <tr>\n      <th>0x23773e65ed146a459791799d01336db287f25334</th>\n      <td>100k Dai</td>\n    </tr>\n    <tr>\n      <th>0x07687e702b410fa43f4cb4af7fa097918ffd2730</th>\n      <td>10k Dai</td>\n    </tr>\n    <tr>\n      <th>0xfd8610d20aa15b7b2e3be39b396a1bc3516c7144</th>\n      <td>1k Dai</td>\n    </tr>\n    <tr>\n      <th>0xd4b88df4d29f5cedd6857912842cff3b20c8cfa3</th>\n      <td>100 Dai</td>\n    </tr>\n    <tr>\n      <th>0xbb93e510bbcd0b7beb5a853875f9ec60275cf498</th>\n      <td>10 wBTC</td>\n    </tr>\n    <tr>\n      <th>0x610b717796ad172b316836ac95a2ffad065ceab4</th>\n      <td>1 wBTC</td>\n    </tr>\n    <tr>\n      <th>0x178169b423a011fff22b9e3f3abea13414ddd0f1</th>\n      <td>0.1 wBTC</td>\n    </tr>\n    <tr>\n      <th>0xd691f27f38b395864ea86cfc7253969b409c362d</th>\n      <td>10k USDC</td>\n    </tr>\n    <tr>\n      <th>0xd96f2b1c14db8458374d9aca76e26c3d18364307</th>\n      <td>100 USDC</td>\n    </tr>\n    <tr>\n      <th>0x4736dcf1b7a3d580672cce6e7c65cd5cc9cfba9d</th>\n      <td>1k USDC</td>\n    </tr>\n    <tr>\n      <th>0x9ad122c22b14202b4490edaf288fdb3c7cb3ff5e</th>\n      <td>100k USDT</td>\n    </tr>\n    <tr>\n      <th>0xf67721a2d8f736e75a49fdd7fad2e31d8676542a</th>\n      <td>10k USDT</td>\n    </tr>\n    <tr>\n      <th>0x0836222f2b2b24a3f36f98668ed8f0b38d1a872f</th>\n      <td>1k USDT</td>\n    </tr>\n    <tr>\n      <th>0x169ad27a470d064dede56a2d3ff727986b15d52b</th>\n      <td>100 USDT</td>\n    </tr>\n    <tr>\n      <th>0xd21be7248e0197ee08e0c20d4a96debdac3d20af</th>\n      <td>5M cDai</td>\n    </tr>\n    <tr>\n      <th>0x2717c5e28cf931547b621a5dddb772ab6a35b701</th>\n      <td>500k cDai</td>\n    </tr>\n    <tr>\n      <th>0xba214c1c1928a32bffe790263e38b4af9bfcd659</th>\n      <td>50k cDai</td>\n    </tr>\n    <tr>\n      <th>0x22aaa7720ddd5388a3c0a3333430953c68f1849b</th>\n      <td>5k cDai</td>\n    </tr>\n    <tr>\n      <th>0x1356c899d8c9467c7f71c195612f8a395abf2f0a</th>\n      <td>50k cUSDC</td>\n    </tr>\n    <tr>\n      <th>0xaeaac358560e11f52454d997aaff2c5731b6f8a6</th>\n      <td>5k cUSDC</td>\n    </tr>\n  </tbody>\n</table>\n</div>"
     },
     "execution_count": 13,
     "metadata": {},
     "output_type": "execute_result"
    }
   ],
   "source": [
    "mixer_contracts = [\n",
    "    ('0xA160cdAB225685dA1d56aa342Ad8841c3b53f291', '100 Eth'),\n",
    "    ('0x910Cbd523D972eb0a6f4cAe4618aD62622b39DbF', '10 Eth'),\n",
    "    ('0x47CE0C6eD5B0Ce3d3A51fdb1C52DC66a7c3c2936', '1 Eth'),\n",
    "    ('0x12D66f87A04A9E220743712cE6d9bB1B5616B8Fc', '0.1 Eth'),\n",
    "    ('0x23773E65ed146A459791799d01336DB287f25334', '100k Dai'),\n",
    "    ('0x07687e702b410Fa43f4cB4Af7FA097918ffD2730', '10k Dai'),\n",
    "    ('0xFD8610d20aA15b7B2E3Be39B396a1bC3516c7144', '1k Dai'),\n",
    "    ('0xd4b88df4d29f5cedd6857912842cff3b20c8cfa3', '100 Dai'),\n",
    "    ('0xbB93e510BbCD0B7beb5A853875f9eC60275CF498', '10 wBTC'),\n",
    "    ('0x610B717796ad172B316836AC95a2ffad065CeaB4', '1 wBTC'),\n",
    "    ('0x178169B423a011fff22B9e3F3abeA13414dDD0F1', '0.1 wBTC'),\n",
    "    ('0xD691F27f38B395864Ea86CfC7253969B409c362d', '10k USDC'),\n",
    "    ('0xd96f2B1c14Db8458374d9Aca76E26c3D18364307', '100 USDC'),\n",
    "    ('0x4736dCf1b7A3d580672CcE6E7c65cd5cc9cFBa9D', '1k USDC'),\n",
    "    ('0x9AD122c22B14202B4490eDAf288FDb3C7cb3ff5E', '100k USDT'),\n",
    "    ('0xF67721A2D8F736E75a49FdD7FAd2e31D8676542a', '10k USDT'),\n",
    "    ('0x0836222F2B2B24A3F36f98668Ed8F0B38D1a872f', '1k USDT'),\n",
    "    ('0x169AD27A470D064DEDE56a2D3ff727986b15D52B', '100 USDT'),\n",
    "    ('0xD21be7248e0197Ee08E0c20D4a96DEBdaC3D20Af', '5M cDai'),\n",
    "    ('0x2717c5e28cf931547b621a5dddb772ab6a35b701', '500k cDai'),\n",
    "    ('0xBA214C1c1928a32Bffe790263E38B4Af9bFCD659', '50k cDai'),\n",
    "    ('0x22aaA7720ddd5388A3c0A3333430953C68f1849b', '5k cDai'),\n",
    "    ('0x1356c899D8C9467C7f71C195612F8A395aBf2f0a', '50k cUSDC'),\n",
    "    ('0xaEaaC358560e11f52454D997AAFF2c5731B6f8a6', '5k cUSDC')\n",
    "]\n",
    "\n",
    "df = pd.DataFrame(mixer_contracts, columns=['contract_address', 'pool'])\n",
    "df['contract_address'] = df['contract_address'].str.lower()\n",
    "df.set_index('contract_address', inplace=True)\n",
    "df.to_csv('../data/tornado-pools.csv')\n",
    "df"
   ],
   "metadata": {
    "collapsed": false,
    "pycharm": {
     "name": "#%%\n"
    }
   }
  },
  {
   "cell_type": "code",
   "execution_count": 24,
   "outputs": [
    {
     "data": {
      "text/plain": "                                                 hash  \\\n0   0xab9112a0bfd7ee489f32ad2eace95cd9111da9091008...   \n1   0xb96895d541a818232300808230ff202f8e1217609f10...   \n2   0x282777a6664cf1d9d3f1695bed549f7a62ec57411350...   \n3   0xc880becfb7f3a939765f1cb650cd7b624cdb0a046a22...   \n4   0xd9eeeec262897f88c4323013ca927cb3cb94e7f22347...   \n..                                                ...   \n4   0x5607c93ba2fc0814327af6f53b53923bcc747edc7b2b...   \n5   0xdb5ea6e7a175dda3b9359910aaa5ebf3f70b5e2ab253...   \n6   0x7bce45c79f340555a9c7e66116875cb56ad065a24488...   \n7   0x9b7a76858cc9ca49de2cb273e4a2e635e4b652019acf...   \n8   0x53e455eb4028499613080fb7bd98048069d898594ff8...   \n\n                                          from  \\\n0   0x007f44362400de9f364efa919ff84c6ea9e210d5   \n1   0x1dd5df3b2d78271039f3dc39eb9350ecc31ca9dc   \n2   0x1ec594a869dc67d78fabc33963d3c6a0ab017dd6   \n3   0x2fef65e4d69a38bf0dd074079f367cdf176ec0de   \n4   0x30602250c5f1fcba5407e99b1dfaab992ea4ffd2   \n..                                         ...   \n4   0x169ad27a470d064dede56a2d3ff727986b15d52b   \n5   0x178169b423a011fff22b9e3f3abea13414ddd0f1   \n6   0xfd8610d20aa15b7b2e3be39b396a1bc3516c7144   \n7   0x62051bfd3a4f7039a849142e6e5ea172cbda5949   \n8   0x1e27c17432abff8e314b421be50c63a42d3e95e0   \n\n                                            to   timeStamp   nonce  \\\n0   0x12d66f87a04a9e220743712ce6d9bb1b5616b8fc  1597667681   171.0   \n1   0x12d66f87a04a9e220743712ce6d9bb1b5616b8fc  1605348173    39.0   \n2   0x12d66f87a04a9e220743712ce6d9bb1b5616b8fc  1602676051   827.0   \n3   0x12d66f87a04a9e220743712ce6d9bb1b5616b8fc  1603804997  7601.0   \n4   0x12d66f87a04a9e220743712ce6d9bb1b5616b8fc  1583900510  4830.0   \n..                                         ...         ...     ...   \n4   0x3f0500b79c099dfe2638d0faf1c03f56b90d12d1  1602750994  2787.0   \n5   0x0c40bff248ed5d99d294ceca8826c7924f745134  1619556022  3439.0   \n6   0x7a218b62ae9e23aac788979ead8be51258a3cbc5  1621903058   154.0   \n7   0xd4b88df4d29f5cedd6857912842cff3b20c8cfa3  1598285598   212.0   \n8   0xfd8610d20aa15b7b2e3be39b396a1bc3516c7144  1611456084  2122.0   \n\n           value      gasPrice  \\\n0   1.000000e+17  112000000000   \n1   1.000000e+17   23000000000   \n2   1.000000e+17   33000000000   \n3   1.000000e+17   45000000000   \n4   1.000000e+17   13000000000   \n..           ...           ...   \n4   7.718709e+01   80000000000   \n5   9.831973e-02   58650000000   \n6   1.000000e+03   46000000000   \n7   1.000000e+02  128000000000   \n8   1.000000e+03   51000000000   \n\n                                                input  gasUsed  \\\n0   0xb214faa52606de7c18da92872e783b4cf27c757334ca...   966887   \n1   0xb214faa50bf6fe5e24e3223b7e2cec17a028597694c1...   978703   \n2   0xb214faa512dd5f64b38ff2414a7e7cf5219e5ff98ec6...   978703   \n3   0xb214faa50205af153fb0c6e1818a2e396450ed9baf14...   972795   \n4   0xb214faa5068a8346b266fcdfd7a9830a2409eac71681...   984611   \n..                                                ...      ...   \n4                                                 NaN   361300   \n5                                                 NaN   399260   \n6                                                 NaN   395784   \n7                                                 NaN  1003512   \n8                                                 NaN  1000316   \n\n            functionName chainName       tokenName tokenType isSet  \\\n0   deposit(bytes32 _id)  Ethereum           Ether    native  from   \n1   deposit(bytes32 _id)  Ethereum           Ether    native  from   \n2   deposit(bytes32 _id)  Ethereum           Ether    native  from   \n3   deposit(bytes32 _id)  Ethereum           Ether    native  from   \n4   deposit(bytes32 _id)  Ethereum           Ether    native  from   \n..                   ...       ...             ...       ...   ...   \n4                    NaN  Ethereum      Tether USD        20    to   \n5                    NaN  Ethereum     Wrapped BTC        20    to   \n6                    NaN  Ethereum  Dai Stablecoin        20    to   \n7                    NaN  Ethereum  Dai Stablecoin        20  from   \n8                    NaN  Ethereum  Dai Stablecoin        20  from   \n\n                                   userAddress  \\\n0   0x007f44362400de9f364efa919ff84c6ea9e210d5   \n1   0x1dd5df3b2d78271039f3dc39eb9350ecc31ca9dc   \n2   0x1ec594a869dc67d78fabc33963d3c6a0ab017dd6   \n3   0x2fef65e4d69a38bf0dd074079f367cdf176ec0de   \n4   0x30602250c5f1fcba5407e99b1dfaab992ea4ffd2   \n..                                         ...   \n4   0x3f0500b79c099dfe2638d0faf1c03f56b90d12d1   \n5   0x0c40bff248ed5d99d294ceca8826c7924f745134   \n6   0x7a218b62ae9e23aac788979ead8be51258a3cbc5   \n7   0x62051bfd3a4f7039a849142e6e5ea172cbda5949   \n8   0x1e27c17432abff8e314b421be50c63a42d3e95e0   \n\n                               contractAddress  \n0   0x12d66f87a04a9e220743712ce6d9bb1b5616b8fc  \n1   0x12d66f87a04a9e220743712ce6d9bb1b5616b8fc  \n2   0x12d66f87a04a9e220743712ce6d9bb1b5616b8fc  \n3   0x12d66f87a04a9e220743712ce6d9bb1b5616b8fc  \n4   0x12d66f87a04a9e220743712ce6d9bb1b5616b8fc  \n..                                         ...  \n4   0xdac17f958d2ee523a2206206994597c13d831ec7  \n5   0x2260fac5e5542a773aa44fbcfedf7c193bc2c599  \n6   0x6b175474e89094c44da98b954eedeac495271d0f  \n7   0x6b175474e89094c44da98b954eedeac495271d0f  \n8   0x6b175474e89094c44da98b954eedeac495271d0f  \n\n[84 rows x 16 columns]",
      "text/html": "<div>\n<style scoped>\n    .dataframe tbody tr th:only-of-type {\n        vertical-align: middle;\n    }\n\n    .dataframe tbody tr th {\n        vertical-align: top;\n    }\n\n    .dataframe thead th {\n        text-align: right;\n    }\n</style>\n<table border=\"1\" class=\"dataframe\">\n  <thead>\n    <tr style=\"text-align: right;\">\n      <th></th>\n      <th>hash</th>\n      <th>from</th>\n      <th>to</th>\n      <th>timeStamp</th>\n      <th>nonce</th>\n      <th>value</th>\n      <th>gasPrice</th>\n      <th>input</th>\n      <th>gasUsed</th>\n      <th>functionName</th>\n      <th>chainName</th>\n      <th>tokenName</th>\n      <th>tokenType</th>\n      <th>isSet</th>\n      <th>userAddress</th>\n      <th>contractAddress</th>\n    </tr>\n  </thead>\n  <tbody>\n    <tr>\n      <th>0</th>\n      <td>0xab9112a0bfd7ee489f32ad2eace95cd9111da9091008...</td>\n      <td>0x007f44362400de9f364efa919ff84c6ea9e210d5</td>\n      <td>0x12d66f87a04a9e220743712ce6d9bb1b5616b8fc</td>\n      <td>1597667681</td>\n      <td>171.0</td>\n      <td>1.000000e+17</td>\n      <td>112000000000</td>\n      <td>0xb214faa52606de7c18da92872e783b4cf27c757334ca...</td>\n      <td>966887</td>\n      <td>deposit(bytes32 _id)</td>\n      <td>Ethereum</td>\n      <td>Ether</td>\n      <td>native</td>\n      <td>from</td>\n      <td>0x007f44362400de9f364efa919ff84c6ea9e210d5</td>\n      <td>0x12d66f87a04a9e220743712ce6d9bb1b5616b8fc</td>\n    </tr>\n    <tr>\n      <th>1</th>\n      <td>0xb96895d541a818232300808230ff202f8e1217609f10...</td>\n      <td>0x1dd5df3b2d78271039f3dc39eb9350ecc31ca9dc</td>\n      <td>0x12d66f87a04a9e220743712ce6d9bb1b5616b8fc</td>\n      <td>1605348173</td>\n      <td>39.0</td>\n      <td>1.000000e+17</td>\n      <td>23000000000</td>\n      <td>0xb214faa50bf6fe5e24e3223b7e2cec17a028597694c1...</td>\n      <td>978703</td>\n      <td>deposit(bytes32 _id)</td>\n      <td>Ethereum</td>\n      <td>Ether</td>\n      <td>native</td>\n      <td>from</td>\n      <td>0x1dd5df3b2d78271039f3dc39eb9350ecc31ca9dc</td>\n      <td>0x12d66f87a04a9e220743712ce6d9bb1b5616b8fc</td>\n    </tr>\n    <tr>\n      <th>2</th>\n      <td>0x282777a6664cf1d9d3f1695bed549f7a62ec57411350...</td>\n      <td>0x1ec594a869dc67d78fabc33963d3c6a0ab017dd6</td>\n      <td>0x12d66f87a04a9e220743712ce6d9bb1b5616b8fc</td>\n      <td>1602676051</td>\n      <td>827.0</td>\n      <td>1.000000e+17</td>\n      <td>33000000000</td>\n      <td>0xb214faa512dd5f64b38ff2414a7e7cf5219e5ff98ec6...</td>\n      <td>978703</td>\n      <td>deposit(bytes32 _id)</td>\n      <td>Ethereum</td>\n      <td>Ether</td>\n      <td>native</td>\n      <td>from</td>\n      <td>0x1ec594a869dc67d78fabc33963d3c6a0ab017dd6</td>\n      <td>0x12d66f87a04a9e220743712ce6d9bb1b5616b8fc</td>\n    </tr>\n    <tr>\n      <th>3</th>\n      <td>0xc880becfb7f3a939765f1cb650cd7b624cdb0a046a22...</td>\n      <td>0x2fef65e4d69a38bf0dd074079f367cdf176ec0de</td>\n      <td>0x12d66f87a04a9e220743712ce6d9bb1b5616b8fc</td>\n      <td>1603804997</td>\n      <td>7601.0</td>\n      <td>1.000000e+17</td>\n      <td>45000000000</td>\n      <td>0xb214faa50205af153fb0c6e1818a2e396450ed9baf14...</td>\n      <td>972795</td>\n      <td>deposit(bytes32 _id)</td>\n      <td>Ethereum</td>\n      <td>Ether</td>\n      <td>native</td>\n      <td>from</td>\n      <td>0x2fef65e4d69a38bf0dd074079f367cdf176ec0de</td>\n      <td>0x12d66f87a04a9e220743712ce6d9bb1b5616b8fc</td>\n    </tr>\n    <tr>\n      <th>4</th>\n      <td>0xd9eeeec262897f88c4323013ca927cb3cb94e7f22347...</td>\n      <td>0x30602250c5f1fcba5407e99b1dfaab992ea4ffd2</td>\n      <td>0x12d66f87a04a9e220743712ce6d9bb1b5616b8fc</td>\n      <td>1583900510</td>\n      <td>4830.0</td>\n      <td>1.000000e+17</td>\n      <td>13000000000</td>\n      <td>0xb214faa5068a8346b266fcdfd7a9830a2409eac71681...</td>\n      <td>984611</td>\n      <td>deposit(bytes32 _id)</td>\n      <td>Ethereum</td>\n      <td>Ether</td>\n      <td>native</td>\n      <td>from</td>\n      <td>0x30602250c5f1fcba5407e99b1dfaab992ea4ffd2</td>\n      <td>0x12d66f87a04a9e220743712ce6d9bb1b5616b8fc</td>\n    </tr>\n    <tr>\n      <th>...</th>\n      <td>...</td>\n      <td>...</td>\n      <td>...</td>\n      <td>...</td>\n      <td>...</td>\n      <td>...</td>\n      <td>...</td>\n      <td>...</td>\n      <td>...</td>\n      <td>...</td>\n      <td>...</td>\n      <td>...</td>\n      <td>...</td>\n      <td>...</td>\n      <td>...</td>\n      <td>...</td>\n    </tr>\n    <tr>\n      <th>4</th>\n      <td>0x5607c93ba2fc0814327af6f53b53923bcc747edc7b2b...</td>\n      <td>0x169ad27a470d064dede56a2d3ff727986b15d52b</td>\n      <td>0x3f0500b79c099dfe2638d0faf1c03f56b90d12d1</td>\n      <td>1602750994</td>\n      <td>2787.0</td>\n      <td>7.718709e+01</td>\n      <td>80000000000</td>\n      <td>NaN</td>\n      <td>361300</td>\n      <td>NaN</td>\n      <td>Ethereum</td>\n      <td>Tether USD</td>\n      <td>20</td>\n      <td>to</td>\n      <td>0x3f0500b79c099dfe2638d0faf1c03f56b90d12d1</td>\n      <td>0xdac17f958d2ee523a2206206994597c13d831ec7</td>\n    </tr>\n    <tr>\n      <th>5</th>\n      <td>0xdb5ea6e7a175dda3b9359910aaa5ebf3f70b5e2ab253...</td>\n      <td>0x178169b423a011fff22b9e3f3abea13414ddd0f1</td>\n      <td>0x0c40bff248ed5d99d294ceca8826c7924f745134</td>\n      <td>1619556022</td>\n      <td>3439.0</td>\n      <td>9.831973e-02</td>\n      <td>58650000000</td>\n      <td>NaN</td>\n      <td>399260</td>\n      <td>NaN</td>\n      <td>Ethereum</td>\n      <td>Wrapped BTC</td>\n      <td>20</td>\n      <td>to</td>\n      <td>0x0c40bff248ed5d99d294ceca8826c7924f745134</td>\n      <td>0x2260fac5e5542a773aa44fbcfedf7c193bc2c599</td>\n    </tr>\n    <tr>\n      <th>6</th>\n      <td>0x7bce45c79f340555a9c7e66116875cb56ad065a24488...</td>\n      <td>0xfd8610d20aa15b7b2e3be39b396a1bc3516c7144</td>\n      <td>0x7a218b62ae9e23aac788979ead8be51258a3cbc5</td>\n      <td>1621903058</td>\n      <td>154.0</td>\n      <td>1.000000e+03</td>\n      <td>46000000000</td>\n      <td>NaN</td>\n      <td>395784</td>\n      <td>NaN</td>\n      <td>Ethereum</td>\n      <td>Dai Stablecoin</td>\n      <td>20</td>\n      <td>to</td>\n      <td>0x7a218b62ae9e23aac788979ead8be51258a3cbc5</td>\n      <td>0x6b175474e89094c44da98b954eedeac495271d0f</td>\n    </tr>\n    <tr>\n      <th>7</th>\n      <td>0x9b7a76858cc9ca49de2cb273e4a2e635e4b652019acf...</td>\n      <td>0x62051bfd3a4f7039a849142e6e5ea172cbda5949</td>\n      <td>0xd4b88df4d29f5cedd6857912842cff3b20c8cfa3</td>\n      <td>1598285598</td>\n      <td>212.0</td>\n      <td>1.000000e+02</td>\n      <td>128000000000</td>\n      <td>NaN</td>\n      <td>1003512</td>\n      <td>NaN</td>\n      <td>Ethereum</td>\n      <td>Dai Stablecoin</td>\n      <td>20</td>\n      <td>from</td>\n      <td>0x62051bfd3a4f7039a849142e6e5ea172cbda5949</td>\n      <td>0x6b175474e89094c44da98b954eedeac495271d0f</td>\n    </tr>\n    <tr>\n      <th>8</th>\n      <td>0x53e455eb4028499613080fb7bd98048069d898594ff8...</td>\n      <td>0x1e27c17432abff8e314b421be50c63a42d3e95e0</td>\n      <td>0xfd8610d20aa15b7b2e3be39b396a1bc3516c7144</td>\n      <td>1611456084</td>\n      <td>2122.0</td>\n      <td>1.000000e+03</td>\n      <td>51000000000</td>\n      <td>NaN</td>\n      <td>1000316</td>\n      <td>NaN</td>\n      <td>Ethereum</td>\n      <td>Dai Stablecoin</td>\n      <td>20</td>\n      <td>from</td>\n      <td>0x1e27c17432abff8e314b421be50c63a42d3e95e0</td>\n      <td>0x6b175474e89094c44da98b954eedeac495271d0f</td>\n    </tr>\n  </tbody>\n</table>\n<p>84 rows × 16 columns</p>\n</div>"
     },
     "execution_count": 24,
     "metadata": {},
     "output_type": "execute_result"
    }
   ],
   "source": [
    "# Connect to db collections\n",
    "client = MongoClient('mongodb://localhost:27017/')\n",
    "db = client['address-clustering']\n",
    "transfers = db['transfers']\n",
    "transactions = db['transactions']\n",
    "tornado_pools = pd.read_csv('../data/tornado-pools.csv')['contract_address'].tolist()\n",
    "\n",
    "# Query\n",
    "tornado_transactions = pd.DataFrame(list(transactions.find({\"$or\": [{\"from\": {\"$in\": tornado_pools}}, {\"to\": {\"$in\": tornado_pools}}]})))\n",
    "\n",
    "# Dataframe operations\n",
    "tornado_transactions['tokenName'] = 'Ether'\n",
    "tornado_transactions['tokenType'] = 'native'\n",
    "tornado_transactions['isSet'] = 'from'\n",
    "tornado_transactions['userAddress'] = tornado_transactions['from']\n",
    "tornado_transactions['contractAddress'] = tornado_transactions['to']\n",
    "tornado_transfers = pd.DataFrame(list(transfers.find({\"$or\": [{\"from\": {\"$in\": tornado_pools}}, {\"to\": {\"$in\": tornado_pools}}]})))\n",
    "df = pd.concat([tornado_transactions,tornado_transfers])\n",
    "df.drop(labels=['_id','tokenID'], axis=1, inplace=True)\n",
    "df"
   ],
   "metadata": {
    "collapsed": false,
    "pycharm": {
     "name": "#%%\n"
    }
   }
  }
 ],
 "metadata": {
  "kernelspec": {
   "display_name": "Python 3",
   "language": "python",
   "name": "python3"
  },
  "language_info": {
   "codemirror_mode": {
    "name": "ipython",
    "version": 2
   },
   "file_extension": ".py",
   "mimetype": "text/x-python",
   "name": "python",
   "nbconvert_exporter": "python",
   "pygments_lexer": "ipython2",
   "version": "2.7.6"
  }
 },
 "nbformat": 4,
 "nbformat_minor": 0
}