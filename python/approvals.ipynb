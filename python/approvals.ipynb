{
 "cells": [
  {
   "cell_type": "code",
   "execution_count": 1,
   "metadata": {
    "collapsed": true
   },
   "outputs": [],
   "source": [
    "from pymongo import MongoClient\n",
    "import pandas as pd\n",
    "\n",
    "# Connect to db collections\n",
    "client = MongoClient('mongodb://localhost:27017/')\n",
    "db = client['address-clustering']\n",
    "transfers = db['transfers']\n",
    "transactions = db['transactions']"
   ]
  },
  {
   "cell_type": "code",
   "execution_count": 3,
   "outputs": [
    {
     "name": "stdout",
     "output_type": "stream",
     "text": [
      "473927\n"
     ]
    },
    {
     "data": {
      "text/plain": "                             _id  \\\n48846   64b3ca6a5bc36abfd94189fc   \n151718  64b3ca885bc36abfd9510aba   \n187193  64b3ca945bc36abfd9569c88   \n195366  64b3ca975bc36abfd957e840   \n195367  64b3ca975bc36abfd957e841   \n...                          ...   \n635118  64b3cb185bc36abfd99a49d8   \n635119  64b3cb185bc36abfd99a49d9   \n635120  64b3cb185bc36abfd99a49da   \n635123  64b3cb185bc36abfd99a49dd   \n635124  64b3cb185bc36abfd99a49e4   \n\n                                                     hash  \\\n48846   0xd2bbb26c7d99c52534017443e84531cbfb60f073c883...   \n151718  0x544daf33416ddd126907aad931fb080c94b6a528e606...   \n187193  0x7a67b8c5a4bf6eb91267635b5bdbfcd1da502ed39ad4...   \n195366  0x8d8c2c0e6828d517c371d03cb5466110d162b0c26805...   \n195367  0xe3fa4cebda9336d538da7b159a6f4a49ff6c74eef5a7...   \n...                                                   ...   \n635118  0x4467267f4c027d897519d4a9a94a201356be3e6c65bc...   \n635119  0x2a64c548cc4e692643a3a7b13c6e970f27bb3865ed83...   \n635120  0x30f55314e1b2bc5bcb5b9e5497a244b7f0670eba7131...   \n635123  0xb7b48c1170fd8d809805448227d2acc67a4048f7a7aa...   \n635124  0x25ae523c4769ae508a2a778cd7316281af24eb063845...   \n\n                                              from  \\\n48846   0x10885d398a327e413e0f59ad8b41339e0ff18ff2   \n151718  0x33c8a9d99885b63af71fa2bf6ac396d8ae2f8918   \n187193  0x41603ae310299d2cd5367e17825c530c7a87e47d   \n195366  0x440d161011b52b0a041abe91dbefb3393d7153f7   \n195367  0x440d161011b52b0a041abe91dbefb3393d7153f7   \n...                                            ...   \n635118  0xd3299cc47f1afb07e06bbf9c812cc954ed75e6cc   \n635119  0xd3299cc47f1afb07e06bbf9c812cc954ed75e6cc   \n635120  0xd3299cc47f1afb07e06bbf9c812cc954ed75e6cc   \n635123  0xd3299cc47f1afb07e06bbf9c812cc954ed75e6cc   \n635124  0xd3299cc47f1afb07e06bbf9c812cc954ed75e6cc   \n\n                                                to   timeStamp  nonce  value  \\\n48846   0x66194b1abcbfbedd83841775404b245c8f9e4183  1624805586      0    0.0   \n151718  0x8169abdb6134748d1a950d530705934ccfd98428  1676989614      4    0.0   \n187193  0x7ceb23fd6bc0add59e62ac25578270cff1b9f619  1671535252    219    0.0   \n195366  0xc6c855ad634dcdad23e64da71ba85b8c51e5ad7c  1654121819     37    0.0   \n195367  0xc6c855ad634dcdad23e64da71ba85b8c51e5ad7c  1654121839     38    0.0   \n...                                            ...         ...    ...    ...   \n635118  0xfa1fe3c666409162d305e14897eabc3b2dcc567a  1639332488    383    0.0   \n635119  0xed964c7245a5f8b5710a322ee7c6ea08afa5d2c1  1639409548    384    0.0   \n635120  0xfa1fe3c666409162d305e14897eabc3b2dcc567a  1639437505    385    0.0   \n635123  0xfa1fe3c666409162d305e14897eabc3b2dcc567a  1640532762    388    0.0   \n635124  0x83c13ff593e9afbbef1c18907ac41cb4cf03da9a  1647883441    394    0.0   \n\n            gasPrice                                              input  \\\n48846     2220000000  0x095ea7b300000000000000000000000014c9b847ede1...   \n151718  200543661862  0x095ea7b3000000000000000000000000115af9c5dd8a...   \n187193   68386199207  0x095ea7b30000000000000000000000008760513f944b...   \n195366   30405695841  0x095ea7b30000000000000000000000004dfc595c489d...   \n195367   30405695841  0x095ea7b30000000000000000000000004dfc595c489d...   \n...              ...                                                ...   \n635118    1465431000  0x095ea7b30000000000000000000000001dec5f50cb14...   \n635119  242000000000  0x095ea7b30000000000000000000000000a3dff6b6786...   \n635120   58627666101  0x095ea7b3000000000000000000000000485f159e86ea...   \n635123   10000000000  0x095ea7b3000000000000000000000000e9354f4b8e8b...   \n635124   30337007092  0x095ea7b3000000000000000000000000b7f781f7da4e...   \n\n        gasUsed                                 functionName chainName  \\\n48846     56493  approve(address spender, uint256 rawAmount)   Polygon   \n151718    63955  approve(address spender, uint256 rawAmount)   Polygon   \n187193    46712  approve(address spender, uint256 rawAmount)   Polygon   \n195366    47177  approve(address spender, uint256 rawAmount)   Polygon   \n195367    24893  approve(address spender, uint256 rawAmount)   Polygon   \n...         ...                                          ...       ...   \n635118    31569  approve(address spender, uint256 rawAmount)   Polygon   \n635119    56457  approve(address spender, uint256 rawAmount)   Polygon   \n635120    56469  approve(address spender, uint256 rawAmount)   Polygon   \n635123    31569  approve(address spender, uint256 rawAmount)   Polygon   \n635124    56469  approve(address spender, uint256 rawAmount)   Polygon   \n\n                                           spender  \n48846   0x14c9b847ede1c5a20e86f37aacfa4a167f59a119  \n151718  0x115af9c5dd8a417bee76868d2fea6d47d92e7e4c  \n187193  0x8760513f944be842ffb4888fde71cad1e2a394c3  \n195366  0x4dfc595c489dc7cb5291b69c29ff1f518ec0f668  \n195367  0x4dfc595c489dc7cb5291b69c29ff1f518ec0f668  \n...                                            ...  \n635118  0x1dec5f50cb1467f505bb3ddfd408805114406b10  \n635119  0x0a3dff6b6786e25d08168fdba2c41b550014219d  \n635120  0x485f159e86eaa9e11a02bbeb40c21b542cb49ff1  \n635123  0xe9354f4b8e8b7ad4a48577a3262382621917f1e7  \n635124  0xb7f781f7da4e9f128fef5559edf4c899eb954ac9  \n\n[112 rows x 13 columns]",
      "text/html": "<div>\n<style scoped>\n    .dataframe tbody tr th:only-of-type {\n        vertical-align: middle;\n    }\n\n    .dataframe tbody tr th {\n        vertical-align: top;\n    }\n\n    .dataframe thead th {\n        text-align: right;\n    }\n</style>\n<table border=\"1\" class=\"dataframe\">\n  <thead>\n    <tr style=\"text-align: right;\">\n      <th></th>\n      <th>_id</th>\n      <th>hash</th>\n      <th>from</th>\n      <th>to</th>\n      <th>timeStamp</th>\n      <th>nonce</th>\n      <th>value</th>\n      <th>gasPrice</th>\n      <th>input</th>\n      <th>gasUsed</th>\n      <th>functionName</th>\n      <th>chainName</th>\n      <th>spender</th>\n    </tr>\n  </thead>\n  <tbody>\n    <tr>\n      <th>48846</th>\n      <td>64b3ca6a5bc36abfd94189fc</td>\n      <td>0xd2bbb26c7d99c52534017443e84531cbfb60f073c883...</td>\n      <td>0x10885d398a327e413e0f59ad8b41339e0ff18ff2</td>\n      <td>0x66194b1abcbfbedd83841775404b245c8f9e4183</td>\n      <td>1624805586</td>\n      <td>0</td>\n      <td>0.0</td>\n      <td>2220000000</td>\n      <td>0x095ea7b300000000000000000000000014c9b847ede1...</td>\n      <td>56493</td>\n      <td>approve(address spender, uint256 rawAmount)</td>\n      <td>Polygon</td>\n      <td>0x14c9b847ede1c5a20e86f37aacfa4a167f59a119</td>\n    </tr>\n    <tr>\n      <th>151718</th>\n      <td>64b3ca885bc36abfd9510aba</td>\n      <td>0x544daf33416ddd126907aad931fb080c94b6a528e606...</td>\n      <td>0x33c8a9d99885b63af71fa2bf6ac396d8ae2f8918</td>\n      <td>0x8169abdb6134748d1a950d530705934ccfd98428</td>\n      <td>1676989614</td>\n      <td>4</td>\n      <td>0.0</td>\n      <td>200543661862</td>\n      <td>0x095ea7b3000000000000000000000000115af9c5dd8a...</td>\n      <td>63955</td>\n      <td>approve(address spender, uint256 rawAmount)</td>\n      <td>Polygon</td>\n      <td>0x115af9c5dd8a417bee76868d2fea6d47d92e7e4c</td>\n    </tr>\n    <tr>\n      <th>187193</th>\n      <td>64b3ca945bc36abfd9569c88</td>\n      <td>0x7a67b8c5a4bf6eb91267635b5bdbfcd1da502ed39ad4...</td>\n      <td>0x41603ae310299d2cd5367e17825c530c7a87e47d</td>\n      <td>0x7ceb23fd6bc0add59e62ac25578270cff1b9f619</td>\n      <td>1671535252</td>\n      <td>219</td>\n      <td>0.0</td>\n      <td>68386199207</td>\n      <td>0x095ea7b30000000000000000000000008760513f944b...</td>\n      <td>46712</td>\n      <td>approve(address spender, uint256 rawAmount)</td>\n      <td>Polygon</td>\n      <td>0x8760513f944be842ffb4888fde71cad1e2a394c3</td>\n    </tr>\n    <tr>\n      <th>195366</th>\n      <td>64b3ca975bc36abfd957e840</td>\n      <td>0x8d8c2c0e6828d517c371d03cb5466110d162b0c26805...</td>\n      <td>0x440d161011b52b0a041abe91dbefb3393d7153f7</td>\n      <td>0xc6c855ad634dcdad23e64da71ba85b8c51e5ad7c</td>\n      <td>1654121819</td>\n      <td>37</td>\n      <td>0.0</td>\n      <td>30405695841</td>\n      <td>0x095ea7b30000000000000000000000004dfc595c489d...</td>\n      <td>47177</td>\n      <td>approve(address spender, uint256 rawAmount)</td>\n      <td>Polygon</td>\n      <td>0x4dfc595c489dc7cb5291b69c29ff1f518ec0f668</td>\n    </tr>\n    <tr>\n      <th>195367</th>\n      <td>64b3ca975bc36abfd957e841</td>\n      <td>0xe3fa4cebda9336d538da7b159a6f4a49ff6c74eef5a7...</td>\n      <td>0x440d161011b52b0a041abe91dbefb3393d7153f7</td>\n      <td>0xc6c855ad634dcdad23e64da71ba85b8c51e5ad7c</td>\n      <td>1654121839</td>\n      <td>38</td>\n      <td>0.0</td>\n      <td>30405695841</td>\n      <td>0x095ea7b30000000000000000000000004dfc595c489d...</td>\n      <td>24893</td>\n      <td>approve(address spender, uint256 rawAmount)</td>\n      <td>Polygon</td>\n      <td>0x4dfc595c489dc7cb5291b69c29ff1f518ec0f668</td>\n    </tr>\n    <tr>\n      <th>...</th>\n      <td>...</td>\n      <td>...</td>\n      <td>...</td>\n      <td>...</td>\n      <td>...</td>\n      <td>...</td>\n      <td>...</td>\n      <td>...</td>\n      <td>...</td>\n      <td>...</td>\n      <td>...</td>\n      <td>...</td>\n      <td>...</td>\n    </tr>\n    <tr>\n      <th>635118</th>\n      <td>64b3cb185bc36abfd99a49d8</td>\n      <td>0x4467267f4c027d897519d4a9a94a201356be3e6c65bc...</td>\n      <td>0xd3299cc47f1afb07e06bbf9c812cc954ed75e6cc</td>\n      <td>0xfa1fe3c666409162d305e14897eabc3b2dcc567a</td>\n      <td>1639332488</td>\n      <td>383</td>\n      <td>0.0</td>\n      <td>1465431000</td>\n      <td>0x095ea7b30000000000000000000000001dec5f50cb14...</td>\n      <td>31569</td>\n      <td>approve(address spender, uint256 rawAmount)</td>\n      <td>Polygon</td>\n      <td>0x1dec5f50cb1467f505bb3ddfd408805114406b10</td>\n    </tr>\n    <tr>\n      <th>635119</th>\n      <td>64b3cb185bc36abfd99a49d9</td>\n      <td>0x2a64c548cc4e692643a3a7b13c6e970f27bb3865ed83...</td>\n      <td>0xd3299cc47f1afb07e06bbf9c812cc954ed75e6cc</td>\n      <td>0xed964c7245a5f8b5710a322ee7c6ea08afa5d2c1</td>\n      <td>1639409548</td>\n      <td>384</td>\n      <td>0.0</td>\n      <td>242000000000</td>\n      <td>0x095ea7b30000000000000000000000000a3dff6b6786...</td>\n      <td>56457</td>\n      <td>approve(address spender, uint256 rawAmount)</td>\n      <td>Polygon</td>\n      <td>0x0a3dff6b6786e25d08168fdba2c41b550014219d</td>\n    </tr>\n    <tr>\n      <th>635120</th>\n      <td>64b3cb185bc36abfd99a49da</td>\n      <td>0x30f55314e1b2bc5bcb5b9e5497a244b7f0670eba7131...</td>\n      <td>0xd3299cc47f1afb07e06bbf9c812cc954ed75e6cc</td>\n      <td>0xfa1fe3c666409162d305e14897eabc3b2dcc567a</td>\n      <td>1639437505</td>\n      <td>385</td>\n      <td>0.0</td>\n      <td>58627666101</td>\n      <td>0x095ea7b3000000000000000000000000485f159e86ea...</td>\n      <td>56469</td>\n      <td>approve(address spender, uint256 rawAmount)</td>\n      <td>Polygon</td>\n      <td>0x485f159e86eaa9e11a02bbeb40c21b542cb49ff1</td>\n    </tr>\n    <tr>\n      <th>635123</th>\n      <td>64b3cb185bc36abfd99a49dd</td>\n      <td>0xb7b48c1170fd8d809805448227d2acc67a4048f7a7aa...</td>\n      <td>0xd3299cc47f1afb07e06bbf9c812cc954ed75e6cc</td>\n      <td>0xfa1fe3c666409162d305e14897eabc3b2dcc567a</td>\n      <td>1640532762</td>\n      <td>388</td>\n      <td>0.0</td>\n      <td>10000000000</td>\n      <td>0x095ea7b3000000000000000000000000e9354f4b8e8b...</td>\n      <td>31569</td>\n      <td>approve(address spender, uint256 rawAmount)</td>\n      <td>Polygon</td>\n      <td>0xe9354f4b8e8b7ad4a48577a3262382621917f1e7</td>\n    </tr>\n    <tr>\n      <th>635124</th>\n      <td>64b3cb185bc36abfd99a49e4</td>\n      <td>0x25ae523c4769ae508a2a778cd7316281af24eb063845...</td>\n      <td>0xd3299cc47f1afb07e06bbf9c812cc954ed75e6cc</td>\n      <td>0x83c13ff593e9afbbef1c18907ac41cb4cf03da9a</td>\n      <td>1647883441</td>\n      <td>394</td>\n      <td>0.0</td>\n      <td>30337007092</td>\n      <td>0x095ea7b3000000000000000000000000b7f781f7da4e...</td>\n      <td>56469</td>\n      <td>approve(address spender, uint256 rawAmount)</td>\n      <td>Polygon</td>\n      <td>0xb7f781f7da4e9f128fef5559edf4c899eb954ac9</td>\n    </tr>\n  </tbody>\n</table>\n<p>112 rows × 13 columns</p>\n</div>"
     },
     "execution_count": 3,
     "metadata": {},
     "output_type": "execute_result"
    }
   ],
   "source": [
    "# Query all approval transactions\n",
    "approvals = pd.DataFrame(list(transactions.find({\"functionName\": \"approve(address spender, uint256 rawAmount)\"})))\n",
    "print(len(approvals))\n",
    "\n",
    "# Extract spender address from calldata, Add '0x' to the start of each address\n",
    "approvals['spender'] = approvals['input'].str[34:74]\n",
    "approvals['spender'] = approvals['spender'].apply(lambda x: '0x' + x)\n",
    "\n",
    "# Only keep spenders from set\n",
    "set_addresses = pd.read_csv('../data/subsets.csv')\n",
    "set_addresses = set(set_addresses['Address'])\n",
    "print(len(set_addresses))\n",
    "self_approvals = approvals[approvals['spender'].isin(set_addresses)]\n",
    "\n",
    "# Only keep senders from set that approved another address\n",
    "filtered_self_approvals = self_approvals[self_approvals['from'] != self_approvals['spender']]\n",
    "filtered_self_approvals"
   ],
   "metadata": {
    "collapsed": false,
    "pycharm": {
     "name": "#%%\n"
    }
   }
  },
  {
   "cell_type": "code",
   "execution_count": null,
   "outputs": [],
   "source": [],
   "metadata": {
    "collapsed": false,
    "pycharm": {
     "name": "#%%\n"
    }
   }
  }
 ],
 "metadata": {
  "kernelspec": {
   "display_name": "Python 3",
   "language": "python",
   "name": "python3"
  },
  "language_info": {
   "codemirror_mode": {
    "name": "ipython",
    "version": 2
   },
   "file_extension": ".py",
   "mimetype": "text/x-python",
   "name": "python",
   "nbconvert_exporter": "python",
   "pygments_lexer": "ipython2",
   "version": "2.7.6"
  }
 },
 "nbformat": 4,
 "nbformat_minor": 0
}