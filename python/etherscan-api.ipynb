{
 "cells": [
  {
   "cell_type": "markdown",
   "source": [
    "# Etherscan API Data Retrieval"
   ],
   "metadata": {
    "collapsed": false,
    "pycharm": {
     "name": "#%% md\n"
    }
   }
  },
  {
   "cell_type": "code",
   "execution_count": 1,
   "outputs": [],
   "source": [
    "import requests, pandas as pd, time, math, csv, datetime"
   ],
   "metadata": {
    "collapsed": false,
    "pycharm": {
     "name": "#%%\n"
    }
   }
  },
  {
   "cell_type": "code",
   "execution_count": 2,
   "outputs": [
    {
     "name": "stdout",
     "output_type": "stream",
     "text": [
      "Number of addresses recorded on Ethereum: 59651\n"
     ]
    }
   ],
   "source": [
    "etherscan_token = 'URXV5S3XKUQT9GBEDPB5MGD2DA8P1EFY42'\n",
    "\n",
    "# Ethereum block range\n",
    "startblock = 0 # not needed\n",
    "endblock = 17670000\n",
    "\n",
    "# Session object\n",
    "session = requests.Session()\n",
    "\n",
    "# All addresses\n",
    "df = pd.read_csv('../data/subsets.csv')\n",
    "ethereum_addresses = df.loc[df['Ethereum'] == 1, 'Address'].tolist()\n",
    "print(f'Number of addresses recorded on Ethereum: {len(ethereum_addresses)}')"
   ],
   "metadata": {
    "collapsed": false,
    "pycharm": {
     "name": "#%%\n"
    }
   }
  },
  {
   "cell_type": "markdown",
   "source": [
    "### ERC20 Transfers"
   ],
   "metadata": {
    "collapsed": false,
    "pycharm": {
     "name": "#%% md\n"
    }
   }
  },
  {
   "cell_type": "code",
   "execution_count": 4,
   "outputs": [
    {
     "name": "stdout",
     "output_type": "stream",
     "text": [
      "6\n",
      "Iteration 2 started\n",
      "2023-07-12 17:17:52 Addresses done: 21000 / 59651 (35.20477443798092 %)\n",
      "2023-07-12 17:21:32 Addresses done: 22000 / 59651 (36.88119226836097 %)\n",
      "2023-07-12 17:25:33 Addresses done: 23000 / 59651 (38.55761009874101 %)\n",
      "2023-07-12 17:29:34 Addresses done: 24000 / 59651 (40.234027929121055 %)\n",
      "2023-07-12 17:33:19 Addresses done: 25000 / 59651 (41.910445759501094 %)\n",
      "2023-07-12 17:37:03 Addresses done: 26000 / 59651 (43.58686358988114 %)\n",
      "2023-07-12 17:40:55 Addresses done: 27000 / 59651 (45.26328142026119 %)\n",
      "2023-07-12 17:44:49 Addresses done: 28000 / 59651 (46.93969925064123 %)\n",
      "2023-07-12 17:48:56 Addresses done: 29000 / 59651 (48.61611708102128 %)\n",
      "CSV successfully written\n",
      "Iteration 3 started\n",
      "2023-07-12 17:56:29 Addresses done: 31000 / 59651 (51.96895274178136 %)\n",
      "2023-07-12 18:00:17 Addresses done: 32000 / 59651 (53.64537057216141 %)\n",
      "2023-07-12 18:04:07 Addresses done: 33000 / 59651 (55.32178840254145 %)\n",
      "2023-07-12 18:07:52 Addresses done: 34000 / 59651 (56.99820623292149 %)\n",
      "2023-07-12 18:11:43 Addresses done: 35000 / 59651 (58.674624063301536 %)\n",
      "2023-07-12 18:15:40 Addresses done: 36000 / 59651 (60.351041893681575 %)\n",
      "2023-07-12 18:19:37 Addresses done: 37000 / 59651 (62.02745972406163 %)\n",
      "2023-07-12 18:23:45 Addresses done: 38000 / 59651 (63.70387755444167 %)\n",
      "2023-07-12 18:27:35 Addresses done: 39000 / 59651 (65.38029538482172 %)\n",
      "CSV successfully written\n",
      "Iteration 4 started\n",
      "2023-07-12 18:35:05 Addresses done: 41000 / 59651 (68.7331310455818 %)\n",
      "2023-07-12 18:38:53 Addresses done: 42000 / 59651 (70.40954887596185 %)\n",
      "2023-07-12 18:43:07 Addresses done: 43000 / 59651 (72.08596670634189 %)\n",
      "2023-07-12 18:47:06 Addresses done: 44000 / 59651 (73.76238453672194 %)\n",
      "2023-07-12 18:51:11 Addresses done: 45000 / 59651 (75.43880236710197 %)\n",
      "2023-07-12 18:55:21 Addresses done: 46000 / 59651 (77.11522019748202 %)\n",
      "2023-07-12 18:59:31 Addresses done: 47000 / 59651 (78.79163802786206 %)\n",
      "2023-07-12 19:03:58 Addresses done: 48000 / 59651 (80.46805585824211 %)\n",
      "2023-07-12 19:07:39 Addresses done: 49000 / 59651 (82.14447368862216 %)\n",
      "CSV successfully written\n",
      "Iteration 5 started\n",
      "2023-07-12 19:15:56 Addresses done: 51000 / 59651 (85.49730934938225 %)\n",
      "2023-07-12 19:19:48 Addresses done: 52000 / 59651 (87.17372717976228 %)\n",
      "2023-07-12 19:23:59 Addresses done: 53000 / 59651 (88.85014501014233 %)\n",
      "2023-07-12 19:28:36 Addresses done: 54000 / 59651 (90.52656284052237 %)\n",
      "2023-07-12 19:33:18 Addresses done: 55000 / 59651 (92.2029806709024 %)\n",
      "2023-07-12 19:37:02 Addresses done: 56000 / 59651 (93.87939850128247 %)\n",
      "2023-07-12 19:41:01 Addresses done: 57000 / 59651 (95.5558163316625 %)\n",
      "2023-07-12 19:44:55 Addresses done: 58000 / 59651 (97.23223416204256 %)\n",
      "2023-07-12 19:49:10 Addresses done: 59000 / 59651 (98.90865199242259 %)\n",
      "CSV successfully written\n"
     ]
    }
   ],
   "source": [
    "# Variables\n",
    "start = 20001\n",
    "batch_size = 10000\n",
    "end = start + batch_size - 1\n",
    "iteration = math.ceil(len(ethereum_addresses) / batch_size)\n",
    "print(iteration)\n",
    "errors = []\n",
    "\n",
    "for j in range(2,iteration):\n",
    "    print(f'Iteration {j} started')\n",
    "    data = [[\"timeStamp\", \"hash\", \"from\", \"to\", \"contractAddress\", \"value\", \"nonce\", \"tokenName\", \"tokenDecimal\", \"gasPrice\", \"gasUsed\", \"chainName\", \"tokenType\"]]\n",
    "    for i in range(start,end):\n",
    "        try:\n",
    "            api_url = f'https://api.etherscan.io/api?module=account&action=tokentx&address={ethereum_addresses[i]}&endblock={endblock}&apikey={etherscan_token}'\n",
    "            # make the API request and extract the transfer events\n",
    "            response = session.get(api_url)\n",
    "            transfers = response.json()['result']\n",
    "            token_transfer_data = [(tx['timeStamp'], tx['hash'], tx['from'], tx['to'], tx['contractAddress'], tx['value'], tx['nonce'],tx['tokenName'], tx['tokenDecimal'], tx['gasPrice'], tx['gasUsed'], 'Ethereum', '20') for tx in transfers]\n",
    "            data.extend(token_transfer_data)\n",
    "            time.sleep(0.02)\n",
    "            if i%1000==0:\n",
    "                current_time = datetime.datetime.now().strftime('%Y-%m-%d %H:%M:%S')\n",
    "                print(f'{current_time} Addresses done: {i} / {len(ethereum_addresses)} ({i/len(ethereum_addresses)*100} %)')\n",
    "\n",
    "        except Exception as e:\n",
    "            print(f\"Error in {ethereum_addresses[i]}: {str(e)}\")\n",
    "            errors.append(ethereum_addresses[i])\n",
    "            continue\n",
    "\n",
    "    # Write csv file\n",
    "    with open(f'../data/ethereum_erc20_{start}-{end}.csv', 'w', newline='') as csvfile:\n",
    "        writer = csv.writer(csvfile)\n",
    "        writer.writerows(data)\n",
    "    print('CSV successfully written')\n",
    "\n",
    "    start = end + 1\n",
    "    end += batch_size\n",
    "    if end > len(ethereum_addresses) - 1:\n",
    "        end = len(ethereum_addresses) - 1"
   ],
   "metadata": {
    "collapsed": false,
    "pycharm": {
     "name": "#%%\n"
    }
   }
  },
  {
   "cell_type": "markdown",
   "source": [
    "### ERC721 Transfers"
   ],
   "metadata": {
    "collapsed": false,
    "pycharm": {
     "name": "#%% md\n"
    }
   }
  },
  {
   "cell_type": "code",
   "execution_count": 6,
   "outputs": [
    {
     "name": "stdout",
     "output_type": "stream",
     "text": [
      "Iteration 0 started\n",
      "2023-07-12 22:12:49 Addresses done: 0 / 59651 (0.0 %)\n",
      "2023-07-12 22:16:55 Addresses done: 1000 / 59651 (1.676417830380044 %)\n",
      "2023-07-12 22:21:56 Addresses done: 2000 / 59651 (3.352835660760088 %)\n",
      "2023-07-12 22:25:59 Addresses done: 3000 / 59651 (5.029253491140132 %)\n",
      "2023-07-12 22:29:45 Addresses done: 4000 / 59651 (6.705671321520176 %)\n",
      "2023-07-12 22:33:58 Addresses done: 5000 / 59651 (8.38208915190022 %)\n",
      "2023-07-12 22:37:58 Addresses done: 6000 / 59651 (10.058506982280264 %)\n",
      "2023-07-12 22:41:49 Addresses done: 7000 / 59651 (11.734924812660308 %)\n",
      "2023-07-12 22:45:59 Addresses done: 8000 / 59651 (13.411342643040353 %)\n",
      "2023-07-12 22:49:52 Addresses done: 9000 / 59651 (15.087760473420394 %)\n",
      "2023-07-12 22:53:49 Addresses done: 10000 / 59651 (16.76417830380044 %)\n",
      "2023-07-12 22:58:04 Addresses done: 11000 / 59651 (18.440596134180485 %)\n",
      "2023-07-12 23:02:34 Addresses done: 12000 / 59651 (20.117013964560527 %)\n",
      "2023-07-12 23:07:02 Addresses done: 13000 / 59651 (21.79343179494057 %)\n",
      "2023-07-12 23:11:19 Addresses done: 14000 / 59651 (23.469849625320617 %)\n",
      "2023-07-12 23:15:22 Addresses done: 15000 / 59651 (25.14626745570066 %)\n",
      "2023-07-12 23:19:47 Addresses done: 16000 / 59651 (26.822685286080706 %)\n",
      "2023-07-12 23:23:59 Addresses done: 17000 / 59651 (28.499103116460745 %)\n",
      "2023-07-12 23:28:00 Addresses done: 18000 / 59651 (30.175520946840788 %)\n",
      "2023-07-12 23:31:53 Addresses done: 19000 / 59651 (31.851938777220834 %)\n",
      "CSV successfully written\n",
      "Iteration 1 started\n",
      "2023-07-12 23:40:09 Addresses done: 21000 / 59651 (35.20477443798092 %)\n",
      "2023-07-12 23:44:49 Addresses done: 22000 / 59651 (36.88119226836097 %)\n",
      "2023-07-12 23:48:45 Addresses done: 23000 / 59651 (38.55761009874101 %)\n",
      "2023-07-12 23:52:56 Addresses done: 24000 / 59651 (40.234027929121055 %)\n",
      "2023-07-12 23:56:51 Addresses done: 25000 / 59651 (41.910445759501094 %)\n",
      "2023-07-13 00:00:48 Addresses done: 26000 / 59651 (43.58686358988114 %)\n",
      "2023-07-13 00:05:49 Addresses done: 27000 / 59651 (45.26328142026119 %)\n",
      "2023-07-13 00:11:09 Addresses done: 28000 / 59651 (46.93969925064123 %)\n",
      "2023-07-13 00:15:38 Addresses done: 29000 / 59651 (48.61611708102128 %)\n",
      "2023-07-13 00:20:13 Addresses done: 30000 / 59651 (50.29253491140132 %)\n",
      "2023-07-13 00:25:17 Addresses done: 31000 / 59651 (51.96895274178136 %)\n",
      "2023-07-13 00:29:35 Addresses done: 32000 / 59651 (53.64537057216141 %)\n",
      "2023-07-13 00:33:48 Addresses done: 33000 / 59651 (55.32178840254145 %)\n",
      "2023-07-13 00:37:47 Addresses done: 34000 / 59651 (56.99820623292149 %)\n",
      "2023-07-13 00:41:56 Addresses done: 35000 / 59651 (58.674624063301536 %)\n",
      "2023-07-13 00:46:12 Addresses done: 36000 / 59651 (60.351041893681575 %)\n",
      "2023-07-13 00:50:11 Addresses done: 37000 / 59651 (62.02745972406163 %)\n",
      "2023-07-13 00:54:09 Addresses done: 38000 / 59651 (63.70387755444167 %)\n",
      "2023-07-13 00:58:05 Addresses done: 39000 / 59651 (65.38029538482172 %)\n",
      "CSV successfully written\n",
      "Iteration 2 started\n",
      "2023-07-13 01:06:47 Addresses done: 41000 / 59651 (68.7331310455818 %)\n",
      "2023-07-13 01:10:54 Addresses done: 42000 / 59651 (70.40954887596185 %)\n",
      "2023-07-13 01:15:35 Addresses done: 43000 / 59651 (72.08596670634189 %)\n",
      "2023-07-13 01:19:41 Addresses done: 44000 / 59651 (73.76238453672194 %)\n",
      "2023-07-13 01:23:51 Addresses done: 45000 / 59651 (75.43880236710197 %)\n",
      "2023-07-13 01:29:08 Addresses done: 46000 / 59651 (77.11522019748202 %)\n",
      "2023-07-13 01:33:29 Addresses done: 47000 / 59651 (78.79163802786206 %)\n",
      "2023-07-13 01:37:30 Addresses done: 48000 / 59651 (80.46805585824211 %)\n",
      "2023-07-13 01:41:39 Addresses done: 49000 / 59651 (82.14447368862216 %)\n",
      "2023-07-13 01:46:25 Addresses done: 50000 / 59651 (83.82089151900219 %)\n",
      "2023-07-13 01:50:33 Addresses done: 51000 / 59651 (85.49730934938225 %)\n",
      "2023-07-13 01:54:43 Addresses done: 52000 / 59651 (87.17372717976228 %)\n",
      "2023-07-13 01:58:53 Addresses done: 53000 / 59651 (88.85014501014233 %)\n",
      "2023-07-13 02:03:11 Addresses done: 54000 / 59651 (90.52656284052237 %)\n",
      "2023-07-13 02:07:19 Addresses done: 55000 / 59651 (92.2029806709024 %)\n",
      "2023-07-13 02:11:28 Addresses done: 56000 / 59651 (93.87939850128247 %)\n",
      "2023-07-13 02:15:29 Addresses done: 57000 / 59651 (95.5558163316625 %)\n",
      "2023-07-13 02:19:42 Addresses done: 58000 / 59651 (97.23223416204256 %)\n",
      "2023-07-13 02:23:55 Addresses done: 59000 / 59651 (98.90865199242259 %)\n",
      "CSV successfully written\n"
     ]
    }
   ],
   "source": [
    "# Variables\n",
    "start = 0\n",
    "batch_size = 20000\n",
    "end = start + batch_size\n",
    "iteration = math.ceil(len(ethereum_addresses) / batch_size)\n",
    "errors = []\n",
    "\n",
    "for j in range(0,iteration):\n",
    "    print(f'Iteration {j} started')\n",
    "    data = [[\"timeStamp\", \"hash\", \"from\", \"to\",\"contractAddress\", \"tokenID\", \"nonce\", \"tokenName\", \"gasPrice\", \"gasUsed\", \"chainName\", \"tokenType\"]]\n",
    "    for i in range(start,end):\n",
    "        try:\n",
    "            api_url = f'https://api.etherscan.io/api?module=account&action=tokennfttx&address={ethereum_addresses[i]}&endblock={endblock}&apikey={etherscan_token}'\n",
    "            # make the API request and extract the transfer events\n",
    "            response = session.get(api_url)\n",
    "            transfers = response.json()['result']\n",
    "            token_transfer_data = [(tx['timeStamp'], tx['hash'], tx['from'], tx['to'], tx['contractAddress'], tx['tokenID'], tx['nonce'], tx['tokenName'], tx['gasPrice'],tx['gasUsed'], 'Ethereum', '721') for tx in transfers]\n",
    "            data.extend(token_transfer_data)\n",
    "            time.sleep(0.02)\n",
    "            if i%1000==0:\n",
    "                current_time = datetime.datetime.now().strftime('%Y-%m-%d %H:%M:%S')\n",
    "                print(f'{current_time} Addresses done: {i} / {len(ethereum_addresses)} ({i/len(ethereum_addresses)*100} %)')\n",
    "\n",
    "        except Exception as e:\n",
    "            print(f\"Error in {ethereum_addresses[i]}: {str(e)}\")\n",
    "            errors.append(ethereum_addresses[i])\n",
    "            continue\n",
    "\n",
    "    # Write csv file\n",
    "    with open(f'../data/ethereum_erc721_{start}-{end}.csv', 'w', newline='') as csvfile:\n",
    "        writer = csv.writer(csvfile)\n",
    "        writer.writerows(data)\n",
    "    print('CSV successfully written')\n",
    "\n",
    "    start = end + 1\n",
    "    end += batch_size\n",
    "    if end > len(ethereum_addresses) - 1:\n",
    "        end = len(ethereum_addresses) - 1"
   ],
   "metadata": {
    "collapsed": false,
    "pycharm": {
     "name": "#%%\n"
    }
   }
  },
  {
   "cell_type": "markdown",
   "source": [
    "### ERC1155 Transfers"
   ],
   "metadata": {
    "collapsed": false,
    "pycharm": {
     "name": "#%% md\n"
    }
   }
  },
  {
   "cell_type": "code",
   "execution_count": 7,
   "outputs": [
    {
     "name": "stdout",
     "output_type": "stream",
     "text": [
      "Iteration 0 started\n",
      "2023-07-13 02:26:34 Addresses done: 0 / 59651 (0.0 %)\n",
      "2023-07-13 02:30:01 Addresses done: 1000 / 59651 (1.676417830380044 %)\n",
      "2023-07-13 02:33:43 Addresses done: 2000 / 59651 (3.352835660760088 %)\n",
      "2023-07-13 02:38:10 Addresses done: 3000 / 59651 (5.029253491140132 %)\n",
      "2023-07-13 02:41:35 Addresses done: 4000 / 59651 (6.705671321520176 %)\n",
      "2023-07-13 02:45:15 Addresses done: 5000 / 59651 (8.38208915190022 %)\n",
      "2023-07-13 02:48:47 Addresses done: 6000 / 59651 (10.058506982280264 %)\n",
      "2023-07-13 02:52:22 Addresses done: 7000 / 59651 (11.734924812660308 %)\n",
      "2023-07-13 02:56:12 Addresses done: 8000 / 59651 (13.411342643040353 %)\n",
      "2023-07-13 02:59:38 Addresses done: 9000 / 59651 (15.087760473420394 %)\n",
      "2023-07-13 03:03:37 Addresses done: 10000 / 59651 (16.76417830380044 %)\n",
      "2023-07-13 03:07:23 Addresses done: 11000 / 59651 (18.440596134180485 %)\n",
      "2023-07-13 03:11:07 Addresses done: 12000 / 59651 (20.117013964560527 %)\n",
      "2023-07-13 03:14:58 Addresses done: 13000 / 59651 (21.79343179494057 %)\n",
      "2023-07-13 03:19:20 Addresses done: 14000 / 59651 (23.469849625320617 %)\n",
      "2023-07-13 03:23:10 Addresses done: 15000 / 59651 (25.14626745570066 %)\n",
      "2023-07-13 03:27:07 Addresses done: 16000 / 59651 (26.822685286080706 %)\n",
      "2023-07-13 03:31:46 Addresses done: 17000 / 59651 (28.499103116460745 %)\n",
      "2023-07-13 03:35:11 Addresses done: 18000 / 59651 (30.175520946840788 %)\n",
      "2023-07-13 03:38:42 Addresses done: 19000 / 59651 (31.851938777220834 %)\n",
      "CSV successfully written\n",
      "Iteration 1 started\n",
      "2023-07-13 03:45:48 Addresses done: 21000 / 59651 (35.20477443798092 %)\n",
      "2023-07-13 03:49:42 Addresses done: 22000 / 59651 (36.88119226836097 %)\n",
      "2023-07-13 03:53:25 Addresses done: 23000 / 59651 (38.55761009874101 %)\n",
      "2023-07-13 03:58:01 Addresses done: 24000 / 59651 (40.234027929121055 %)\n",
      "2023-07-13 04:03:44 Addresses done: 25000 / 59651 (41.910445759501094 %)\n",
      "2023-07-13 04:07:54 Addresses done: 26000 / 59651 (43.58686358988114 %)\n",
      "2023-07-13 04:11:48 Addresses done: 27000 / 59651 (45.26328142026119 %)\n",
      "2023-07-13 04:15:15 Addresses done: 28000 / 59651 (46.93969925064123 %)\n",
      "2023-07-13 04:18:50 Addresses done: 29000 / 59651 (48.61611708102128 %)\n",
      "2023-07-13 04:22:33 Addresses done: 30000 / 59651 (50.29253491140132 %)\n",
      "Error in 0x834d6363d1d4548c4bdd2a388f1701360639f0c1: ('Connection aborted.', RemoteDisconnected('Remote end closed connection without response'))\n",
      "2023-07-13 04:26:08 Addresses done: 31000 / 59651 (51.96895274178136 %)\n",
      "2023-07-13 04:29:35 Addresses done: 32000 / 59651 (53.64537057216141 %)\n",
      "2023-07-13 04:33:03 Addresses done: 33000 / 59651 (55.32178840254145 %)\n",
      "2023-07-13 04:36:26 Addresses done: 34000 / 59651 (56.99820623292149 %)\n",
      "2023-07-13 04:39:59 Addresses done: 35000 / 59651 (58.674624063301536 %)\n",
      "Error in 0x987a1c951d807ebcbbd644d51e510013429f43c3: ('Connection aborted.', RemoteDisconnected('Remote end closed connection without response'))\n",
      "2023-07-13 04:44:12 Addresses done: 36000 / 59651 (60.351041893681575 %)\n",
      "Error in 0x9a1d6753de309e5522ee3ac1205d826f2e198b0b: ('Connection aborted.', RemoteDisconnected('Remote end closed connection without response'))\n",
      "2023-07-13 04:47:34 Addresses done: 37000 / 59651 (62.02745972406163 %)\n",
      "2023-07-13 04:51:04 Addresses done: 38000 / 59651 (63.70387755444167 %)\n",
      "2023-07-13 04:54:46 Addresses done: 39000 / 59651 (65.38029538482172 %)\n",
      "CSV successfully written\n",
      "Iteration 2 started\n",
      "2023-07-13 05:02:01 Addresses done: 41000 / 59651 (68.7331310455818 %)\n",
      "2023-07-13 05:06:29 Addresses done: 42000 / 59651 (70.40954887596185 %)\n",
      "2023-07-13 05:11:01 Addresses done: 43000 / 59651 (72.08596670634189 %)\n",
      "2023-07-13 05:14:49 Addresses done: 44000 / 59651 (73.76238453672194 %)\n",
      "2023-07-13 05:18:52 Addresses done: 45000 / 59651 (75.43880236710197 %)\n",
      "2023-07-13 05:22:32 Addresses done: 46000 / 59651 (77.11522019748202 %)\n",
      "2023-07-13 05:26:25 Addresses done: 47000 / 59651 (78.79163802786206 %)\n",
      "2023-07-13 05:29:54 Addresses done: 48000 / 59651 (80.46805585824211 %)\n",
      "2023-07-13 05:33:55 Addresses done: 49000 / 59651 (82.14447368862216 %)\n",
      "2023-07-13 05:37:29 Addresses done: 50000 / 59651 (83.82089151900219 %)\n",
      "2023-07-13 05:41:06 Addresses done: 51000 / 59651 (85.49730934938225 %)\n",
      "2023-07-13 05:44:35 Addresses done: 52000 / 59651 (87.17372717976228 %)\n",
      "2023-07-13 05:48:13 Addresses done: 53000 / 59651 (88.85014501014233 %)\n",
      "2023-07-13 05:52:08 Addresses done: 54000 / 59651 (90.52656284052237 %)\n",
      "2023-07-13 05:55:35 Addresses done: 55000 / 59651 (92.2029806709024 %)\n",
      "2023-07-13 05:58:54 Addresses done: 56000 / 59651 (93.87939850128247 %)\n",
      "2023-07-13 06:02:31 Addresses done: 57000 / 59651 (95.5558163316625 %)\n",
      "2023-07-13 06:06:01 Addresses done: 58000 / 59651 (97.23223416204256 %)\n",
      "2023-07-13 06:09:39 Addresses done: 59000 / 59651 (98.90865199242259 %)\n",
      "CSV successfully written\n"
     ]
    }
   ],
   "source": [
    "# Variables\n",
    "start = 0\n",
    "batch_size = 20000\n",
    "end = start + batch_size\n",
    "iteration = math.ceil(len(ethereum_addresses) / batch_size)\n",
    "errors = []\n",
    "\n",
    "for j in range(0,iteration):\n",
    "    print(f'Iteration {j} started')\n",
    "    data = [[\"timeStamp\", \"hash\", \"from\", \"to\", \"contractAddress\", \"tokenID\", \"tokenValue\", \"tokenName\", \"nonce\", \"gasPrice\", \"gasUsed\", \"chainName\", \"tokenType\"]]\n",
    "    for i in range(start,end):\n",
    "        try:\n",
    "            api_url = f'https://api.etherscan.io/api?module=account&action=token1155tx&address={ethereum_addresses[i]}&endblock={endblock}&apikey={etherscan_token}'\n",
    "            # make the API request and extract the transaction data\n",
    "            response = session.get(api_url)\n",
    "            transfers = response.json()['result']\n",
    "            token_transfer_data = [(tx['timeStamp'], tx['hash'], tx['from'], tx['to'], tx['contractAddress'], tx['tokenID'], tx['tokenValue'], tx['tokenName'], tx['nonce'], tx['gasPrice'], tx['gasUsed'], \"Ethereum\", \"1155\" ) for tx in transfers]\n",
    "            data.extend(token_transfer_data)\n",
    "            time.sleep(0.02)\n",
    "            if i%1000==0:\n",
    "                current_time = datetime.datetime.now().strftime('%Y-%m-%d %H:%M:%S')\n",
    "                print(f'{current_time} Addresses done: {i} / {len(ethereum_addresses)} ({i/len(ethereum_addresses)*100} %)')\n",
    "\n",
    "        except Exception as e:\n",
    "            print(f\"Error in {ethereum_addresses[i]}: {str(e)}\")\n",
    "            errors.append(ethereum_addresses[i])\n",
    "            continue\n",
    "\n",
    "    # Write csv file\n",
    "    with open(f'../data/ethereum_erc1155_{start}-{end}.csv', 'w', newline='') as csvfile:\n",
    "        writer = csv.writer(csvfile)\n",
    "        writer.writerows(data)\n",
    "    print('CSV successfully written')\n",
    "\n",
    "    start = end + 1\n",
    "    end += batch_size\n",
    "    if end > len(ethereum_addresses) - 1:\n",
    "        end = len(ethereum_addresses) - 1"
   ],
   "metadata": {
    "collapsed": false,
    "pycharm": {
     "name": "#%%\n"
    }
   }
  },
  {
   "cell_type": "markdown",
   "source": [
    "### Transactions"
   ],
   "metadata": {
    "collapsed": false,
    "pycharm": {
     "name": "#%% md\n"
    }
   }
  },
  {
   "cell_type": "code",
   "execution_count": 8,
   "outputs": [
    {
     "name": "stdout",
     "output_type": "stream",
     "text": [
      "Iteration 0 started\n",
      "2023-07-13 12:16:01 Addresses done: 0 / 59651 (0.0 %)\n",
      "2023-07-13 12:20:23 Addresses done: 1000 / 59651 (1.676417830380044 %)\n",
      "2023-07-13 12:24:53 Addresses done: 2000 / 59651 (3.352835660760088 %)\n",
      "2023-07-13 12:29:17 Addresses done: 3000 / 59651 (5.029253491140132 %)\n",
      "2023-07-13 12:33:43 Addresses done: 4000 / 59651 (6.705671321520176 %)\n",
      "2023-07-13 12:38:19 Addresses done: 5000 / 59651 (8.38208915190022 %)\n",
      "2023-07-13 12:42:37 Addresses done: 6000 / 59651 (10.058506982280264 %)\n",
      "2023-07-13 12:47:07 Addresses done: 7000 / 59651 (11.734924812660308 %)\n",
      "2023-07-13 12:51:45 Addresses done: 8000 / 59651 (13.411342643040353 %)\n",
      "2023-07-13 12:56:04 Addresses done: 9000 / 59651 (15.087760473420394 %)\n",
      "2023-07-13 13:00:21 Addresses done: 10000 / 59651 (16.76417830380044 %)\n",
      "2023-07-13 13:05:36 Addresses done: 11000 / 59651 (18.440596134180485 %)\n",
      "2023-07-13 13:10:37 Addresses done: 12000 / 59651 (20.117013964560527 %)\n",
      "Error in 0x36092aa71ee2c420cecf62cafeb7e657dde92ec7: HTTPSConnectionPool(host='api.etherscan.io', port=443): Read timed out. (read timeout=None)\n",
      "2023-07-13 13:16:57 Addresses done: 13000 / 59651 (21.79343179494057 %)\n",
      "Error in 0x3854bc2bb3d62bed03acccaa93f24368c2f10c0b: HTTPSConnectionPool(host='api.etherscan.io', port=443): Read timed out. (read timeout=None)\n",
      "2023-07-13 13:22:20 Addresses done: 14000 / 59651 (23.469849625320617 %)\n",
      "2023-07-13 13:26:39 Addresses done: 15000 / 59651 (25.14626745570066 %)\n",
      "2023-07-13 13:31:03 Addresses done: 16000 / 59651 (26.822685286080706 %)\n",
      "2023-07-13 13:35:34 Addresses done: 17000 / 59651 (28.499103116460745 %)\n",
      "2023-07-13 13:41:18 Addresses done: 18000 / 59651 (30.175520946840788 %)\n",
      "2023-07-13 13:45:39 Addresses done: 19000 / 59651 (31.851938777220834 %)\n",
      "CSV successfully written\n",
      "Iteration 1 started\n",
      "2023-07-13 13:55:11 Addresses done: 21000 / 59651 (35.20477443798092 %)\n",
      "2023-07-13 13:59:17 Addresses done: 22000 / 59651 (36.88119226836097 %)\n",
      "2023-07-13 14:03:50 Addresses done: 23000 / 59651 (38.55761009874101 %)\n",
      "2023-07-13 14:08:19 Addresses done: 24000 / 59651 (40.234027929121055 %)\n",
      "2023-07-13 14:13:08 Addresses done: 25000 / 59651 (41.910445759501094 %)\n",
      "2023-07-13 14:17:29 Addresses done: 26000 / 59651 (43.58686358988114 %)\n",
      "2023-07-13 14:21:49 Addresses done: 27000 / 59651 (45.26328142026119 %)\n",
      "2023-07-13 14:26:00 Addresses done: 28000 / 59651 (46.93969925064123 %)\n",
      "2023-07-13 14:30:51 Addresses done: 29000 / 59651 (48.61611708102128 %)\n",
      "2023-07-13 14:35:12 Addresses done: 30000 / 59651 (50.29253491140132 %)\n",
      "2023-07-13 14:39:36 Addresses done: 31000 / 59651 (51.96895274178136 %)\n",
      "2023-07-13 14:43:53 Addresses done: 32000 / 59651 (53.64537057216141 %)\n",
      "2023-07-13 14:49:21 Addresses done: 33000 / 59651 (55.32178840254145 %)\n",
      "2023-07-13 14:53:42 Addresses done: 34000 / 59651 (56.99820623292149 %)\n",
      "2023-07-13 14:57:47 Addresses done: 35000 / 59651 (58.674624063301536 %)\n",
      "2023-07-13 15:02:05 Addresses done: 36000 / 59651 (60.351041893681575 %)\n",
      "2023-07-13 15:06:57 Addresses done: 37000 / 59651 (62.02745972406163 %)\n",
      "2023-07-13 15:11:16 Addresses done: 38000 / 59651 (63.70387755444167 %)\n",
      "2023-07-13 15:15:53 Addresses done: 39000 / 59651 (65.38029538482172 %)\n",
      "CSV successfully written\n",
      "Iteration 2 started\n",
      "2023-07-13 15:25:25 Addresses done: 41000 / 59651 (68.7331310455818 %)\n",
      "2023-07-13 15:29:47 Addresses done: 42000 / 59651 (70.40954887596185 %)\n",
      "2023-07-13 15:34:09 Addresses done: 43000 / 59651 (72.08596670634189 %)\n",
      "2023-07-13 15:38:38 Addresses done: 44000 / 59651 (73.76238453672194 %)\n",
      "2023-07-13 15:42:44 Addresses done: 45000 / 59651 (75.43880236710197 %)\n",
      "2023-07-13 15:47:04 Addresses done: 46000 / 59651 (77.11522019748202 %)\n",
      "2023-07-13 15:51:52 Addresses done: 47000 / 59651 (78.79163802786206 %)\n",
      "2023-07-13 15:56:33 Addresses done: 48000 / 59651 (80.46805585824211 %)\n",
      "2023-07-13 16:00:47 Addresses done: 49000 / 59651 (82.14447368862216 %)\n",
      "2023-07-13 16:05:27 Addresses done: 50000 / 59651 (83.82089151900219 %)\n",
      "2023-07-13 16:10:18 Addresses done: 51000 / 59651 (85.49730934938225 %)\n",
      "2023-07-13 16:14:40 Addresses done: 52000 / 59651 (87.17372717976228 %)\n",
      "2023-07-13 16:19:12 Addresses done: 53000 / 59651 (88.85014501014233 %)\n",
      "2023-07-13 16:23:26 Addresses done: 54000 / 59651 (90.52656284052237 %)\n",
      "2023-07-13 16:28:33 Addresses done: 55000 / 59651 (92.2029806709024 %)\n",
      "2023-07-13 16:32:44 Addresses done: 56000 / 59651 (93.87939850128247 %)\n",
      "2023-07-13 16:37:05 Addresses done: 57000 / 59651 (95.5558163316625 %)\n",
      "2023-07-13 16:41:09 Addresses done: 58000 / 59651 (97.23223416204256 %)\n",
      "2023-07-13 16:45:31 Addresses done: 59000 / 59651 (98.90865199242259 %)\n",
      "CSV successfully written\n"
     ]
    }
   ],
   "source": [
    "start = 0\n",
    "batch_size = 20000\n",
    "end = start + batch_size\n",
    "iteration = math.ceil(len(ethereum_addresses) / batch_size)\n",
    "errors = []\n",
    "\n",
    "for j in range(0,iteration):\n",
    "    print(f'Iteration {j} started')\n",
    "    data = [[\"hash\", \"from\", \"to\", \"timeStamp\", \"nonce\", \"value\", \"gasPrice\", \"input\", \"gasUsed\", \"functionName\", \"chainName\"]]\n",
    "    for i in range(start,end):\n",
    "        try:\n",
    "            api_url = f'https://api.etherscan.io/api?module=account&action=txlist&address={ethereum_addresses[i]}&endblock={endblock}&apikey={etherscan_token}'\n",
    "            # make the API request and extract the transaction data\n",
    "            response = session.get(api_url)\n",
    "            transactions = response.json()['result']\n",
    "            tx_data = [(tx['hash'], tx['from'], tx['to'], tx['timeStamp'], tx['nonce'], tx['value'], tx['gasPrice'], tx['input'], tx['gasUsed'], tx['functionName'], \"Ethereum\") for tx in transactions]\n",
    "            data.extend(tx_data)\n",
    "            time.sleep(0.02)\n",
    "            if i%1000==0:\n",
    "                current_time = datetime.datetime.now().strftime('%Y-%m-%d %H:%M:%S')\n",
    "                print(f'{current_time} Addresses done: {i} / {len(ethereum_addresses)} ({i/len(ethereum_addresses)*100} %)')\n",
    "        except Exception as e:\n",
    "            print(f\"Error in {ethereum_addresses[i]}: {str(e)}\")\n",
    "            errors.append(ethereum_addresses[i])\n",
    "            continue\n",
    "\n",
    "    # Write csv file\n",
    "    with open(f'../data/transactions_ethereum_{start}-{end}.csv', 'w', newline='') as csvfile:\n",
    "        writer = csv.writer(csvfile)\n",
    "        writer.writerows(data)\n",
    "    print('CSV successfully written')\n",
    "\n",
    "    start = end + 1\n",
    "    end += batch_size\n",
    "    if end > len(ethereum_addresses) - 1:\n",
    "        end = len(ethereum_addresses) - 1"
   ],
   "metadata": {
    "collapsed": false,
    "pycharm": {
     "name": "#%%\n"
    }
   }
  },
  {
   "cell_type": "code",
   "execution_count": null,
   "outputs": [],
   "source": [],
   "metadata": {
    "collapsed": false,
    "pycharm": {
     "name": "#%%\n"
    }
   }
  }
 ],
 "metadata": {
  "kernelspec": {
   "display_name": "Python 3",
   "language": "python",
   "name": "python3"
  },
  "language_info": {
   "codemirror_mode": {
    "name": "ipython",
    "version": 2
   },
   "file_extension": ".py",
   "mimetype": "text/x-python",
   "name": "python",
   "nbconvert_exporter": "python",
   "pygments_lexer": "ipython2",
   "version": "2.7.6"
  }
 },
 "nbformat": 4,
 "nbformat_minor": 0
}