{
 "cells": [
  {
   "cell_type": "code",
   "execution_count": 2,
   "metadata": {
    "collapsed": true
   },
   "outputs": [
    {
     "name": "stderr",
     "output_type": "stream",
     "text": [
      "/Users/dthuerkauf/Desktop/Crypto/masterseminar/python/venv/lib/python3.9/site-packages/ens/main.py:285: FutureWarning: The function signature for resolver() will change in v6 to accept `name` as a the positional argument, over `normal_name`, and the method will instead normalize the name internally. You may migrate to using `name` by passing it in as a keyword, e.g. resolver(name=\"ensname.eth\").\n",
      "  warnings.warn(\n"
     ]
    },
    {
     "name": "stdout",
     "output_type": "stream",
     "text": [
      "vitalik.eth\n"
     ]
    }
   ],
   "source": [
    "import pandas as pd\n",
    "from web3 import Web3\n",
    "from pymongo import MongoClient\n",
    "\n",
    "# Connect to db collections\n",
    "client = MongoClient('mongodb://localhost:27017/')\n",
    "db = client['address-clustering']\n",
    "transfers = db['transfers']\n",
    "\n",
    "## Connect to Infura\n",
    "infura_url = 'https://mainnet.infura.io/v3/315913b854b7474b82c69ded14f25b72'\n",
    "w3 = Web3(Web3.HTTPProvider(infura_url))\n",
    "\n",
    "## Test\n",
    "vitalik_address = '0xd8dA6BF26964aF9D7eEd9e03E53415D37aA96045'.lower()\n",
    "vitalik = w3.ens.name(vitalik_address)\n",
    "print(vitalik)"
   ]
  },
  {
   "cell_type": "code",
   "execution_count": null,
   "outputs": [],
   "source": [
    "## Get addresses that interacted with ENS as a list\n",
    "query_conditions = {\n",
    "    \"tokenName\": \"Ethereum Name Service\",\n",
    "    \"tokenType\": 721\n",
    "}\n",
    "\n",
    "ens_df = pd.DataFrame(list(transfers.find(query_conditions)))\n",
    "ens_users = ens_df['userAddress'].unique().tolist()"
   ],
   "metadata": {
    "collapsed": false,
    "pycharm": {
     "name": "#%%\n"
    }
   }
  },
  {
   "cell_type": "code",
   "execution_count": null,
   "outputs": [],
   "source": [
    "data = []\n",
    "\n",
    "# For each address, try to find the ENS name\n",
    "for i,address in enumerate(ens_users):\n",
    "    ens_name = w3.ens.name(address)\n",
    "    data.append([address, ens_name])\n",
    "    if i%100 == 0:\n",
    "        print(f'Addresses checked: {i}/{len(ens_users)}')\n",
    "\n",
    "# Create DataFrame\n",
    "df = pd.DataFrame(data, columns=['Address', 'ENS Name'])\n",
    "df.to_csv('../data/ens_list.csv')"
   ],
   "metadata": {
    "collapsed": false,
    "pycharm": {
     "name": "#%%\n"
    }
   }
  },
  {
   "cell_type": "code",
   "execution_count": 4,
   "outputs": [
    {
     "data": {
      "text/plain": "                ENS Name                                          Addresses\n0           anisofim.eth  [0x85e5472752a6f00775faca4d5179bde1081571b0, 0...\n1        arisalzberg.eth  [0x94e59547b8c68924380c90e729488f3e79ff8d22, 0...\n2            atearnz.eth  [0x5500c014dc83d18c60858195b42f2e61f877323e, 0...\n3            awedjob.eth  [0xc939519869c946e4bdca8fd0b6459048c4aebae2, 0...\n4          captvicky.eth  [0x33e51a1141c44cc8bcb9b50c4a3c7ab59f4cf68c, 0...\n5          disruptor.eth  [0xb84914f420b6de809ac1ed3d4427d90ed596b41c, 0...\n6       dragonkiller.eth  [0x4fdafeadb7c2f127e3c1719a99c01680cc8ddab1, 0...\n7            eibriel.eth  [0x05c351382db8d770207f319d96ac1184c3717ede, 0...\n8          epdrabbit.eth  [0x26846c9083c4ab525de593178e3f2f82afb8ba83, 0...\n9          erikarand.eth  [0xe005c90eb8b38938cfe722e7069118414145709b, 0...\n10         hyperspek.eth  [0x5c4fe960950ba0e09a72869c3d51fe70f07580e0, 0...\n11   jamesmillerblog.eth  [0x38a66799f30e7b2b0e7095a141aca56dd6f4f7c8, 0...\n12          jasonhsu.eth  [0x1a26db1b2baf0b23f18e19375e8fdc159feb707e, 0...\n13             joeyz.eth  [0x250fbb28b2cd0a9faadc2d8a1d1c72f69163ac29, 0...\n14           keastie.eth  [0x84ab65f45d3f8067f8bbff80f2248cd1ab4d96be, 0...\n15             linkg.eth  [0x580bb63d47242964fa5fe9e69c5eb5423b7a50d2, 0...\n16             lulox.eth  [0xe2beae512697913951cdd85db49545b077a90699, 0...\n17           maruudn.eth  [0xe2cfeab2beba9a7f09fd981f13e84df1e9978a5e, 0...\n18           maryana.eth  [0x370f859a2f31d40192e1879eb97d64e6459bc8e4, 0...\n19          meanboss.eth  [0x974c1cb84f439826c100b20063c24d72226fd4a8, 0...\n20     metatiger.dcl.eth  [0x05d460310a2d785d0bd5b586c8f6402e70366fae, 0...\n21        mgdivingnz.eth  [0x1e84c5351ad32ed179c14ed4f015748c417841a6, 0...\n22            mrcryp.eth  [0xed41aa4abb256b13f02b87cd66a39ddc7a6c9a22, 0...\n23        nicebhaiya.eth  [0xe104414bf575f943e7f94e55e7f59ed086035af4, 0...\n24           niceguy.eth  [0x5528bc911d6bc284cf4da89560534508e7638de4, 0...\n25       ornellaweb3.eth  [0x2d84cfb9cba0e8e4d7511a88cb7102a984fdb0ba, 0...\n26         pinkboots.eth  [0xa5dbd5f2f45cec05ace6c08f0b75bec711ea9517, 0...\n27              remx.eth  [0x6401f5b9f88c489495fb95ba7aa4276a353bebb8, 0...\n28        rileybeans.eth  [0x54a80e0417008db88036f4fb2c4646264717f7a6, 0...\n29       robertjames.eth  [0xa65da49bb89ec7b1a10f3887ae07e4c9c8eea168, 0...\n30           rsantos.eth  [0x08a2f4a84a06a0331b015bd1320ed20e1a9be688, 0...\n31            sannin.eth  [0x4bcfb57149dd1e8ec510bc2cc490bc4c43c7af8f, 0...\n32         smileface.eth  [0x32712bb04948da01d11c9aa6b3e77daeda014781, 0...\n33  theartcollection.eth  [0x1094ee0c78b81581c8c8ea34bc2eec8a4bd20756, 0...\n34          turkii13.eth  [0x325a0fa68fc381be451f57d6be7f84da206427fd, 0...\n35         tweetious.eth  [0x8b104344f397afc33ee55c743a0fbd7d956201cd, 0...\n36             willg.eth  [0x493df7506210e55a893d70e61d812d824ca1c489, 0...\n37            wpunks.eth  [0x7938d79352ef0f58cd2058f930629928ae74b790, 0...\n38            zolder.eth  [0x11610d0bf661d3ccbb9493cf23184f68ecfe4783, 0...",
      "text/html": "<div>\n<style scoped>\n    .dataframe tbody tr th:only-of-type {\n        vertical-align: middle;\n    }\n\n    .dataframe tbody tr th {\n        vertical-align: top;\n    }\n\n    .dataframe thead th {\n        text-align: right;\n    }\n</style>\n<table border=\"1\" class=\"dataframe\">\n  <thead>\n    <tr style=\"text-align: right;\">\n      <th></th>\n      <th>ENS Name</th>\n      <th>Addresses</th>\n    </tr>\n  </thead>\n  <tbody>\n    <tr>\n      <th>0</th>\n      <td>anisofim.eth</td>\n      <td>[0x85e5472752a6f00775faca4d5179bde1081571b0, 0...</td>\n    </tr>\n    <tr>\n      <th>1</th>\n      <td>arisalzberg.eth</td>\n      <td>[0x94e59547b8c68924380c90e729488f3e79ff8d22, 0...</td>\n    </tr>\n    <tr>\n      <th>2</th>\n      <td>atearnz.eth</td>\n      <td>[0x5500c014dc83d18c60858195b42f2e61f877323e, 0...</td>\n    </tr>\n    <tr>\n      <th>3</th>\n      <td>awedjob.eth</td>\n      <td>[0xc939519869c946e4bdca8fd0b6459048c4aebae2, 0...</td>\n    </tr>\n    <tr>\n      <th>4</th>\n      <td>captvicky.eth</td>\n      <td>[0x33e51a1141c44cc8bcb9b50c4a3c7ab59f4cf68c, 0...</td>\n    </tr>\n    <tr>\n      <th>5</th>\n      <td>disruptor.eth</td>\n      <td>[0xb84914f420b6de809ac1ed3d4427d90ed596b41c, 0...</td>\n    </tr>\n    <tr>\n      <th>6</th>\n      <td>dragonkiller.eth</td>\n      <td>[0x4fdafeadb7c2f127e3c1719a99c01680cc8ddab1, 0...</td>\n    </tr>\n    <tr>\n      <th>7</th>\n      <td>eibriel.eth</td>\n      <td>[0x05c351382db8d770207f319d96ac1184c3717ede, 0...</td>\n    </tr>\n    <tr>\n      <th>8</th>\n      <td>epdrabbit.eth</td>\n      <td>[0x26846c9083c4ab525de593178e3f2f82afb8ba83, 0...</td>\n    </tr>\n    <tr>\n      <th>9</th>\n      <td>erikarand.eth</td>\n      <td>[0xe005c90eb8b38938cfe722e7069118414145709b, 0...</td>\n    </tr>\n    <tr>\n      <th>10</th>\n      <td>hyperspek.eth</td>\n      <td>[0x5c4fe960950ba0e09a72869c3d51fe70f07580e0, 0...</td>\n    </tr>\n    <tr>\n      <th>11</th>\n      <td>jamesmillerblog.eth</td>\n      <td>[0x38a66799f30e7b2b0e7095a141aca56dd6f4f7c8, 0...</td>\n    </tr>\n    <tr>\n      <th>12</th>\n      <td>jasonhsu.eth</td>\n      <td>[0x1a26db1b2baf0b23f18e19375e8fdc159feb707e, 0...</td>\n    </tr>\n    <tr>\n      <th>13</th>\n      <td>joeyz.eth</td>\n      <td>[0x250fbb28b2cd0a9faadc2d8a1d1c72f69163ac29, 0...</td>\n    </tr>\n    <tr>\n      <th>14</th>\n      <td>keastie.eth</td>\n      <td>[0x84ab65f45d3f8067f8bbff80f2248cd1ab4d96be, 0...</td>\n    </tr>\n    <tr>\n      <th>15</th>\n      <td>linkg.eth</td>\n      <td>[0x580bb63d47242964fa5fe9e69c5eb5423b7a50d2, 0...</td>\n    </tr>\n    <tr>\n      <th>16</th>\n      <td>lulox.eth</td>\n      <td>[0xe2beae512697913951cdd85db49545b077a90699, 0...</td>\n    </tr>\n    <tr>\n      <th>17</th>\n      <td>maruudn.eth</td>\n      <td>[0xe2cfeab2beba9a7f09fd981f13e84df1e9978a5e, 0...</td>\n    </tr>\n    <tr>\n      <th>18</th>\n      <td>maryana.eth</td>\n      <td>[0x370f859a2f31d40192e1879eb97d64e6459bc8e4, 0...</td>\n    </tr>\n    <tr>\n      <th>19</th>\n      <td>meanboss.eth</td>\n      <td>[0x974c1cb84f439826c100b20063c24d72226fd4a8, 0...</td>\n    </tr>\n    <tr>\n      <th>20</th>\n      <td>metatiger.dcl.eth</td>\n      <td>[0x05d460310a2d785d0bd5b586c8f6402e70366fae, 0...</td>\n    </tr>\n    <tr>\n      <th>21</th>\n      <td>mgdivingnz.eth</td>\n      <td>[0x1e84c5351ad32ed179c14ed4f015748c417841a6, 0...</td>\n    </tr>\n    <tr>\n      <th>22</th>\n      <td>mrcryp.eth</td>\n      <td>[0xed41aa4abb256b13f02b87cd66a39ddc7a6c9a22, 0...</td>\n    </tr>\n    <tr>\n      <th>23</th>\n      <td>nicebhaiya.eth</td>\n      <td>[0xe104414bf575f943e7f94e55e7f59ed086035af4, 0...</td>\n    </tr>\n    <tr>\n      <th>24</th>\n      <td>niceguy.eth</td>\n      <td>[0x5528bc911d6bc284cf4da89560534508e7638de4, 0...</td>\n    </tr>\n    <tr>\n      <th>25</th>\n      <td>ornellaweb3.eth</td>\n      <td>[0x2d84cfb9cba0e8e4d7511a88cb7102a984fdb0ba, 0...</td>\n    </tr>\n    <tr>\n      <th>26</th>\n      <td>pinkboots.eth</td>\n      <td>[0xa5dbd5f2f45cec05ace6c08f0b75bec711ea9517, 0...</td>\n    </tr>\n    <tr>\n      <th>27</th>\n      <td>remx.eth</td>\n      <td>[0x6401f5b9f88c489495fb95ba7aa4276a353bebb8, 0...</td>\n    </tr>\n    <tr>\n      <th>28</th>\n      <td>rileybeans.eth</td>\n      <td>[0x54a80e0417008db88036f4fb2c4646264717f7a6, 0...</td>\n    </tr>\n    <tr>\n      <th>29</th>\n      <td>robertjames.eth</td>\n      <td>[0xa65da49bb89ec7b1a10f3887ae07e4c9c8eea168, 0...</td>\n    </tr>\n    <tr>\n      <th>30</th>\n      <td>rsantos.eth</td>\n      <td>[0x08a2f4a84a06a0331b015bd1320ed20e1a9be688, 0...</td>\n    </tr>\n    <tr>\n      <th>31</th>\n      <td>sannin.eth</td>\n      <td>[0x4bcfb57149dd1e8ec510bc2cc490bc4c43c7af8f, 0...</td>\n    </tr>\n    <tr>\n      <th>32</th>\n      <td>smileface.eth</td>\n      <td>[0x32712bb04948da01d11c9aa6b3e77daeda014781, 0...</td>\n    </tr>\n    <tr>\n      <th>33</th>\n      <td>theartcollection.eth</td>\n      <td>[0x1094ee0c78b81581c8c8ea34bc2eec8a4bd20756, 0...</td>\n    </tr>\n    <tr>\n      <th>34</th>\n      <td>turkii13.eth</td>\n      <td>[0x325a0fa68fc381be451f57d6be7f84da206427fd, 0...</td>\n    </tr>\n    <tr>\n      <th>35</th>\n      <td>tweetious.eth</td>\n      <td>[0x8b104344f397afc33ee55c743a0fbd7d956201cd, 0...</td>\n    </tr>\n    <tr>\n      <th>36</th>\n      <td>willg.eth</td>\n      <td>[0x493df7506210e55a893d70e61d812d824ca1c489, 0...</td>\n    </tr>\n    <tr>\n      <th>37</th>\n      <td>wpunks.eth</td>\n      <td>[0x7938d79352ef0f58cd2058f930629928ae74b790, 0...</td>\n    </tr>\n    <tr>\n      <th>38</th>\n      <td>zolder.eth</td>\n      <td>[0x11610d0bf661d3ccbb9493cf23184f68ecfe4783, 0...</td>\n    </tr>\n  </tbody>\n</table>\n</div>"
     },
     "execution_count": 4,
     "metadata": {},
     "output_type": "execute_result"
    }
   ],
   "source": [
    "df = pd.read_csv('../data/ens_list.csv')\n",
    "\n",
    "# group by ENS Name and filter ens names with exactly 2 addresses\n",
    "grouped_df = df.groupby('ENS Name').filter(lambda x: len(x) == 2)\n",
    "\n",
    "# for each ENS name in the filtered df, get the list of associated addresses\n",
    "data = []\n",
    "for ens_name, group in grouped_df.groupby('ENS Name'):\n",
    "    addresses = group['Address'].tolist()\n",
    "    data.append([ens_name, addresses])\n",
    "\n",
    "# create a new dataframe\n",
    "ens_addresses_df = pd.DataFrame(data, columns=['ENS Name', 'Addresses'])\n",
    "ens_addresses_df"
   ],
   "metadata": {
    "collapsed": false,
    "pycharm": {
     "name": "#%%\n"
    }
   }
  }
 ],
 "metadata": {
  "kernelspec": {
   "display_name": "Python 3",
   "language": "python",
   "name": "python3"
  },
  "language_info": {
   "codemirror_mode": {
    "name": "ipython",
    "version": 2
   },
   "file_extension": ".py",
   "mimetype": "text/x-python",
   "name": "python",
   "nbconvert_exporter": "python",
   "pygments_lexer": "ipython2",
   "version": "2.7.6"
  }
 },
 "nbformat": 4,
 "nbformat_minor": 0
}