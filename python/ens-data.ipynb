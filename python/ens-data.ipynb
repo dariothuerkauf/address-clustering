{
 "cells": [
  {
   "cell_type": "code",
   "execution_count": 12,
   "metadata": {
    "collapsed": true
   },
   "outputs": [
    {
     "name": "stderr",
     "output_type": "stream",
     "text": [
      "/Users/dthuerkauf/Desktop/Crypto/masterseminar/python/venv/lib/python3.9/site-packages/ens/main.py:285: FutureWarning: The function signature for resolver() will change in v6 to accept `name` as a the positional argument, over `normal_name`, and the method will instead normalize the name internally. You may migrate to using `name` by passing it in as a keyword, e.g. resolver(name=\"ensname.eth\").\n",
      "  warnings.warn(\n"
     ]
    },
    {
     "name": "stdout",
     "output_type": "stream",
     "text": [
      "vitalik.eth\n"
     ]
    }
   ],
   "source": [
    "import pandas as pd\n",
    "from web3 import Web3\n",
    "from pymongo import MongoClient\n",
    "\n",
    "# Connect to db collections\n",
    "client = MongoClient('mongodb://localhost:27017/')\n",
    "db = client['address-clustering']\n",
    "transfers = db['transfers']\n",
    "\n",
    "## Connect to Infura\n",
    "infura_url = 'https://mainnet.infura.io/v3/315913b854b7474b82c69ded14f25b72'\n",
    "w3 = Web3(Web3.HTTPProvider(infura_url))\n",
    "\n",
    "## Test\n",
    "# Look up the name that the address points to, using a reverse lookup. Reverse lookup is opt-in for name owners.\n",
    "vitalik_address = '0xd8dA6BF26964aF9D7eEd9e03E53415D37aA96045'.lower()\n",
    "vitalik = w3.ens.name(vitalik_address)\n",
    "print(vitalik)"
   ]
  },
  {
   "cell_type": "code",
   "execution_count": 13,
   "outputs": [
    {
     "ename": "KeyboardInterrupt",
     "evalue": "",
     "output_type": "error",
     "traceback": [
      "\u001B[0;31m---------------------------------------------------------------------------\u001B[0m",
      "\u001B[0;31mKeyboardInterrupt\u001B[0m                         Traceback (most recent call last)",
      "Cell \u001B[0;32mIn[13], line 7\u001B[0m\n\u001B[1;32m      1\u001B[0m \u001B[38;5;66;03m## Get addresses that interacted with ENS as a list\u001B[39;00m\n\u001B[1;32m      2\u001B[0m query_conditions \u001B[38;5;241m=\u001B[39m {\n\u001B[1;32m      3\u001B[0m     \u001B[38;5;124m\"\u001B[39m\u001B[38;5;124mtokenName\u001B[39m\u001B[38;5;124m\"\u001B[39m: \u001B[38;5;124m\"\u001B[39m\u001B[38;5;124mEthereum Name Service\u001B[39m\u001B[38;5;124m\"\u001B[39m,\n\u001B[1;32m      4\u001B[0m     \u001B[38;5;124m\"\u001B[39m\u001B[38;5;124mtokenType\u001B[39m\u001B[38;5;124m\"\u001B[39m: \u001B[38;5;241m721\u001B[39m\n\u001B[1;32m      5\u001B[0m }\n\u001B[0;32m----> 7\u001B[0m ens_df \u001B[38;5;241m=\u001B[39m pd\u001B[38;5;241m.\u001B[39mDataFrame(\u001B[38;5;28;43mlist\u001B[39;49m\u001B[43m(\u001B[49m\u001B[43mtransfers\u001B[49m\u001B[38;5;241;43m.\u001B[39;49m\u001B[43mfind\u001B[49m\u001B[43m(\u001B[49m\u001B[43mquery_conditions\u001B[49m\u001B[43m)\u001B[49m\u001B[43m)\u001B[49m)\n\u001B[1;32m      8\u001B[0m ens_users \u001B[38;5;241m=\u001B[39m ens_df[\u001B[38;5;124m'\u001B[39m\u001B[38;5;124muserAddress\u001B[39m\u001B[38;5;124m'\u001B[39m]\u001B[38;5;241m.\u001B[39munique()\u001B[38;5;241m.\u001B[39mtolist()\n",
      "File \u001B[0;32m~/Desktop/Crypto/masterseminar/python/venv/lib/python3.9/site-packages/pymongo/cursor.py:1248\u001B[0m, in \u001B[0;36mCursor.next\u001B[0;34m(self)\u001B[0m\n\u001B[1;32m   1246\u001B[0m \u001B[38;5;28;01mif\u001B[39;00m \u001B[38;5;28mself\u001B[39m\u001B[38;5;241m.\u001B[39m__empty:\n\u001B[1;32m   1247\u001B[0m     \u001B[38;5;28;01mraise\u001B[39;00m \u001B[38;5;167;01mStopIteration\u001B[39;00m\n\u001B[0;32m-> 1248\u001B[0m \u001B[38;5;28;01mif\u001B[39;00m \u001B[38;5;28mlen\u001B[39m(\u001B[38;5;28mself\u001B[39m\u001B[38;5;241m.\u001B[39m__data) \u001B[38;5;129;01mor\u001B[39;00m \u001B[38;5;28;43mself\u001B[39;49m\u001B[38;5;241;43m.\u001B[39;49m\u001B[43m_refresh\u001B[49m\u001B[43m(\u001B[49m\u001B[43m)\u001B[49m:\n\u001B[1;32m   1249\u001B[0m     \u001B[38;5;28;01mreturn\u001B[39;00m \u001B[38;5;28mself\u001B[39m\u001B[38;5;241m.\u001B[39m__data\u001B[38;5;241m.\u001B[39mpopleft()\n\u001B[1;32m   1250\u001B[0m \u001B[38;5;28;01melse\u001B[39;00m:\n",
      "File \u001B[0;32m~/Desktop/Crypto/masterseminar/python/venv/lib/python3.9/site-packages/pymongo/cursor.py:1165\u001B[0m, in \u001B[0;36mCursor._refresh\u001B[0;34m(self)\u001B[0m\n\u001B[1;32m   1143\u001B[0m         \u001B[38;5;28;01mraise\u001B[39;00m InvalidOperation(\n\u001B[1;32m   1144\u001B[0m             \u001B[38;5;124m\"\u001B[39m\u001B[38;5;124mPassing a \u001B[39m\u001B[38;5;124m'\u001B[39m\u001B[38;5;124mhint\u001B[39m\u001B[38;5;124m'\u001B[39m\u001B[38;5;124m is required when using the min/max query\u001B[39m\u001B[38;5;124m\"\u001B[39m\n\u001B[1;32m   1145\u001B[0m             \u001B[38;5;124m\"\u001B[39m\u001B[38;5;124m option to ensure the query utilizes the correct index\u001B[39m\u001B[38;5;124m\"\u001B[39m\n\u001B[1;32m   1146\u001B[0m         )\n\u001B[1;32m   1147\u001B[0m     q \u001B[38;5;241m=\u001B[39m \u001B[38;5;28mself\u001B[39m\u001B[38;5;241m.\u001B[39m_query_class(\n\u001B[1;32m   1148\u001B[0m         \u001B[38;5;28mself\u001B[39m\u001B[38;5;241m.\u001B[39m__query_flags,\n\u001B[1;32m   1149\u001B[0m         \u001B[38;5;28mself\u001B[39m\u001B[38;5;241m.\u001B[39m__collection\u001B[38;5;241m.\u001B[39mdatabase\u001B[38;5;241m.\u001B[39mname,\n\u001B[0;32m   (...)\u001B[0m\n\u001B[1;32m   1163\u001B[0m         \u001B[38;5;28mself\u001B[39m\u001B[38;5;241m.\u001B[39m__exhaust,\n\u001B[1;32m   1164\u001B[0m     )\n\u001B[0;32m-> 1165\u001B[0m     \u001B[38;5;28;43mself\u001B[39;49m\u001B[38;5;241;43m.\u001B[39;49m\u001B[43m__send_message\u001B[49m\u001B[43m(\u001B[49m\u001B[43mq\u001B[49m\u001B[43m)\u001B[49m\n\u001B[1;32m   1166\u001B[0m \u001B[38;5;28;01melif\u001B[39;00m \u001B[38;5;28mself\u001B[39m\u001B[38;5;241m.\u001B[39m__id:  \u001B[38;5;66;03m# Get More\u001B[39;00m\n\u001B[1;32m   1167\u001B[0m     \u001B[38;5;28;01mif\u001B[39;00m \u001B[38;5;28mself\u001B[39m\u001B[38;5;241m.\u001B[39m__limit:\n",
      "File \u001B[0;32m~/Desktop/Crypto/masterseminar/python/venv/lib/python3.9/site-packages/pymongo/cursor.py:1052\u001B[0m, in \u001B[0;36mCursor.__send_message\u001B[0;34m(self, operation)\u001B[0m\n\u001B[1;32m   1049\u001B[0m     \u001B[38;5;28;01mraise\u001B[39;00m InvalidOperation(\u001B[38;5;124m\"\u001B[39m\u001B[38;5;124mexhaust cursors do not support auto encryption\u001B[39m\u001B[38;5;124m\"\u001B[39m)\n\u001B[1;32m   1051\u001B[0m \u001B[38;5;28;01mtry\u001B[39;00m:\n\u001B[0;32m-> 1052\u001B[0m     response \u001B[38;5;241m=\u001B[39m \u001B[43mclient\u001B[49m\u001B[38;5;241;43m.\u001B[39;49m\u001B[43m_run_operation\u001B[49m\u001B[43m(\u001B[49m\n\u001B[1;32m   1053\u001B[0m \u001B[43m        \u001B[49m\u001B[43moperation\u001B[49m\u001B[43m,\u001B[49m\u001B[43m \u001B[49m\u001B[38;5;28;43mself\u001B[39;49m\u001B[38;5;241;43m.\u001B[39;49m\u001B[43m_unpack_response\u001B[49m\u001B[43m,\u001B[49m\u001B[43m \u001B[49m\u001B[43maddress\u001B[49m\u001B[38;5;241;43m=\u001B[39;49m\u001B[38;5;28;43mself\u001B[39;49m\u001B[38;5;241;43m.\u001B[39;49m\u001B[43m__address\u001B[49m\n\u001B[1;32m   1054\u001B[0m \u001B[43m    \u001B[49m\u001B[43m)\u001B[49m\n\u001B[1;32m   1055\u001B[0m \u001B[38;5;28;01mexcept\u001B[39;00m OperationFailure \u001B[38;5;28;01mas\u001B[39;00m exc:\n\u001B[1;32m   1056\u001B[0m     \u001B[38;5;28;01mif\u001B[39;00m exc\u001B[38;5;241m.\u001B[39mcode \u001B[38;5;129;01min\u001B[39;00m _CURSOR_CLOSED_ERRORS \u001B[38;5;129;01mor\u001B[39;00m \u001B[38;5;28mself\u001B[39m\u001B[38;5;241m.\u001B[39m__exhaust:\n\u001B[1;32m   1057\u001B[0m         \u001B[38;5;66;03m# Don't send killCursors because the cursor is already closed.\u001B[39;00m\n",
      "File \u001B[0;32m~/Desktop/Crypto/masterseminar/python/venv/lib/python3.9/site-packages/pymongo/_csot.py:105\u001B[0m, in \u001B[0;36mapply.<locals>.csot_wrapper\u001B[0;34m(self, *args, **kwargs)\u001B[0m\n\u001B[1;32m    103\u001B[0m         \u001B[38;5;28;01mwith\u001B[39;00m _TimeoutContext(timeout):\n\u001B[1;32m    104\u001B[0m             \u001B[38;5;28;01mreturn\u001B[39;00m func(\u001B[38;5;28mself\u001B[39m, \u001B[38;5;241m*\u001B[39margs, \u001B[38;5;241m*\u001B[39m\u001B[38;5;241m*\u001B[39mkwargs)\n\u001B[0;32m--> 105\u001B[0m \u001B[38;5;28;01mreturn\u001B[39;00m \u001B[43mfunc\u001B[49m\u001B[43m(\u001B[49m\u001B[38;5;28;43mself\u001B[39;49m\u001B[43m,\u001B[49m\u001B[43m \u001B[49m\u001B[38;5;241;43m*\u001B[39;49m\u001B[43margs\u001B[49m\u001B[43m,\u001B[49m\u001B[43m \u001B[49m\u001B[38;5;241;43m*\u001B[39;49m\u001B[38;5;241;43m*\u001B[39;49m\u001B[43mkwargs\u001B[49m\u001B[43m)\u001B[49m\n",
      "File \u001B[0;32m~/Desktop/Crypto/masterseminar/python/venv/lib/python3.9/site-packages/pymongo/mongo_client.py:1330\u001B[0m, in \u001B[0;36mMongoClient._run_operation\u001B[0;34m(self, operation, unpack_res, address)\u001B[0m\n\u001B[1;32m   1325\u001B[0m     operation\u001B[38;5;241m.\u001B[39mreset()  \u001B[38;5;66;03m# Reset op in case of retry.\u001B[39;00m\n\u001B[1;32m   1326\u001B[0m     \u001B[38;5;28;01mreturn\u001B[39;00m server\u001B[38;5;241m.\u001B[39mrun_operation(\n\u001B[1;32m   1327\u001B[0m         sock_info, operation, read_preference, \u001B[38;5;28mself\u001B[39m\u001B[38;5;241m.\u001B[39m_event_listeners, unpack_res\n\u001B[1;32m   1328\u001B[0m     )\n\u001B[0;32m-> 1330\u001B[0m \u001B[38;5;28;01mreturn\u001B[39;00m \u001B[38;5;28;43mself\u001B[39;49m\u001B[38;5;241;43m.\u001B[39;49m\u001B[43m_retryable_read\u001B[49m\u001B[43m(\u001B[49m\n\u001B[1;32m   1331\u001B[0m \u001B[43m    \u001B[49m\u001B[43m_cmd\u001B[49m\u001B[43m,\u001B[49m\n\u001B[1;32m   1332\u001B[0m \u001B[43m    \u001B[49m\u001B[43moperation\u001B[49m\u001B[38;5;241;43m.\u001B[39;49m\u001B[43mread_preference\u001B[49m\u001B[43m,\u001B[49m\n\u001B[1;32m   1333\u001B[0m \u001B[43m    \u001B[49m\u001B[43moperation\u001B[49m\u001B[38;5;241;43m.\u001B[39;49m\u001B[43msession\u001B[49m\u001B[43m,\u001B[49m\n\u001B[1;32m   1334\u001B[0m \u001B[43m    \u001B[49m\u001B[43maddress\u001B[49m\u001B[38;5;241;43m=\u001B[39;49m\u001B[43maddress\u001B[49m\u001B[43m,\u001B[49m\n\u001B[1;32m   1335\u001B[0m \u001B[43m    \u001B[49m\u001B[43mretryable\u001B[49m\u001B[38;5;241;43m=\u001B[39;49m\u001B[38;5;28;43misinstance\u001B[39;49m\u001B[43m(\u001B[49m\u001B[43moperation\u001B[49m\u001B[43m,\u001B[49m\u001B[43m \u001B[49m\u001B[43mmessage\u001B[49m\u001B[38;5;241;43m.\u001B[39;49m\u001B[43m_Query\u001B[49m\u001B[43m)\u001B[49m\u001B[43m,\u001B[49m\n\u001B[1;32m   1336\u001B[0m \u001B[43m\u001B[49m\u001B[43m)\u001B[49m\n",
      "File \u001B[0;32m~/Desktop/Crypto/masterseminar/python/venv/lib/python3.9/site-packages/pymongo/_csot.py:105\u001B[0m, in \u001B[0;36mapply.<locals>.csot_wrapper\u001B[0;34m(self, *args, **kwargs)\u001B[0m\n\u001B[1;32m    103\u001B[0m         \u001B[38;5;28;01mwith\u001B[39;00m _TimeoutContext(timeout):\n\u001B[1;32m    104\u001B[0m             \u001B[38;5;28;01mreturn\u001B[39;00m func(\u001B[38;5;28mself\u001B[39m, \u001B[38;5;241m*\u001B[39margs, \u001B[38;5;241m*\u001B[39m\u001B[38;5;241m*\u001B[39mkwargs)\n\u001B[0;32m--> 105\u001B[0m \u001B[38;5;28;01mreturn\u001B[39;00m \u001B[43mfunc\u001B[49m\u001B[43m(\u001B[49m\u001B[38;5;28;43mself\u001B[39;49m\u001B[43m,\u001B[49m\u001B[43m \u001B[49m\u001B[38;5;241;43m*\u001B[39;49m\u001B[43margs\u001B[49m\u001B[43m,\u001B[49m\u001B[43m \u001B[49m\u001B[38;5;241;43m*\u001B[39;49m\u001B[38;5;241;43m*\u001B[39;49m\u001B[43mkwargs\u001B[49m\u001B[43m)\u001B[49m\n",
      "File \u001B[0;32m~/Desktop/Crypto/masterseminar/python/venv/lib/python3.9/site-packages/pymongo/mongo_client.py:1448\u001B[0m, in \u001B[0;36mMongoClient._retryable_read\u001B[0;34m(self, func, read_pref, session, address, retryable)\u001B[0m\n\u001B[1;32m   1446\u001B[0m             \u001B[38;5;28;01massert\u001B[39;00m last_error \u001B[38;5;129;01mis\u001B[39;00m \u001B[38;5;129;01mnot\u001B[39;00m \u001B[38;5;28;01mNone\u001B[39;00m\n\u001B[1;32m   1447\u001B[0m             \u001B[38;5;28;01mraise\u001B[39;00m last_error\n\u001B[0;32m-> 1448\u001B[0m         \u001B[38;5;28;01mreturn\u001B[39;00m \u001B[43mfunc\u001B[49m\u001B[43m(\u001B[49m\u001B[43msession\u001B[49m\u001B[43m,\u001B[49m\u001B[43m \u001B[49m\u001B[43mserver\u001B[49m\u001B[43m,\u001B[49m\u001B[43m \u001B[49m\u001B[43msock_info\u001B[49m\u001B[43m,\u001B[49m\u001B[43m \u001B[49m\u001B[43mread_pref\u001B[49m\u001B[43m)\u001B[49m\n\u001B[1;32m   1449\u001B[0m \u001B[38;5;28;01mexcept\u001B[39;00m ServerSelectionTimeoutError:\n\u001B[1;32m   1450\u001B[0m     \u001B[38;5;28;01mif\u001B[39;00m retrying:\n\u001B[1;32m   1451\u001B[0m         \u001B[38;5;66;03m# The application may think the write was never attempted\u001B[39;00m\n\u001B[1;32m   1452\u001B[0m         \u001B[38;5;66;03m# if we raise ServerSelectionTimeoutError on the retry\u001B[39;00m\n\u001B[1;32m   1453\u001B[0m         \u001B[38;5;66;03m# attempt. Raise the original exception instead.\u001B[39;00m\n",
      "File \u001B[0;32m~/Desktop/Crypto/masterseminar/python/venv/lib/python3.9/site-packages/pymongo/mongo_client.py:1326\u001B[0m, in \u001B[0;36mMongoClient._run_operation.<locals>._cmd\u001B[0;34m(session, server, sock_info, read_preference)\u001B[0m\n\u001B[1;32m   1324\u001B[0m \u001B[38;5;28;01mdef\u001B[39;00m \u001B[38;5;21m_cmd\u001B[39m(session, server, sock_info, read_preference):\n\u001B[1;32m   1325\u001B[0m     operation\u001B[38;5;241m.\u001B[39mreset()  \u001B[38;5;66;03m# Reset op in case of retry.\u001B[39;00m\n\u001B[0;32m-> 1326\u001B[0m     \u001B[38;5;28;01mreturn\u001B[39;00m \u001B[43mserver\u001B[49m\u001B[38;5;241;43m.\u001B[39;49m\u001B[43mrun_operation\u001B[49m\u001B[43m(\u001B[49m\n\u001B[1;32m   1327\u001B[0m \u001B[43m        \u001B[49m\u001B[43msock_info\u001B[49m\u001B[43m,\u001B[49m\u001B[43m \u001B[49m\u001B[43moperation\u001B[49m\u001B[43m,\u001B[49m\u001B[43m \u001B[49m\u001B[43mread_preference\u001B[49m\u001B[43m,\u001B[49m\u001B[43m \u001B[49m\u001B[38;5;28;43mself\u001B[39;49m\u001B[38;5;241;43m.\u001B[39;49m\u001B[43m_event_listeners\u001B[49m\u001B[43m,\u001B[49m\u001B[43m \u001B[49m\u001B[43munpack_res\u001B[49m\n\u001B[1;32m   1328\u001B[0m \u001B[43m    \u001B[49m\u001B[43m)\u001B[49m\n",
      "File \u001B[0;32m~/Desktop/Crypto/masterseminar/python/venv/lib/python3.9/site-packages/pymongo/server.py:115\u001B[0m, in \u001B[0;36mServer.run_operation\u001B[0;34m(self, sock_info, operation, read_preference, listeners, unpack_res)\u001B[0m\n\u001B[1;32m    113\u001B[0m \u001B[38;5;28;01melse\u001B[39;00m:\n\u001B[1;32m    114\u001B[0m     sock_info\u001B[38;5;241m.\u001B[39msend_message(data, max_doc_size)\n\u001B[0;32m--> 115\u001B[0m     reply \u001B[38;5;241m=\u001B[39m \u001B[43msock_info\u001B[49m\u001B[38;5;241;43m.\u001B[39;49m\u001B[43mreceive_message\u001B[49m\u001B[43m(\u001B[49m\u001B[43mrequest_id\u001B[49m\u001B[43m)\u001B[49m\n\u001B[1;32m    117\u001B[0m \u001B[38;5;66;03m# Unpack and check for command errors.\u001B[39;00m\n\u001B[1;32m    118\u001B[0m \u001B[38;5;28;01mif\u001B[39;00m use_cmd:\n",
      "File \u001B[0;32m~/Desktop/Crypto/masterseminar/python/venv/lib/python3.9/site-packages/pymongo/pool.py:821\u001B[0m, in \u001B[0;36mSocketInfo.receive_message\u001B[0;34m(self, request_id)\u001B[0m\n\u001B[1;32m    819\u001B[0m     \u001B[38;5;28;01mreturn\u001B[39;00m receive_message(\u001B[38;5;28mself\u001B[39m, request_id, \u001B[38;5;28mself\u001B[39m\u001B[38;5;241m.\u001B[39mmax_message_size)\n\u001B[1;32m    820\u001B[0m \u001B[38;5;28;01mexcept\u001B[39;00m \u001B[38;5;167;01mBaseException\u001B[39;00m \u001B[38;5;28;01mas\u001B[39;00m error:\n\u001B[0;32m--> 821\u001B[0m     \u001B[38;5;28;43mself\u001B[39;49m\u001B[38;5;241;43m.\u001B[39;49m\u001B[43m_raise_connection_failure\u001B[49m\u001B[43m(\u001B[49m\u001B[43merror\u001B[49m\u001B[43m)\u001B[49m\n",
      "File \u001B[0;32m~/Desktop/Crypto/masterseminar/python/venv/lib/python3.9/site-packages/pymongo/pool.py:819\u001B[0m, in \u001B[0;36mSocketInfo.receive_message\u001B[0;34m(self, request_id)\u001B[0m\n\u001B[1;32m    814\u001B[0m \u001B[38;5;124;03m\"\"\"Receive a raw BSON message or raise ConnectionFailure.\u001B[39;00m\n\u001B[1;32m    815\u001B[0m \n\u001B[1;32m    816\u001B[0m \u001B[38;5;124;03mIf any exception is raised, the socket is closed.\u001B[39;00m\n\u001B[1;32m    817\u001B[0m \u001B[38;5;124;03m\"\"\"\u001B[39;00m\n\u001B[1;32m    818\u001B[0m \u001B[38;5;28;01mtry\u001B[39;00m:\n\u001B[0;32m--> 819\u001B[0m     \u001B[38;5;28;01mreturn\u001B[39;00m \u001B[43mreceive_message\u001B[49m\u001B[43m(\u001B[49m\u001B[38;5;28;43mself\u001B[39;49m\u001B[43m,\u001B[49m\u001B[43m \u001B[49m\u001B[43mrequest_id\u001B[49m\u001B[43m,\u001B[49m\u001B[43m \u001B[49m\u001B[38;5;28;43mself\u001B[39;49m\u001B[38;5;241;43m.\u001B[39;49m\u001B[43mmax_message_size\u001B[49m\u001B[43m)\u001B[49m\n\u001B[1;32m    820\u001B[0m \u001B[38;5;28;01mexcept\u001B[39;00m \u001B[38;5;167;01mBaseException\u001B[39;00m \u001B[38;5;28;01mas\u001B[39;00m error:\n\u001B[1;32m    821\u001B[0m     \u001B[38;5;28mself\u001B[39m\u001B[38;5;241m.\u001B[39m_raise_connection_failure(error)\n",
      "File \u001B[0;32m~/Desktop/Crypto/masterseminar/python/venv/lib/python3.9/site-packages/pymongo/network.py:217\u001B[0m, in \u001B[0;36mreceive_message\u001B[0;34m(sock_info, request_id, max_message_size)\u001B[0m\n\u001B[1;32m    214\u001B[0m         deadline \u001B[38;5;241m=\u001B[39m \u001B[38;5;28;01mNone\u001B[39;00m\n\u001B[1;32m    215\u001B[0m \u001B[38;5;66;03m# Ignore the response's request id.\u001B[39;00m\n\u001B[1;32m    216\u001B[0m length, _, response_to, op_code \u001B[38;5;241m=\u001B[39m _UNPACK_HEADER(\n\u001B[0;32m--> 217\u001B[0m     \u001B[43m_receive_data_on_socket\u001B[49m\u001B[43m(\u001B[49m\u001B[43msock_info\u001B[49m\u001B[43m,\u001B[49m\u001B[43m \u001B[49m\u001B[38;5;241;43m16\u001B[39;49m\u001B[43m,\u001B[49m\u001B[43m \u001B[49m\u001B[43mdeadline\u001B[49m\u001B[43m)\u001B[49m\n\u001B[1;32m    218\u001B[0m )\n\u001B[1;32m    219\u001B[0m \u001B[38;5;66;03m# No request_id for exhaust cursor \"getMore\".\u001B[39;00m\n\u001B[1;32m    220\u001B[0m \u001B[38;5;28;01mif\u001B[39;00m request_id \u001B[38;5;129;01mis\u001B[39;00m \u001B[38;5;129;01mnot\u001B[39;00m \u001B[38;5;28;01mNone\u001B[39;00m:\n",
      "File \u001B[0;32m~/Desktop/Crypto/masterseminar/python/venv/lib/python3.9/site-packages/pymongo/network.py:299\u001B[0m, in \u001B[0;36m_receive_data_on_socket\u001B[0;34m(sock_info, length, deadline)\u001B[0m\n\u001B[1;32m    297\u001B[0m     \u001B[38;5;28;01mif\u001B[39;00m _csot\u001B[38;5;241m.\u001B[39mget_timeout():\n\u001B[1;32m    298\u001B[0m         sock_info\u001B[38;5;241m.\u001B[39mset_socket_timeout(\u001B[38;5;28mmax\u001B[39m(deadline \u001B[38;5;241m-\u001B[39m time\u001B[38;5;241m.\u001B[39mmonotonic(), \u001B[38;5;241m0\u001B[39m))\n\u001B[0;32m--> 299\u001B[0m     chunk_length \u001B[38;5;241m=\u001B[39m \u001B[43msock_info\u001B[49m\u001B[38;5;241;43m.\u001B[39;49m\u001B[43msock\u001B[49m\u001B[38;5;241;43m.\u001B[39;49m\u001B[43mrecv_into\u001B[49m\u001B[43m(\u001B[49m\u001B[43mmv\u001B[49m\u001B[43m[\u001B[49m\u001B[43mbytes_read\u001B[49m\u001B[43m:\u001B[49m\u001B[43m]\u001B[49m\u001B[43m)\u001B[49m\n\u001B[1;32m    300\u001B[0m \u001B[38;5;28;01mexcept\u001B[39;00m BLOCKING_IO_ERRORS:\n\u001B[1;32m    301\u001B[0m     \u001B[38;5;28;01mraise\u001B[39;00m socket\u001B[38;5;241m.\u001B[39mtimeout(\u001B[38;5;124m\"\u001B[39m\u001B[38;5;124mtimed out\u001B[39m\u001B[38;5;124m\"\u001B[39m)\n",
      "\u001B[0;31mKeyboardInterrupt\u001B[0m: "
     ]
    }
   ],
   "source": [
    "## Get addresses that interacted with ENS as a list\n",
    "query_conditions = {\n",
    "    \"tokenName\": \"Ethereum Name Service\",\n",
    "    \"tokenType\": 721\n",
    "}\n",
    "\n",
    "ens_df = pd.DataFrame(list(transfers.find(query_conditions)))\n",
    "ens_users = ens_df['userAddress'].unique().tolist()"
   ],
   "metadata": {
    "collapsed": false,
    "pycharm": {
     "name": "#%%\n"
    }
   }
  },
  {
   "cell_type": "code",
   "execution_count": null,
   "outputs": [],
   "source": [
    "data = []\n",
    "\n",
    "# For each address, find the ENS name it points to\n",
    "for i,address in enumerate(ens_users):\n",
    "    ens_name = w3.ens.name(address)\n",
    "    data.append([address, ens_name])\n",
    "    if i%100 == 0:\n",
    "        print(f'Addresses checked: {i}/{len(ens_users)}')\n",
    "\n",
    "# Create DataFrame\n",
    "df = pd.DataFrame(data, columns=['Address', 'ENS Name'])\n",
    "df.to_csv('../data/ens_list.csv')"
   ],
   "metadata": {
    "collapsed": false,
    "pycharm": {
     "name": "#%%\n"
    }
   }
  },
  {
   "cell_type": "code",
   "execution_count": 4,
   "outputs": [
    {
     "data": {
      "text/plain": "                ENS Name                                          Addresses\n0           anisofim.eth  [0x85e5472752a6f00775faca4d5179bde1081571b0, 0...\n1        arisalzberg.eth  [0x94e59547b8c68924380c90e729488f3e79ff8d22, 0...\n2            atearnz.eth  [0x5500c014dc83d18c60858195b42f2e61f877323e, 0...\n3            awedjob.eth  [0xc939519869c946e4bdca8fd0b6459048c4aebae2, 0...\n4          captvicky.eth  [0x33e51a1141c44cc8bcb9b50c4a3c7ab59f4cf68c, 0...\n5          disruptor.eth  [0xb84914f420b6de809ac1ed3d4427d90ed596b41c, 0...\n6       dragonkiller.eth  [0x4fdafeadb7c2f127e3c1719a99c01680cc8ddab1, 0...\n7            eibriel.eth  [0x05c351382db8d770207f319d96ac1184c3717ede, 0...\n8          epdrabbit.eth  [0x26846c9083c4ab525de593178e3f2f82afb8ba83, 0...\n9          erikarand.eth  [0xe005c90eb8b38938cfe722e7069118414145709b, 0...\n10         hyperspek.eth  [0x5c4fe960950ba0e09a72869c3d51fe70f07580e0, 0...\n11   jamesmillerblog.eth  [0x38a66799f30e7b2b0e7095a141aca56dd6f4f7c8, 0...\n12          jasonhsu.eth  [0x1a26db1b2baf0b23f18e19375e8fdc159feb707e, 0...\n13             joeyz.eth  [0x250fbb28b2cd0a9faadc2d8a1d1c72f69163ac29, 0...\n14           keastie.eth  [0x84ab65f45d3f8067f8bbff80f2248cd1ab4d96be, 0...\n15             linkg.eth  [0x580bb63d47242964fa5fe9e69c5eb5423b7a50d2, 0...\n16             lulox.eth  [0xe2beae512697913951cdd85db49545b077a90699, 0...\n17           maruudn.eth  [0xe2cfeab2beba9a7f09fd981f13e84df1e9978a5e, 0...\n18           maryana.eth  [0x370f859a2f31d40192e1879eb97d64e6459bc8e4, 0...\n19          meanboss.eth  [0x974c1cb84f439826c100b20063c24d72226fd4a8, 0...\n20     metatiger.dcl.eth  [0x05d460310a2d785d0bd5b586c8f6402e70366fae, 0...\n21        mgdivingnz.eth  [0x1e84c5351ad32ed179c14ed4f015748c417841a6, 0...\n22            mrcryp.eth  [0xed41aa4abb256b13f02b87cd66a39ddc7a6c9a22, 0...\n23        nicebhaiya.eth  [0xe104414bf575f943e7f94e55e7f59ed086035af4, 0...\n24           niceguy.eth  [0x5528bc911d6bc284cf4da89560534508e7638de4, 0...\n25       ornellaweb3.eth  [0x2d84cfb9cba0e8e4d7511a88cb7102a984fdb0ba, 0...\n26         pinkboots.eth  [0xa5dbd5f2f45cec05ace6c08f0b75bec711ea9517, 0...\n27              remx.eth  [0x6401f5b9f88c489495fb95ba7aa4276a353bebb8, 0...\n28        rileybeans.eth  [0x54a80e0417008db88036f4fb2c4646264717f7a6, 0...\n29       robertjames.eth  [0xa65da49bb89ec7b1a10f3887ae07e4c9c8eea168, 0...\n30           rsantos.eth  [0x08a2f4a84a06a0331b015bd1320ed20e1a9be688, 0...\n31            sannin.eth  [0x4bcfb57149dd1e8ec510bc2cc490bc4c43c7af8f, 0...\n32         smileface.eth  [0x32712bb04948da01d11c9aa6b3e77daeda014781, 0...\n33  theartcollection.eth  [0x1094ee0c78b81581c8c8ea34bc2eec8a4bd20756, 0...\n34          turkii13.eth  [0x325a0fa68fc381be451f57d6be7f84da206427fd, 0...\n35         tweetious.eth  [0x8b104344f397afc33ee55c743a0fbd7d956201cd, 0...\n36             willg.eth  [0x493df7506210e55a893d70e61d812d824ca1c489, 0...\n37            wpunks.eth  [0x7938d79352ef0f58cd2058f930629928ae74b790, 0...\n38            zolder.eth  [0x11610d0bf661d3ccbb9493cf23184f68ecfe4783, 0...",
      "text/html": "<div>\n<style scoped>\n    .dataframe tbody tr th:only-of-type {\n        vertical-align: middle;\n    }\n\n    .dataframe tbody tr th {\n        vertical-align: top;\n    }\n\n    .dataframe thead th {\n        text-align: right;\n    }\n</style>\n<table border=\"1\" class=\"dataframe\">\n  <thead>\n    <tr style=\"text-align: right;\">\n      <th></th>\n      <th>ENS Name</th>\n      <th>Addresses</th>\n    </tr>\n  </thead>\n  <tbody>\n    <tr>\n      <th>0</th>\n      <td>anisofim.eth</td>\n      <td>[0x85e5472752a6f00775faca4d5179bde1081571b0, 0...</td>\n    </tr>\n    <tr>\n      <th>1</th>\n      <td>arisalzberg.eth</td>\n      <td>[0x94e59547b8c68924380c90e729488f3e79ff8d22, 0...</td>\n    </tr>\n    <tr>\n      <th>2</th>\n      <td>atearnz.eth</td>\n      <td>[0x5500c014dc83d18c60858195b42f2e61f877323e, 0...</td>\n    </tr>\n    <tr>\n      <th>3</th>\n      <td>awedjob.eth</td>\n      <td>[0xc939519869c946e4bdca8fd0b6459048c4aebae2, 0...</td>\n    </tr>\n    <tr>\n      <th>4</th>\n      <td>captvicky.eth</td>\n      <td>[0x33e51a1141c44cc8bcb9b50c4a3c7ab59f4cf68c, 0...</td>\n    </tr>\n    <tr>\n      <th>5</th>\n      <td>disruptor.eth</td>\n      <td>[0xb84914f420b6de809ac1ed3d4427d90ed596b41c, 0...</td>\n    </tr>\n    <tr>\n      <th>6</th>\n      <td>dragonkiller.eth</td>\n      <td>[0x4fdafeadb7c2f127e3c1719a99c01680cc8ddab1, 0...</td>\n    </tr>\n    <tr>\n      <th>7</th>\n      <td>eibriel.eth</td>\n      <td>[0x05c351382db8d770207f319d96ac1184c3717ede, 0...</td>\n    </tr>\n    <tr>\n      <th>8</th>\n      <td>epdrabbit.eth</td>\n      <td>[0x26846c9083c4ab525de593178e3f2f82afb8ba83, 0...</td>\n    </tr>\n    <tr>\n      <th>9</th>\n      <td>erikarand.eth</td>\n      <td>[0xe005c90eb8b38938cfe722e7069118414145709b, 0...</td>\n    </tr>\n    <tr>\n      <th>10</th>\n      <td>hyperspek.eth</td>\n      <td>[0x5c4fe960950ba0e09a72869c3d51fe70f07580e0, 0...</td>\n    </tr>\n    <tr>\n      <th>11</th>\n      <td>jamesmillerblog.eth</td>\n      <td>[0x38a66799f30e7b2b0e7095a141aca56dd6f4f7c8, 0...</td>\n    </tr>\n    <tr>\n      <th>12</th>\n      <td>jasonhsu.eth</td>\n      <td>[0x1a26db1b2baf0b23f18e19375e8fdc159feb707e, 0...</td>\n    </tr>\n    <tr>\n      <th>13</th>\n      <td>joeyz.eth</td>\n      <td>[0x250fbb28b2cd0a9faadc2d8a1d1c72f69163ac29, 0...</td>\n    </tr>\n    <tr>\n      <th>14</th>\n      <td>keastie.eth</td>\n      <td>[0x84ab65f45d3f8067f8bbff80f2248cd1ab4d96be, 0...</td>\n    </tr>\n    <tr>\n      <th>15</th>\n      <td>linkg.eth</td>\n      <td>[0x580bb63d47242964fa5fe9e69c5eb5423b7a50d2, 0...</td>\n    </tr>\n    <tr>\n      <th>16</th>\n      <td>lulox.eth</td>\n      <td>[0xe2beae512697913951cdd85db49545b077a90699, 0...</td>\n    </tr>\n    <tr>\n      <th>17</th>\n      <td>maruudn.eth</td>\n      <td>[0xe2cfeab2beba9a7f09fd981f13e84df1e9978a5e, 0...</td>\n    </tr>\n    <tr>\n      <th>18</th>\n      <td>maryana.eth</td>\n      <td>[0x370f859a2f31d40192e1879eb97d64e6459bc8e4, 0...</td>\n    </tr>\n    <tr>\n      <th>19</th>\n      <td>meanboss.eth</td>\n      <td>[0x974c1cb84f439826c100b20063c24d72226fd4a8, 0...</td>\n    </tr>\n    <tr>\n      <th>20</th>\n      <td>metatiger.dcl.eth</td>\n      <td>[0x05d460310a2d785d0bd5b586c8f6402e70366fae, 0...</td>\n    </tr>\n    <tr>\n      <th>21</th>\n      <td>mgdivingnz.eth</td>\n      <td>[0x1e84c5351ad32ed179c14ed4f015748c417841a6, 0...</td>\n    </tr>\n    <tr>\n      <th>22</th>\n      <td>mrcryp.eth</td>\n      <td>[0xed41aa4abb256b13f02b87cd66a39ddc7a6c9a22, 0...</td>\n    </tr>\n    <tr>\n      <th>23</th>\n      <td>nicebhaiya.eth</td>\n      <td>[0xe104414bf575f943e7f94e55e7f59ed086035af4, 0...</td>\n    </tr>\n    <tr>\n      <th>24</th>\n      <td>niceguy.eth</td>\n      <td>[0x5528bc911d6bc284cf4da89560534508e7638de4, 0...</td>\n    </tr>\n    <tr>\n      <th>25</th>\n      <td>ornellaweb3.eth</td>\n      <td>[0x2d84cfb9cba0e8e4d7511a88cb7102a984fdb0ba, 0...</td>\n    </tr>\n    <tr>\n      <th>26</th>\n      <td>pinkboots.eth</td>\n      <td>[0xa5dbd5f2f45cec05ace6c08f0b75bec711ea9517, 0...</td>\n    </tr>\n    <tr>\n      <th>27</th>\n      <td>remx.eth</td>\n      <td>[0x6401f5b9f88c489495fb95ba7aa4276a353bebb8, 0...</td>\n    </tr>\n    <tr>\n      <th>28</th>\n      <td>rileybeans.eth</td>\n      <td>[0x54a80e0417008db88036f4fb2c4646264717f7a6, 0...</td>\n    </tr>\n    <tr>\n      <th>29</th>\n      <td>robertjames.eth</td>\n      <td>[0xa65da49bb89ec7b1a10f3887ae07e4c9c8eea168, 0...</td>\n    </tr>\n    <tr>\n      <th>30</th>\n      <td>rsantos.eth</td>\n      <td>[0x08a2f4a84a06a0331b015bd1320ed20e1a9be688, 0...</td>\n    </tr>\n    <tr>\n      <th>31</th>\n      <td>sannin.eth</td>\n      <td>[0x4bcfb57149dd1e8ec510bc2cc490bc4c43c7af8f, 0...</td>\n    </tr>\n    <tr>\n      <th>32</th>\n      <td>smileface.eth</td>\n      <td>[0x32712bb04948da01d11c9aa6b3e77daeda014781, 0...</td>\n    </tr>\n    <tr>\n      <th>33</th>\n      <td>theartcollection.eth</td>\n      <td>[0x1094ee0c78b81581c8c8ea34bc2eec8a4bd20756, 0...</td>\n    </tr>\n    <tr>\n      <th>34</th>\n      <td>turkii13.eth</td>\n      <td>[0x325a0fa68fc381be451f57d6be7f84da206427fd, 0...</td>\n    </tr>\n    <tr>\n      <th>35</th>\n      <td>tweetious.eth</td>\n      <td>[0x8b104344f397afc33ee55c743a0fbd7d956201cd, 0...</td>\n    </tr>\n    <tr>\n      <th>36</th>\n      <td>willg.eth</td>\n      <td>[0x493df7506210e55a893d70e61d812d824ca1c489, 0...</td>\n    </tr>\n    <tr>\n      <th>37</th>\n      <td>wpunks.eth</td>\n      <td>[0x7938d79352ef0f58cd2058f930629928ae74b790, 0...</td>\n    </tr>\n    <tr>\n      <th>38</th>\n      <td>zolder.eth</td>\n      <td>[0x11610d0bf661d3ccbb9493cf23184f68ecfe4783, 0...</td>\n    </tr>\n  </tbody>\n</table>\n</div>"
     },
     "execution_count": 4,
     "metadata": {},
     "output_type": "execute_result"
    }
   ],
   "source": [
    "df = pd.read_csv('../data/ens_list.csv')\n",
    "\n",
    "# group by ENS Name and find 2 addresses that point to the same name\n",
    "grouped_df = df.groupby('ENS Name').filter(lambda x: len(x) == 2)\n",
    "\n",
    "# for each ENS name in the filtered df, get the list of associated addresses\n",
    "data = []\n",
    "for ens_name, group in grouped_df.groupby('ENS Name'):\n",
    "    addresses = group['Address'].tolist()\n",
    "    data.append([ens_name, addresses])\n",
    "\n",
    "# create a new dataframe\n",
    "ens_addresses_df = pd.DataFrame(data, columns=['ENS Name', 'Addresses'])\n",
    "ens_addresses_df"
   ],
   "metadata": {
    "collapsed": false,
    "pycharm": {
     "name": "#%%\n"
    }
   }
  }
 ],
 "metadata": {
  "kernelspec": {
   "display_name": "Python 3",
   "language": "python",
   "name": "python3"
  },
  "language_info": {
   "codemirror_mode": {
    "name": "ipython",
    "version": 2
   },
   "file_extension": ".py",
   "mimetype": "text/x-python",
   "name": "python",
   "nbconvert_exporter": "python",
   "pygments_lexer": "ipython2",
   "version": "2.7.6"
  }
 },
 "nbformat": 4,
 "nbformat_minor": 0
}